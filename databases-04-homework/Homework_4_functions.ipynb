{
 "cells": [
  {
   "cell_type": "markdown",
   "metadata": {},
   "source": [
    "## homework 4: part two: investigating lists and dictionaries\n",
    "In this assignment I will ask you to pick five relatively short texts (poems, paragraphs, short essays, song lyrics, whatever interests you). The main thing is to make sure that each text is around 10 - 20 lines or sentences long. Below, I have selected five poems by Wallace Stevens. In each cell I have made a variable that contains each poem, and then I pass that poem through a function called `text_to_dict` that makes a dictionary for each poem. The dictionary contains the title of the poem, the full text as one string, and a list that contains each line of the poem. The function will also make lists of sentences instead of lines if you want to investigate a prose text (sentence by sentence) instead of a poem (line by line).\n",
    "\n",
    "There are two parts of this assignment. \n",
    "\n",
    "**Part 1**, which should be easy, is to replace the poems with texts of your own choice--and choose to split them by lines or sentences. \n",
    "\n",
    "**Part 2** is to write functions that and investigate your texts. If you want to focus on the functions first, you can go straight to Part 2 and use the pomes I have chosen. You can then go back and enter your own texts--your functions should work no matter what text you've chosen.\n"
   ]
  },
  {
   "cell_type": "code",
   "execution_count": 235,
   "metadata": {
    "collapsed": true
   },
   "outputs": [],
   "source": [
    "#Run this cell toImport regular expressions\n",
    "#And to initialize the all texts list that will contain all of your dictionaries of text\n",
    "import re\n",
    "all_texts = []"
   ]
  },
  {
   "cell_type": "markdown",
   "metadata": {},
   "source": [
    "** understanding the text_to_dict function**\n",
    "\n",
    "You don't have to completely understand this function to use it, but you do need to understand its parameters. It takes three parameters:\n",
    "* `title` is a string you need to write inside function's parameters\n",
    "* `text` is the variable that holds the entire text\n",
    "* `poem` True/False parameter --if it is true it will split your text by line (`\\n`) \n",
    " \tIf it is false it will split your text by sentence ('[.?!])\n",
    "\n",
    "If you look at the function you will see that it builds a dictionary with the following fields:\n",
    "* `title` is the title of the text\n",
    "* `text` is the full text as a string\n",
    "* `lines` is a list of lines or sentences\n",
    "\n",
    "It returns a dictionary with those fields."
   ]
  },
  {
   "cell_type": "code",
   "execution_count": 236,
   "metadata": {
    "collapsed": true
   },
   "outputs": [],
   "source": [
    "def text_to_dict(title,text,poem):\n",
    "    dict_of_this_text = {}\n",
    "    dict_of_this_text['title'] = title\n",
    "    dict_of_this_text['alltext'] = text\n",
    "    if poem:\n",
    "        text_to_list = text.strip().split('\\n')\n",
    "    else:\n",
    "        text_to_list = re.split(r\"[.?!]\",text)\n",
    "    dict_of_this_text['lines'] = text_to_list\n",
    "    return dict_of_this_text"
   ]
  },
  {
   "cell_type": "markdown",
   "metadata": {},
   "source": [
    "## Part One\n",
    "\n",
    "The next five cells are exactly the same. They define five different texts, and then they pass each text through the `text_to_dict` function. And then they add the resulting dictionary to the all_texts list. \n",
    "\n",
    "In the five cells below enter your five selected texts.\n",
    "\n",
    "**You should do no coding at any point** until the very last cell before part two."
   ]
  },
  {
   "cell_type": "code",
   "execution_count": 237,
   "metadata": {
    "collapsed": true
   },
   "outputs": [],
   "source": [
    "#To change the text, just put a new text between the quotation mark\n",
    "text0 = '''\n",
    "Already on the street\n",
    "with our money clutched\n",
    "in our hands,\n",
    "and the world is a white laundry,\n",
    "where we are boiled and wrung\n",
    "and dried and ironed,\n",
    "and smoothed down\n",
    "and forsaken\n",
    "we sweep\n",
    "back\n",
    "in children’s dreams\n",
    "of chains and jail\n",
    "and the heartfelt sigh\n",
    "of liberation\n",
    "and in the spark trails\n",
    "of feelings\n",
    "the fire eater\n",
    "the cigarette swallower\n",
    "come\n",
    "to light\n",
    "and we pay\n",
    "and distance ourselves\n",
    "with laughter.\n",
    "'''\n",
    "#Remember: you need to type the title into the first parameter\n",
    "#If you want to split by line choose True for the third parameter\n",
    "#If you want to split by sentence, choose False\n",
    "transform_it = text_to_dict(\"from Letter in April: IV\",text0,True)\n",
    "all_texts.append(transform_it)"
   ]
  },
  {
   "cell_type": "code",
   "execution_count": 238,
   "metadata": {
    "collapsed": true
   },
   "outputs": [],
   "source": [
    "text1 = '''\n",
    "Tonight, away begins to go\n",
    "farther away, and the dream\n",
    "what do we know of the dream\n",
    "metallic leaps Jackson Pollock\n",
    "silvery streams Jackson Pollock\n",
    "I gaze across the sea\n",
    "\n",
    "see in the distance your walk and you\n",
    "pass the Pacific, distant and blue\n",
    "phallus and Moloch pace my view\n",
    "on into otherness\n",
    "\n",
    "on into otherness?\n",
    "are we in the world after or before\n",
    "are we or are we not magnetic force\n",
    "it is apparently me you inform:\n",
    "\n",
    "genesis woman dream that begins\n",
    "tonight to go farther away\n",
    "tonight to reach farther away\n",
    "metallic leaps Jackson Pollock\n",
    "silvery streams Jackson Pollock\n",
    "on across the blue sea\n",
    "'''\n",
    "transform_it = text_to_dict(\"Blue Poles\",text1,True)\n",
    "all_texts.append(transform_it)"
   ]
  },
  {
   "cell_type": "code",
   "execution_count": 239,
   "metadata": {
    "collapsed": true
   },
   "outputs": [],
   "source": [
    "text2 = '''\n",
    "Up they soar, the planet’s butterflies,\n",
    "pigments from the warm body of the earth,\n",
    "cinnabar, ochre, phosphor yellow, gold\n",
    "a swarm of basic elements aloft.\n",
    "\n",
    "Is this flickering of wings only a shoal\n",
    "of light particles, a quirk of perception?\n",
    "Is it the dreamed summer hour of my childhood\n",
    "shattered as by lightning lost in time?\n",
    "\n",
    "No, this is the angel of light, who can paint\n",
    "himself as dark mnemosyne Apollo,\n",
    "as copper, hawkmoth, swallowtail.\n",
    "\n",
    "I see them with my blurred understanding\n",
    "as feathers in the coverlet of haze\n",
    "in Brajcino Valley’s noon-hot air.\n",
    "'''\n",
    "transform_it = text_to_dict(\"I, Up they soar\",text2,True)\n",
    "all_texts.append(transform_it)"
   ]
  },
  {
   "cell_type": "code",
   "execution_count": 240,
   "metadata": {
    "collapsed": true
   },
   "outputs": [],
   "source": [
    "text3 = '''\n",
    "I always thought reality\n",
    "was something you became\n",
    "when you grew up.\n",
    "\n",
    "In the square stands Fata Morgana\n",
    "looking tired, shouting\n",
    "Morning paper—morning paper.\n",
    "'''\n",
    "transform_it = text_to_dict(\"I always thought reality\",text3,True)\n",
    "all_texts.append(transform_it)"
   ]
  },
  {
   "cell_type": "code",
   "execution_count": 241,
   "metadata": {
    "collapsed": true
   },
   "outputs": [],
   "source": [
    "text4 = '''\n",
    "If I stand\n",
    "alone in the snow\n",
    "it is clear\n",
    "that I am a clock\n",
    "\n",
    "how else would eternity\n",
    "find its way around\n",
    "'''\n",
    "transform_it = text_to_dict(\"If I stand\",text4,True)\n",
    "all_texts.append(transform_it)"
   ]
  },
  {
   "cell_type": "markdown",
   "metadata": {},
   "source": [
    "Run the two cells below to confirm that first, you only have five texts in the all_texts list, and next, look at the all_texts list to see the dictionary inside it. "
   ]
  },
  {
   "cell_type": "code",
   "execution_count": 242,
   "metadata": {},
   "outputs": [
    {
     "data": {
      "text/plain": [
       "5"
      ]
     },
     "execution_count": 242,
     "metadata": {},
     "output_type": "execute_result"
    }
   ],
   "source": [
    "len(all_texts)"
   ]
  },
  {
   "cell_type": "code",
   "execution_count": 243,
   "metadata": {},
   "outputs": [
    {
     "data": {
      "text/plain": [
       "[{'alltext': '\\nAlready on the street\\nwith our money clutched\\nin our hands,\\nand the world is a white laundry,\\nwhere we are boiled and wrung\\nand dried and ironed,\\nand smoothed down\\nand forsaken\\nwe sweep\\nback\\nin children’s dreams\\nof chains and jail\\nand the heartfelt sigh\\nof liberation\\nand in the spark trails\\nof feelings\\nthe fire eater\\nthe cigarette swallower\\ncome\\nto light\\nand we pay\\nand distance ourselves\\nwith laughter.\\n',\n",
       "  'lines': ['Already on the street',\n",
       "   'with our money clutched',\n",
       "   'in our hands,',\n",
       "   'and the world is a white laundry,',\n",
       "   'where we are boiled and wrung',\n",
       "   'and dried and ironed,',\n",
       "   'and smoothed down',\n",
       "   'and forsaken',\n",
       "   'we sweep',\n",
       "   'back',\n",
       "   'in children’s dreams',\n",
       "   'of chains and jail',\n",
       "   'and the heartfelt sigh',\n",
       "   'of liberation',\n",
       "   'and in the spark trails',\n",
       "   'of feelings',\n",
       "   'the fire eater',\n",
       "   'the cigarette swallower',\n",
       "   'come',\n",
       "   'to light',\n",
       "   'and we pay',\n",
       "   'and distance ourselves',\n",
       "   'with laughter.'],\n",
       "  'title': 'from Letter in April: IV'},\n",
       " {'alltext': '\\nTonight, away begins to go\\nfarther away, and the dream\\nwhat do we know of the dream\\nmetallic leaps Jackson Pollock\\nsilvery streams Jackson Pollock\\nI gaze across the sea\\n\\nsee in the distance your walk and you\\npass the Pacific, distant and blue\\nphallus and Moloch pace my view\\non into otherness\\n\\non into otherness?\\nare we in the world after or before\\nare we or are we not magnetic force\\nit is apparently me you inform:\\n\\ngenesis woman dream that begins\\ntonight to go farther away\\ntonight to reach farther away\\nmetallic leaps Jackson Pollock\\nsilvery streams Jackson Pollock\\non across the blue sea\\n',\n",
       "  'lines': ['Tonight, away begins to go',\n",
       "   'farther away, and the dream',\n",
       "   'what do we know of the dream',\n",
       "   'metallic leaps Jackson Pollock',\n",
       "   'silvery streams Jackson Pollock',\n",
       "   'I gaze across the sea',\n",
       "   '',\n",
       "   'see in the distance your walk and you',\n",
       "   'pass the Pacific, distant and blue',\n",
       "   'phallus and Moloch pace my view',\n",
       "   'on into otherness',\n",
       "   '',\n",
       "   'on into otherness?',\n",
       "   'are we in the world after or before',\n",
       "   'are we or are we not magnetic force',\n",
       "   'it is apparently me you inform:',\n",
       "   '',\n",
       "   'genesis woman dream that begins',\n",
       "   'tonight to go farther away',\n",
       "   'tonight to reach farther away',\n",
       "   'metallic leaps Jackson Pollock',\n",
       "   'silvery streams Jackson Pollock',\n",
       "   'on across the blue sea'],\n",
       "  'title': 'Blue Poles'},\n",
       " {'alltext': '\\nUp they soar, the planet’s butterflies,\\npigments from the warm body of the earth,\\ncinnabar, ochre, phosphor yellow, gold\\na swarm of basic elements aloft.\\n\\nIs this flickering of wings only a shoal\\nof light particles, a quirk of perception?\\nIs it the dreamed summer hour of my childhood\\nshattered as by lightning lost in time?\\n\\nNo, this is the angel of light, who can paint\\nhimself as dark mnemosyne Apollo,\\nas copper, hawkmoth, swallowtail.\\n\\nI see them with my blurred understanding\\nas feathers in the coverlet of haze\\nin Brajcino Valley’s noon-hot air.\\n',\n",
       "  'lines': ['Up they soar, the planet’s butterflies,',\n",
       "   'pigments from the warm body of the earth,',\n",
       "   'cinnabar, ochre, phosphor yellow, gold',\n",
       "   'a swarm of basic elements aloft.',\n",
       "   '',\n",
       "   'Is this flickering of wings only a shoal',\n",
       "   'of light particles, a quirk of perception?',\n",
       "   'Is it the dreamed summer hour of my childhood',\n",
       "   'shattered as by lightning lost in time?',\n",
       "   '',\n",
       "   'No, this is the angel of light, who can paint',\n",
       "   'himself as dark mnemosyne Apollo,',\n",
       "   'as copper, hawkmoth, swallowtail.',\n",
       "   '',\n",
       "   'I see them with my blurred understanding',\n",
       "   'as feathers in the coverlet of haze',\n",
       "   'in Brajcino Valley’s noon-hot air.'],\n",
       "  'title': 'I, Up they soar'},\n",
       " {'alltext': '\\nI always thought reality\\nwas something you became\\nwhen you grew up.\\n\\nIn the square stands Fata Morgana\\nlooking tired, shouting\\nMorning paper—morning paper.\\n',\n",
       "  'lines': ['I always thought reality',\n",
       "   'was something you became',\n",
       "   'when you grew up.',\n",
       "   '',\n",
       "   'In the square stands Fata Morgana',\n",
       "   'looking tired, shouting',\n",
       "   'Morning paper—morning paper.'],\n",
       "  'title': 'I always thought reality'},\n",
       " {'alltext': '\\nIf I stand\\nalone in the snow\\nit is clear\\nthat I am a clock\\n\\nhow else would eternity\\nfind its way around\\n',\n",
       "  'lines': ['If I stand',\n",
       "   'alone in the snow',\n",
       "   'it is clear',\n",
       "   'that I am a clock',\n",
       "   '',\n",
       "   'how else would eternity',\n",
       "   'find its way around'],\n",
       "  'title': 'If I stand'}]"
      ]
     },
     "execution_count": 243,
     "metadata": {},
     "output_type": "execute_result"
    }
   ],
   "source": [
    "all_texts"
   ]
  },
  {
   "cell_type": "markdown",
   "metadata": {},
   "source": [
    "In the cell below, loop through all_texts and print out the title of each text. (This is the only code you need to write for Part One.)"
   ]
  },
  {
   "cell_type": "code",
   "execution_count": 244,
   "metadata": {},
   "outputs": [
    {
     "data": {
      "text/plain": [
       "['from Letter in April: IV',\n",
       " 'Blue Poles',\n",
       " 'I, Up they soar',\n",
       " 'I always thought reality',\n",
       " 'If I stand']"
      ]
     },
     "execution_count": 244,
     "metadata": {},
     "output_type": "execute_result"
    }
   ],
   "source": [
    "[t['title'] for t in all_texts]"
   ]
  },
  {
   "cell_type": "markdown",
   "metadata": {},
   "source": [
    "## Part Two:  searching within lists and dictionaries\n",
    "In this part, we will be searching through each text and printing out a desired result. The searches, including loops and printing should all be defined in the function. The second cell should just have to function call that executes the function. I have written an example function and call for the first search. For each function that you write you should copy the original function and modify it so what does what I ask for.\n",
    "\n",
    "For the first five functions, there are no parameters passed to the functions--the calls will just execute the function. Go step-by-step and take your time."
   ]
  },
  {
   "cell_type": "code",
   "execution_count": 197,
   "metadata": {
    "collapsed": true
   },
   "outputs": [],
   "source": [
    "def get_lengths():\n",
    "    for text in all_texts:\n",
    "        print(text['title'])\n",
    "        print(len(text['alltext']))\n",
    "        print(\"------------\")"
   ]
  },
  {
   "cell_type": "code",
   "execution_count": 198,
   "metadata": {},
   "outputs": [
    {
     "name": "stdout",
     "output_type": "stream",
     "text": [
      "from Letter in April: IV\n",
      "408\n",
      "------------\n",
      "Blue Poles\n",
      "594\n",
      "------------\n",
      "I, Up they soar\n",
      "554\n",
      "------------\n",
      "I always thought reality\n",
      "157\n",
      "------------\n",
      "If I stand\n",
      "105\n",
      "------------\n"
     ]
    }
   ],
   "source": [
    "get_lengths()"
   ]
  },
  {
   "cell_type": "markdown",
   "metadata": {},
   "source": [
    "Question 1\n",
    "Now write a function that gets the **line count for each poem** (or sentence count for each piece of prose). This function is going to be very similar to the last one. Instead of accessing the whole text via text['alltext'] which is a string, you need to access the list of lines/sentences and get the length of that list. Everything else should be the same."
   ]
  },
  {
   "cell_type": "code",
   "execution_count": 201,
   "metadata": {
    "collapsed": true
   },
   "outputs": [],
   "source": [
    "def get_line_count():\n",
    "    for text in all_texts:\n",
    "        print(text['title'])\n",
    "        print(len([l for l in text['lines'] if len(l) > 0]))\n",
    "        print(\"------------\")"
   ]
  },
  {
   "cell_type": "code",
   "execution_count": 202,
   "metadata": {},
   "outputs": [
    {
     "name": "stdout",
     "output_type": "stream",
     "text": [
      "from Letter in April: IV\n",
      "23\n",
      "------------\n",
      "Blue Poles\n",
      "20\n",
      "------------\n",
      "I, Up they soar\n",
      "14\n",
      "------------\n",
      "I always thought reality\n",
      "6\n",
      "------------\n",
      "If I stand\n",
      "6\n",
      "------------\n"
     ]
    }
   ],
   "source": [
    "get_line_count()"
   ]
  },
  {
   "cell_type": "markdown",
   "metadata": {},
   "source": [
    "Question 2\n",
    "Now write a function that prints out a **random line or sentence from each text**. Again, this function will look much the same as the last ones, but instead of getting numbers you need to get actual lines. I have included the necessary import and an example of how to get random integers. Basically, for each text you need to get one element from the list of lines/ sentences with a random number between 0 and the length of the list."
   ]
  },
  {
   "cell_type": "code",
   "execution_count": 148,
   "metadata": {
    "collapsed": true
   },
   "outputs": [],
   "source": [
    "from random import randint"
   ]
  },
  {
   "cell_type": "code",
   "execution_count": 156,
   "metadata": {},
   "outputs": [
    {
     "name": "stdout",
     "output_type": "stream",
     "text": [
      "3\n"
     ]
    }
   ],
   "source": [
    "print(randint(0, 3)) # randit returns an int between two values, INCLUDING these values:\n",
    "                     # Return a random integer N such that a <= N <= b\n",
    "                     # https://docs.python.org/3.4/library/random.html"
   ]
  },
  {
   "cell_type": "code",
   "execution_count": 203,
   "metadata": {
    "collapsed": true
   },
   "outputs": [],
   "source": [
    "def show_random_lines():\n",
    "    for text in all_texts:\n",
    "        random_num = randint(0, len(text['lines']) - 1)\n",
    "        print(text['title'])\n",
    "        print(text['lines'][random_num] if text['lines'][random_num] != '' else text['lines'][random_num + 1])\n",
    "        print(\"------------\")"
   ]
  },
  {
   "cell_type": "code",
   "execution_count": 204,
   "metadata": {},
   "outputs": [
    {
     "name": "stdout",
     "output_type": "stream",
     "text": [
      "from Letter in April: IV\n",
      "with laughter.\n",
      "------------\n",
      "Blue Poles\n",
      "I gaze across the sea\n",
      "------------\n",
      "I, Up they soar\n",
      "I see them with my blurred understanding\n",
      "------------\n",
      "I always thought reality\n",
      "In the square stands Fata Morgana\n",
      "------------\n",
      "If I stand\n",
      "alone in the snow\n",
      "------------\n"
     ]
    }
   ],
   "source": [
    "show_random_lines()"
   ]
  },
  {
   "cell_type": "markdown",
   "metadata": {},
   "source": [
    "Question 3\n",
    "This is a little bit different--instead of printing out something from each text, I want you to **print the entire text of the longest text**. Remember in the first function, I printed out the length of each text. Well, you need to test for the longest text as you look through and when you're done looping through print out the one that is longest.\n",
    "\n",
    "**Major hints!**: To do this you will need a counter variable (count = 0) set before the loop runs, and you will also need a text variable (longest_text = '') that you set before the loop. When you loop through you need to test if each text was longer than the last one, and if it is longer--you update count and longest_text to reflect the highest count, and the actual text. When the loop is over you then print out that longest_text string."
   ]
  },
  {
   "cell_type": "code",
   "execution_count": 205,
   "metadata": {},
   "outputs": [],
   "source": [
    "def longest_text():\n",
    "    text = max((t for t in all_texts), key=lambda x: len(x['alltext']))\n",
    "    print(text['title'])\n",
    "    print(text['alltext'])"
   ]
  },
  {
   "cell_type": "code",
   "execution_count": 206,
   "metadata": {},
   "outputs": [
    {
     "name": "stdout",
     "output_type": "stream",
     "text": [
      "Blue Poles\n",
      "\n",
      "Tonight, away begins to go\n",
      "farther away, and the dream\n",
      "what do we know of the dream\n",
      "metallic leaps Jackson Pollock\n",
      "silvery streams Jackson Pollock\n",
      "I gaze across the sea\n",
      "\n",
      "see in the distance your walk and you\n",
      "pass the Pacific, distant and blue\n",
      "phallus and Moloch pace my view\n",
      "on into otherness\n",
      "\n",
      "on into otherness?\n",
      "are we in the world after or before\n",
      "are we or are we not magnetic force\n",
      "it is apparently me you inform:\n",
      "\n",
      "genesis woman dream that begins\n",
      "tonight to go farther away\n",
      "tonight to reach farther away\n",
      "metallic leaps Jackson Pollock\n",
      "silvery streams Jackson Pollock\n",
      "on across the blue sea\n",
      "\n"
     ]
    }
   ],
   "source": [
    "longest_text()"
   ]
  },
  {
   "cell_type": "markdown",
   "metadata": {},
   "source": [
    "Question 4\n",
    "This is kind of a combination of the first two functions--write a function that gets the **average line/sentence length for each text**."
   ]
  },
  {
   "cell_type": "code",
   "execution_count": 207,
   "metadata": {
    "collapsed": true
   },
   "outputs": [],
   "source": [
    "def average_line_length():\n",
    "    for t in all_texts:\n",
    "        print(t['title'])\n",
    "        print(sum((len(l) for l in t['lines'])) / len(t['lines']))\n",
    "        print(\"------------\")"
   ]
  },
  {
   "cell_type": "code",
   "execution_count": 208,
   "metadata": {},
   "outputs": [
    {
     "name": "stdout",
     "output_type": "stream",
     "text": [
      "from Letter in April: IV\n",
      "16.695652173913043\n",
      "------------\n",
      "Blue Poles\n",
      "24.782608695652176\n",
      "------------\n",
      "I, Up they soar\n",
      "31.529411764705884\n",
      "------------\n",
      "I always thought reality\n",
      "21.285714285714285\n",
      "------------\n",
      "If I stand\n",
      "13.857142857142858\n",
      "------------\n"
     ]
    }
   ],
   "source": [
    "average_line_length()"
   ]
  },
  {
   "cell_type": "markdown",
   "metadata": {},
   "source": [
    "Question 5\n",
    "**Print the longest line/sentence in each text**. \n",
    "This is similar to question 3--but your counter, and your string variable need to be placed right before the inside loop--and then you print the lines each time the inside loop ends."
   ]
  },
  {
   "cell_type": "code",
   "execution_count": 214,
   "metadata": {},
   "outputs": [],
   "source": [
    "def longest_line_in_each():\n",
    "    for t in all_texts:\n",
    "        print(t['title'])\n",
    "        print(max((l for l in t['lines']), key=lambda x: len(x)))\n",
    "        print(\"------------\")"
   ]
  },
  {
   "cell_type": "code",
   "execution_count": 217,
   "metadata": {},
   "outputs": [
    {
     "name": "stdout",
     "output_type": "stream",
     "text": [
      "from Letter in April: IV\n",
      "and the world is a white laundry,\n",
      "------------\n",
      "Blue Poles\n",
      "see in the distance your walk and you\n",
      "------------\n",
      "I, Up they soar\n",
      "Is it the dreamed summer hour of my childhood\n",
      "------------\n",
      "I always thought reality\n",
      "In the square stands Fata Morgana\n",
      "------------\n",
      "If I stand\n",
      "how else would eternity\n",
      "------------\n"
     ]
    }
   ],
   "source": [
    "longest_line_in_each()"
   ]
  },
  {
   "cell_type": "markdown",
   "metadata": {},
   "source": [
    "Question 6\n",
    "**Print the shortest single line/sentence out of all of the texts that is greater than zero**\n",
    "This is the tricky-ish: You need to place a counter and empty string outside the loop (like question 4, but the loop through all of the lines, test for the shortest one (greater than 0)."
   ]
  },
  {
   "cell_type": "code",
   "execution_count": 220,
   "metadata": {
    "collapsed": true
   },
   "outputs": [],
   "source": [
    "def shortest_of_all_lines():\n",
    "    for t in all_texts:\n",
    "        print(t['title'])\n",
    "        print(min((l for l in t['lines'] if len(l) > 0), key=lambda x: len(x)))\n",
    "        print(\"------------\")"
   ]
  },
  {
   "cell_type": "code",
   "execution_count": 221,
   "metadata": {},
   "outputs": [
    {
     "name": "stdout",
     "output_type": "stream",
     "text": [
      "from Letter in April: IV\n",
      "back\n",
      "------------\n",
      "Blue Poles\n",
      "on into otherness\n",
      "------------\n",
      "I, Up they soar\n",
      "a swarm of basic elements aloft.\n",
      "------------\n",
      "I always thought reality\n",
      "when you grew up.\n",
      "------------\n",
      "If I stand\n",
      "If I stand\n",
      "------------\n"
     ]
    }
   ],
   "source": [
    "shortest_of_all_lines()"
   ]
  },
  {
   "cell_type": "code",
   "execution_count": 294,
   "metadata": {},
   "outputs": [
    {
     "name": "stdout",
     "output_type": "stream",
     "text": [
      "from Letter in April: IV\n",
      "['back', 'come']\n",
      "------------\n",
      "Blue Poles\n",
      "['on into otherness']\n",
      "------------\n",
      "I, Up they soar\n",
      "['a swarm of basic elements aloft.']\n",
      "------------\n",
      "I always thought reality\n",
      "['when you grew up.']\n",
      "------------\n",
      "If I stand\n",
      "['If I stand']\n",
      "------------\n"
     ]
    }
   ],
   "source": [
    "# Another way of doing that,\n",
    "# if several lines have the same number of letters\n",
    "\n",
    "for t in all_texts:\n",
    "    shortest_lines = []\n",
    "    shortest_line = t['lines'][0]\n",
    "    \n",
    "    for l in t['lines']:\n",
    "        if len(l) < len(shortest_line) and len(l) > 0:\n",
    "            shortest_line = l\n",
    "            shortest_lines = [l]\n",
    "        elif len(l) == len(shortest_line):\n",
    "            shortest_lines.append(l)\n",
    "    \n",
    "    print(t['title'])\n",
    "    print(shortest_lines)\n",
    "    print(\"------------\")"
   ]
  },
  {
   "cell_type": "code",
   "execution_count": 295,
   "metadata": {},
   "outputs": [
    {
     "name": "stdout",
     "output_type": "stream",
     "text": [
      "from Letter in April: IV\n",
      "['back', 'come']\n",
      "------------\n",
      "Blue Poles\n",
      "['on into otherness']\n",
      "------------\n",
      "I, Up they soar\n",
      "['a swarm of basic elements aloft.']\n",
      "------------\n",
      "I always thought reality\n",
      "['when you grew up.']\n",
      "------------\n",
      "If I stand\n",
      "['If I stand']\n",
      "------------\n"
     ]
    }
   ],
   "source": [
    "# Another way of doing that,\n",
    "# Two loops, not very elegant but perhaps more lisible?\n",
    "\n",
    "for t in all_texts:\n",
    "    shortest_line_chars = min((len(l) for l in t['lines'] if len(l) > 0))    \n",
    "    shortest_lines = []\n",
    "    shortest_line = t['lines'][0]\n",
    "    \n",
    "    for l in t['lines']:\n",
    "        if len(l) == shortest_line_chars:\n",
    "            shortest_lines.append(l)\n",
    "    \n",
    "    print(t['title'])\n",
    "    print(shortest_lines)\n",
    "    print(\"------------\")"
   ]
  },
  {
   "cell_type": "markdown",
   "metadata": {},
   "source": [
    "## searching with regular expressions\n",
    "In the functions below you will search all the texts using regular expressions. The first few of these functions should not be too challenging--you just need to adjust the regular expression inside the function. At points it gets a little more complex as you have to control the looping through the lists and dictionaries."
   ]
  },
  {
   "cell_type": "code",
   "execution_count": 250,
   "metadata": {
    "collapsed": true
   },
   "outputs": [],
   "source": [
    "def get_this_word(word):\n",
    "    my_regex = r\"\\b\" + word + r\"\\b\"\n",
    "    for text in all_texts:\n",
    "        result = [line for line in text['lines'] if re.search(my_regex, line, re.IGNORECASE)]\n",
    "        if len(result) > 0:\n",
    "            print(text['title'])\n",
    "            [print(line) for line in result]\n",
    "            print(\"------------\")\n",
    "            "
   ]
  },
  {
   "cell_type": "code",
   "execution_count": 251,
   "metadata": {},
   "outputs": [
    {
     "name": "stdout",
     "output_type": "stream",
     "text": [
      "from Letter in April: IV\n",
      "Already on the street\n",
      "and the world is a white laundry,\n",
      "and the heartfelt sigh\n",
      "and in the spark trails\n",
      "the fire eater\n",
      "the cigarette swallower\n",
      "------------\n",
      "Blue Poles\n",
      "farther away, and the dream\n",
      "what do we know of the dream\n",
      "I gaze across the sea\n",
      "see in the distance your walk and you\n",
      "pass the Pacific, distant and blue\n",
      "are we in the world after or before\n",
      "on across the blue sea\n",
      "------------\n",
      "I, Up they soar\n",
      "Up they soar, the planet’s butterflies,\n",
      "pigments from the warm body of the earth,\n",
      "Is it the dreamed summer hour of my childhood\n",
      "No, this is the angel of light, who can paint\n",
      "as feathers in the coverlet of haze\n",
      "------------\n",
      "I always thought reality\n",
      "In the square stands Fata Morgana\n",
      "------------\n",
      "If I stand\n",
      "alone in the snow\n",
      "------------\n"
     ]
    }
   ],
   "source": [
    "get_this_word('the')"
   ]
  },
  {
   "cell_type": "markdown",
   "metadata": {},
   "source": [
    "Question 7\n",
    "Print out the lines that start with the word entered.  You just need to adjust the regular expression here."
   ]
  },
  {
   "cell_type": "code",
   "execution_count": 252,
   "metadata": {
    "collapsed": true
   },
   "outputs": [],
   "source": [
    "def line_starts_with(word):\n",
    "    my_regex = r\"^\" + word + r\"\\b\"\n",
    "    for text in all_texts:\n",
    "        result = [line for line in text['lines'] if re.search(my_regex, line, re.IGNORECASE)]\n",
    "        if len(result) > 0:\n",
    "            print(text['title'])\n",
    "            [print(line) for line in result]\n",
    "            print(\"------------\")"
   ]
  },
  {
   "cell_type": "code",
   "execution_count": 253,
   "metadata": {},
   "outputs": [
    {
     "name": "stdout",
     "output_type": "stream",
     "text": [
      "from Letter in April: IV\n",
      "the fire eater\n",
      "the cigarette swallower\n",
      "------------\n"
     ]
    }
   ],
   "source": [
    "line_starts_with('the')"
   ]
  },
  {
   "cell_type": "markdown",
   "metadata": {},
   "source": [
    "Question 8\n",
    "Print out the lines that end with the word entered.  You just need to adjust the regular expression here."
   ]
  },
  {
   "cell_type": "code",
   "execution_count": 257,
   "metadata": {
    "collapsed": true
   },
   "outputs": [],
   "source": [
    "def line_ends_with(word):\n",
    "    my_regex = r\"\\b\" + word + r\".?$\"\n",
    "    for text in all_texts:\n",
    "        result = [line for line in text['lines'] if re.search(my_regex, line, re.IGNORECASE)]\n",
    "        if len(result) > 0:\n",
    "            print(text['title'])\n",
    "            [print(line) for line in result]\n",
    "            print(\"------------\")"
   ]
  },
  {
   "cell_type": "code",
   "execution_count": 259,
   "metadata": {},
   "outputs": [
    {
     "name": "stdout",
     "output_type": "stream",
     "text": [
      "I, Up they soar\n",
      "in Brajcino Valley’s noon-hot air.\n",
      "------------\n"
     ]
    }
   ],
   "source": [
    "line_ends_with('air')"
   ]
  },
  {
   "cell_type": "markdown",
   "metadata": {},
   "source": [
    "Question 9\n",
    "Print out **how many times the word was found in each text.** In this case, instead of the list comprehension, you want to run a re.findall() on the string of the text (not the list) and then count the number of elements in the list of results.\n",
    "\n",
    "Hint: use the original function at the beginning of this section, and make the proper adjustments to the variable \"result\""
   ]
  },
  {
   "cell_type": "code",
   "execution_count": 262,
   "metadata": {
    "collapsed": true
   },
   "outputs": [],
   "source": [
    "def how_many_times(word):\n",
    "    my_regex = r\"\\b\" + word + r\"\\b\"\n",
    "    for text in all_texts:\n",
    "        result = [line for line in text['lines'] if re.findall(my_regex, line, re.IGNORECASE)]\n",
    "        if len(result) > 0:\n",
    "            print(text['title'])\n",
    "            print(len(result))\n",
    "            print(\"------------\")"
   ]
  },
  {
   "cell_type": "code",
   "execution_count": 263,
   "metadata": {},
   "outputs": [
    {
     "name": "stdout",
     "output_type": "stream",
     "text": [
      "from Letter in April: IV\n",
      "6\n",
      "------------\n",
      "Blue Poles\n",
      "7\n",
      "------------\n",
      "I, Up they soar\n",
      "5\n",
      "------------\n",
      "I always thought reality\n",
      "1\n",
      "------------\n",
      "If I stand\n",
      "1\n",
      "------------\n"
     ]
    }
   ],
   "source": [
    "how_many_times('the')"
   ]
  },
  {
   "cell_type": "markdown",
   "metadata": {},
   "source": [
    "Question 10\n",
    "Print out **the text that has the highest occurrence of the word** you searched for. This is similar to the last function, but here you need the counter and a mostfreqtext variable better placed outside the loop that you run comparisons on. (See Question 3)\n"
   ]
  },
  {
   "cell_type": "code",
   "execution_count": 285,
   "metadata": {
    "collapsed": true
   },
   "outputs": [],
   "source": [
    "def text_with_most_occurrence_of(word):\n",
    "    my_regex = r\"\\b\" + word + r\"\\b\"\n",
    "    mostfreqtext = {\n",
    "        'occurrences': 0,\n",
    "        'text': None\n",
    "    }\n",
    "    for text in all_texts:\n",
    "        result = [line for line in text['lines'] if re.findall(my_regex, line, re.IGNORECASE)]\n",
    "        if len(result) > mostfreqtext['occurrences']:\n",
    "            mostfreqtext['occurrences'] = len(result)\n",
    "            mostfreqtext['text'] = text\n",
    "    \n",
    "    print(mostfreqtext['text']['title'])\n",
    "    print(mostfreqtext['text']['alltext'])"
   ]
  },
  {
   "cell_type": "code",
   "execution_count": 292,
   "metadata": {},
   "outputs": [],
   "source": [
    "# Another way of doing that with max, list comprehension and anonymous function\n",
    "\n",
    "def text_with_most_occurrence_of(word):\n",
    "    mostfreqtext = max(\n",
    "        [t for t in all_texts], \n",
    "        key=lambda x: re.findall(\n",
    "            r\"\\b\" + word + r\"\\b\",\n",
    "            x['alltext'],\n",
    "            re.IGNORECASE))\n",
    "    \n",
    "    print(mostfreqtext['title'])\n",
    "    print(mostfreqtext['alltext'])"
   ]
  },
  {
   "cell_type": "code",
   "execution_count": 293,
   "metadata": {},
   "outputs": [
    {
     "name": "stdout",
     "output_type": "stream",
     "text": [
      "Blue Poles\n",
      "\n",
      "Tonight, away begins to go\n",
      "farther away, and the dream\n",
      "what do we know of the dream\n",
      "metallic leaps Jackson Pollock\n",
      "silvery streams Jackson Pollock\n",
      "I gaze across the sea\n",
      "\n",
      "see in the distance your walk and you\n",
      "pass the Pacific, distant and blue\n",
      "phallus and Moloch pace my view\n",
      "on into otherness\n",
      "\n",
      "on into otherness?\n",
      "are we in the world after or before\n",
      "are we or are we not magnetic force\n",
      "it is apparently me you inform:\n",
      "\n",
      "genesis woman dream that begins\n",
      "tonight to go farther away\n",
      "tonight to reach farther away\n",
      "metallic leaps Jackson Pollock\n",
      "silvery streams Jackson Pollock\n",
      "on across the blue sea\n",
      "\n"
     ]
    }
   ],
   "source": [
    "text_with_most_occurrence_of('the')"
   ]
  },
  {
   "cell_type": "markdown",
   "metadata": {},
   "source": [
    "Question 11\n",
    "Print out **lines containing words of the length asked**. We are sort of back to basics here, you just need to modify the regular expression of the first function (get_this_word(word)) so that it can take a number parameter for the late characters in a word."
   ]
  },
  {
   "cell_type": "code",
   "execution_count": 328,
   "metadata": {
    "collapsed": true
   },
   "outputs": [],
   "source": [
    "def lines_with_words_this_length(num):\n",
    "    for t in all_texts:\n",
    "        lines = []\n",
    "        for line in t['lines']:\n",
    "            words = re.findall(\n",
    "                r\"\\b[a-z]{\" + num + r\"}\\b\",\n",
    "                line,\n",
    "                re.IGNORECASE)\n",
    "            if len(words) > 0:\n",
    "                lines.append(line)\n",
    "        if(len(lines) > 0):\n",
    "            print(t['title'])\n",
    "            [print(l) for l in lines]\n",
    "            print('------')\n"
   ]
  },
  {
   "cell_type": "code",
   "execution_count": 329,
   "metadata": {},
   "outputs": [
    {
     "name": "stdout",
     "output_type": "stream",
     "text": [
      "I, Up they soar\n",
      "Up they soar, the planet’s butterflies,\n",
      "as copper, hawkmoth, swallowtail.\n",
      "------\n"
     ]
    }
   ],
   "source": [
    "lines_with_words_this_length('11')"
   ]
  },
  {
   "cell_type": "markdown",
   "metadata": {
    "collapsed": true
   },
   "source": [
    "**Final question:** in this cell, describe two functions that you would like to write, not ones that you're able to write, but ones you think would be useful or interesting or fun."
   ]
  },
  {
   "cell_type": "code",
   "execution_count": null,
   "metadata": {
    "collapsed": true
   },
   "outputs": [],
   "source": [
    "# 1. Rewrite the poems upside down\n",
    "# 2. Make a new poem by taking random lines from the texts"
   ]
  }
 ],
 "metadata": {
  "kernelspec": {
   "display_name": "Python 3",
   "language": "python",
   "name": "python3"
  },
  "language_info": {
   "codemirror_mode": {
    "name": "ipython",
    "version": 3
   },
   "file_extension": ".py",
   "mimetype": "text/x-python",
   "name": "python",
   "nbconvert_exporter": "python",
   "pygments_lexer": "ipython3",
   "version": "3.6.1"
  }
 },
 "nbformat": 4,
 "nbformat_minor": 2
}
