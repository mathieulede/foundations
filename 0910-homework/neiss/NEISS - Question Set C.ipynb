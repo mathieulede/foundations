{
 "cells": [
  {
   "cell_type": "markdown",
   "metadata": {},
   "source": [
    "# Exercise: NEISS, Question Set C\n",
    "\n",
    "#### Summary\n",
    "\n",
    "The [National Electronic Injury Surveillance System](https://www.cpsc.gov/Safety-Education/Safety-Guides/General-Information/National-Electronic-Injury-Surveillance-System-NEISS) is a data product produced by the US Consumer Product Safety Commission. It tracks emergency room injuries related to consumer products (e.g., \"a door fell on me!\").\n",
    "\n",
    "#### Files\n",
    "\n",
    "- **nss15.tsv**: injury data (one injury per row)\n",
    "- **2017NEISSCodingManualCPSConlyNontrauma.pdf**: column definitions and explanations\n",
    "- **2015 Neiss data highlights.pdf**: a partial summary of the data\n",
    "- **2017ComparabilityTable.pdf**: product code definitions\n",
    "- **categories-cleaned.txt**: product code definitions in CSV format (great for joining!)\n",
    "\n",
    "#### Source\n",
    "\n",
    "https://www.cpsc.gov/Safety-Education/Safety-Guides/General-Information/National-Electronic-Injury-Surveillance-System-NEISS\n",
    "\n",
    "#### Skills\n",
    "\n",
    "- Reading tab-separated files\n",
    "- Ignoring bad lines\n",
    "- Replacing values\n",
    "- Using numpy/`np.nan`\n",
    "- String search using regular expressions\n",
    "- Averages practice\n",
    "- Converting `.value_counts()` and similar results into DataFrames"
   ]
  },
  {
   "cell_type": "markdown",
   "metadata": {},
   "source": [
    "# Read in `nss15.tsv`\n",
    "\n",
    "Some of the lines just **aren't formatted correctly**. Maybe we can avoid those?"
   ]
  },
  {
   "cell_type": "code",
   "execution_count": 1,
   "metadata": {
    "collapsed": true
   },
   "outputs": [],
   "source": [
    "import pandas as pd"
   ]
  },
  {
   "cell_type": "code",
   "execution_count": 2,
   "metadata": {},
   "outputs": [
    {
     "name": "stderr",
     "output_type": "stream",
     "text": [
      "b'Skipping line 10822: expected 19 fields, saw 20\\n'\n",
      "b'Skipping line 48623: expected 19 fields, saw 20\\nSkipping line 62534: expected 19 fields, saw 20\\n'\n",
      "b'Skipping line 103739: expected 19 fields, saw 20\\n'\n",
      "b'Skipping line 135495: expected 19 fields, saw 20\\nSkipping line 151678: expected 19 fields, saw 20\\n'\n",
      "b'Skipping line 237135: expected 19 fields, saw 20\\nSkipping line 240597: expected 19 fields, saw 20\\n'\n",
      "b'Skipping line 274270: expected 19 fields, saw 20\\nSkipping line 277461: expected 19 fields, saw 20\\n'\n"
     ]
    }
   ],
   "source": [
    "df = pd.read_csv('nss15.tsv', sep=\"\\t\", error_bad_lines=False, dtype={'prod1':float})"
   ]
  },
  {
   "cell_type": "markdown",
   "metadata": {},
   "source": [
    "### Check that your dataframe has 357727 rows and 19 columns."
   ]
  },
  {
   "cell_type": "code",
   "execution_count": 3,
   "metadata": {},
   "outputs": [
    {
     "data": {
      "text/plain": [
       "(357727, 19)"
      ]
     },
     "execution_count": 3,
     "metadata": {},
     "output_type": "execute_result"
    }
   ],
   "source": [
    "df.shape"
   ]
  },
  {
   "cell_type": "markdown",
   "metadata": {},
   "source": [
    "### List the columns and their data types"
   ]
  },
  {
   "cell_type": "code",
   "execution_count": 4,
   "metadata": {},
   "outputs": [
    {
     "data": {
      "text/plain": [
       "CPSC Case #      int64\n",
       "trmt_date       object\n",
       "psu              int64\n",
       "weight         float64\n",
       "stratum         object\n",
       "age              int64\n",
       "sex              int64\n",
       "race             int64\n",
       "race_other      object\n",
       "diag             int64\n",
       "diag_other      object\n",
       "body_part        int64\n",
       "disposition      int64\n",
       "location         int64\n",
       "fmv              int64\n",
       "prod1          float64\n",
       "prod2          float64\n",
       "narr1           object\n",
       "narr2           object\n",
       "dtype: object"
      ]
     },
     "execution_count": 4,
     "metadata": {},
     "output_type": "execute_result"
    }
   ],
   "source": [
    "df.dtypes"
   ]
  },
  {
   "cell_type": "markdown",
   "metadata": {},
   "source": [
    "### What does each column mean?"
   ]
  },
  {
   "cell_type": "code",
   "execution_count": 5,
   "metadata": {
    "collapsed": true
   },
   "outputs": [],
   "source": [
    "# According to the coding manual:\n",
    "# trmt_date: Code the date on which the patient was seen for treatment. Use two digits each for the month and day and four digits for the year, in that order. Whenever the month or day is 1 digit (1-9), add a zero in front of the number, i.e., 1 becomes 01, 2 becomes 02, etc.\n",
    "# body_part: Use the codes in the table which follows for the body part affected in the product related incident. Also see Appendix C. The body part diagram in Appendix D will help you visualize more clearly the boundaries of such parts as lower trunk, upper arm, etc.\n",
    "# narr1: Every case MUST include descriptive comments or remarks. Enter these notes on the two lines labeled \"Comment\" that immediately follow the coded entries. Be sure to include the body part and diagnosis from the ED chart, as well as the patient’s age and gender in the comment.\n",
    "# diag: The diagnosis codes are listed in the table which follows. Use the attending physician's diagnosis to determine the nature of an injury. If the attending physician's diagnosis is missing, use diagnostic information provided by a medical professional to select the appropriate code. If the record contains no diagnosis by medical personnel, review the patient's complaint and the treatment given to arrive at the most logical diagnosis."
   ]
  },
  {
   "cell_type": "markdown",
   "metadata": {},
   "source": [
    "# Cleaning up a column\n",
    "\n",
    "Take a look at the **sex** column. How many rows of each sex are there?"
   ]
  },
  {
   "cell_type": "code",
   "execution_count": 6,
   "metadata": {},
   "outputs": [
    {
     "data": {
      "text/plain": [
       "1    195071\n",
       "2    162654\n",
       "0         2\n",
       "Name: sex, dtype: int64"
      ]
     },
     "execution_count": 6,
     "metadata": {},
     "output_type": "execute_result"
    }
   ],
   "source": [
    "df['sex'].value_counts()"
   ]
  },
  {
   "cell_type": "markdown",
   "metadata": {},
   "source": [
    "## Replace the numbers with the appropriate words they stand for.\n",
    "\n",
    "Those numbers are terrible - codes are fine for storage but not really for reading. **Replace the numbers with the  words they stand for.**\n",
    "\n",
    "Refer to page 7 of the column definitions file."
   ]
  },
  {
   "cell_type": "code",
   "execution_count": 7,
   "metadata": {
    "collapsed": true
   },
   "outputs": [],
   "source": [
    "# 1: Male\n",
    "# 2: Female\n",
    "# 0: Not recorded"
   ]
  },
  {
   "cell_type": "code",
   "execution_count": 8,
   "metadata": {},
   "outputs": [
    {
     "data": {
      "text/html": [
       "<div>\n",
       "<style>\n",
       "    .dataframe thead tr:only-child th {\n",
       "        text-align: right;\n",
       "    }\n",
       "\n",
       "    .dataframe thead th {\n",
       "        text-align: left;\n",
       "    }\n",
       "\n",
       "    .dataframe tbody tr th {\n",
       "        vertical-align: top;\n",
       "    }\n",
       "</style>\n",
       "<table border=\"1\" class=\"dataframe\">\n",
       "  <thead>\n",
       "    <tr style=\"text-align: right;\">\n",
       "      <th></th>\n",
       "      <th>CPSC Case #</th>\n",
       "      <th>trmt_date</th>\n",
       "      <th>psu</th>\n",
       "      <th>weight</th>\n",
       "      <th>stratum</th>\n",
       "      <th>age</th>\n",
       "      <th>sex</th>\n",
       "      <th>race</th>\n",
       "      <th>race_other</th>\n",
       "      <th>diag</th>\n",
       "      <th>diag_other</th>\n",
       "      <th>body_part</th>\n",
       "      <th>disposition</th>\n",
       "      <th>location</th>\n",
       "      <th>fmv</th>\n",
       "      <th>prod1</th>\n",
       "      <th>prod2</th>\n",
       "      <th>narr1</th>\n",
       "      <th>narr2</th>\n",
       "    </tr>\n",
       "  </thead>\n",
       "  <tbody>\n",
       "    <tr>\n",
       "      <th>0</th>\n",
       "      <td>150733174</td>\n",
       "      <td>07/11/2015</td>\n",
       "      <td>38</td>\n",
       "      <td>15.7762</td>\n",
       "      <td>V</td>\n",
       "      <td>5</td>\n",
       "      <td>Male</td>\n",
       "      <td>0</td>\n",
       "      <td>NaN</td>\n",
       "      <td>57</td>\n",
       "      <td>NaN</td>\n",
       "      <td>33</td>\n",
       "      <td>1</td>\n",
       "      <td>9</td>\n",
       "      <td>0</td>\n",
       "      <td>1267.0</td>\n",
       "      <td>NaN</td>\n",
       "      <td>5 YR OLD MALE PLAYING SOCCER BLOCKING BALL AND...</td>\n",
       "      <td>X IT</td>\n",
       "    </tr>\n",
       "    <tr>\n",
       "      <th>1</th>\n",
       "      <td>150734723</td>\n",
       "      <td>07/06/2015</td>\n",
       "      <td>43</td>\n",
       "      <td>83.2157</td>\n",
       "      <td>S</td>\n",
       "      <td>36</td>\n",
       "      <td>Male</td>\n",
       "      <td>1</td>\n",
       "      <td>NaN</td>\n",
       "      <td>57</td>\n",
       "      <td>NaN</td>\n",
       "      <td>34</td>\n",
       "      <td>1</td>\n",
       "      <td>1</td>\n",
       "      <td>0</td>\n",
       "      <td>1439.0</td>\n",
       "      <td>4057.0</td>\n",
       "      <td>L WRIST FX(?)/36YOWM 2 WKS AGO@G-FRIENDS HM,MO...</td>\n",
       "      <td>AN OBJECT&amp;TWISTED WRIST TRYING TO CONTOL MOWER...</td>\n",
       "    </tr>\n",
       "    <tr>\n",
       "      <th>2</th>\n",
       "      <td>150817487</td>\n",
       "      <td>08/02/2015</td>\n",
       "      <td>51</td>\n",
       "      <td>74.8813</td>\n",
       "      <td>L</td>\n",
       "      <td>20</td>\n",
       "      <td>Female</td>\n",
       "      <td>0</td>\n",
       "      <td>NaN</td>\n",
       "      <td>71</td>\n",
       "      <td>OTITIS EXTERNA</td>\n",
       "      <td>94</td>\n",
       "      <td>1</td>\n",
       "      <td>0</td>\n",
       "      <td>0</td>\n",
       "      <td>3274.0</td>\n",
       "      <td>NaN</td>\n",
       "      <td>20 YO F C/O EAR PAIN 1 DAY SAS WAS SWIMMING YE...</td>\n",
       "      <td>T TRIED TO USE ***S TO REMOVE WAX MADE IT WORS...</td>\n",
       "    </tr>\n",
       "    <tr>\n",
       "      <th>3</th>\n",
       "      <td>150717776</td>\n",
       "      <td>06/26/2015</td>\n",
       "      <td>41</td>\n",
       "      <td>15.7762</td>\n",
       "      <td>V</td>\n",
       "      <td>61</td>\n",
       "      <td>Male</td>\n",
       "      <td>0</td>\n",
       "      <td>NaN</td>\n",
       "      <td>71</td>\n",
       "      <td>PAIN</td>\n",
       "      <td>35</td>\n",
       "      <td>1</td>\n",
       "      <td>0</td>\n",
       "      <td>0</td>\n",
       "      <td>611.0</td>\n",
       "      <td>NaN</td>\n",
       "      <td>61YOM W/KNEE PAIN S/P FALLING IN SHOWER 2 DAYS...</td>\n",
       "      <td>NaN</td>\n",
       "    </tr>\n",
       "    <tr>\n",
       "      <th>4</th>\n",
       "      <td>150721694</td>\n",
       "      <td>07/04/2015</td>\n",
       "      <td>42</td>\n",
       "      <td>74.8813</td>\n",
       "      <td>L</td>\n",
       "      <td>88</td>\n",
       "      <td>Female</td>\n",
       "      <td>3</td>\n",
       "      <td>HISPANIC</td>\n",
       "      <td>62</td>\n",
       "      <td>NaN</td>\n",
       "      <td>75</td>\n",
       "      <td>1</td>\n",
       "      <td>0</td>\n",
       "      <td>0</td>\n",
       "      <td>1893.0</td>\n",
       "      <td>1807.0</td>\n",
       "      <td>88YOF PAIN TO HEAD WHEN FALL TO FLOOR WHEN WAL...</td>\n",
       "      <td>DOOR AND FELL.DENIES LOC. DX HEAD INJURY</td>\n",
       "    </tr>\n",
       "  </tbody>\n",
       "</table>\n",
       "</div>"
      ],
      "text/plain": [
       "   CPSC Case #   trmt_date  psu   weight stratum  age     sex  race  \\\n",
       "0    150733174  07/11/2015   38  15.7762       V    5    Male     0   \n",
       "1    150734723  07/06/2015   43  83.2157       S   36    Male     1   \n",
       "2    150817487  08/02/2015   51  74.8813       L   20  Female     0   \n",
       "3    150717776  06/26/2015   41  15.7762       V   61    Male     0   \n",
       "4    150721694  07/04/2015   42  74.8813       L   88  Female     3   \n",
       "\n",
       "  race_other  diag      diag_other  body_part  disposition  location  fmv  \\\n",
       "0        NaN    57             NaN         33            1         9    0   \n",
       "1        NaN    57             NaN         34            1         1    0   \n",
       "2        NaN    71  OTITIS EXTERNA         94            1         0    0   \n",
       "3        NaN    71            PAIN         35            1         0    0   \n",
       "4   HISPANIC    62             NaN         75            1         0    0   \n",
       "\n",
       "    prod1   prod2                                              narr1  \\\n",
       "0  1267.0     NaN  5 YR OLD MALE PLAYING SOCCER BLOCKING BALL AND...   \n",
       "1  1439.0  4057.0  L WRIST FX(?)/36YOWM 2 WKS AGO@G-FRIENDS HM,MO...   \n",
       "2  3274.0     NaN  20 YO F C/O EAR PAIN 1 DAY SAS WAS SWIMMING YE...   \n",
       "3   611.0     NaN  61YOM W/KNEE PAIN S/P FALLING IN SHOWER 2 DAYS...   \n",
       "4  1893.0  1807.0  88YOF PAIN TO HEAD WHEN FALL TO FLOOR WHEN WAL...   \n",
       "\n",
       "                                               narr2  \n",
       "0                                               X IT  \n",
       "1  AN OBJECT&TWISTED WRIST TRYING TO CONTOL MOWER...  \n",
       "2  T TRIED TO USE ***S TO REMOVE WAX MADE IT WORS...  \n",
       "3                                                NaN  \n",
       "4           DOOR AND FELL.DENIES LOC. DX HEAD INJURY  "
      ]
     },
     "execution_count": 8,
     "metadata": {},
     "output_type": "execute_result"
    }
   ],
   "source": [
    "df.sex.replace(1, 'Male', inplace=True)\n",
    "df.sex.replace(2, 'Female', inplace=True)\n",
    "df.sex.replace(0, 'Not Recorded', inplace=True)\n",
    "df.head()\n",
    "\n",
    "# Or\n",
    "# df.sex = df.sex.replace(1, \"Male\")"
   ]
  },
  {
   "cell_type": "markdown",
   "metadata": {},
   "source": [
    "## Confirm you have 195071 male, 162654 female, and 2 \"Not Recorded.\""
   ]
  },
  {
   "cell_type": "code",
   "execution_count": 9,
   "metadata": {},
   "outputs": [
    {
     "data": {
      "text/plain": [
       "Male            195071\n",
       "Female          162654\n",
       "Not Recorded         2\n",
       "Name: sex, dtype: int64"
      ]
     },
     "execution_count": 9,
     "metadata": {},
     "output_type": "execute_result"
    }
   ],
   "source": [
    "df['sex'].value_counts()"
   ]
  },
  {
   "cell_type": "markdown",
   "metadata": {},
   "source": [
    "## Graph the number of men and women, but don’t included the “Not Recorded” records"
   ]
  },
  {
   "cell_type": "code",
   "execution_count": 10,
   "metadata": {},
   "outputs": [
    {
     "data": {
      "text/plain": [
       "<matplotlib.axes._subplots.AxesSubplot at 0x10fa48438>"
      ]
     },
     "execution_count": 10,
     "metadata": {},
     "output_type": "execute_result"
    },
    {
     "data": {
      "image/png": "[encoded data removed]",
      "text/plain": [
       "<matplotlib.figure.Figure at 0x10f7064e0>"
      ]
     },
     "metadata": {},
     "output_type": "display_data"
    }
   ],
   "source": [
    "%matplotlib inline\n",
    "df[df['sex'] != 'Not Recorded']['sex'].value_counts().plot(kind='barh')"
   ]
  },
  {
   "cell_type": "markdown",
   "metadata": {},
   "source": [
    "## \"Not recorded\" seems silly - change it to be `NaN` instead\n",
    "\n",
    "Don't use `na_values` for this."
   ]
  },
  {
   "cell_type": "code",
   "execution_count": 11,
   "metadata": {
    "collapsed": true
   },
   "outputs": [],
   "source": [
    "import numpy as np\n",
    "df.sex.replace('Not Recorded', np.nan, inplace=True)\n",
    "#df.sex.replace('NaN', None, inplace=True)"
   ]
  },
  {
   "cell_type": "markdown",
   "metadata": {},
   "source": [
    "## Graph the count of men and women, but don’t included the “Not Recorded” records\n",
    "\n",
    "Yes, again! The code you use should be different this time."
   ]
  },
  {
   "cell_type": "code",
   "execution_count": 12,
   "metadata": {},
   "outputs": [
    {
     "data": {
      "text/plain": [
       "Male      195071\n",
       "Female    162654\n",
       "Name: sex, dtype: int64"
      ]
     },
     "execution_count": 12,
     "metadata": {},
     "output_type": "execute_result"
    }
   ],
   "source": [
    "df.sex.value_counts() #value_count ignores NaN values by default"
   ]
  },
  {
   "cell_type": "code",
   "execution_count": 13,
   "metadata": {},
   "outputs": [
    {
     "data": {
      "text/plain": [
       "<matplotlib.axes._subplots.AxesSubplot at 0x10dcc25f8>"
      ]
     },
     "execution_count": 13,
     "metadata": {},
     "output_type": "execute_result"
    },
    {
     "data": {
      "image/png": "[encoded data removed]",
      "text/plain": [
       "<matplotlib.figure.Figure at 0x10dc99588>"
      ]
     },
     "metadata": {},
     "output_type": "display_data"
    }
   ],
   "source": [
    "df['sex'].value_counts().plot(kind='barh')"
   ]
  },
  {
   "cell_type": "markdown",
   "metadata": {},
   "source": [
    "# Wall punching"
   ]
  },
  {
   "cell_type": "markdown",
   "metadata": {},
   "source": [
    "## Find every instance where the narrative includes punching a wall\n",
    "\n",
    "Include phrases like \"punched a wall\" or \"punch wall\" or \"punched ten thousand walls.\" Do not type them each individually. How do you do that?????"
   ]
  },
  {
   "cell_type": "code",
   "execution_count": 14,
   "metadata": {},
   "outputs": [
    {
     "data": {
      "text/html": [
       "<div>\n",
       "<style>\n",
       "    .dataframe thead tr:only-child th {\n",
       "        text-align: right;\n",
       "    }\n",
       "\n",
       "    .dataframe thead th {\n",
       "        text-align: left;\n",
       "    }\n",
       "\n",
       "    .dataframe tbody tr th {\n",
       "        vertical-align: top;\n",
       "    }\n",
       "</style>\n",
       "<table border=\"1\" class=\"dataframe\">\n",
       "  <thead>\n",
       "    <tr style=\"text-align: right;\">\n",
       "      <th></th>\n",
       "      <th>CPSC Case #</th>\n",
       "      <th>trmt_date</th>\n",
       "      <th>psu</th>\n",
       "      <th>weight</th>\n",
       "      <th>stratum</th>\n",
       "      <th>age</th>\n",
       "      <th>sex</th>\n",
       "      <th>race</th>\n",
       "      <th>race_other</th>\n",
       "      <th>diag</th>\n",
       "      <th>diag_other</th>\n",
       "      <th>body_part</th>\n",
       "      <th>disposition</th>\n",
       "      <th>location</th>\n",
       "      <th>fmv</th>\n",
       "      <th>prod1</th>\n",
       "      <th>prod2</th>\n",
       "      <th>narr1</th>\n",
       "      <th>narr2</th>\n",
       "    </tr>\n",
       "  </thead>\n",
       "  <tbody>\n",
       "    <tr>\n",
       "      <th>246</th>\n",
       "      <td>150532226</td>\n",
       "      <td>05/07/2015</td>\n",
       "      <td>63</td>\n",
       "      <td>97.9239</td>\n",
       "      <td>M</td>\n",
       "      <td>38</td>\n",
       "      <td>Male</td>\n",
       "      <td>0</td>\n",
       "      <td>NaN</td>\n",
       "      <td>57</td>\n",
       "      <td>NaN</td>\n",
       "      <td>82</td>\n",
       "      <td>1</td>\n",
       "      <td>0</td>\n",
       "      <td>0</td>\n",
       "      <td>1884.0</td>\n",
       "      <td>NaN</td>\n",
       "      <td>38YOM PUNCHED A WALL FRACTURED HAND</td>\n",
       "      <td>NaN</td>\n",
       "    </tr>\n",
       "    <tr>\n",
       "      <th>582</th>\n",
       "      <td>150954076</td>\n",
       "      <td>09/16/2015</td>\n",
       "      <td>22</td>\n",
       "      <td>15.7762</td>\n",
       "      <td>V</td>\n",
       "      <td>13</td>\n",
       "      <td>Male</td>\n",
       "      <td>1</td>\n",
       "      <td>NaN</td>\n",
       "      <td>57</td>\n",
       "      <td>NaN</td>\n",
       "      <td>82</td>\n",
       "      <td>1</td>\n",
       "      <td>1</td>\n",
       "      <td>0</td>\n",
       "      <td>1884.0</td>\n",
       "      <td>NaN</td>\n",
       "      <td>PT PUNCHED A WALL. FRACTURE METACARPAL, RIGHT,...</td>\n",
       "      <td>NaN</td>\n",
       "    </tr>\n",
       "    <tr>\n",
       "      <th>604</th>\n",
       "      <td>150541260</td>\n",
       "      <td>04/09/2015</td>\n",
       "      <td>53</td>\n",
       "      <td>15.0591</td>\n",
       "      <td>V</td>\n",
       "      <td>22</td>\n",
       "      <td>Male</td>\n",
       "      <td>1</td>\n",
       "      <td>NaN</td>\n",
       "      <td>71</td>\n",
       "      <td>HAND INJURY</td>\n",
       "      <td>82</td>\n",
       "      <td>1</td>\n",
       "      <td>1</td>\n",
       "      <td>0</td>\n",
       "      <td>1884.0</td>\n",
       "      <td>NaN</td>\n",
       "      <td>22YOM-HAND INJURY-PUNCHED A CEMENT WALL IN ANG...</td>\n",
       "      <td>NaN</td>\n",
       "    </tr>\n",
       "    <tr>\n",
       "      <th>704</th>\n",
       "      <td>151017458</td>\n",
       "      <td>10/05/2015</td>\n",
       "      <td>61</td>\n",
       "      <td>16.5650</td>\n",
       "      <td>V</td>\n",
       "      <td>15</td>\n",
       "      <td>Female</td>\n",
       "      <td>1</td>\n",
       "      <td>NaN</td>\n",
       "      <td>53</td>\n",
       "      <td>NaN</td>\n",
       "      <td>82</td>\n",
       "      <td>1</td>\n",
       "      <td>1</td>\n",
       "      <td>0</td>\n",
       "      <td>1884.0</td>\n",
       "      <td>NaN</td>\n",
       "      <td>15 YOF C/O RIGHT HAND PAIN SINCE PUNCHING A WA...</td>\n",
       "      <td>DX: CONTUSION OF HAND</td>\n",
       "    </tr>\n",
       "    <tr>\n",
       "      <th>741</th>\n",
       "      <td>150433154</td>\n",
       "      <td>04/02/2015</td>\n",
       "      <td>91</td>\n",
       "      <td>15.0591</td>\n",
       "      <td>V</td>\n",
       "      <td>33</td>\n",
       "      <td>Male</td>\n",
       "      <td>1</td>\n",
       "      <td>NaN</td>\n",
       "      <td>57</td>\n",
       "      <td>NaN</td>\n",
       "      <td>82</td>\n",
       "      <td>1</td>\n",
       "      <td>0</td>\n",
       "      <td>0</td>\n",
       "      <td>1884.0</td>\n",
       "      <td>NaN</td>\n",
       "      <td>33YOM PUNCHED A WALL X1 WEEK AGO W/ SHARP PAIN...</td>\n",
       "      <td>DX: ACUTE CLOSED FX OF FIFTH METACARPAL, BOXER...</td>\n",
       "    </tr>\n",
       "  </tbody>\n",
       "</table>\n",
       "</div>"
      ],
      "text/plain": [
       "     CPSC Case #   trmt_date  psu   weight stratum  age     sex  race  \\\n",
       "246    150532226  05/07/2015   63  97.9239       M   38    Male     0   \n",
       "582    150954076  09/16/2015   22  15.7762       V   13    Male     1   \n",
       "604    150541260  04/09/2015   53  15.0591       V   22    Male     1   \n",
       "704    151017458  10/05/2015   61  16.5650       V   15  Female     1   \n",
       "741    150433154  04/02/2015   91  15.0591       V   33    Male     1   \n",
       "\n",
       "    race_other  diag   diag_other  body_part  disposition  location  fmv  \\\n",
       "246        NaN    57          NaN         82            1         0    0   \n",
       "582        NaN    57          NaN         82            1         1    0   \n",
       "604        NaN    71  HAND INJURY         82            1         1    0   \n",
       "704        NaN    53          NaN         82            1         1    0   \n",
       "741        NaN    57          NaN         82            1         0    0   \n",
       "\n",
       "      prod1  prod2                                              narr1  \\\n",
       "246  1884.0    NaN                38YOM PUNCHED A WALL FRACTURED HAND   \n",
       "582  1884.0    NaN  PT PUNCHED A WALL. FRACTURE METACARPAL, RIGHT,...   \n",
       "604  1884.0    NaN  22YOM-HAND INJURY-PUNCHED A CEMENT WALL IN ANG...   \n",
       "704  1884.0    NaN  15 YOF C/O RIGHT HAND PAIN SINCE PUNCHING A WA...   \n",
       "741  1884.0    NaN  33YOM PUNCHED A WALL X1 WEEK AGO W/ SHARP PAIN...   \n",
       "\n",
       "                                                 narr2  \n",
       "246                                                NaN  \n",
       "582                                                NaN  \n",
       "604                                                NaN  \n",
       "704                              DX: CONTUSION OF HAND  \n",
       "741  DX: ACUTE CLOSED FX OF FIFTH METACARPAL, BOXER...  "
      ]
     },
     "execution_count": 14,
     "metadata": {},
     "output_type": "execute_result"
    }
   ],
   "source": [
    "df[df['narr1'].str.contains('punch.*wall', case=False)].head()"
   ]
  },
  {
   "cell_type": "markdown",
   "metadata": {},
   "source": [
    "## Graph the gender distribution of wall-punching."
   ]
  },
  {
   "cell_type": "code",
   "execution_count": 15,
   "metadata": {},
   "outputs": [
    {
     "data": {
      "text/plain": [
       "<matplotlib.axes._subplots.AxesSubplot at 0x10dde3c50>"
      ]
     },
     "execution_count": 15,
     "metadata": {},
     "output_type": "execute_result"
    },
    {
     "data": {
      "image/png": "[encoded data removed]",
      "text/plain": [
       "<matplotlib.figure.Figure at 0x116762400>"
      ]
     },
     "metadata": {},
     "output_type": "display_data"
    }
   ],
   "source": [
    "(df[df['narr1'].str.contains('punch.*wall', case=False)]['sex']\n",
    " .value_counts()\n",
    " .plot(kind='barh'))"
   ]
  },
  {
   "cell_type": "markdown",
   "metadata": {},
   "source": [
    "## Find the average age of a wall-puncher.\n",
    "\n",
    "Graph the distribution of the ages, too."
   ]
  },
  {
   "cell_type": "code",
   "execution_count": 56,
   "metadata": {},
   "outputs": [
    {
     "data": {
      "text/plain": [
       "24"
      ]
     },
     "execution_count": 56,
     "metadata": {},
     "output_type": "execute_result"
    }
   ],
   "source": [
    "df[df['narr1'].str.contains('punch.*wall', case=False)]['age'].mean().astype(int)"
   ]
  },
  {
   "cell_type": "code",
   "execution_count": 17,
   "metadata": {},
   "outputs": [
    {
     "data": {
      "text/plain": [
       "<matplotlib.axes._subplots.AxesSubplot at 0x10fa656a0>"
      ]
     },
     "execution_count": 17,
     "metadata": {},
     "output_type": "execute_result"
    },
    {
     "data": {
      "image/png": "[encoded data removed]",
      "text/plain": [
       "<matplotlib.figure.Figure at 0x10facfe10>"
      ]
     },
     "metadata": {},
     "output_type": "display_data"
    }
   ],
   "source": [
    "(df[df['narr1'].str.contains('punch.*wall', case=False)]['age']\n",
    " .value_counts()\n",
    " .sort_index()\n",
    " .plot(kind='barh', figsize=(5, 10)))"
   ]
  },
  {
   "cell_type": "markdown",
   "metadata": {},
   "source": [
    "# Which months are the most popular for wall punching?\n",
    "\n",
    "The month is hidden inside of the `trmt_date` column - you'll need to extract it. To check, January should have 27109 cases."
   ]
  },
  {
   "cell_type": "code",
   "execution_count": 18,
   "metadata": {},
   "outputs": [
    {
     "name": "stderr",
     "output_type": "stream",
     "text": [
      "/usr/local/lib/python3.6/site-packages/ipykernel_launcher.py:1: FutureWarning: currently extract(expand=None) means expand=False (return Index/Series/DataFrame) but in a future version of pandas this will be changed to expand=True (return DataFrame)\n",
      "  \"\"\"Entry point for launching an IPython kernel.\n"
     ]
    },
    {
     "data": {
      "text/plain": [
       "05    34066\n",
       "08    32917\n",
       "09    32473\n",
       "07    32184\n",
       "06    31315\n",
       "10    30587\n",
       "04    30154\n",
       "03    29220\n",
       "11    27154\n",
       "01    27109\n",
       "12    26845\n",
       "02    23703\n",
       "Name: trmt_date, dtype: int64"
      ]
     },
     "execution_count": 18,
     "metadata": {},
     "output_type": "execute_result"
    }
   ],
   "source": [
    "df.trmt_date.str.extract('(\\d\\d)').dropna().value_counts()"
   ]
  },
  {
   "cell_type": "markdown",
   "metadata": {},
   "source": [
    "## Graph the amount of wall punching in each month\n",
    "\n",
    "Having numbers on the x axis (1-12) is fine."
   ]
  },
  {
   "cell_type": "code",
   "execution_count": 19,
   "metadata": {},
   "outputs": [
    {
     "name": "stderr",
     "output_type": "stream",
     "text": [
      "/usr/local/lib/python3.6/site-packages/ipykernel_launcher.py:1: FutureWarning: currently extract(expand=None) means expand=False (return Index/Series/DataFrame) but in a future version of pandas this will be changed to expand=True (return DataFrame)\n",
      "  \"\"\"Entry point for launching an IPython kernel.\n"
     ]
    },
    {
     "data": {
      "text/plain": [
       "<matplotlib.axes._subplots.AxesSubplot at 0x10fbeb780>"
      ]
     },
     "execution_count": 19,
     "metadata": {},
     "output_type": "execute_result"
    },
    {
     "data": {
      "image/png": "[encoded data removed]",
      "text/plain": [
       "<matplotlib.figure.Figure at 0x10fddcf60>"
      ]
     },
     "metadata": {},
     "output_type": "display_data"
    }
   ],
   "source": [
    "df.trmt_date.str.extract('(\\d\\d)').sort_values().dropna().value_counts().plot(kind='barh')"
   ]
  },
  {
   "cell_type": "markdown",
   "metadata": {},
   "source": [
    "## Sort the graph so that the months are in order from Jan-Dec (or 01-12)"
   ]
  },
  {
   "cell_type": "code",
   "execution_count": 20,
   "metadata": {},
   "outputs": [
    {
     "name": "stderr",
     "output_type": "stream",
     "text": [
      "/usr/local/lib/python3.6/site-packages/ipykernel_launcher.py:1: FutureWarning: currently extract(expand=None) means expand=False (return Index/Series/DataFrame) but in a future version of pandas this will be changed to expand=True (return DataFrame)\n",
      "  \"\"\"Entry point for launching an IPython kernel.\n"
     ]
    },
    {
     "data": {
      "text/plain": [
       "<matplotlib.axes._subplots.AxesSubplot at 0x11158f828>"
      ]
     },
     "execution_count": 20,
     "metadata": {},
     "output_type": "execute_result"
    },
    {
     "data": {
      "image/png": "[encoded data removed]",
      "text/plain": [
       "<matplotlib.figure.Figure at 0x10ddd8780>"
      ]
     },
     "metadata": {},
     "output_type": "display_data"
    }
   ],
   "source": [
    "df.trmt_date.str.extract('(\\d\\d)').dropna().value_counts().sort_index(ascending=False).plot(kind='barh')"
   ]
  },
  {
   "cell_type": "markdown",
   "metadata": {},
   "source": [
    "## What month is most common for air conditioner-related injuries?\n",
    "\n",
    "Use the product code, which you can find in `2017ComparabilityTable.pdf` or `categories-cleaned.txt`."
   ]
  },
  {
   "cell_type": "code",
   "execution_count": 21,
   "metadata": {},
   "outputs": [
    {
     "name": "stderr",
     "output_type": "stream",
     "text": [
      "/usr/local/lib/python3.6/site-packages/ipykernel_launcher.py:1: FutureWarning: currently extract(expand=None) means expand=False (return Index/Series/DataFrame) but in a future version of pandas this will be changed to expand=True (return DataFrame)\n",
      "  \"\"\"Entry point for launching an IPython kernel.\n"
     ]
    },
    {
     "data": {
      "text/plain": [
       "07    45\n",
       "06    43\n",
       "08    42\n",
       "09    36\n",
       "10    32\n",
       "05    32\n",
       "04    17\n",
       "12    17\n",
       "11    15\n",
       "03    14\n",
       "02     9\n",
       "01     8\n",
       "Name: trmt_date, dtype: int64"
      ]
     },
     "execution_count": 21,
     "metadata": {},
     "output_type": "execute_result"
    }
   ],
   "source": [
    "df[df['prod1'] == 381].trmt_date.str.extract('(\\d\\d)').value_counts()"
   ]
  },
  {
   "cell_type": "markdown",
   "metadata": {},
   "source": [
    "## Find what else people punched using the prod1 and prod2 columns.\n",
    "\n",
    "Look at the top 10 for each separately."
   ]
  },
  {
   "cell_type": "code",
   "execution_count": 22,
   "metadata": {},
   "outputs": [
    {
     "data": {
      "text/plain": [
       "1884.0    1796\n",
       "1894.0     566\n",
       "1893.0     244\n",
       "1207.0     159\n",
       "4004.0     122\n",
       "276.0       74\n",
       "4057.0      53\n",
       "1892.0      48\n",
       "1726.0      42\n",
       "1807.0      41\n",
       "Name: prod1, dtype: int64"
      ]
     },
     "execution_count": 22,
     "metadata": {},
     "output_type": "execute_result"
    }
   ],
   "source": [
    "df[df['narr1'].str.contains('punch', case=False)]['prod1'].value_counts().nlargest(10)"
   ]
  },
  {
   "cell_type": "code",
   "execution_count": 23,
   "metadata": {},
   "outputs": [
    {
     "data": {
      "text/plain": [
       "1884.0    31\n",
       "1893.0    13\n",
       "1207.0     7\n",
       "1807.0     7\n",
       "1892.0     6\n",
       "4056.0     6\n",
       "604.0      4\n",
       "1865.0     4\n",
       "1819.0     3\n",
       "676.0      3\n",
       "Name: prod2, dtype: int64"
      ]
     },
     "execution_count": 23,
     "metadata": {},
     "output_type": "execute_result"
    }
   ],
   "source": [
    "df[df['narr1'].str.contains('punch', case=False)]['prod2'].value_counts().nlargest(10)"
   ]
  },
  {
   "cell_type": "markdown",
   "metadata": {},
   "source": [
    "## Uh, they're the same!"
   ]
  },
  {
   "cell_type": "markdown",
   "metadata": {},
   "source": [
    "The order of `prod1` and `prod2` don't actually matter!\n",
    "\n",
    "> When only one product is associated with an injury, place the product code for that product in the space allocated for \"First Product Code\" and fill in the \"Second Product Code\" spaces with 4 zeros (0000).\n",
    "When two products are associated with an injury, either product may be coded as the first product and the other as the second product.\n",
    ">\n",
    "> Example: An 11-year old boy riding a bicycle ran into a swing. Code: Product 1 = 5040 (bicycle) and Product 2 = 3246 (swings) or\n",
    ">\n",
    "> Code: Product 1 = 3246 (swings) and Product 2 = 5040 (bicycle)\n",
    "\n",
    "## Okay, okay, there’s no difference between prod1 and prod2, so you should add their frequencies together for an overall count!\n",
    "\n",
    "It's *almost* as easy as adding together the `value_counts()`.\n",
    "\n",
    "Take a look at the air conditioner question and the `.value_counts()` you just did, though, to see why combining them might not be that simple. **What is different about `prod1` and `prod2`?** You probably have to go all the way back up to where you read the file in to make them match."
   ]
  },
  {
   "cell_type": "code",
   "execution_count": 24,
   "metadata": {
    "collapsed": true
   },
   "outputs": [],
   "source": [
    "# dtype={'prod1':float} \n",
    "# float type allows NaN values"
   ]
  },
  {
   "cell_type": "code",
   "execution_count": 25,
   "metadata": {},
   "outputs": [
    {
     "data": {
      "text/plain": [
       "115.0       1.0\n",
       "136.0       1.0\n",
       "137.0       1.0\n",
       "138.0       1.0\n",
       "140.0       1.0\n",
       "215.0       1.0\n",
       "263.0       3.0\n",
       "264.0       3.0\n",
       "276.0      74.0\n",
       "380.0       1.0\n",
       "381.0       1.0\n",
       "413.0      11.0\n",
       "428.0       2.0\n",
       "450.0       1.0\n",
       "464.0       2.0\n",
       "474.0       5.0\n",
       "478.0      11.0\n",
       "482.0       1.0\n",
       "519.0       1.0\n",
       "546.0       4.0\n",
       "550.0       1.0\n",
       "557.0       8.0\n",
       "563.0       2.0\n",
       "572.0      38.0\n",
       "576.0       1.0\n",
       "604.0      42.0\n",
       "611.0       1.0\n",
       "627.0       5.0\n",
       "648.0       2.0\n",
       "649.0       2.0\n",
       "          ...  \n",
       "3265.0      4.0\n",
       "3272.0      2.0\n",
       "3273.0      1.0\n",
       "3274.0      1.0\n",
       "3277.0      1.0\n",
       "3278.0      2.0\n",
       "3286.0      1.0\n",
       "4004.0    124.0\n",
       "4009.0      1.0\n",
       "4014.0      2.0\n",
       "4025.0      1.0\n",
       "4030.0      1.0\n",
       "4041.0      1.0\n",
       "4042.0      1.0\n",
       "4056.0     43.0\n",
       "4057.0     53.0\n",
       "4061.0      1.0\n",
       "4062.0      1.0\n",
       "4063.0      4.0\n",
       "4067.0      1.0\n",
       "4071.0      2.0\n",
       "4074.0     18.0\n",
       "4075.0      2.0\n",
       "4076.0      9.0\n",
       "4078.0      2.0\n",
       "4079.0      2.0\n",
       "5011.0      1.0\n",
       "5034.0      2.0\n",
       "5040.0      1.0\n",
       "5041.0      2.0\n",
       "Length: 132, dtype: float64"
      ]
     },
     "execution_count": 25,
     "metadata": {},
     "output_type": "execute_result"
    }
   ],
   "source": [
    "prod1_value_counts = df[df['narr1'].str.contains('punch', case=False)]['prod1'].value_counts()\n",
    "prod2_value_counts = df[df['narr1'].str.contains('punch', case=False)]['prod2'].value_counts()\n",
    "\n",
    "prod1_value_counts.add(prod2_value_counts, fill_value=0)"
   ]
  },
  {
   "cell_type": "markdown",
   "metadata": {},
   "source": [
    "## Turn that into a dataframe\n",
    "\n",
    "Use `.reset_index()` on the result to turn it into a dataframe. Rename your columns to be `product_code` and `injury_count`."
   ]
  },
  {
   "cell_type": "code",
   "execution_count": 26,
   "metadata": {},
   "outputs": [
    {
     "data": {
      "text/html": [
       "<div>\n",
       "<style>\n",
       "    .dataframe thead tr:only-child th {\n",
       "        text-align: right;\n",
       "    }\n",
       "\n",
       "    .dataframe thead th {\n",
       "        text-align: left;\n",
       "    }\n",
       "\n",
       "    .dataframe tbody tr th {\n",
       "        vertical-align: top;\n",
       "    }\n",
       "</style>\n",
       "<table border=\"1\" class=\"dataframe\">\n",
       "  <thead>\n",
       "    <tr style=\"text-align: right;\">\n",
       "      <th></th>\n",
       "      <th>product_code</th>\n",
       "      <th>injury_count</th>\n",
       "    </tr>\n",
       "  </thead>\n",
       "  <tbody>\n",
       "    <tr>\n",
       "      <th>0</th>\n",
       "      <td>115.0</td>\n",
       "      <td>1.0</td>\n",
       "    </tr>\n",
       "    <tr>\n",
       "      <th>1</th>\n",
       "      <td>136.0</td>\n",
       "      <td>1.0</td>\n",
       "    </tr>\n",
       "    <tr>\n",
       "      <th>2</th>\n",
       "      <td>137.0</td>\n",
       "      <td>1.0</td>\n",
       "    </tr>\n",
       "    <tr>\n",
       "      <th>3</th>\n",
       "      <td>138.0</td>\n",
       "      <td>1.0</td>\n",
       "    </tr>\n",
       "    <tr>\n",
       "      <th>4</th>\n",
       "      <td>140.0</td>\n",
       "      <td>1.0</td>\n",
       "    </tr>\n",
       "    <tr>\n",
       "      <th>5</th>\n",
       "      <td>215.0</td>\n",
       "      <td>1.0</td>\n",
       "    </tr>\n",
       "    <tr>\n",
       "      <th>6</th>\n",
       "      <td>263.0</td>\n",
       "      <td>3.0</td>\n",
       "    </tr>\n",
       "    <tr>\n",
       "      <th>7</th>\n",
       "      <td>264.0</td>\n",
       "      <td>3.0</td>\n",
       "    </tr>\n",
       "    <tr>\n",
       "      <th>8</th>\n",
       "      <td>276.0</td>\n",
       "      <td>74.0</td>\n",
       "    </tr>\n",
       "    <tr>\n",
       "      <th>9</th>\n",
       "      <td>380.0</td>\n",
       "      <td>1.0</td>\n",
       "    </tr>\n",
       "  </tbody>\n",
       "</table>\n",
       "</div>"
      ],
      "text/plain": [
       "   product_code  injury_count\n",
       "0         115.0           1.0\n",
       "1         136.0           1.0\n",
       "2         137.0           1.0\n",
       "3         138.0           1.0\n",
       "4         140.0           1.0\n",
       "5         215.0           1.0\n",
       "6         263.0           3.0\n",
       "7         264.0           3.0\n",
       "8         276.0          74.0\n",
       "9         380.0           1.0"
      ]
     },
     "execution_count": 26,
     "metadata": {},
     "output_type": "execute_result"
    }
   ],
   "source": [
    "df_punch = prod1_value_counts.add(prod2_value_counts, fill_value=0).reset_index()\n",
    "df_punch.columns = ['product_code', 'injury_count']\n",
    "df_punch.head(10)"
   ]
  },
  {
   "cell_type": "markdown",
   "metadata": {},
   "source": [
    "## Fix the product codes\n",
    "\n",
    "Uh, wait, look at those product codes. \"102\" shouldn't be possible, it should be `0102` - this actually doesn't have to do with coding, it has to do with *the data doesn't match the codebook*.\n",
    "\n",
    "### Add zeroes to the left of the product code until it is 4 characters long"
   ]
  },
  {
   "cell_type": "code",
   "execution_count": 27,
   "metadata": {},
   "outputs": [
    {
     "data": {
      "text/html": [
       "<div>\n",
       "<style>\n",
       "    .dataframe thead tr:only-child th {\n",
       "        text-align: right;\n",
       "    }\n",
       "\n",
       "    .dataframe thead th {\n",
       "        text-align: left;\n",
       "    }\n",
       "\n",
       "    .dataframe tbody tr th {\n",
       "        vertical-align: top;\n",
       "    }\n",
       "</style>\n",
       "<table border=\"1\" class=\"dataframe\">\n",
       "  <thead>\n",
       "    <tr style=\"text-align: right;\">\n",
       "      <th></th>\n",
       "      <th>product_code</th>\n",
       "      <th>injury_count</th>\n",
       "    </tr>\n",
       "  </thead>\n",
       "  <tbody>\n",
       "    <tr>\n",
       "      <th>0</th>\n",
       "      <td>0115</td>\n",
       "      <td>1.0</td>\n",
       "    </tr>\n",
       "    <tr>\n",
       "      <th>1</th>\n",
       "      <td>0136</td>\n",
       "      <td>1.0</td>\n",
       "    </tr>\n",
       "    <tr>\n",
       "      <th>2</th>\n",
       "      <td>0137</td>\n",
       "      <td>1.0</td>\n",
       "    </tr>\n",
       "    <tr>\n",
       "      <th>3</th>\n",
       "      <td>0138</td>\n",
       "      <td>1.0</td>\n",
       "    </tr>\n",
       "    <tr>\n",
       "      <th>4</th>\n",
       "      <td>0140</td>\n",
       "      <td>1.0</td>\n",
       "    </tr>\n",
       "  </tbody>\n",
       "</table>\n",
       "</div>"
      ],
      "text/plain": [
       "  product_code  injury_count\n",
       "0         0115           1.0\n",
       "1         0136           1.0\n",
       "2         0137           1.0\n",
       "3         0138           1.0\n",
       "4         0140           1.0"
      ]
     },
     "execution_count": 27,
     "metadata": {},
     "output_type": "execute_result"
    }
   ],
   "source": [
    "df_punch.product_code = df_punch.product_code.astype(int).astype(str).str.pad(4, fillchar='0')\n",
    "df_punch.head()"
   ]
  },
  {
   "cell_type": "markdown",
   "metadata": {},
   "source": [
    "## Get meaningful names for \"product code\"\n",
    "\n",
    "Join with `categories-cleaned.txt` to turn the codes into actual words. **When you read in `categories-cleaned.txt`, make sure it has 803 rows and 2 columns.**"
   ]
  },
  {
   "cell_type": "code",
   "execution_count": 28,
   "metadata": {
    "collapsed": true
   },
   "outputs": [],
   "source": [
    "df_categories = pd.read_csv('categories-cleaned.txt', dtype={'product_code':str})"
   ]
  },
  {
   "cell_type": "code",
   "execution_count": 29,
   "metadata": {},
   "outputs": [
    {
     "data": {
      "text/plain": [
       "(803, 2)"
      ]
     },
     "execution_count": 29,
     "metadata": {},
     "output_type": "execute_result"
    }
   ],
   "source": [
    "df_categories.shape"
   ]
  },
  {
   "cell_type": "markdown",
   "metadata": {},
   "source": [
    "### Confirm that it worked by seeing if product code '0102' gives you 'Wringer washing machines\""
   ]
  },
  {
   "cell_type": "code",
   "execution_count": 30,
   "metadata": {
    "scrolled": true
   },
   "outputs": [
    {
     "data": {
      "text/html": [
       "<div>\n",
       "<style>\n",
       "    .dataframe thead tr:only-child th {\n",
       "        text-align: right;\n",
       "    }\n",
       "\n",
       "    .dataframe thead th {\n",
       "        text-align: left;\n",
       "    }\n",
       "\n",
       "    .dataframe tbody tr th {\n",
       "        vertical-align: top;\n",
       "    }\n",
       "</style>\n",
       "<table border=\"1\" class=\"dataframe\">\n",
       "  <thead>\n",
       "    <tr style=\"text-align: right;\">\n",
       "      <th></th>\n",
       "      <th>product_code</th>\n",
       "      <th>products</th>\n",
       "    </tr>\n",
       "  </thead>\n",
       "  <tbody>\n",
       "    <tr>\n",
       "      <th>0</th>\n",
       "      <td>0102</td>\n",
       "      <td>Wringer washing machines</td>\n",
       "    </tr>\n",
       "  </tbody>\n",
       "</table>\n",
       "</div>"
      ],
      "text/plain": [
       "  product_code                  products\n",
       "0         0102  Wringer washing machines"
      ]
     },
     "execution_count": 30,
     "metadata": {},
     "output_type": "execute_result"
    }
   ],
   "source": [
    "df_categories[df_categories['product_code'] == '0102']"
   ]
  },
  {
   "cell_type": "markdown",
   "metadata": {},
   "source": [
    "## Graph the top 10 most popular products for injuries "
   ]
  },
  {
   "cell_type": "code",
   "execution_count": 31,
   "metadata": {
    "collapsed": true
   },
   "outputs": [],
   "source": [
    "# Join\n",
    "def join_categories(row):\n",
    "    c = df_categories[df_categories['product_code'] == row['product_code']]['products']\n",
    "    return c.values[0]\n",
    "\n",
    "df_punch['categories'] = df_punch.apply(join_categories, axis=1)"
   ]
  },
  {
   "cell_type": "code",
   "execution_count": 55,
   "metadata": {},
   "outputs": [
    {
     "data": {
      "image/png": "[encoded data removed]",
      "text/plain": [
       "<matplotlib.figure.Figure at 0x10fee65c0>"
      ]
     },
     "metadata": {},
     "output_type": "display_data"
    }
   ],
   "source": [
    "# Plot\n",
    "sorted_punch = (df_punch[['injury_count', 'categories']]\n",
    "                .sort_values(by='injury_count', ascending=False).head(10)\n",
    "                .sort_values(by='injury_count', ascending=True))\n",
    "graph = sorted_punch.plot(kind='barh', x='categories', y='injury_count')"
   ]
  },
  {
   "cell_type": "code",
   "execution_count": null,
   "metadata": {
    "collapsed": true
   },
   "outputs": [],
   "source": []
  }
 ],
 "metadata": {
  "kernelspec": {
   "display_name": "Python 3",
   "language": "python",
   "name": "python3"
  },
  "language_info": {
   "codemirror_mode": {
    "name": "ipython",
    "version": 3
   },
   "file_extension": ".py",
   "mimetype": "text/x-python",
   "name": "python",
   "nbconvert_exporter": "python",
   "pygments_lexer": "ipython3",
   "version": "3.6.1"
  }
 },
 "nbformat": 4,
 "nbformat_minor": 2
}
