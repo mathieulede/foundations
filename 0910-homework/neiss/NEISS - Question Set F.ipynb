{
 "cells": [
  {
   "cell_type": "markdown",
   "metadata": {},
   "source": [
    "# Exercise: NEISS, Question Set F\n",
    "\n",
    "#### Summary\n",
    "\n",
    "The [National Electronic Injury Surveillance System](https://www.cpsc.gov/Safety-Education/Safety-Guides/General-Information/National-Electronic-Injury-Surveillance-System-NEISS) is a data product produced by the US Consumer Product Safety Commission. It tracks emergency room injuries related to consumer products (e.g., \"a door fell on me!\").\n",
    "\n",
    "#### Files\n",
    "\n",
    "- **nss15.tsv**: injury data (one injury per row)\n",
    "- **2017NEISSCodingManualCPSConlyNontrauma.pdf**: column definitions and explanations\n",
    "- **2015 Neiss data highlights.pdf**: a partial summary of the data\n",
    "- **2017ComparabilityTable.pdf**: product code definitions\n",
    "- **categories-cleaned.txt**: product code definitions in CSV format (great for joining!)\n",
    "\n",
    "#### Source\n",
    "\n",
    "https://www.cpsc.gov/Safety-Education/Safety-Guides/General-Information/National-Electronic-Injury-Surveillance-System-NEISS\n",
    "\n",
    "#### Skills\n",
    "\n",
    "- Reading tab-separated files\n",
    "- Ignoring bad lines\n",
    "- Replacing values\n",
    "- Using numpy/`np.nan`\n",
    "- String search using regular expressions\n",
    "- String replacement using regular expressions\n",
    "- Using codebooks"
   ]
  },
  {
   "cell_type": "markdown",
   "metadata": {},
   "source": [
    "# Read in `nss15.tsv`\n",
    "\n",
    "Some of the lines just **aren't formatted correctly**. Maybe we can avoid those?"
   ]
  },
  {
   "cell_type": "code",
   "execution_count": 1,
   "metadata": {
    "collapsed": true
   },
   "outputs": [],
   "source": [
    "import pandas as pd"
   ]
  },
  {
   "cell_type": "code",
   "execution_count": 77,
   "metadata": {},
   "outputs": [
    {
     "name": "stderr",
     "output_type": "stream",
     "text": [
      "b'Skipping line 10822: expected 19 fields, saw 20\\n'\n",
      "b'Skipping line 48623: expected 19 fields, saw 20\\nSkipping line 62534: expected 19 fields, saw 20\\n'\n",
      "b'Skipping line 103739: expected 19 fields, saw 20\\n'\n",
      "b'Skipping line 135495: expected 19 fields, saw 20\\nSkipping line 151678: expected 19 fields, saw 20\\n'\n",
      "b'Skipping line 237135: expected 19 fields, saw 20\\nSkipping line 240597: expected 19 fields, saw 20\\n'\n",
      "b'Skipping line 274270: expected 19 fields, saw 20\\nSkipping line 277461: expected 19 fields, saw 20\\n'\n"
     ]
    }
   ],
   "source": [
    "df_neiss = pd.read_csv('nss15.tsv', sep='\\t', error_bad_lines=False)"
   ]
  },
  {
   "cell_type": "markdown",
   "metadata": {},
   "source": [
    "### Check that your dataframe has 357727 rows and 19 columns."
   ]
  },
  {
   "cell_type": "code",
   "execution_count": 3,
   "metadata": {},
   "outputs": [
    {
     "data": {
      "text/plain": [
       "(357727, 19)"
      ]
     },
     "execution_count": 3,
     "metadata": {},
     "output_type": "execute_result"
    }
   ],
   "source": [
    "df_neiss.shape"
   ]
  },
  {
   "cell_type": "markdown",
   "metadata": {},
   "source": [
    "### List the columns and their data types"
   ]
  },
  {
   "cell_type": "code",
   "execution_count": 4,
   "metadata": {},
   "outputs": [
    {
     "data": {
      "text/plain": [
       "CPSC Case #      int64\n",
       "trmt_date       object\n",
       "psu              int64\n",
       "weight         float64\n",
       "stratum         object\n",
       "age              int64\n",
       "sex              int64\n",
       "race             int64\n",
       "race_other      object\n",
       "diag             int64\n",
       "diag_other      object\n",
       "body_part        int64\n",
       "disposition      int64\n",
       "location         int64\n",
       "fmv              int64\n",
       "prod1            int64\n",
       "prod2          float64\n",
       "narr1           object\n",
       "narr2           object\n",
       "dtype: object"
      ]
     },
     "execution_count": 4,
     "metadata": {},
     "output_type": "execute_result"
    }
   ],
   "source": [
    "df_neiss.dtypes"
   ]
  },
  {
   "cell_type": "markdown",
   "metadata": {},
   "source": [
    "### What does each column mean?"
   ]
  },
  {
   "cell_type": "code",
   "execution_count": null,
   "metadata": {
    "collapsed": true
   },
   "outputs": [],
   "source": [
    "# According to the coding manual:\n",
    "# trmt_date: Code the date on which the patient was seen for treatment. Use two digits each for the month and day and four digits for the year, in that order. Whenever the month or day is 1 digit (1-9), add a zero in front of the number, i.e., 1 becomes 01, 2 becomes 02, etc.\n",
    "# body_part: Use the codes in the table which follows for the body part affected in the product related incident. Also see Appendix C. The body part diagram in Appendix D will help you visualize more clearly the boundaries of such parts as lower trunk, upper arm, etc.\n",
    "# narr1: Every case MUST include descriptive comments or remarks. Enter these notes on the two lines labeled \"Comment\" that immediately follow the coded entries. Be sure to include the body part and diagnosis from the ED chart, as well as the patient’s age and gender in the comment.\n",
    "# diag: The diagnosis codes are listed in the table which follows. Use the attending physician's diagnosis to determine the nature of an injury. If the attending physician's diagnosis is missing, use diagnostic information provided by a medical professional to select the appropriate code. If the record contains no diagnosis by medical personnel, review the patient's complaint and the treatment given to arrive at the most logical diagnosis."
   ]
  },
  {
   "cell_type": "markdown",
   "metadata": {},
   "source": [
    "# Cleaning up a column\n",
    "\n",
    "Take a look at the **race** column. How many rows of each race are there?"
   ]
  },
  {
   "cell_type": "code",
   "execution_count": 6,
   "metadata": {},
   "outputs": [
    {
     "data": {
      "text/plain": [
       "1    145813\n",
       "0    138666\n",
       "2     48868\n",
       "3     18884\n",
       "4      4130\n",
       "5      1000\n",
       "6       366\n",
       "Name: race, dtype: int64"
      ]
     },
     "execution_count": 6,
     "metadata": {},
     "output_type": "execute_result"
    }
   ],
   "source": [
    "df_neiss['race'].value_counts()"
   ]
  },
  {
   "cell_type": "markdown",
   "metadata": {},
   "source": [
    "## Replace the numbers with the appropriate words they stand for.\n",
    "\n",
    "Those numbers are terrible - codes are fine for storage but not really for reading. **Replace the numbers with the  words they stand for.**\n",
    "\n",
    "Refer to page 28 of the column definitions file."
   ]
  },
  {
   "cell_type": "code",
   "execution_count": 78,
   "metadata": {
    "collapsed": true
   },
   "outputs": [],
   "source": [
    "races = {\n",
    "    1: 'White',\n",
    "    2: 'Black/African American',\n",
    "    4: 'Asian',\n",
    "    5: 'American Indian/Alaska Native',\n",
    "    6: 'Native Hawaiian/Pacific Islander',\n",
    "    3: 'Other',\n",
    "    0: 'Not Stated in ED record'\n",
    "}"
   ]
  },
  {
   "cell_type": "code",
   "execution_count": 79,
   "metadata": {
    "collapsed": true
   },
   "outputs": [],
   "source": [
    "df_neiss.race.replace(races, inplace=True)"
   ]
  },
  {
   "cell_type": "code",
   "execution_count": 80,
   "metadata": {},
   "outputs": [
    {
     "data": {
      "text/html": [
       "<div>\n",
       "<style>\n",
       "    .dataframe thead tr:only-child th {\n",
       "        text-align: right;\n",
       "    }\n",
       "\n",
       "    .dataframe thead th {\n",
       "        text-align: left;\n",
       "    }\n",
       "\n",
       "    .dataframe tbody tr th {\n",
       "        vertical-align: top;\n",
       "    }\n",
       "</style>\n",
       "<table border=\"1\" class=\"dataframe\">\n",
       "  <thead>\n",
       "    <tr style=\"text-align: right;\">\n",
       "      <th></th>\n",
       "      <th>CPSC Case #</th>\n",
       "      <th>trmt_date</th>\n",
       "      <th>psu</th>\n",
       "      <th>weight</th>\n",
       "      <th>stratum</th>\n",
       "      <th>age</th>\n",
       "      <th>sex</th>\n",
       "      <th>race</th>\n",
       "      <th>race_other</th>\n",
       "      <th>diag</th>\n",
       "      <th>diag_other</th>\n",
       "      <th>body_part</th>\n",
       "      <th>disposition</th>\n",
       "      <th>location</th>\n",
       "      <th>fmv</th>\n",
       "      <th>prod1</th>\n",
       "      <th>prod2</th>\n",
       "      <th>narr1</th>\n",
       "      <th>narr2</th>\n",
       "    </tr>\n",
       "  </thead>\n",
       "  <tbody>\n",
       "    <tr>\n",
       "      <th>0</th>\n",
       "      <td>150733174</td>\n",
       "      <td>07/11/2015</td>\n",
       "      <td>38</td>\n",
       "      <td>15.7762</td>\n",
       "      <td>V</td>\n",
       "      <td>5</td>\n",
       "      <td>1</td>\n",
       "      <td>Not Stated in ED record</td>\n",
       "      <td>NaN</td>\n",
       "      <td>57</td>\n",
       "      <td>NaN</td>\n",
       "      <td>33</td>\n",
       "      <td>1</td>\n",
       "      <td>9</td>\n",
       "      <td>0</td>\n",
       "      <td>1267</td>\n",
       "      <td>NaN</td>\n",
       "      <td>5 YR OLD MALE PLAYING SOCCER BLOCKING BALL AND...</td>\n",
       "      <td>X IT</td>\n",
       "    </tr>\n",
       "    <tr>\n",
       "      <th>1</th>\n",
       "      <td>150734723</td>\n",
       "      <td>07/06/2015</td>\n",
       "      <td>43</td>\n",
       "      <td>83.2157</td>\n",
       "      <td>S</td>\n",
       "      <td>36</td>\n",
       "      <td>1</td>\n",
       "      <td>White</td>\n",
       "      <td>NaN</td>\n",
       "      <td>57</td>\n",
       "      <td>NaN</td>\n",
       "      <td>34</td>\n",
       "      <td>1</td>\n",
       "      <td>1</td>\n",
       "      <td>0</td>\n",
       "      <td>1439</td>\n",
       "      <td>4057.0</td>\n",
       "      <td>L WRIST FX(?)/36YOWM 2 WKS AGO@G-FRIENDS HM,MO...</td>\n",
       "      <td>AN OBJECT&amp;TWISTED WRIST TRYING TO CONTOL MOWER...</td>\n",
       "    </tr>\n",
       "    <tr>\n",
       "      <th>2</th>\n",
       "      <td>150817487</td>\n",
       "      <td>08/02/2015</td>\n",
       "      <td>51</td>\n",
       "      <td>74.8813</td>\n",
       "      <td>L</td>\n",
       "      <td>20</td>\n",
       "      <td>2</td>\n",
       "      <td>Not Stated in ED record</td>\n",
       "      <td>NaN</td>\n",
       "      <td>71</td>\n",
       "      <td>OTITIS EXTERNA</td>\n",
       "      <td>94</td>\n",
       "      <td>1</td>\n",
       "      <td>0</td>\n",
       "      <td>0</td>\n",
       "      <td>3274</td>\n",
       "      <td>NaN</td>\n",
       "      <td>20 YO F C/O EAR PAIN 1 DAY SAS WAS SWIMMING YE...</td>\n",
       "      <td>T TRIED TO USE ***S TO REMOVE WAX MADE IT WORS...</td>\n",
       "    </tr>\n",
       "    <tr>\n",
       "      <th>3</th>\n",
       "      <td>150717776</td>\n",
       "      <td>06/26/2015</td>\n",
       "      <td>41</td>\n",
       "      <td>15.7762</td>\n",
       "      <td>V</td>\n",
       "      <td>61</td>\n",
       "      <td>1</td>\n",
       "      <td>Not Stated in ED record</td>\n",
       "      <td>NaN</td>\n",
       "      <td>71</td>\n",
       "      <td>PAIN</td>\n",
       "      <td>35</td>\n",
       "      <td>1</td>\n",
       "      <td>0</td>\n",
       "      <td>0</td>\n",
       "      <td>611</td>\n",
       "      <td>NaN</td>\n",
       "      <td>61YOM W/KNEE PAIN S/P FALLING IN SHOWER 2 DAYS...</td>\n",
       "      <td>NaN</td>\n",
       "    </tr>\n",
       "    <tr>\n",
       "      <th>4</th>\n",
       "      <td>150721694</td>\n",
       "      <td>07/04/2015</td>\n",
       "      <td>42</td>\n",
       "      <td>74.8813</td>\n",
       "      <td>L</td>\n",
       "      <td>88</td>\n",
       "      <td>2</td>\n",
       "      <td>Other</td>\n",
       "      <td>HISPANIC</td>\n",
       "      <td>62</td>\n",
       "      <td>NaN</td>\n",
       "      <td>75</td>\n",
       "      <td>1</td>\n",
       "      <td>0</td>\n",
       "      <td>0</td>\n",
       "      <td>1893</td>\n",
       "      <td>1807.0</td>\n",
       "      <td>88YOF PAIN TO HEAD WHEN FALL TO FLOOR WHEN WAL...</td>\n",
       "      <td>DOOR AND FELL.DENIES LOC. DX HEAD INJURY</td>\n",
       "    </tr>\n",
       "  </tbody>\n",
       "</table>\n",
       "</div>"
      ],
      "text/plain": [
       "   CPSC Case #   trmt_date  psu   weight stratum  age  sex  \\\n",
       "0    150733174  07/11/2015   38  15.7762       V    5    1   \n",
       "1    150734723  07/06/2015   43  83.2157       S   36    1   \n",
       "2    150817487  08/02/2015   51  74.8813       L   20    2   \n",
       "3    150717776  06/26/2015   41  15.7762       V   61    1   \n",
       "4    150721694  07/04/2015   42  74.8813       L   88    2   \n",
       "\n",
       "                      race race_other  diag      diag_other  body_part  \\\n",
       "0  Not Stated in ED record        NaN    57             NaN         33   \n",
       "1                    White        NaN    57             NaN         34   \n",
       "2  Not Stated in ED record        NaN    71  OTITIS EXTERNA         94   \n",
       "3  Not Stated in ED record        NaN    71            PAIN         35   \n",
       "4                    Other   HISPANIC    62             NaN         75   \n",
       "\n",
       "   disposition  location  fmv  prod1   prod2  \\\n",
       "0            1         9    0   1267     NaN   \n",
       "1            1         1    0   1439  4057.0   \n",
       "2            1         0    0   3274     NaN   \n",
       "3            1         0    0    611     NaN   \n",
       "4            1         0    0   1893  1807.0   \n",
       "\n",
       "                                               narr1  \\\n",
       "0  5 YR OLD MALE PLAYING SOCCER BLOCKING BALL AND...   \n",
       "1  L WRIST FX(?)/36YOWM 2 WKS AGO@G-FRIENDS HM,MO...   \n",
       "2  20 YO F C/O EAR PAIN 1 DAY SAS WAS SWIMMING YE...   \n",
       "3  61YOM W/KNEE PAIN S/P FALLING IN SHOWER 2 DAYS...   \n",
       "4  88YOF PAIN TO HEAD WHEN FALL TO FLOOR WHEN WAL...   \n",
       "\n",
       "                                               narr2  \n",
       "0                                               X IT  \n",
       "1  AN OBJECT&TWISTED WRIST TRYING TO CONTOL MOWER...  \n",
       "2  T TRIED TO USE ***S TO REMOVE WAX MADE IT WORS...  \n",
       "3                                                NaN  \n",
       "4           DOOR AND FELL.DENIES LOC. DX HEAD INJURY  "
      ]
     },
     "execution_count": 80,
     "metadata": {},
     "output_type": "execute_result"
    }
   ],
   "source": [
    "df_neiss.head()"
   ]
  },
  {
   "cell_type": "markdown",
   "metadata": {},
   "source": [
    "## Confirm you have 145813 White, 138666 not stated, and 48868 Black."
   ]
  },
  {
   "cell_type": "code",
   "execution_count": 24,
   "metadata": {},
   "outputs": [
    {
     "data": {
      "text/plain": [
       "White                               145813\n",
       "Not Stated in ED record             138666\n",
       "Black/African American               48868\n",
       "Other                                18884\n",
       "Asian                                 4130\n",
       "American Indian/Alaska Native         1000\n",
       "Native Hawaiian/Pacific Islander       366\n",
       "Name: race, dtype: int64"
      ]
     },
     "execution_count": 24,
     "metadata": {},
     "output_type": "execute_result"
    }
   ],
   "source": [
    "df_neiss.race.value_counts()"
   ]
  },
  {
   "cell_type": "markdown",
   "metadata": {},
   "source": [
    "## Graph the number of each race, but don’t included the “Not Stated” records"
   ]
  },
  {
   "cell_type": "code",
   "execution_count": 25,
   "metadata": {},
   "outputs": [
    {
     "data": {
      "text/plain": [
       "<matplotlib.axes._subplots.AxesSubplot at 0x10daee6d8>"
      ]
     },
     "execution_count": 25,
     "metadata": {},
     "output_type": "execute_result"
    },
    {
     "data": {
      "image/png": "[encoded data removed]",
      "text/plain": [
       "<matplotlib.figure.Figure at 0x10db66ac8>"
      ]
     },
     "metadata": {},
     "output_type": "display_data"
    }
   ],
   "source": [
    "%matplotlib inline\n",
    "df_neiss[df_neiss.race != 'Not Stated in ED record']['race'].value_counts().plot(kind='barh')"
   ]
  },
  {
   "cell_type": "markdown",
   "metadata": {},
   "source": [
    "## \"Not Stated\" seems silly - change it to be `NaN` instead\n",
    "\n",
    "Don't use `na_values` for this."
   ]
  },
  {
   "cell_type": "code",
   "execution_count": 81,
   "metadata": {
    "collapsed": true
   },
   "outputs": [],
   "source": [
    "import numpy as np\n",
    "df_neiss['race'].replace('Not Stated in ED record', np.nan, inplace=True)"
   ]
  },
  {
   "cell_type": "code",
   "execution_count": 30,
   "metadata": {},
   "outputs": [
    {
     "data": {
      "text/html": [
       "<div>\n",
       "<style>\n",
       "    .dataframe thead tr:only-child th {\n",
       "        text-align: right;\n",
       "    }\n",
       "\n",
       "    .dataframe thead th {\n",
       "        text-align: left;\n",
       "    }\n",
       "\n",
       "    .dataframe tbody tr th {\n",
       "        vertical-align: top;\n",
       "    }\n",
       "</style>\n",
       "<table border=\"1\" class=\"dataframe\">\n",
       "  <thead>\n",
       "    <tr style=\"text-align: right;\">\n",
       "      <th></th>\n",
       "      <th>CPSC Case #</th>\n",
       "      <th>trmt_date</th>\n",
       "      <th>psu</th>\n",
       "      <th>weight</th>\n",
       "      <th>stratum</th>\n",
       "      <th>age</th>\n",
       "      <th>sex</th>\n",
       "      <th>race</th>\n",
       "      <th>race_other</th>\n",
       "      <th>diag</th>\n",
       "      <th>diag_other</th>\n",
       "      <th>body_part</th>\n",
       "      <th>disposition</th>\n",
       "      <th>location</th>\n",
       "      <th>fmv</th>\n",
       "      <th>prod1</th>\n",
       "      <th>prod2</th>\n",
       "      <th>narr1</th>\n",
       "      <th>narr2</th>\n",
       "    </tr>\n",
       "  </thead>\n",
       "  <tbody>\n",
       "    <tr>\n",
       "      <th>0</th>\n",
       "      <td>150733174</td>\n",
       "      <td>07/11/2015</td>\n",
       "      <td>38</td>\n",
       "      <td>15.7762</td>\n",
       "      <td>V</td>\n",
       "      <td>5</td>\n",
       "      <td>1</td>\n",
       "      <td>NaN</td>\n",
       "      <td>NaN</td>\n",
       "      <td>57</td>\n",
       "      <td>NaN</td>\n",
       "      <td>33</td>\n",
       "      <td>1</td>\n",
       "      <td>9</td>\n",
       "      <td>0</td>\n",
       "      <td>1267</td>\n",
       "      <td>NaN</td>\n",
       "      <td>5 YR OLD MALE PLAYING SOCCER BLOCKING BALL AND...</td>\n",
       "      <td>X IT</td>\n",
       "    </tr>\n",
       "    <tr>\n",
       "      <th>1</th>\n",
       "      <td>150734723</td>\n",
       "      <td>07/06/2015</td>\n",
       "      <td>43</td>\n",
       "      <td>83.2157</td>\n",
       "      <td>S</td>\n",
       "      <td>36</td>\n",
       "      <td>1</td>\n",
       "      <td>White</td>\n",
       "      <td>NaN</td>\n",
       "      <td>57</td>\n",
       "      <td>NaN</td>\n",
       "      <td>34</td>\n",
       "      <td>1</td>\n",
       "      <td>1</td>\n",
       "      <td>0</td>\n",
       "      <td>1439</td>\n",
       "      <td>4057.0</td>\n",
       "      <td>L WRIST FX(?)/36YOWM 2 WKS AGO@G-FRIENDS HM,MO...</td>\n",
       "      <td>AN OBJECT&amp;TWISTED WRIST TRYING TO CONTOL MOWER...</td>\n",
       "    </tr>\n",
       "    <tr>\n",
       "      <th>2</th>\n",
       "      <td>150817487</td>\n",
       "      <td>08/02/2015</td>\n",
       "      <td>51</td>\n",
       "      <td>74.8813</td>\n",
       "      <td>L</td>\n",
       "      <td>20</td>\n",
       "      <td>2</td>\n",
       "      <td>NaN</td>\n",
       "      <td>NaN</td>\n",
       "      <td>71</td>\n",
       "      <td>OTITIS EXTERNA</td>\n",
       "      <td>94</td>\n",
       "      <td>1</td>\n",
       "      <td>0</td>\n",
       "      <td>0</td>\n",
       "      <td>3274</td>\n",
       "      <td>NaN</td>\n",
       "      <td>20 YO F C/O EAR PAIN 1 DAY SAS WAS SWIMMING YE...</td>\n",
       "      <td>T TRIED TO USE ***S TO REMOVE WAX MADE IT WORS...</td>\n",
       "    </tr>\n",
       "    <tr>\n",
       "      <th>3</th>\n",
       "      <td>150717776</td>\n",
       "      <td>06/26/2015</td>\n",
       "      <td>41</td>\n",
       "      <td>15.7762</td>\n",
       "      <td>V</td>\n",
       "      <td>61</td>\n",
       "      <td>1</td>\n",
       "      <td>NaN</td>\n",
       "      <td>NaN</td>\n",
       "      <td>71</td>\n",
       "      <td>PAIN</td>\n",
       "      <td>35</td>\n",
       "      <td>1</td>\n",
       "      <td>0</td>\n",
       "      <td>0</td>\n",
       "      <td>611</td>\n",
       "      <td>NaN</td>\n",
       "      <td>61YOM W/KNEE PAIN S/P FALLING IN SHOWER 2 DAYS...</td>\n",
       "      <td>NaN</td>\n",
       "    </tr>\n",
       "    <tr>\n",
       "      <th>4</th>\n",
       "      <td>150721694</td>\n",
       "      <td>07/04/2015</td>\n",
       "      <td>42</td>\n",
       "      <td>74.8813</td>\n",
       "      <td>L</td>\n",
       "      <td>88</td>\n",
       "      <td>2</td>\n",
       "      <td>Other</td>\n",
       "      <td>HISPANIC</td>\n",
       "      <td>62</td>\n",
       "      <td>NaN</td>\n",
       "      <td>75</td>\n",
       "      <td>1</td>\n",
       "      <td>0</td>\n",
       "      <td>0</td>\n",
       "      <td>1893</td>\n",
       "      <td>1807.0</td>\n",
       "      <td>88YOF PAIN TO HEAD WHEN FALL TO FLOOR WHEN WAL...</td>\n",
       "      <td>DOOR AND FELL.DENIES LOC. DX HEAD INJURY</td>\n",
       "    </tr>\n",
       "  </tbody>\n",
       "</table>\n",
       "</div>"
      ],
      "text/plain": [
       "   CPSC Case #   trmt_date  psu   weight stratum  age  sex   race race_other  \\\n",
       "0    150733174  07/11/2015   38  15.7762       V    5    1    NaN        NaN   \n",
       "1    150734723  07/06/2015   43  83.2157       S   36    1  White        NaN   \n",
       "2    150817487  08/02/2015   51  74.8813       L   20    2    NaN        NaN   \n",
       "3    150717776  06/26/2015   41  15.7762       V   61    1    NaN        NaN   \n",
       "4    150721694  07/04/2015   42  74.8813       L   88    2  Other   HISPANIC   \n",
       "\n",
       "   diag      diag_other  body_part  disposition  location  fmv  prod1   prod2  \\\n",
       "0    57             NaN         33            1         9    0   1267     NaN   \n",
       "1    57             NaN         34            1         1    0   1439  4057.0   \n",
       "2    71  OTITIS EXTERNA         94            1         0    0   3274     NaN   \n",
       "3    71            PAIN         35            1         0    0    611     NaN   \n",
       "4    62             NaN         75            1         0    0   1893  1807.0   \n",
       "\n",
       "                                               narr1  \\\n",
       "0  5 YR OLD MALE PLAYING SOCCER BLOCKING BALL AND...   \n",
       "1  L WRIST FX(?)/36YOWM 2 WKS AGO@G-FRIENDS HM,MO...   \n",
       "2  20 YO F C/O EAR PAIN 1 DAY SAS WAS SWIMMING YE...   \n",
       "3  61YOM W/KNEE PAIN S/P FALLING IN SHOWER 2 DAYS...   \n",
       "4  88YOF PAIN TO HEAD WHEN FALL TO FLOOR WHEN WAL...   \n",
       "\n",
       "                                               narr2  \n",
       "0                                               X IT  \n",
       "1  AN OBJECT&TWISTED WRIST TRYING TO CONTOL MOWER...  \n",
       "2  T TRIED TO USE ***S TO REMOVE WAX MADE IT WORS...  \n",
       "3                                                NaN  \n",
       "4           DOOR AND FELL.DENIES LOC. DX HEAD INJURY  "
      ]
     },
     "execution_count": 30,
     "metadata": {},
     "output_type": "execute_result"
    }
   ],
   "source": [
    "df_neiss.head()"
   ]
  },
  {
   "cell_type": "markdown",
   "metadata": {},
   "source": [
    "## Graph the count of each race, but don’t included the “Not Stated” records\n",
    "\n",
    "Yes, again! The code you use should be different this time."
   ]
  },
  {
   "cell_type": "code",
   "execution_count": 31,
   "metadata": {},
   "outputs": [
    {
     "data": {
      "text/plain": [
       "<matplotlib.axes._subplots.AxesSubplot at 0x1306097b8>"
      ]
     },
     "execution_count": 31,
     "metadata": {},
     "output_type": "execute_result"
    },
    {
     "data": {
      "image/png": "[encoded data removed]",
      "text/plain": [
       "<matplotlib.figure.Figure at 0x105bb2048>"
      ]
     },
     "metadata": {},
     "output_type": "display_data"
    }
   ],
   "source": [
    "df_neiss['race'].value_counts().plot(kind='barh')"
   ]
  },
  {
   "cell_type": "markdown",
   "metadata": {},
   "source": [
    "## Graph the top 10 most popular products for injuries "
   ]
  },
  {
   "cell_type": "code",
   "execution_count": 33,
   "metadata": {},
   "outputs": [
    {
     "data": {
      "text/plain": [
       "1842    28609\n",
       "1807    28255\n",
       "4076    16707\n",
       "1205    14095\n",
       "5040    12737\n",
       "1211    11614\n",
       "4074     8239\n",
       "1884     7755\n",
       "1893     7689\n",
       "4057     7327\n",
       "Name: prod1, dtype: int64"
      ]
     },
     "execution_count": 33,
     "metadata": {},
     "output_type": "execute_result"
    }
   ],
   "source": [
    "df_neiss['prod1'].value_counts().nlargest(10)"
   ]
  },
  {
   "cell_type": "markdown",
   "metadata": {
    "collapsed": true
   },
   "source": [
    "# Cleaning up `race_other`"
   ]
  },
  {
   "cell_type": "markdown",
   "metadata": {},
   "source": [
    "## `race_other` is a field for free-form race input. How many patients have a race of \"HISPANIC\"?"
   ]
  },
  {
   "cell_type": "code",
   "execution_count": 82,
   "metadata": {},
   "outputs": [
    {
     "data": {
      "text/plain": [
       "14392"
      ]
     },
     "execution_count": 82,
     "metadata": {},
     "output_type": "execute_result"
    }
   ],
   "source": [
    "len(df_neiss[df_neiss['race_other'].str.contains('HISPANIC', na=False)])"
   ]
  },
  {
   "cell_type": "markdown",
   "metadata": {},
   "source": [
    "## What are the top 5 most popular \"other\" races?"
   ]
  },
  {
   "cell_type": "code",
   "execution_count": 83,
   "metadata": {},
   "outputs": [
    {
     "data": {
      "text/plain": [
       "HISPANIC        14389\n",
       "MULTI-RACIAL     1727\n",
       "UNKNOWN          1554\n",
       "HISP             1334\n",
       "NS                495\n",
       "Name: race_other, dtype: int64"
      ]
     },
     "execution_count": 83,
     "metadata": {},
     "output_type": "execute_result"
    }
   ],
   "source": [
    "df_neiss['race_other'].value_counts().nlargest(5)"
   ]
  },
  {
   "cell_type": "markdown",
   "metadata": {},
   "source": [
    "## Searching for multiracial patients\n",
    "\n",
    "Wow, this data entry is terrible. “Multiracial” is spelled as **MULT RACIAL**, **MULTIPLE RACIAL**, and many more. How many different spellings can you find? **Use only one line to find the spellings.**\n",
    "\n",
    "- Tip: Be sure to **ignore the na values**.\n",
    "- Tip: You should probably find the multiracial-ish rows and then `value_counts` their `other_race`\n",
    "- Tip: Maybe... ask me about .str.contains support for regular expressions?"
   ]
  },
  {
   "cell_type": "code",
   "execution_count": 93,
   "metadata": {},
   "outputs": [
    {
     "data": {
      "text/plain": [
       "['MULTIRACIAL']"
      ]
     },
     "execution_count": 93,
     "metadata": {},
     "output_type": "execute_result"
    }
   ],
   "source": [
    "list(df_neiss[df_neiss['race_other'].str.contains(r'^MULTI.*', na=False)]['race_other'].unique())"
   ]
  },
  {
   "cell_type": "markdown",
   "metadata": {},
   "source": [
    "## Replace all of those spellings with “MULTIRACIAL.”\n",
    "\n",
    "Confirm that you’ve ended up with about 1900 MULTIRACIAL rows (yours might be anywhere between 1899-1910, depending on how many spellings you caught)"
   ]
  },
  {
   "cell_type": "code",
   "execution_count": 88,
   "metadata": {
    "collapsed": true
   },
   "outputs": [],
   "source": [
    "df_neiss['race_other'].replace(r'^MULTI.*', 'MULTIRACIAL', inplace=True, regex=True)"
   ]
  },
  {
   "cell_type": "code",
   "execution_count": 89,
   "metadata": {},
   "outputs": [
    {
     "data": {
      "text/plain": [
       "1909"
      ]
     },
     "execution_count": 89,
     "metadata": {},
     "output_type": "execute_result"
    }
   ],
   "source": [
    "len(df_neiss[df_neiss['race_other'] == 'MULTIRACIAL'])"
   ]
  },
  {
   "cell_type": "markdown",
   "metadata": {},
   "source": [
    "## Do the same thing with misspellings of \"Unknown\"\n",
    "\n",
    "You should end up with around 1660-1670 UNKNOWN entries"
   ]
  },
  {
   "cell_type": "code",
   "execution_count": 90,
   "metadata": {
    "collapsed": true
   },
   "outputs": [],
   "source": [
    "df_neiss['race_other'].replace(r'^UN?KN.*', 'UNKNOWN', inplace=True, regex=True)"
   ]
  },
  {
   "cell_type": "code",
   "execution_count": 91,
   "metadata": {},
   "outputs": [
    {
     "data": {
      "text/plain": [
       "1677"
      ]
     },
     "execution_count": 91,
     "metadata": {},
     "output_type": "execute_result"
    }
   ],
   "source": [
    "len(df_neiss[df_neiss['race_other'] == 'UNKNOWN'])"
   ]
  },
  {
   "cell_type": "markdown",
   "metadata": {},
   "source": [
    "## What variations on HISPANIC can you find? Standardize them to HISPANIC."
   ]
  },
  {
   "cell_type": "code",
   "execution_count": 92,
   "metadata": {},
   "outputs": [
    {
     "name": "stderr",
     "output_type": "stream",
     "text": [
      "/usr/local/lib/python3.6/site-packages/ipykernel_launcher.py:1: UserWarning: This pattern has match groups. To actually get the groups, use str.extract.\n",
      "  \"\"\"Entry point for launching an IPython kernel.\n"
     ]
    },
    {
     "data": {
      "text/plain": [
       "['HISPANIC',\n",
       " 'HISP',\n",
       " 'HISPANI',\n",
       " 'HISPAANIC',\n",
       " 'HISPPANIC',\n",
       " 'HISPAINC',\n",
       " 'HISPNIC',\n",
       " 'HISPANIE',\n",
       " 'HISPNANIC',\n",
       " 'HISPANIC S/P B',\n",
       " 'HISPAINIC',\n",
       " 'HISPANIC/LATINO']"
      ]
     },
     "execution_count": 92,
     "metadata": {},
     "output_type": "execute_result"
    }
   ],
   "source": [
    "list(df_neiss[df_neiss['race_other'].str.contains(r'^HISP.*(ANIC)?', na=False)]['race_other'].unique())"
   ]
  },
  {
   "cell_type": "code",
   "execution_count": 94,
   "metadata": {
    "collapsed": true
   },
   "outputs": [],
   "source": [
    "df_neiss['race_other'].replace(r'^HISP.*(ANIC)?', 'HISPANIC', inplace=True, regex=True)"
   ]
  },
  {
   "cell_type": "markdown",
   "metadata": {},
   "source": [
    "## Now try counting the number of hispanic people again."
   ]
  },
  {
   "cell_type": "code",
   "execution_count": 95,
   "metadata": {},
   "outputs": [
    {
     "data": {
      "text/plain": [
       "15735"
      ]
     },
     "execution_count": 95,
     "metadata": {},
     "output_type": "execute_result"
    }
   ],
   "source": [
    "len(df_neiss[df_neiss['race_other'] == 'HISPANIC'])"
   ]
  },
  {
   "cell_type": "markdown",
   "metadata": {},
   "source": [
    "## Seems like a lot! Update their race column to be ‘Hispanic’ instead of “Other”\n",
    "\n",
    "You'll try to do this using skills you know, but pandas will probably yell at you. You get to learn this new thing called `loc` now! \n",
    "\n",
    "```\n",
    "df.loc[df.country == 'Angola', \"continent\"] = \"Africa\"\n",
    "```\n",
    "\n",
    "This updates the `continent` column to be `Africa` for every row where `country == 'Angola'`. You CANNOT do the following, which is probably what you've wanted to do:\n",
    "\n",
    "```\n",
    "df[df.country == 'Angola']['continent'] = 'Africa'\n",
    "```\n",
    "\n",
    "And now you know."
   ]
  },
  {
   "cell_type": "code",
   "execution_count": 96,
   "metadata": {
    "collapsed": true
   },
   "outputs": [],
   "source": [
    "df_neiss.loc[df_neiss.race_other == 'HISPANIC', 'race'] = 'HISPANIC'"
   ]
  },
  {
   "cell_type": "markdown",
   "metadata": {},
   "source": [
    "## Graph the frequency of each race in the dataset"
   ]
  },
  {
   "cell_type": "code",
   "execution_count": 97,
   "metadata": {},
   "outputs": [
    {
     "data": {
      "text/plain": [
       "White                               145131\n",
       "Black/African American               48848\n",
       "HISPANIC                             15735\n",
       "Asian                                 4124\n",
       "Other                                 3936\n",
       "American Indian/Alaska Native          998\n",
       "Native Hawaiian/Pacific Islander       364\n",
       "Name: race, dtype: int64"
      ]
     },
     "execution_count": 97,
     "metadata": {},
     "output_type": "execute_result"
    }
   ],
   "source": [
    "df_neiss['race'].value_counts()"
   ]
  },
  {
   "cell_type": "markdown",
   "metadata": {},
   "source": [
    "## Find every injury involving unicycles."
   ]
  },
  {
   "cell_type": "code",
   "execution_count": 104,
   "metadata": {},
   "outputs": [
    {
     "data": {
      "text/html": [
       "<div>\n",
       "<style>\n",
       "    .dataframe thead tr:only-child th {\n",
       "        text-align: right;\n",
       "    }\n",
       "\n",
       "    .dataframe thead th {\n",
       "        text-align: left;\n",
       "    }\n",
       "\n",
       "    .dataframe tbody tr th {\n",
       "        vertical-align: top;\n",
       "    }\n",
       "</style>\n",
       "<table border=\"1\" class=\"dataframe\">\n",
       "  <thead>\n",
       "    <tr style=\"text-align: right;\">\n",
       "      <th></th>\n",
       "      <th>CPSC Case #</th>\n",
       "      <th>trmt_date</th>\n",
       "      <th>psu</th>\n",
       "      <th>weight</th>\n",
       "      <th>stratum</th>\n",
       "      <th>age</th>\n",
       "      <th>sex</th>\n",
       "      <th>race</th>\n",
       "      <th>race_other</th>\n",
       "      <th>diag</th>\n",
       "      <th>diag_other</th>\n",
       "      <th>body_part</th>\n",
       "      <th>disposition</th>\n",
       "      <th>location</th>\n",
       "      <th>fmv</th>\n",
       "      <th>prod1</th>\n",
       "      <th>prod2</th>\n",
       "      <th>narr1</th>\n",
       "      <th>narr2</th>\n",
       "    </tr>\n",
       "  </thead>\n",
       "  <tbody>\n",
       "    <tr>\n",
       "      <th>4171</th>\n",
       "      <td>150744255</td>\n",
       "      <td>06/23/2015</td>\n",
       "      <td>8</td>\n",
       "      <td>5.6748</td>\n",
       "      <td>C</td>\n",
       "      <td>12</td>\n",
       "      <td>2</td>\n",
       "      <td>White</td>\n",
       "      <td>NaN</td>\n",
       "      <td>57</td>\n",
       "      <td>NaN</td>\n",
       "      <td>33</td>\n",
       "      <td>1</td>\n",
       "      <td>0</td>\n",
       "      <td>0</td>\n",
       "      <td>1283</td>\n",
       "      <td>NaN</td>\n",
       "      <td>12YOF FELL OFF A UNICYCLE; FOREARM FX.</td>\n",
       "      <td>NaN</td>\n",
       "    </tr>\n",
       "    <tr>\n",
       "      <th>46499</th>\n",
       "      <td>150502967</td>\n",
       "      <td>04/22/2015</td>\n",
       "      <td>41</td>\n",
       "      <td>15.0591</td>\n",
       "      <td>V</td>\n",
       "      <td>62</td>\n",
       "      <td>1</td>\n",
       "      <td>NaN</td>\n",
       "      <td>NaN</td>\n",
       "      <td>57</td>\n",
       "      <td>NaN</td>\n",
       "      <td>33</td>\n",
       "      <td>4</td>\n",
       "      <td>9</td>\n",
       "      <td>0</td>\n",
       "      <td>1283</td>\n",
       "      <td>NaN</td>\n",
       "      <td>62YOM RIDING A UNICYCLE AT THE PARK AND FELL. ...</td>\n",
       "      <td>NaN</td>\n",
       "    </tr>\n",
       "    <tr>\n",
       "      <th>51052</th>\n",
       "      <td>150337697</td>\n",
       "      <td>03/15/2015</td>\n",
       "      <td>67</td>\n",
       "      <td>15.0591</td>\n",
       "      <td>V</td>\n",
       "      <td>9</td>\n",
       "      <td>2</td>\n",
       "      <td>NaN</td>\n",
       "      <td>NaN</td>\n",
       "      <td>71</td>\n",
       "      <td>ARM PAIN</td>\n",
       "      <td>33</td>\n",
       "      <td>1</td>\n",
       "      <td>8</td>\n",
       "      <td>0</td>\n",
       "      <td>1283</td>\n",
       "      <td>NaN</td>\n",
       "      <td>DX PN RT ARM 9YOF PATIENT WITH RT ARM PN SHE H...</td>\n",
       "      <td>FELL OFF UNICYCLE AT SCHOOL  NOW WITH ARM PAIN RT</td>\n",
       "    </tr>\n",
       "    <tr>\n",
       "      <th>119639</th>\n",
       "      <td>151223619</td>\n",
       "      <td>12/08/2015</td>\n",
       "      <td>51</td>\n",
       "      <td>74.8813</td>\n",
       "      <td>L</td>\n",
       "      <td>56</td>\n",
       "      <td>1</td>\n",
       "      <td>Black/African American</td>\n",
       "      <td>NaN</td>\n",
       "      <td>71</td>\n",
       "      <td>PAIN</td>\n",
       "      <td>35</td>\n",
       "      <td>6</td>\n",
       "      <td>0</td>\n",
       "      <td>0</td>\n",
       "      <td>1283</td>\n",
       "      <td>1807.0</td>\n",
       "      <td>56 YO M PT WAS TRYING TO TEACH A COUPLE OF KID...</td>\n",
       "      <td>FELL BACKWARDS ONTO FLOOR C/O LEFT KNEE PAIN W...</td>\n",
       "    </tr>\n",
       "    <tr>\n",
       "      <th>180961</th>\n",
       "      <td>150919495</td>\n",
       "      <td>08/18/2015</td>\n",
       "      <td>93</td>\n",
       "      <td>15.7762</td>\n",
       "      <td>V</td>\n",
       "      <td>52</td>\n",
       "      <td>1</td>\n",
       "      <td>White</td>\n",
       "      <td>NaN</td>\n",
       "      <td>53</td>\n",
       "      <td>NaN</td>\n",
       "      <td>79</td>\n",
       "      <td>1</td>\n",
       "      <td>4</td>\n",
       "      <td>0</td>\n",
       "      <td>1283</td>\n",
       "      <td>NaN</td>\n",
       "      <td>52 YOM WAS UNICYCLING DOWN STREET WHEN HE WAS ...</td>\n",
       "      <td>AT LOW SPEED.  DX:  COCCYGEAL CONT.</td>\n",
       "    </tr>\n",
       "  </tbody>\n",
       "</table>\n",
       "</div>"
      ],
      "text/plain": [
       "        CPSC Case #   trmt_date  psu   weight stratum  age  sex  \\\n",
       "4171      150744255  06/23/2015    8   5.6748       C   12    2   \n",
       "46499     150502967  04/22/2015   41  15.0591       V   62    1   \n",
       "51052     150337697  03/15/2015   67  15.0591       V    9    2   \n",
       "119639    151223619  12/08/2015   51  74.8813       L   56    1   \n",
       "180961    150919495  08/18/2015   93  15.7762       V   52    1   \n",
       "\n",
       "                          race race_other  diag diag_other  body_part  \\\n",
       "4171                     White        NaN    57        NaN         33   \n",
       "46499                      NaN        NaN    57        NaN         33   \n",
       "51052                      NaN        NaN    71   ARM PAIN         33   \n",
       "119639  Black/African American        NaN    71       PAIN         35   \n",
       "180961                   White        NaN    53        NaN         79   \n",
       "\n",
       "        disposition  location  fmv  prod1   prod2  \\\n",
       "4171              1         0    0   1283     NaN   \n",
       "46499             4         9    0   1283     NaN   \n",
       "51052             1         8    0   1283     NaN   \n",
       "119639            6         0    0   1283  1807.0   \n",
       "180961            1         4    0   1283     NaN   \n",
       "\n",
       "                                                    narr1  \\\n",
       "4171               12YOF FELL OFF A UNICYCLE; FOREARM FX.   \n",
       "46499   62YOM RIDING A UNICYCLE AT THE PARK AND FELL. ...   \n",
       "51052   DX PN RT ARM 9YOF PATIENT WITH RT ARM PN SHE H...   \n",
       "119639  56 YO M PT WAS TRYING TO TEACH A COUPLE OF KID...   \n",
       "180961  52 YOM WAS UNICYCLING DOWN STREET WHEN HE WAS ...   \n",
       "\n",
       "                                                    narr2  \n",
       "4171                                                  NaN  \n",
       "46499                                                 NaN  \n",
       "51052   FELL OFF UNICYCLE AT SCHOOL  NOW WITH ARM PAIN RT  \n",
       "119639  FELL BACKWARDS ONTO FLOOR C/O LEFT KNEE PAIN W...  \n",
       "180961                AT LOW SPEED.  DX:  COCCYGEAL CONT.  "
      ]
     },
     "execution_count": 104,
     "metadata": {},
     "output_type": "execute_result"
    }
   ],
   "source": [
    "df_unicyles = df_neiss[(df_neiss['prod1'] == 1283) | (df_neiss['prod2'] == 1283)]\n",
    "df_unicyles"
   ]
  },
  {
   "cell_type": "markdown",
   "metadata": {},
   "source": [
    "## What is the racial breakdown of people involved in unicycle accidents?\n",
    "\n",
    "I want a **percentage**, and I want that percentage to include unknowns/NaN values."
   ]
  },
  {
   "cell_type": "code",
   "execution_count": 110,
   "metadata": {},
   "outputs": [
    {
     "data": {
      "text/plain": [
       "White                     0.4\n",
       "NaN                       0.4\n",
       "Black/African American    0.2\n",
       "Name: race, dtype: float64"
      ]
     },
     "execution_count": 110,
     "metadata": {},
     "output_type": "execute_result"
    }
   ],
   "source": [
    "df_unicyles['race'].value_counts(dropna=False, normalize=True)"
   ]
  },
  {
   "cell_type": "code",
   "execution_count": 114,
   "metadata": {},
   "outputs": [
    {
     "data": {
      "text/plain": [
       "White                     40%\n",
       "NaN                       40%\n",
       "Black/African American    20%\n",
       "Name: race, dtype: object"
      ]
     },
     "execution_count": 114,
     "metadata": {},
     "output_type": "execute_result"
    }
   ],
   "source": [
    "# or\n",
    "df_unicyles['race'].value_counts(dropna=False).apply(lambda x: str(round(x/len(df_unicyles) * 100)) + '%')"
   ]
  },
  {
   "cell_type": "markdown",
   "metadata": {},
   "source": [
    "## How about injuries with toboggans?\n",
    "\n",
    "Is the racial breakdown significantly different than the racial breakdown of all patients?"
   ]
  },
  {
   "cell_type": "code",
   "execution_count": 117,
   "metadata": {},
   "outputs": [
    {
     "data": {
      "text/plain": [
       "NaN         56%\n",
       "White       33%\n",
       "HISPANIC    11%\n",
       "Name: race, dtype: object"
      ]
     },
     "execution_count": 117,
     "metadata": {},
     "output_type": "execute_result"
    }
   ],
   "source": [
    "df_toboggans = df_neiss[(df_neiss['prod1'] == 1273) | (df_neiss['prod2'] == 1273)]\n",
    "df_toboggans['race'].value_counts(dropna=False).apply(lambda x: str(round(x/len(df_toboggans) * 100)) + '%')"
   ]
  },
  {
   "cell_type": "markdown",
   "metadata": {},
   "source": [
    "## Find the top 5 most dangerous products\n",
    "\n",
    "Just use the `prod1` column."
   ]
  },
  {
   "cell_type": "code",
   "execution_count": 119,
   "metadata": {},
   "outputs": [
    {
     "data": {
      "text/plain": [
       "1842    28609\n",
       "1807    28255\n",
       "4076    16707\n",
       "1205    14095\n",
       "5040    12737\n",
       "Name: prod1, dtype: int64"
      ]
     },
     "execution_count": 119,
     "metadata": {},
     "output_type": "execute_result"
    }
   ],
   "source": [
    "df_neiss['prod1'].value_counts().nlargest(5)"
   ]
  },
  {
   "cell_type": "markdown",
   "metadata": {},
   "source": [
    "## Find the top 5 most dangerous products by race\n",
    "\n",
    "This is that weird groupby thing that you can either memorize or cut and paste every time. If you ask I'll tell it to you and you won't have to search!"
   ]
  },
  {
   "cell_type": "code",
   "execution_count": 130,
   "metadata": {},
   "outputs": [
    {
     "data": {
      "text/plain": [
       "race                              prod1  race                            \n",
       "American Indian/Alaska Native     1807   American Indian/Alaska Native          92\n",
       "                                  1842   American Indian/Alaska Native          70\n",
       "                                  5040   American Indian/Alaska Native          58\n",
       "                                  4076   American Indian/Alaska Native          52\n",
       "                                  1205   American Indian/Alaska Native          31\n",
       "Asian                             1842   Asian                                 310\n",
       "                                  1807   Asian                                 253\n",
       "                                  4076   Asian                                 219\n",
       "                                  1205   Asian                                 203\n",
       "                                  5040   Asian                                 198\n",
       "Black/African American            1842   Black/African American               4377\n",
       "                                  1205   Black/African American               4249\n",
       "                                  1211   Black/African American               3030\n",
       "                                  1807   Black/African American               2608\n",
       "                                  4076   Black/African American               2292\n",
       "HISPANIC                          1842   HISPANIC                             1024\n",
       "                                  1267   HISPANIC                              880\n",
       "                                  4076   HISPANIC                              851\n",
       "                                  1807   HISPANIC                              836\n",
       "                                  5040   HISPANIC                              642\n",
       "Native Hawaiian/Pacific Islander  1842   Native Hawaiian/Pacific Islander       28\n",
       "                                  1807   Native Hawaiian/Pacific Islander       27\n",
       "                                  1211   Native Hawaiian/Pacific Islander       20\n",
       "                                  1205   Native Hawaiian/Pacific Islander       16\n",
       "                                  5040   Native Hawaiian/Pacific Islander       15\n",
       "Other                             1842   Other                                 224\n",
       "                                  4076   Other                                 184\n",
       "                                  1205   Other                                 177\n",
       "                                  1807   Other                                 173\n",
       "                                  1267   Other                                 169\n",
       "White                             1807   White                               11649\n",
       "                                  1842   White                               11302\n",
       "                                  4076   White                                6454\n",
       "                                  5040   White                                4975\n",
       "                                  1211   White                                4088\n",
       "Name: race, dtype: int64"
      ]
     },
     "execution_count": 130,
     "metadata": {},
     "output_type": "execute_result"
    }
   ],
   "source": [
    "df_neiss.groupby('prod1')['race'].value_counts().groupby(level=1).nlargest(5)"
   ]
  },
  {
   "cell_type": "code",
   "execution_count": null,
   "metadata": {
    "collapsed": true
   },
   "outputs": [],
   "source": []
  }
 ],
 "metadata": {
  "kernelspec": {
   "display_name": "Python 3",
   "language": "python",
   "name": "python3"
  },
  "language_info": {
   "codemirror_mode": {
    "name": "ipython",
    "version": 3
   },
   "file_extension": ".py",
   "mimetype": "text/x-python",
   "name": "python",
   "nbconvert_exporter": "python",
   "pygments_lexer": "ipython3",
   "version": "3.6.1"
  }
 },
 "nbformat": 4,
 "nbformat_minor": 2
}
