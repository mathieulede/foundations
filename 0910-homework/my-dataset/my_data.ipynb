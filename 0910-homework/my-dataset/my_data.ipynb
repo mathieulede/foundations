{
 "cells": [
  {
   "cell_type": "code",
   "execution_count": 3,
   "metadata": {
    "collapsed": true
   },
   "outputs": [],
   "source": [
    "import pandas as pd"
   ]
  },
  {
   "cell_type": "markdown",
   "metadata": {},
   "source": [
    "## 1. Where did the dataset come from?\n"
   ]
  },
  {
   "cell_type": "code",
   "execution_count": null,
   "metadata": {
    "collapsed": true
   },
   "outputs": [],
   "source": [
    "# Swiss administration\n",
    "# http://www.valeursnutritives.ch/request?xml=MessageData&xml=MetaData&xsl=Download&lan=en&pageKey=Start\n",
    "\n",
    "# The Swiss Food Composition Database is a data collection of the Federal Food Safety and Veterinary Office \n",
    "# FSVO on the composition of foods that are available in Switzerland.\n",
    "# The data collection can be consulted on this website free of charge by all interested parties.\n",
    "# All data may be used for both commercial and scientific purposes by acknowledging the source."
   ]
  },
  {
   "cell_type": "markdown",
   "metadata": {},
   "source": [
    "## 2. If I had questions about this dataset, who would I ask?"
   ]
  },
  {
   "cell_type": "code",
   "execution_count": null,
   "metadata": {
    "collapsed": true
   },
   "outputs": [],
   "source": [
    "# There is a contact link on the web page that provides the dataset\n",
    "# http://www.valeursnutritives.ch/request?contact=mail&xml=MessageData&xml=MetaData&xsl=Contact&lan=en&name=&mail=&organisation=&message=&status=call"
   ]
  },
  {
   "cell_type": "markdown",
   "metadata": {},
   "source": [
    "## 3. Open the dataset using pandas."
   ]
  },
  {
   "cell_type": "code",
   "execution_count": 21,
   "metadata": {},
   "outputs": [],
   "source": [
    "df = pd.read_excel('swiss_food.xlsx', skiprows=2, sheetname='Branded Foods')"
   ]
  },
  {
   "cell_type": "markdown",
   "metadata": {},
   "source": [
    "## 4. How many columns and rows does it have?"
   ]
  },
  {
   "cell_type": "code",
   "execution_count": 23,
   "metadata": {},
   "outputs": [
    {
     "data": {
      "text/plain": [
       "(9618, 202)"
      ]
     },
     "execution_count": 23,
     "metadata": {},
     "output_type": "execute_result"
    }
   ],
   "source": [
    "df.shape"
   ]
  },
  {
   "cell_type": "markdown",
   "metadata": {},
   "source": [
    "## 5. What are the data types of each column?"
   ]
  },
  {
   "cell_type": "code",
   "execution_count": 19,
   "metadata": {},
   "outputs": [
    {
     "data": {
      "text/plain": [
       "ID                      int64\n",
       "ID V 4.0              float64\n",
       "ID SwissFIR           float64\n",
       "name D                 object\n",
       "synonyms D             object\n",
       "name F                 object\n",
       "synonyms F             object\n",
       "name I                 object\n",
       "synonyms I             object\n",
       "name E                 object\n",
       "synonyms E             object\n",
       "category D             object\n",
       "category F             object\n",
       "category I             object\n",
       "category E             object\n",
       "specific gravity      float64\n",
       "energy kJ               int64\n",
       "unit                   object\n",
       "matrix unit            object\n",
       "value type             object\n",
       "source                 object\n",
       "energy kcal             int64\n",
       "unit.1                 object\n",
       "matrix unit.1          object\n",
       "value type.1           object\n",
       "source.1               object\n",
       "protein               float64\n",
       "unit.2                 object\n",
       "matrix unit.2          object\n",
       "value type.2           object\n",
       "                       ...   \n",
       "unit.31                object\n",
       "matrix unit.31         object\n",
       "value type.31          object\n",
       "source.31              object\n",
       "magnesium (Mg)        float64\n",
       "unit.32                object\n",
       "matrix unit.32         object\n",
       "value type.32          object\n",
       "source.32              object\n",
       "phosphorus (P)        float64\n",
       "unit.33                object\n",
       "matrix unit.33         object\n",
       "value type.33          object\n",
       "source.33              object\n",
       "iron (Fe)             float64\n",
       "unit.34                object\n",
       "matrix unit.34         object\n",
       "value type.34          object\n",
       "source.34              object\n",
       "iodide (I)            float64\n",
       "unit.35                object\n",
       "matrix unit.35         object\n",
       "value type.35          object\n",
       "source.35              object\n",
       "zinc (Zn)             float64\n",
       "unit.36                object\n",
       "matrix unit.36         object\n",
       "value type.36          object\n",
       "source.36              object\n",
       "record has changed       bool\n",
       "Length: 202, dtype: object"
      ]
     },
     "execution_count": 19,
     "metadata": {},
     "output_type": "execute_result"
    }
   ],
   "source": [
    "df.dtypes"
   ]
  },
  {
   "cell_type": "markdown",
   "metadata": {},
   "source": [
    "## 6. Tell me what four of the columns mean, and state whether you made up the definitions or used a data dictionary."
   ]
  },
  {
   "cell_type": "code",
   "execution_count": null,
   "metadata": {
    "collapsed": true
   },
   "outputs": [],
   "source": [
    "# I didn't find any data dictionary\n",
    "\n",
    "# 1. name E\n",
    "# Name of the food in english\n",
    "\n",
    "# 2. category E\n",
    "# Type of the food\n",
    "\n",
    "# 3. protein\n",
    "# Quantity of proetins per 100g\n",
    "\n",
    "# 4. value type\n",
    "# How the value of the nutriment has been acquired"
   ]
  },
  {
   "cell_type": "markdown",
   "metadata": {},
   "source": [
    "## 7. Write five questions you could ask the data. A simple way to ask decent questions is comparing a measurement across two subgroups. For example, \"how do points scored in basketball in the 1950's compare to the 1990's,\" \"how often do women punch walls vs. men punch walls?\""
   ]
  },
  {
   "cell_type": "code",
   "execution_count": 35,
   "metadata": {},
   "outputs": [],
   "source": [
    "# 1. What is the nutritive difference between culture-branded foods\n",
    "# 2. What is the distribution of sugars among yogourts\n",
    "# 3. What is the product with the highest level of alcohol\n",
    "# 4. What is the darkest chocolate\n",
    "# 5. Are the expensive prepared dishes healthier thant the cheapest ones?"
   ]
  },
  {
   "cell_type": "markdown",
   "metadata": {},
   "source": [
    "## 8. Try to ask the data those five questions."
   ]
  },
  {
   "cell_type": "code",
   "execution_count": 51,
   "metadata": {},
   "outputs": [
    {
     "data": {
      "text/plain": [
       "category E\n",
       "Prepared dishes/Asian dishes            6.049587\n",
       "Prepared dishes/Italian dishes          6.187761\n",
       "Prepared dishes/Other savoury dishes    7.668519\n",
       "Name: fat, total, dtype: float64"
      ]
     },
     "execution_count": 51,
     "metadata": {},
     "output_type": "execute_result"
    }
   ],
   "source": [
    "# 1. Are the italian branded foods really less fatty and salty than the asian ones?\n",
    "\n",
    "(df[\n",
    "    (df['category E'] == 'Prepared dishes/Asian dishes') | \n",
    "    (df['category E'] == 'Prepared dishes/Italian dishes') |\n",
    "    (df['category E'] == 'Prepared dishes/Other savoury dishes')]\n",
    " .groupby('category E')['fat, total'].mean())"
   ]
  },
  {
   "cell_type": "code",
   "execution_count": 52,
   "metadata": {
    "scrolled": true
   },
   "outputs": [
    {
     "data": {
      "text/plain": [
       "category E\n",
       "Prepared dishes/Asian dishes            468.793103\n",
       "Prepared dishes/Italian dishes          509.292169\n",
       "Prepared dishes/Other savoury dishes    511.046693\n",
       "Name: sodium (Na), dtype: float64"
      ]
     },
     "execution_count": 52,
     "metadata": {},
     "output_type": "execute_result"
    }
   ],
   "source": [
    "(df[\n",
    "    (df['category E'] == 'Prepared dishes/Asian dishes') | \n",
    "    (df['category E'] == 'Prepared dishes/Italian dishes') |\n",
    "    (df['category E'] == 'Prepared dishes/Other savoury dishes')]\n",
    " .groupby('category E')['sodium (Na)'].mean())"
   ]
  },
  {
   "cell_type": "code",
   "execution_count": 87,
   "metadata": {},
   "outputs": [
    {
     "data": {
      "text/plain": [
       "<matplotlib.axes._subplots.AxesSubplot at 0x114f55358>"
      ]
     },
     "execution_count": 87,
     "metadata": {},
     "output_type": "execute_result"
    },
    {
     "data": {
      "image/png": "[encoded data removed]",
      "text/plain": [
       "<matplotlib.figure.Figure at 0x114f138d0>"
      ]
     },
     "metadata": {},
     "output_type": "display_data"
    }
   ],
   "source": [
    "# 2. What is the distribution of sugars among yogourts\n",
    "%matplotlib inline\n",
    "(df[\n",
    "    (df['category E'] == 'Milk and dairy products/Milk and yoghurt beverages')]['sugars'].hist(bins=10))"
   ]
  },
  {
   "cell_type": "code",
   "execution_count": 88,
   "metadata": {},
   "outputs": [
    {
     "data": {
      "text/html": [
       "<div>\n",
       "<style>\n",
       "    .dataframe thead tr:only-child th {\n",
       "        text-align: right;\n",
       "    }\n",
       "\n",
       "    .dataframe thead th {\n",
       "        text-align: left;\n",
       "    }\n",
       "\n",
       "    .dataframe tbody tr th {\n",
       "        vertical-align: top;\n",
       "    }\n",
       "</style>\n",
       "<table border=\"1\" class=\"dataframe\">\n",
       "  <thead>\n",
       "    <tr style=\"text-align: right;\">\n",
       "      <th></th>\n",
       "      <th>name E</th>\n",
       "      <th>alcohol</th>\n",
       "    </tr>\n",
       "  </thead>\n",
       "  <tbody>\n",
       "    <tr>\n",
       "      <th>6582</th>\n",
       "      <td>Pastis 51 de Marseille (45 vol%)</td>\n",
       "      <td>35.5</td>\n",
       "    </tr>\n",
       "    <tr>\n",
       "      <th>11</th>\n",
       "      <td>Aberlour 10 years old Malt Scotch Whisky (43 v...</td>\n",
       "      <td>34.0</td>\n",
       "    </tr>\n",
       "    <tr>\n",
       "      <th>3144</th>\n",
       "      <td>Four Roses Bourbon (40 vol%)</td>\n",
       "      <td>31.7</td>\n",
       "    </tr>\n",
       "  </tbody>\n",
       "</table>\n",
       "</div>"
      ],
      "text/plain": [
       "                                                 name E  alcohol\n",
       "6582                   Pastis 51 de Marseille (45 vol%)     35.5\n",
       "11    Aberlour 10 years old Malt Scotch Whisky (43 v...     34.0\n",
       "3144                       Four Roses Bourbon (40 vol%)     31.7"
      ]
     },
     "execution_count": 88,
     "metadata": {},
     "output_type": "execute_result"
    }
   ],
   "source": [
    "# 3. What is the alcoholic beverage with the highest percentage of alcohol\n",
    "df.nlargest(3, 'alcohol')[['name E', 'alcohol']]"
   ]
  },
  {
   "cell_type": "code",
   "execution_count": 89,
   "metadata": {},
   "outputs": [
    {
     "data": {
      "text/plain": [
       "9494       Weight Watchers Tablet chocolate Crispy (Coop)\n",
       "9495         Weight Watchers Tablet chocolate Milk (Coop)\n",
       "7667    Qualité&Prix Max Havelaar Tablet chocolate Dar...\n",
       "Name: name E, dtype: object"
      ]
     },
     "execution_count": 89,
     "metadata": {},
     "output_type": "execute_result"
    }
   ],
   "source": [
    "# 4. What is the darkest chocolate\n",
    "df[df['category E'] == 'Sweets/Chocolate and cocoa products'].nsmallest(3, 'sugars')['name E']"
   ]
  },
  {
   "cell_type": "code",
   "execution_count": null,
   "metadata": {
    "collapsed": true
   },
   "outputs": [],
   "source": [
    "# 5. Compare three different sets of prepared dishes"
   ]
  },
  {
   "cell_type": "code",
   "execution_count": 142,
   "metadata": {},
   "outputs": [
    {
     "data": {
      "text/plain": [
       "fat, total    9.240000\n",
       "sugars        4.159302\n",
       "dtype: float64"
      ]
     },
     "execution_count": 142,
     "metadata": {},
     "output_type": "execute_result"
    }
   ],
   "source": [
    "# Nestle\n",
    "(df[\n",
    "    (df['name E'].str.contains('Nestlé', case=False)) & \n",
    "    (df['category E'].str.contains('Prepared dishes'))][['fat, total', 'sugars']].mean())"
   ]
  },
  {
   "cell_type": "code",
   "execution_count": 143,
   "metadata": {},
   "outputs": [
    {
     "data": {
      "text/plain": [
       "fat, total    6.446429\n",
       "sugars        2.282143\n",
       "dtype: float64"
      ]
     },
     "execution_count": 143,
     "metadata": {},
     "output_type": "execute_result"
    }
   ],
   "source": [
    "# Cheapests\n",
    "(df[\n",
    "    (df['name E'].str.contains('m-budget', case=False)) & \n",
    "    (df['category E'].str.contains('Prepared dishes'))][['fat, total', 'sugars']].mean())"
   ]
  },
  {
   "cell_type": "code",
   "execution_count": 147,
   "metadata": {},
   "outputs": [
    {
     "data": {
      "text/plain": [
       "Sweets/Chocolate and cocoa products                                                           73\n",
       "Sweets/Milk based ice cream                                                                   58\n",
       "Various/Salt, spices and flavours                                                             44\n",
       "Various/Sauces                                                                                33\n",
       "Prepared dishes/Italian dishes                                                                32\n",
       "Prepared dishes/Other savoury dishes                                                          25\n",
       "Non-alcoholic beverages/Coffee                                                                23\n",
       "Prepared dishes/Stews and soups                                                               22\n",
       "Vegetables/Frozen vegetables                                                                  18\n",
       "Fats and oils/Salad dressings                                                                 17\n",
       "Non-alcoholic beverages/Coffee;Milk and dairy products/Milk and yoghurt beverages             16\n",
       "Fats and oils/Mayonnaise                                                                      15\n",
       "Cereal products, pulses and potatoes/Dough                                                    15\n",
       "Sweets/Bars                                                                                   13\n",
       "Bread, flakes and breakfast cereals/Muesli mixes and breakfast cereals                         9\n",
       "Cereal products, pulses and potatoes/Potatoes                                                  8\n",
       "Sweets/Water based ice cream                                                                   8\n",
       "Prepared dishes/Asian dishes                                                                   7\n",
       "Sweets/Cookies/Biscuits                                                                        7\n",
       "Various/Spreads                                                                                5\n",
       "Fish/Sea fish                                                                                  5\n",
       "Fruit/Frozen fruit                                                                             4\n",
       "Sweets/Creams and puddings                                                                     4\n",
       "Sweets/Cakes and tarts                                                                         3\n",
       "Non-alcoholic beverages/Cocoa beverages;Milk and dairy products/Milk and yoghurt beverages     3\n",
       "Meat and offal/Poultry                                                                         3\n",
       "Non-alcoholic beverages/Tea;Milk and dairy products/Milk and yoghurt beverages                 2\n",
       "Sweets/Chocolate and cocoa products;Non-alcoholic beverages/Cocoa beverages                    2\n",
       "Savoury snacks/Puff pastry snacks                                                              2\n",
       "Non-alcoholic beverages/Cocoa beverages;Sweets/Chocolate and cocoa products                    2\n",
       "Non-alcoholic beverages/Soft drinks;Non-alcoholic beverages/Tea                                2\n",
       "Prepared dishes/Fast Food                                                                      2\n",
       "Vegetables/Cooked vegetables (incl. cans)                                                      2\n",
       "Bread, flakes and breakfast cereals/Bread and bread products                                   1\n",
       "Cereal products, pulses and potatoes/Pasta                                                     1\n",
       "Sweets/Other sweet pastries                                                                    1\n",
       "Meat and offal/Beef                                                                            1\n",
       "Sweets/Other sweets                                                                            1\n",
       "Cereal products, pulses and potatoes/Corn                                                      1\n",
       "Prepared dishes/Cakes, pies and gratins                                                        1\n",
       "Fish/Seafood, crustaceans and shellfish                                                        1\n",
       "Prepared dishes/Sandwiches                                                                     1\n",
       "Nuts, seeds and oleaginous fruit                                                               1\n",
       "Name: category E, dtype: int64"
      ]
     },
     "execution_count": 147,
     "metadata": {},
     "output_type": "execute_result"
    }
   ],
   "source": [
    "# 6. What does Nestle sell?\n",
    "df[df['name E'].str.contains('Nestlé', case=False)]['category E'].value_counts()"
   ]
  },
  {
   "cell_type": "markdown",
   "metadata": {},
   "source": [
    "## 9. If you have problems reading the data in or asking the questions, keep a lot of notes about that. I hope you all run into a hundred problems, then we can solve them next week."
   ]
  },
  {
   "cell_type": "code",
   "execution_count": null,
   "metadata": {},
   "outputs": [],
   "source": []
  },
  {
   "cell_type": "code",
   "execution_count": null,
   "metadata": {
    "collapsed": true
   },
   "outputs": [],
   "source": []
  }
 ],
 "metadata": {
  "kernelspec": {
   "display_name": "Python 3",
   "language": "python",
   "name": "python3"
  },
  "language_info": {
   "codemirror_mode": {
    "name": "ipython",
    "version": 3
   },
   "file_extension": ".py",
   "mimetype": "text/x-python",
   "name": "python",
   "nbconvert_exporter": "python",
   "pygments_lexer": "ipython3",
   "version": "3.6.1"
  }
 },
 "nbformat": 4,
 "nbformat_minor": 2
}
