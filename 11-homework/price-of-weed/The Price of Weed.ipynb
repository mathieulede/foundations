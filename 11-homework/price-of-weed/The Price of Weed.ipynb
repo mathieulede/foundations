{
 "cells": [
  {
   "cell_type": "markdown",
   "metadata": {},
   "source": [
    "# Exercise: The Price of Weed\n",
    "\n",
    "#### Summary\n",
    "\n",
    "Find out how marijuana prices change over time and place in the United States\n",
    "\n",
    "#### Data Source(s)\n",
    "\n",
    "Data scraped from http://www.priceofweed.com/, GitHub repository at, https://github.com/frankbi/price-of-weed\n",
    "\n",
    "Marijuana laws by state from https://data.world/sya/marijuana-laws-by-state\n",
    "\n",
    "#### Files\n",
    "\n",
    "- Lots of csvs in data/, formatted at DDMMYYY.csv, daily prices for different states\n",
    "- `state_marijuana_laws_10_2016.csv`, marijuana laws by state\n",
    "\n",
    "#### Data dictionary\n",
    "\n",
    "- **State** the state name\n",
    "- **HighQ** high quality marijuana, price per ounce\n",
    "- **HighQN** high quality marijuana, sample size \n",
    "- **MedQ** medium quality marijuana, price per ounce\n",
    "- **MedQN** medium quality marijuana, sample size\n",
    "- **LowQ** low quality marijuana, price per ounce\n",
    "- **LowQN** low quality marijuana, sample size\n",
    "\n",
    "#### Skills\n",
    "\n",
    "- Reading in many many files\n",
    "- Combining multiple dataframes\n",
    "- Cleaning up columns\n",
    "- Customizing matplotlib graphs"
   ]
  },
  {
   "cell_type": "markdown",
   "metadata": {},
   "source": [
    "# Read in `data/weedprices01012015.csv`"
   ]
  },
  {
   "cell_type": "code",
   "execution_count": 664,
   "metadata": {},
   "outputs": [
    {
     "data": {
      "text/html": [
       "<div>\n",
       "<style>\n",
       "    .dataframe thead tr:only-child th {\n",
       "        text-align: right;\n",
       "    }\n",
       "\n",
       "    .dataframe thead th {\n",
       "        text-align: left;\n",
       "    }\n",
       "\n",
       "    .dataframe tbody tr th {\n",
       "        vertical-align: top;\n",
       "    }\n",
       "</style>\n",
       "<table border=\"1\" class=\"dataframe\">\n",
       "  <thead>\n",
       "    <tr style=\"text-align: right;\">\n",
       "      <th></th>\n",
       "      <th>State</th>\n",
       "      <th>HighQ</th>\n",
       "      <th>HighQN</th>\n",
       "      <th>MedQ</th>\n",
       "      <th>MedQN</th>\n",
       "      <th>LowQ</th>\n",
       "      <th>LowQN</th>\n",
       "    </tr>\n",
       "  </thead>\n",
       "  <tbody>\n",
       "    <tr>\n",
       "      <th>0</th>\n",
       "      <td>Alabama</td>\n",
       "      <td>337.54</td>\n",
       "      <td>1539</td>\n",
       "      <td>208.24</td>\n",
       "      <td>1463</td>\n",
       "      <td>I feel bad for these guys --&gt;</td>\n",
       "      <td>182</td>\n",
       "    </tr>\n",
       "    <tr>\n",
       "      <th>1</th>\n",
       "      <td>Alaska</td>\n",
       "      <td>303.02</td>\n",
       "      <td>350</td>\n",
       "      <td>270.45</td>\n",
       "      <td>475</td>\n",
       "      <td>I feel bad for these guys --&gt;</td>\n",
       "      <td>37</td>\n",
       "    </tr>\n",
       "    <tr>\n",
       "      <th>2</th>\n",
       "      <td>Arizona</td>\n",
       "      <td>298.51</td>\n",
       "      <td>2638</td>\n",
       "      <td>209.43</td>\n",
       "      <td>2426</td>\n",
       "      <td>I feel bad for these guys --&gt;</td>\n",
       "      <td>306</td>\n",
       "    </tr>\n",
       "    <tr>\n",
       "      <th>3</th>\n",
       "      <td>Arkansas</td>\n",
       "      <td>341.68</td>\n",
       "      <td>846</td>\n",
       "      <td>207.20</td>\n",
       "      <td>836</td>\n",
       "      <td>I feel bad for these guys --&gt;</td>\n",
       "      <td>145</td>\n",
       "    </tr>\n",
       "    <tr>\n",
       "      <th>4</th>\n",
       "      <td>California</td>\n",
       "      <td>243.96</td>\n",
       "      <td>16512</td>\n",
       "      <td>189.35</td>\n",
       "      <td>19151</td>\n",
       "      <td>I feel bad for these guys --&gt;</td>\n",
       "      <td>1096</td>\n",
       "    </tr>\n",
       "  </tbody>\n",
       "</table>\n",
       "</div>"
      ],
      "text/plain": [
       "        State   HighQ  HighQN    MedQ  MedQN                           LowQ  \\\n",
       "0     Alabama  337.54    1539  208.24   1463  I feel bad for these guys -->   \n",
       "1      Alaska  303.02     350  270.45    475  I feel bad for these guys -->   \n",
       "2     Arizona  298.51    2638  209.43   2426  I feel bad for these guys -->   \n",
       "3    Arkansas  341.68     846  207.20    836  I feel bad for these guys -->   \n",
       "4  California  243.96   16512  189.35  19151  I feel bad for these guys -->   \n",
       "\n",
       "   LowQN  \n",
       "0    182  \n",
       "1     37  \n",
       "2    306  \n",
       "3    145  \n",
       "4   1096  "
      ]
     },
     "execution_count": 664,
     "metadata": {},
     "output_type": "execute_result"
    }
   ],
   "source": [
    "import pandas as pd\n",
    "df = pd.read_csv('data/weedprices01012015.csv')\n",
    "df.head()"
   ]
  },
  {
   "cell_type": "markdown",
   "metadata": {},
   "source": [
    "## Cleaning things up\n",
    "\n",
    "I have no idea what the whole \"I feel bad for these guys\" means, but *it certainly isn't good data*. It should probably be NaN instead: I'll let you decide how you're going to fix that one."
   ]
  },
  {
   "cell_type": "code",
   "execution_count": 665,
   "metadata": {},
   "outputs": [
    {
     "data": {
      "text/html": [
       "<div>\n",
       "<style>\n",
       "    .dataframe thead tr:only-child th {\n",
       "        text-align: right;\n",
       "    }\n",
       "\n",
       "    .dataframe thead th {\n",
       "        text-align: left;\n",
       "    }\n",
       "\n",
       "    .dataframe tbody tr th {\n",
       "        vertical-align: top;\n",
       "    }\n",
       "</style>\n",
       "<table border=\"1\" class=\"dataframe\">\n",
       "  <thead>\n",
       "    <tr style=\"text-align: right;\">\n",
       "      <th></th>\n",
       "      <th>State</th>\n",
       "      <th>HighQ</th>\n",
       "      <th>HighQN</th>\n",
       "      <th>MedQ</th>\n",
       "      <th>MedQN</th>\n",
       "      <th>LowQ</th>\n",
       "      <th>LowQN</th>\n",
       "    </tr>\n",
       "  </thead>\n",
       "  <tbody>\n",
       "    <tr>\n",
       "      <th>0</th>\n",
       "      <td>Alabama</td>\n",
       "      <td>337.54</td>\n",
       "      <td>1539</td>\n",
       "      <td>208.24</td>\n",
       "      <td>1463</td>\n",
       "      <td>NaN</td>\n",
       "      <td>182</td>\n",
       "    </tr>\n",
       "    <tr>\n",
       "      <th>1</th>\n",
       "      <td>Alaska</td>\n",
       "      <td>303.02</td>\n",
       "      <td>350</td>\n",
       "      <td>270.45</td>\n",
       "      <td>475</td>\n",
       "      <td>NaN</td>\n",
       "      <td>37</td>\n",
       "    </tr>\n",
       "    <tr>\n",
       "      <th>2</th>\n",
       "      <td>Arizona</td>\n",
       "      <td>298.51</td>\n",
       "      <td>2638</td>\n",
       "      <td>209.43</td>\n",
       "      <td>2426</td>\n",
       "      <td>NaN</td>\n",
       "      <td>306</td>\n",
       "    </tr>\n",
       "    <tr>\n",
       "      <th>3</th>\n",
       "      <td>Arkansas</td>\n",
       "      <td>341.68</td>\n",
       "      <td>846</td>\n",
       "      <td>207.20</td>\n",
       "      <td>836</td>\n",
       "      <td>NaN</td>\n",
       "      <td>145</td>\n",
       "    </tr>\n",
       "    <tr>\n",
       "      <th>4</th>\n",
       "      <td>California</td>\n",
       "      <td>243.96</td>\n",
       "      <td>16512</td>\n",
       "      <td>189.35</td>\n",
       "      <td>19151</td>\n",
       "      <td>NaN</td>\n",
       "      <td>1096</td>\n",
       "    </tr>\n",
       "  </tbody>\n",
       "</table>\n",
       "</div>"
      ],
      "text/plain": [
       "        State   HighQ  HighQN    MedQ  MedQN  LowQ  LowQN\n",
       "0     Alabama  337.54    1539  208.24   1463   NaN    182\n",
       "1      Alaska  303.02     350  270.45    475   NaN     37\n",
       "2     Arizona  298.51    2638  209.43   2426   NaN    306\n",
       "3    Arkansas  341.68     846  207.20    836   NaN    145\n",
       "4  California  243.96   16512  189.35  19151   NaN   1096"
      ]
     },
     "execution_count": 665,
     "metadata": {},
     "output_type": "execute_result"
    }
   ],
   "source": [
    "# 1.\n",
    "df = pd.read_csv('data/weedprices01012015.csv', na_values='I feel bad for these guys -->')\n",
    "df.head()"
   ]
  },
  {
   "cell_type": "code",
   "execution_count": 666,
   "metadata": {},
   "outputs": [
    {
     "data": {
      "text/html": [
       "<div>\n",
       "<style>\n",
       "    .dataframe thead tr:only-child th {\n",
       "        text-align: right;\n",
       "    }\n",
       "\n",
       "    .dataframe thead th {\n",
       "        text-align: left;\n",
       "    }\n",
       "\n",
       "    .dataframe tbody tr th {\n",
       "        vertical-align: top;\n",
       "    }\n",
       "</style>\n",
       "<table border=\"1\" class=\"dataframe\">\n",
       "  <thead>\n",
       "    <tr style=\"text-align: right;\">\n",
       "      <th></th>\n",
       "      <th>State</th>\n",
       "      <th>HighQ</th>\n",
       "      <th>HighQN</th>\n",
       "      <th>MedQ</th>\n",
       "      <th>MedQN</th>\n",
       "      <th>LowQ</th>\n",
       "      <th>LowQN</th>\n",
       "    </tr>\n",
       "  </thead>\n",
       "  <tbody>\n",
       "    <tr>\n",
       "      <th>0</th>\n",
       "      <td>Alabama</td>\n",
       "      <td>337.54</td>\n",
       "      <td>1539</td>\n",
       "      <td>208.24</td>\n",
       "      <td>1463</td>\n",
       "      <td>NaN</td>\n",
       "      <td>182</td>\n",
       "    </tr>\n",
       "    <tr>\n",
       "      <th>1</th>\n",
       "      <td>Alaska</td>\n",
       "      <td>303.02</td>\n",
       "      <td>350</td>\n",
       "      <td>270.45</td>\n",
       "      <td>475</td>\n",
       "      <td>NaN</td>\n",
       "      <td>37</td>\n",
       "    </tr>\n",
       "    <tr>\n",
       "      <th>2</th>\n",
       "      <td>Arizona</td>\n",
       "      <td>298.51</td>\n",
       "      <td>2638</td>\n",
       "      <td>209.43</td>\n",
       "      <td>2426</td>\n",
       "      <td>NaN</td>\n",
       "      <td>306</td>\n",
       "    </tr>\n",
       "    <tr>\n",
       "      <th>3</th>\n",
       "      <td>Arkansas</td>\n",
       "      <td>341.68</td>\n",
       "      <td>846</td>\n",
       "      <td>207.20</td>\n",
       "      <td>836</td>\n",
       "      <td>NaN</td>\n",
       "      <td>145</td>\n",
       "    </tr>\n",
       "    <tr>\n",
       "      <th>4</th>\n",
       "      <td>California</td>\n",
       "      <td>243.96</td>\n",
       "      <td>16512</td>\n",
       "      <td>189.35</td>\n",
       "      <td>19151</td>\n",
       "      <td>NaN</td>\n",
       "      <td>1096</td>\n",
       "    </tr>\n",
       "  </tbody>\n",
       "</table>\n",
       "</div>"
      ],
      "text/plain": [
       "        State   HighQ  HighQN    MedQ  MedQN  LowQ  LowQN\n",
       "0     Alabama  337.54    1539  208.24   1463   NaN    182\n",
       "1      Alaska  303.02     350  270.45    475   NaN     37\n",
       "2     Arizona  298.51    2638  209.43   2426   NaN    306\n",
       "3    Arkansas  341.68     846  207.20    836   NaN    145\n",
       "4  California  243.96   16512  189.35  19151   NaN   1096"
      ]
     },
     "execution_count": 666,
     "metadata": {},
     "output_type": "execute_result"
    }
   ],
   "source": [
    "# 2.\n",
    "import numpy as np\n",
    "df['LowQ'].replace('I feel bad for these guys -->', np.nan, inplace=True)\n",
    "df.head()"
   ]
  },
  {
   "cell_type": "markdown",
   "metadata": {},
   "source": [
    "## Graph the top 10 least expensive states for high quality marijuana"
   ]
  },
  {
   "cell_type": "code",
   "execution_count": 667,
   "metadata": {},
   "outputs": [
    {
     "data": {
      "text/plain": [
       "<matplotlib.axes._subplots.AxesSubplot at 0x119c2e6a0>"
      ]
     },
     "execution_count": 667,
     "metadata": {},
     "output_type": "execute_result"
    },
    {
     "data": {
      "image/png": "[encoded data removed]",
      "text/plain": [
       "<matplotlib.figure.Figure at 0x1180cf128>"
      ]
     },
     "metadata": {},
     "output_type": "display_data"
    }
   ],
   "source": [
    "%matplotlib inline\n",
    "\n",
    "# 1.\n",
    "df.sort_values(by='HighQ').head(10).plot(kind='barh', y='HighQ', x='State')"
   ]
  },
  {
   "cell_type": "code",
   "execution_count": 668,
   "metadata": {},
   "outputs": [
    {
     "data": {
      "text/plain": [
       "[<matplotlib.text.Text at 0x1181b1b70>,\n",
       " <matplotlib.text.Text at 0x1181b3240>,\n",
       " <matplotlib.text.Text at 0x118e135c0>,\n",
       " <matplotlib.text.Text at 0x118e13be0>,\n",
       " <matplotlib.text.Text at 0x118e17898>,\n",
       " <matplotlib.text.Text at 0x118e11668>,\n",
       " <matplotlib.text.Text at 0x118e1add8>,\n",
       " <matplotlib.text.Text at 0x118e1a160>,\n",
       " <matplotlib.text.Text at 0x118e23208>,\n",
       " <matplotlib.text.Text at 0x118e23cc0>]"
      ]
     },
     "execution_count": 668,
     "metadata": {},
     "output_type": "execute_result"
    },
    {
     "data": {
      "image/png": "[encoded data removed]",
      "text/plain": [
       "<matplotlib.figure.Figure at 0x1180ce1d0>"
      ]
     },
     "metadata": {},
     "output_type": "display_data"
    }
   ],
   "source": [
    "# 2.\n",
    "graph = df['HighQ'].nsmallest(10).plot(kind='barh')\n",
    "graph.set_yticklabels(df['State'])"
   ]
  },
  {
   "cell_type": "markdown",
   "metadata": {},
   "source": [
    "## Graph the top 5 least expensive and the top 5 most expensive states for high quality marijuana, in one graph\n",
    "\n",
    "You'll probably need to make a new dataframe out of the first 5 and last 5."
   ]
  },
  {
   "cell_type": "code",
   "execution_count": 669,
   "metadata": {},
   "outputs": [
    {
     "data": {
      "text/plain": [
       "<matplotlib.axes._subplots.AxesSubplot at 0x1180f4d68>"
      ]
     },
     "execution_count": 669,
     "metadata": {},
     "output_type": "execute_result"
    },
    {
     "data": {
      "image/png": "[encoded data removed]",
      "text/plain": [
       "<matplotlib.figure.Figure at 0x118e26dd8>"
      ]
     },
     "metadata": {},
     "output_type": "display_data"
    }
   ],
   "source": [
    "(pd.concat([\n",
    "    df.sort_values(by='HighQ').head(5),\n",
    "    df.sort_values(by='HighQ').tail(5)], ignore_index=True)\n",
    " .plot(kind='barh', x='State', y='HighQ'))"
   ]
  },
  {
   "cell_type": "markdown",
   "metadata": {},
   "source": [
    "## Now go back and make one of those graphs look nice!\n",
    "\n",
    "- Add a title\n",
    "- Add a label to the bottom axis\n",
    "- Remove the label on the left axis\n",
    "- Remove the legend\n",
    "- Get rid of the boxes around everything\n",
    "- Remove most of the tick marks\n",
    "- Add dollar signs for the bottom\n",
    "\n",
    "For tips, just ask me and/or use\n",
    "\n",
    "- https://matplotlib.org/gallery.html\n",
    "- Especially https://matplotlib.org/examples/ticks_and_spines/spines_demo.html\n",
    "\n",
    "To format numbers, you can use something that might look a little familiar\n",
    "\n",
    "```python\n",
    "import matplotlib.ticker as ticker\n",
    "ax.xaxis.set_major_formatter(ticker.StrMethodFormatter(\"${x:,.0f}\"))\n",
    "```"
   ]
  },
  {
   "cell_type": "code",
   "execution_count": 670,
   "metadata": {},
   "outputs": [
    {
     "data": {
      "image/png": "[encoded data removed]",
      "text/plain": [
       "<matplotlib.figure.Figure at 0x118e7dba8>"
      ]
     },
     "metadata": {},
     "output_type": "display_data"
    }
   ],
   "source": [
    "import matplotlib.ticker as ticker\n",
    "ax = (pd.concat([\n",
    "    df.sort_values(by='HighQ').head(5),\n",
    "    df.sort_values(by='HighQ').tail(5)], ignore_index=True)\n",
    "      .plot(kind='barh', x='State', y='HighQ'))\n",
    "ax.set_title(\"High quality marijuana\")\n",
    "ax.set_xlabel(\"Price\")\n",
    "ax.set_ylabel(\"\")\n",
    "ax.xaxis.set_major_formatter(ticker.StrMethodFormatter(\"${x:,.0f}\"))\n",
    "ax.yaxis.set_ticks([])\n",
    "ax.tick_params(\n",
    "    axis='x',          # changes apply to the x-axis\n",
    "    which='both',      # both major and minor ticks are affected\n",
    "    bottom='off',      # ticks along the bottom edge are off\n",
    "    top='off')         # ticks along the top edge are off\n",
    "ax.legend_.remove()\n",
    "ax.grid(color='#d4d5d6', linestyle='-', linewidth=1)\n",
    "ax.set_axisbelow(True)\n",
    "ax.spines['top'].set_visible(False)\n",
    "ax.spines['left'].set_visible(False)\n",
    "ax.spines['bottom'].set_visible(False)\n",
    "ax.spines['right'].set_visible(False)"
   ]
  },
  {
   "cell_type": "markdown",
   "metadata": {},
   "source": [
    "# Reading in many many files\n",
    "\n",
    "## Finding the filenames\n",
    "\n",
    "Make a list of the filenames of every single CSV files inside of the `data` directory. Don't type them out.\n",
    "\n",
    "If you do this correctly you will have a list of **491** filenames."
   ]
  },
  {
   "cell_type": "code",
   "execution_count": 671,
   "metadata": {
    "collapsed": true
   },
   "outputs": [],
   "source": [
    "import glob"
   ]
  },
  {
   "cell_type": "code",
   "execution_count": 672,
   "metadata": {},
   "outputs": [
    {
     "data": {
      "text/plain": [
       "491"
      ]
     },
     "execution_count": 672,
     "metadata": {},
     "output_type": "execute_result"
    }
   ],
   "source": [
    "filenames = glob.glob('data/*.csv')\n",
    "len(filenames)"
   ]
  },
  {
   "cell_type": "markdown",
   "metadata": {},
   "source": [
    "## Turn them into dataframes\n",
    "\n",
    "Read each of them in, converting them to a **list of dataframes**. Save as `price_dfs`.\n",
    "\n",
    "- Tip: List comprehensions would be good here"
   ]
  },
  {
   "cell_type": "code",
   "execution_count": 673,
   "metadata": {
    "collapsed": true
   },
   "outputs": [],
   "source": [
    "price_dfs = [pd.read_csv(csv, na_values='I feel bad for these guys -->') for csv in filenames]"
   ]
  },
  {
   "cell_type": "markdown",
   "metadata": {},
   "source": [
    "## Examing the results\n",
    "\n",
    "Look at the first 2 rows of the first dataframe.\n",
    "\n",
    "Look at the first 2 rows of the last dataframe.\n",
    "\n",
    "**If we combined them, could we tell them apart?**"
   ]
  },
  {
   "cell_type": "code",
   "execution_count": 674,
   "metadata": {},
   "outputs": [
    {
     "data": {
      "text/html": [
       "<div>\n",
       "<style>\n",
       "    .dataframe thead tr:only-child th {\n",
       "        text-align: right;\n",
       "    }\n",
       "\n",
       "    .dataframe thead th {\n",
       "        text-align: left;\n",
       "    }\n",
       "\n",
       "    .dataframe tbody tr th {\n",
       "        vertical-align: top;\n",
       "    }\n",
       "</style>\n",
       "<table border=\"1\" class=\"dataframe\">\n",
       "  <thead>\n",
       "    <tr style=\"text-align: right;\">\n",
       "      <th></th>\n",
       "      <th>State</th>\n",
       "      <th>HighQ</th>\n",
       "      <th>HighQN</th>\n",
       "      <th>MedQ</th>\n",
       "      <th>MedQN</th>\n",
       "      <th>LowQ</th>\n",
       "      <th>LowQN</th>\n",
       "    </tr>\n",
       "  </thead>\n",
       "  <tbody>\n",
       "    <tr>\n",
       "      <th>0</th>\n",
       "      <td>Alabama</td>\n",
       "      <td>$339.06</td>\n",
       "      <td>1042</td>\n",
       "      <td>$198.64</td>\n",
       "      <td>933</td>\n",
       "      <td>$149.49</td>\n",
       "      <td>123</td>\n",
       "    </tr>\n",
       "    <tr>\n",
       "      <th>1</th>\n",
       "      <td>Alaska</td>\n",
       "      <td>$288.75</td>\n",
       "      <td>252</td>\n",
       "      <td>$260.6</td>\n",
       "      <td>297</td>\n",
       "      <td>$388.58</td>\n",
       "      <td>26</td>\n",
       "    </tr>\n",
       "  </tbody>\n",
       "</table>\n",
       "</div>"
      ],
      "text/plain": [
       "     State    HighQ  HighQN     MedQ  MedQN     LowQ  LowQN\n",
       "0  Alabama  $339.06    1042  $198.64    933  $149.49    123\n",
       "1   Alaska  $288.75     252   $260.6    297  $388.58     26"
      ]
     },
     "execution_count": 674,
     "metadata": {},
     "output_type": "execute_result"
    }
   ],
   "source": [
    "price_dfs[0].head(2)"
   ]
  },
  {
   "cell_type": "code",
   "execution_count": 675,
   "metadata": {},
   "outputs": [
    {
     "data": {
      "text/html": [
       "<div>\n",
       "<style>\n",
       "    .dataframe thead tr:only-child th {\n",
       "        text-align: right;\n",
       "    }\n",
       "\n",
       "    .dataframe thead th {\n",
       "        text-align: left;\n",
       "    }\n",
       "\n",
       "    .dataframe tbody tr th {\n",
       "        vertical-align: top;\n",
       "    }\n",
       "</style>\n",
       "<table border=\"1\" class=\"dataframe\">\n",
       "  <thead>\n",
       "    <tr style=\"text-align: right;\">\n",
       "      <th></th>\n",
       "      <th>State</th>\n",
       "      <th>HighQ</th>\n",
       "      <th>HighQN</th>\n",
       "      <th>MedQ</th>\n",
       "      <th>MedQN</th>\n",
       "      <th>LowQ</th>\n",
       "      <th>LowQN</th>\n",
       "    </tr>\n",
       "  </thead>\n",
       "  <tbody>\n",
       "    <tr>\n",
       "      <th>0</th>\n",
       "      <td>Alabama</td>\n",
       "      <td>337.54</td>\n",
       "      <td>1539</td>\n",
       "      <td>208.15</td>\n",
       "      <td>1460</td>\n",
       "      <td>NaN</td>\n",
       "      <td>182</td>\n",
       "    </tr>\n",
       "    <tr>\n",
       "      <th>1</th>\n",
       "      <td>Alaska</td>\n",
       "      <td>303.02</td>\n",
       "      <td>350</td>\n",
       "      <td>270.45</td>\n",
       "      <td>475</td>\n",
       "      <td>NaN</td>\n",
       "      <td>37</td>\n",
       "    </tr>\n",
       "  </tbody>\n",
       "</table>\n",
       "</div>"
      ],
      "text/plain": [
       "     State   HighQ  HighQN    MedQ  MedQN  LowQ  LowQN\n",
       "0  Alabama  337.54    1539  208.15   1460   NaN    182\n",
       "1   Alaska  303.02     350  270.45    475   NaN     37"
      ]
     },
     "execution_count": 675,
     "metadata": {},
     "output_type": "execute_result"
    }
   ],
   "source": [
    "price_dfs[-1].head(2)"
   ]
  },
  {
   "cell_type": "markdown",
   "metadata": {},
   "source": [
    "## Making them identifiable\n",
    "\n",
    "Each dataframe needs to have a column thats says the date. Or, actually... let's just save the filename as a column.\n",
    "\n",
    "You **could** do it like this.\n",
    "\n",
    "```python\n",
    "# Take the first dataframe, which was made from the first filename\n",
    "# Create a new 'filename' column using the first filename\n",
    "price_dfs[0]['filename'] = filenames[0]\n",
    "# Take the second dataframe, which was made from the second filename\n",
    "# Create a new 'filename' column using the second filename\n",
    "price_dfs[1]['filename'] = filenames[1]\n",
    "# Take the third dataframe, which was made from the third filename\n",
    "# Create a new 'filename' column using the third filename\n",
    "price_dfs[2]['filename'] = filenames[2]\n",
    "```\n",
    "\n",
    "But that way is **not any fun**, and would take too long. I have a faster way."
   ]
  },
  {
   "cell_type": "code",
   "execution_count": 676,
   "metadata": {
    "collapsed": true
   },
   "outputs": [],
   "source": [
    "# 1.\n",
    "for index, filename in enumerate(filenames):\n",
    "    price_dfs[index]['filename'] = filename"
   ]
  },
  {
   "cell_type": "code",
   "execution_count": 744,
   "metadata": {},
   "outputs": [],
   "source": [
    "# 2.\n",
    "for f, p in zip(filenames, price_dfs):\n",
    "    p['filename'] = f"
   ]
  },
  {
   "cell_type": "markdown",
   "metadata": {},
   "source": [
    "## Combine all 491 dataframes into one dataframe\n",
    "\n",
    "Confirm it has **24990 rows and 8 columns.**"
   ]
  },
  {
   "cell_type": "code",
   "execution_count": 678,
   "metadata": {
    "collapsed": true
   },
   "outputs": [],
   "source": [
    "df = pd.concat([df for df in price_dfs])"
   ]
  },
  {
   "cell_type": "code",
   "execution_count": 679,
   "metadata": {},
   "outputs": [
    {
     "data": {
      "text/plain": [
       "(24990, 8)"
      ]
     },
     "execution_count": 679,
     "metadata": {},
     "output_type": "execute_result"
    }
   ],
   "source": [
    "df.shape"
   ]
  },
  {
   "cell_type": "markdown",
   "metadata": {},
   "source": [
    "## Pull out the day, month and year from each filename\n",
    "\n",
    "Do **not** store it back yet!"
   ]
  },
  {
   "cell_type": "code",
   "execution_count": 680,
   "metadata": {},
   "outputs": [
    {
     "name": "stderr",
     "output_type": "stream",
     "text": [
      "/usr/local/lib/python3.6/site-packages/ipykernel_launcher.py:3: FutureWarning: currently extract(expand=None) means expand=False (return Index/Series/DataFrame) but in a future version of pandas this will be changed to expand=True (return DataFrame)\n",
      "  This is separate from the ipykernel package so we can avoid doing imports until\n"
     ]
    },
    {
     "data": {
      "text/html": [
       "<div>\n",
       "<style>\n",
       "    .dataframe thead tr:only-child th {\n",
       "        text-align: right;\n",
       "    }\n",
       "\n",
       "    .dataframe thead th {\n",
       "        text-align: left;\n",
       "    }\n",
       "\n",
       "    .dataframe tbody tr th {\n",
       "        vertical-align: top;\n",
       "    }\n",
       "</style>\n",
       "<table border=\"1\" class=\"dataframe\">\n",
       "  <thead>\n",
       "    <tr style=\"text-align: right;\">\n",
       "      <th></th>\n",
       "      <th>0</th>\n",
       "      <th>1</th>\n",
       "      <th>2</th>\n",
       "    </tr>\n",
       "  </thead>\n",
       "  <tbody>\n",
       "    <tr>\n",
       "      <th>0</th>\n",
       "      <td>01</td>\n",
       "      <td>01</td>\n",
       "      <td>2014</td>\n",
       "    </tr>\n",
       "    <tr>\n",
       "      <th>1</th>\n",
       "      <td>01</td>\n",
       "      <td>01</td>\n",
       "      <td>2014</td>\n",
       "    </tr>\n",
       "    <tr>\n",
       "      <th>2</th>\n",
       "      <td>01</td>\n",
       "      <td>01</td>\n",
       "      <td>2014</td>\n",
       "    </tr>\n",
       "    <tr>\n",
       "      <th>3</th>\n",
       "      <td>01</td>\n",
       "      <td>01</td>\n",
       "      <td>2014</td>\n",
       "    </tr>\n",
       "    <tr>\n",
       "      <th>4</th>\n",
       "      <td>01</td>\n",
       "      <td>01</td>\n",
       "      <td>2014</td>\n",
       "    </tr>\n",
       "    <tr>\n",
       "      <th>5</th>\n",
       "      <td>01</td>\n",
       "      <td>01</td>\n",
       "      <td>2014</td>\n",
       "    </tr>\n",
       "    <tr>\n",
       "      <th>6</th>\n",
       "      <td>01</td>\n",
       "      <td>01</td>\n",
       "      <td>2014</td>\n",
       "    </tr>\n",
       "    <tr>\n",
       "      <th>7</th>\n",
       "      <td>01</td>\n",
       "      <td>01</td>\n",
       "      <td>2014</td>\n",
       "    </tr>\n",
       "    <tr>\n",
       "      <th>8</th>\n",
       "      <td>01</td>\n",
       "      <td>01</td>\n",
       "      <td>2014</td>\n",
       "    </tr>\n",
       "    <tr>\n",
       "      <th>9</th>\n",
       "      <td>01</td>\n",
       "      <td>01</td>\n",
       "      <td>2014</td>\n",
       "    </tr>\n",
       "    <tr>\n",
       "      <th>10</th>\n",
       "      <td>01</td>\n",
       "      <td>01</td>\n",
       "      <td>2014</td>\n",
       "    </tr>\n",
       "    <tr>\n",
       "      <th>11</th>\n",
       "      <td>01</td>\n",
       "      <td>01</td>\n",
       "      <td>2014</td>\n",
       "    </tr>\n",
       "    <tr>\n",
       "      <th>12</th>\n",
       "      <td>01</td>\n",
       "      <td>01</td>\n",
       "      <td>2014</td>\n",
       "    </tr>\n",
       "    <tr>\n",
       "      <th>13</th>\n",
       "      <td>01</td>\n",
       "      <td>01</td>\n",
       "      <td>2014</td>\n",
       "    </tr>\n",
       "    <tr>\n",
       "      <th>14</th>\n",
       "      <td>01</td>\n",
       "      <td>01</td>\n",
       "      <td>2014</td>\n",
       "    </tr>\n",
       "    <tr>\n",
       "      <th>15</th>\n",
       "      <td>01</td>\n",
       "      <td>01</td>\n",
       "      <td>2014</td>\n",
       "    </tr>\n",
       "    <tr>\n",
       "      <th>16</th>\n",
       "      <td>01</td>\n",
       "      <td>01</td>\n",
       "      <td>2014</td>\n",
       "    </tr>\n",
       "    <tr>\n",
       "      <th>17</th>\n",
       "      <td>01</td>\n",
       "      <td>01</td>\n",
       "      <td>2014</td>\n",
       "    </tr>\n",
       "    <tr>\n",
       "      <th>18</th>\n",
       "      <td>01</td>\n",
       "      <td>01</td>\n",
       "      <td>2014</td>\n",
       "    </tr>\n",
       "    <tr>\n",
       "      <th>19</th>\n",
       "      <td>01</td>\n",
       "      <td>01</td>\n",
       "      <td>2014</td>\n",
       "    </tr>\n",
       "    <tr>\n",
       "      <th>20</th>\n",
       "      <td>01</td>\n",
       "      <td>01</td>\n",
       "      <td>2014</td>\n",
       "    </tr>\n",
       "    <tr>\n",
       "      <th>21</th>\n",
       "      <td>01</td>\n",
       "      <td>01</td>\n",
       "      <td>2014</td>\n",
       "    </tr>\n",
       "    <tr>\n",
       "      <th>22</th>\n",
       "      <td>01</td>\n",
       "      <td>01</td>\n",
       "      <td>2014</td>\n",
       "    </tr>\n",
       "    <tr>\n",
       "      <th>23</th>\n",
       "      <td>01</td>\n",
       "      <td>01</td>\n",
       "      <td>2014</td>\n",
       "    </tr>\n",
       "    <tr>\n",
       "      <th>24</th>\n",
       "      <td>01</td>\n",
       "      <td>01</td>\n",
       "      <td>2014</td>\n",
       "    </tr>\n",
       "    <tr>\n",
       "      <th>25</th>\n",
       "      <td>01</td>\n",
       "      <td>01</td>\n",
       "      <td>2014</td>\n",
       "    </tr>\n",
       "    <tr>\n",
       "      <th>26</th>\n",
       "      <td>01</td>\n",
       "      <td>01</td>\n",
       "      <td>2014</td>\n",
       "    </tr>\n",
       "    <tr>\n",
       "      <th>27</th>\n",
       "      <td>01</td>\n",
       "      <td>01</td>\n",
       "      <td>2014</td>\n",
       "    </tr>\n",
       "    <tr>\n",
       "      <th>28</th>\n",
       "      <td>01</td>\n",
       "      <td>01</td>\n",
       "      <td>2014</td>\n",
       "    </tr>\n",
       "    <tr>\n",
       "      <th>29</th>\n",
       "      <td>01</td>\n",
       "      <td>01</td>\n",
       "      <td>2014</td>\n",
       "    </tr>\n",
       "    <tr>\n",
       "      <th>...</th>\n",
       "      <td>...</td>\n",
       "      <td>...</td>\n",
       "      <td>...</td>\n",
       "    </tr>\n",
       "    <tr>\n",
       "      <th>21</th>\n",
       "      <td>31</td>\n",
       "      <td>12</td>\n",
       "      <td>2014</td>\n",
       "    </tr>\n",
       "    <tr>\n",
       "      <th>22</th>\n",
       "      <td>31</td>\n",
       "      <td>12</td>\n",
       "      <td>2014</td>\n",
       "    </tr>\n",
       "    <tr>\n",
       "      <th>23</th>\n",
       "      <td>31</td>\n",
       "      <td>12</td>\n",
       "      <td>2014</td>\n",
       "    </tr>\n",
       "    <tr>\n",
       "      <th>24</th>\n",
       "      <td>31</td>\n",
       "      <td>12</td>\n",
       "      <td>2014</td>\n",
       "    </tr>\n",
       "    <tr>\n",
       "      <th>25</th>\n",
       "      <td>31</td>\n",
       "      <td>12</td>\n",
       "      <td>2014</td>\n",
       "    </tr>\n",
       "    <tr>\n",
       "      <th>26</th>\n",
       "      <td>31</td>\n",
       "      <td>12</td>\n",
       "      <td>2014</td>\n",
       "    </tr>\n",
       "    <tr>\n",
       "      <th>27</th>\n",
       "      <td>31</td>\n",
       "      <td>12</td>\n",
       "      <td>2014</td>\n",
       "    </tr>\n",
       "    <tr>\n",
       "      <th>28</th>\n",
       "      <td>31</td>\n",
       "      <td>12</td>\n",
       "      <td>2014</td>\n",
       "    </tr>\n",
       "    <tr>\n",
       "      <th>29</th>\n",
       "      <td>31</td>\n",
       "      <td>12</td>\n",
       "      <td>2014</td>\n",
       "    </tr>\n",
       "    <tr>\n",
       "      <th>30</th>\n",
       "      <td>31</td>\n",
       "      <td>12</td>\n",
       "      <td>2014</td>\n",
       "    </tr>\n",
       "    <tr>\n",
       "      <th>31</th>\n",
       "      <td>31</td>\n",
       "      <td>12</td>\n",
       "      <td>2014</td>\n",
       "    </tr>\n",
       "    <tr>\n",
       "      <th>32</th>\n",
       "      <td>31</td>\n",
       "      <td>12</td>\n",
       "      <td>2014</td>\n",
       "    </tr>\n",
       "    <tr>\n",
       "      <th>33</th>\n",
       "      <td>31</td>\n",
       "      <td>12</td>\n",
       "      <td>2014</td>\n",
       "    </tr>\n",
       "    <tr>\n",
       "      <th>34</th>\n",
       "      <td>31</td>\n",
       "      <td>12</td>\n",
       "      <td>2014</td>\n",
       "    </tr>\n",
       "    <tr>\n",
       "      <th>35</th>\n",
       "      <td>31</td>\n",
       "      <td>12</td>\n",
       "      <td>2014</td>\n",
       "    </tr>\n",
       "    <tr>\n",
       "      <th>36</th>\n",
       "      <td>31</td>\n",
       "      <td>12</td>\n",
       "      <td>2014</td>\n",
       "    </tr>\n",
       "    <tr>\n",
       "      <th>37</th>\n",
       "      <td>31</td>\n",
       "      <td>12</td>\n",
       "      <td>2014</td>\n",
       "    </tr>\n",
       "    <tr>\n",
       "      <th>38</th>\n",
       "      <td>31</td>\n",
       "      <td>12</td>\n",
       "      <td>2014</td>\n",
       "    </tr>\n",
       "    <tr>\n",
       "      <th>39</th>\n",
       "      <td>31</td>\n",
       "      <td>12</td>\n",
       "      <td>2014</td>\n",
       "    </tr>\n",
       "    <tr>\n",
       "      <th>40</th>\n",
       "      <td>31</td>\n",
       "      <td>12</td>\n",
       "      <td>2014</td>\n",
       "    </tr>\n",
       "    <tr>\n",
       "      <th>41</th>\n",
       "      <td>31</td>\n",
       "      <td>12</td>\n",
       "      <td>2014</td>\n",
       "    </tr>\n",
       "    <tr>\n",
       "      <th>42</th>\n",
       "      <td>31</td>\n",
       "      <td>12</td>\n",
       "      <td>2014</td>\n",
       "    </tr>\n",
       "    <tr>\n",
       "      <th>43</th>\n",
       "      <td>31</td>\n",
       "      <td>12</td>\n",
       "      <td>2014</td>\n",
       "    </tr>\n",
       "    <tr>\n",
       "      <th>44</th>\n",
       "      <td>31</td>\n",
       "      <td>12</td>\n",
       "      <td>2014</td>\n",
       "    </tr>\n",
       "    <tr>\n",
       "      <th>45</th>\n",
       "      <td>31</td>\n",
       "      <td>12</td>\n",
       "      <td>2014</td>\n",
       "    </tr>\n",
       "    <tr>\n",
       "      <th>46</th>\n",
       "      <td>31</td>\n",
       "      <td>12</td>\n",
       "      <td>2014</td>\n",
       "    </tr>\n",
       "    <tr>\n",
       "      <th>47</th>\n",
       "      <td>31</td>\n",
       "      <td>12</td>\n",
       "      <td>2014</td>\n",
       "    </tr>\n",
       "    <tr>\n",
       "      <th>48</th>\n",
       "      <td>31</td>\n",
       "      <td>12</td>\n",
       "      <td>2014</td>\n",
       "    </tr>\n",
       "    <tr>\n",
       "      <th>49</th>\n",
       "      <td>31</td>\n",
       "      <td>12</td>\n",
       "      <td>2014</td>\n",
       "    </tr>\n",
       "    <tr>\n",
       "      <th>50</th>\n",
       "      <td>31</td>\n",
       "      <td>12</td>\n",
       "      <td>2014</td>\n",
       "    </tr>\n",
       "  </tbody>\n",
       "</table>\n",
       "<p>24990 rows × 3 columns</p>\n",
       "</div>"
      ],
      "text/plain": [
       "     0   1     2\n",
       "0   01  01  2014\n",
       "1   01  01  2014\n",
       "2   01  01  2014\n",
       "3   01  01  2014\n",
       "4   01  01  2014\n",
       "5   01  01  2014\n",
       "6   01  01  2014\n",
       "7   01  01  2014\n",
       "8   01  01  2014\n",
       "9   01  01  2014\n",
       "10  01  01  2014\n",
       "11  01  01  2014\n",
       "12  01  01  2014\n",
       "13  01  01  2014\n",
       "14  01  01  2014\n",
       "15  01  01  2014\n",
       "16  01  01  2014\n",
       "17  01  01  2014\n",
       "18  01  01  2014\n",
       "19  01  01  2014\n",
       "20  01  01  2014\n",
       "21  01  01  2014\n",
       "22  01  01  2014\n",
       "23  01  01  2014\n",
       "24  01  01  2014\n",
       "25  01  01  2014\n",
       "26  01  01  2014\n",
       "27  01  01  2014\n",
       "28  01  01  2014\n",
       "29  01  01  2014\n",
       "..  ..  ..   ...\n",
       "21  31  12  2014\n",
       "22  31  12  2014\n",
       "23  31  12  2014\n",
       "24  31  12  2014\n",
       "25  31  12  2014\n",
       "26  31  12  2014\n",
       "27  31  12  2014\n",
       "28  31  12  2014\n",
       "29  31  12  2014\n",
       "30  31  12  2014\n",
       "31  31  12  2014\n",
       "32  31  12  2014\n",
       "33  31  12  2014\n",
       "34  31  12  2014\n",
       "35  31  12  2014\n",
       "36  31  12  2014\n",
       "37  31  12  2014\n",
       "38  31  12  2014\n",
       "39  31  12  2014\n",
       "40  31  12  2014\n",
       "41  31  12  2014\n",
       "42  31  12  2014\n",
       "43  31  12  2014\n",
       "44  31  12  2014\n",
       "45  31  12  2014\n",
       "46  31  12  2014\n",
       "47  31  12  2014\n",
       "48  31  12  2014\n",
       "49  31  12  2014\n",
       "50  31  12  2014\n",
       "\n",
       "[24990 rows x 3 columns]"
      ]
     },
     "execution_count": 680,
     "metadata": {},
     "output_type": "execute_result"
    }
   ],
   "source": [
    "import re\n",
    "\n",
    "dates = df['filename'].str.extract('(\\d\\d)(\\d\\d)(\\d\\d\\d\\d)')\n",
    "dates"
   ]
  },
  {
   "cell_type": "markdown",
   "metadata": {},
   "source": [
    "## Okay, now add all three columns back at once\n",
    "\n",
    "You should rename the columns first!"
   ]
  },
  {
   "cell_type": "code",
   "execution_count": 689,
   "metadata": {
    "collapsed": true
   },
   "outputs": [],
   "source": [
    "dates.columns = ['day', 'month', 'year']\n",
    "df = pd.concat([dates, df], axis=1)"
   ]
  },
  {
   "cell_type": "markdown",
   "metadata": {},
   "source": [
    "## Plot the change in marijuana prices in Oregon over time"
   ]
  },
  {
   "cell_type": "code",
   "execution_count": 690,
   "metadata": {},
   "outputs": [
    {
     "data": {
      "text/html": [
       "<div>\n",
       "<style>\n",
       "    .dataframe thead tr:only-child th {\n",
       "        text-align: right;\n",
       "    }\n",
       "\n",
       "    .dataframe thead th {\n",
       "        text-align: left;\n",
       "    }\n",
       "\n",
       "    .dataframe tbody tr th {\n",
       "        vertical-align: top;\n",
       "    }\n",
       "</style>\n",
       "<table border=\"1\" class=\"dataframe\">\n",
       "  <thead>\n",
       "    <tr style=\"text-align: right;\">\n",
       "      <th></th>\n",
       "      <th>day</th>\n",
       "      <th>month</th>\n",
       "      <th>year</th>\n",
       "      <th>State</th>\n",
       "      <th>HighQ</th>\n",
       "      <th>HighQN</th>\n",
       "      <th>MedQ</th>\n",
       "      <th>MedQN</th>\n",
       "      <th>LowQ</th>\n",
       "      <th>LowQN</th>\n",
       "      <th>filename</th>\n",
       "    </tr>\n",
       "  </thead>\n",
       "  <tbody>\n",
       "    <tr>\n",
       "      <th>0</th>\n",
       "      <td>01</td>\n",
       "      <td>01</td>\n",
       "      <td>2014</td>\n",
       "      <td>Alabama</td>\n",
       "      <td>$339.06</td>\n",
       "      <td>1042</td>\n",
       "      <td>$198.64</td>\n",
       "      <td>933</td>\n",
       "      <td>$149.49</td>\n",
       "      <td>123</td>\n",
       "      <td>data/weedprices01012014.csv</td>\n",
       "    </tr>\n",
       "    <tr>\n",
       "      <th>1</th>\n",
       "      <td>01</td>\n",
       "      <td>01</td>\n",
       "      <td>2014</td>\n",
       "      <td>Alaska</td>\n",
       "      <td>$288.75</td>\n",
       "      <td>252</td>\n",
       "      <td>$260.6</td>\n",
       "      <td>297</td>\n",
       "      <td>$388.58</td>\n",
       "      <td>26</td>\n",
       "      <td>data/weedprices01012014.csv</td>\n",
       "    </tr>\n",
       "    <tr>\n",
       "      <th>2</th>\n",
       "      <td>01</td>\n",
       "      <td>01</td>\n",
       "      <td>2014</td>\n",
       "      <td>Arizona</td>\n",
       "      <td>$303.31</td>\n",
       "      <td>1941</td>\n",
       "      <td>$209.35</td>\n",
       "      <td>1625</td>\n",
       "      <td>$189.45</td>\n",
       "      <td>222</td>\n",
       "      <td>data/weedprices01012014.csv</td>\n",
       "    </tr>\n",
       "    <tr>\n",
       "      <th>3</th>\n",
       "      <td>01</td>\n",
       "      <td>01</td>\n",
       "      <td>2014</td>\n",
       "      <td>Arkansas</td>\n",
       "      <td>$361.85</td>\n",
       "      <td>576</td>\n",
       "      <td>$185.62</td>\n",
       "      <td>544</td>\n",
       "      <td>$125.87</td>\n",
       "      <td>112</td>\n",
       "      <td>data/weedprices01012014.csv</td>\n",
       "    </tr>\n",
       "    <tr>\n",
       "      <th>4</th>\n",
       "      <td>01</td>\n",
       "      <td>01</td>\n",
       "      <td>2014</td>\n",
       "      <td>California</td>\n",
       "      <td>$248.78</td>\n",
       "      <td>12096</td>\n",
       "      <td>$193.56</td>\n",
       "      <td>12812</td>\n",
       "      <td>$192.92</td>\n",
       "      <td>778</td>\n",
       "      <td>data/weedprices01012014.csv</td>\n",
       "    </tr>\n",
       "  </tbody>\n",
       "</table>\n",
       "</div>"
      ],
      "text/plain": [
       "  day month  year       State    HighQ HighQN     MedQ  MedQN     LowQ LowQN  \\\n",
       "0  01    01  2014     Alabama  $339.06   1042  $198.64    933  $149.49   123   \n",
       "1  01    01  2014      Alaska  $288.75    252   $260.6    297  $388.58    26   \n",
       "2  01    01  2014     Arizona  $303.31   1941  $209.35   1625  $189.45   222   \n",
       "3  01    01  2014    Arkansas  $361.85    576  $185.62    544  $125.87   112   \n",
       "4  01    01  2014  California  $248.78  12096  $193.56  12812  $192.92   778   \n",
       "\n",
       "                      filename  \n",
       "0  data/weedprices01012014.csv  \n",
       "1  data/weedprices01012014.csv  \n",
       "2  data/weedprices01012014.csv  \n",
       "3  data/weedprices01012014.csv  \n",
       "4  data/weedprices01012014.csv  "
      ]
     },
     "execution_count": 690,
     "metadata": {},
     "output_type": "execute_result"
    }
   ],
   "source": [
    "df.head()"
   ]
  },
  {
   "cell_type": "code",
   "execution_count": 691,
   "metadata": {
    "collapsed": true
   },
   "outputs": [],
   "source": [
    "df.replace('\\$', '', inplace=True, regex=True)"
   ]
  },
  {
   "cell_type": "code",
   "execution_count": 703,
   "metadata": {
    "collapsed": true
   },
   "outputs": [],
   "source": [
    "df['HighQ'] = df['HighQ'].astype(float)"
   ]
  },
  {
   "cell_type": "code",
   "execution_count": 741,
   "metadata": {},
   "outputs": [
    {
     "data": {
      "text/plain": [
       "<matplotlib.text.Text at 0x1d7bb27b8>"
      ]
     },
     "execution_count": 741,
     "metadata": {},
     "output_type": "execute_result"
    },
    {
     "data": {
      "image/png": "[encoded data removed]",
      "text/plain": [
       "<matplotlib.figure.Figure at 0x1d7cea550>"
      ]
     },
     "metadata": {},
     "output_type": "display_data"
    }
   ],
   "source": [
    "import time\n",
    "df['date'] = pd.to_datetime(df[['year', 'month', 'day']])\n",
    "df[df['State'] == 'Oregon'].plot(x='date', y='HighQ').set_ylabel('price')"
   ]
  },
  {
   "cell_type": "markdown",
   "metadata": {},
   "source": [
    "## Plot the change in marijuana prices in all states over time"
   ]
  },
  {
   "cell_type": "code",
   "execution_count": 740,
   "metadata": {},
   "outputs": [
    {
     "data": {
      "text/plain": [
       "<matplotlib.text.Text at 0x1d7aa9a90>"
      ]
     },
     "execution_count": 740,
     "metadata": {},
     "output_type": "execute_result"
    },
    {
     "data": {
      "image/png": "[encoded data removed]",
      "text/plain": [
       "<matplotlib.figure.Figure at 0x1d7bb2be0>"
      ]
     },
     "metadata": {},
     "output_type": "display_data"
    }
   ],
   "source": [
    "df.groupby('date')['HighQ'].mean().plot().set_ylabel('price')"
   ]
  },
  {
   "cell_type": "code",
   "execution_count": null,
   "metadata": {
    "collapsed": true
   },
   "outputs": [],
   "source": []
  }
 ],
 "metadata": {
  "kernelspec": {
   "display_name": "Python 3",
   "language": "python",
   "name": "python3"
  },
  "language_info": {
   "codemirror_mode": {
    "name": "ipython",
    "version": 3
   },
   "file_extension": ".py",
   "mimetype": "text/x-python",
   "name": "python",
   "nbconvert_exporter": "python",
   "pygments_lexer": "ipython3",
   "version": "3.6.1"
  }
 },
 "nbformat": 4,
 "nbformat_minor": 2
}
