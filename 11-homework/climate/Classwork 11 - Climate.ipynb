{
 "cells": [
  {
   "cell_type": "markdown",
   "metadata": {},
   "source": [
    "# Exercise: Climate\n",
    "\n",
    "#### Summary\n",
    "\n",
    "Do nothing very useful with climate data from the US government.\n",
    "\n",
    "#### Data Source(s)\n",
    "\n",
    "Data from NOAA, https://www7.ncdc.noaa.gov/CDO/CDODivisionalSelect.jsp\n",
    "\n",
    "#### Files\n",
    "\n",
    "- CDODiv8449537379627.txt, climate data from 1985-2017\n",
    "- florida.txt, california.txt, virginia.txt, minnesota.txt, nebraska.txt, same as above but for specific states\n",
    "\n",
    "#### Data dictionary\n",
    "\n",
    "- **PCP** - Precipitation Index\n",
    "- **TAVG** - Temperature Index\n",
    "- **TMIN** - Minimum Temperature Index\n",
    "- **TMAX** - Maximum Temperature Index\n",
    "- **PDSI** - Palmer Drought Severity Index\n",
    "- **PHDI** - Palmer Hydrological Drought Index\n",
    "- **ZNDX** - Palmer Z-Index\n",
    "- **PMDI** - Modified Palmer Drought Severity Index\n",
    "- **CDD** - Cooling Degree Days\n",
    "- **HDD** - Heating Degree Days\n",
    "- **SPnn** - Standard Precipitation Index\n",
    "\n",
    "#### Skills\n",
    "\n",
    "- Cleaning column names\n",
    "- NaN values\n",
    "- Date time manipulation\n",
    "- Plotting"
   ]
  },
  {
   "cell_type": "markdown",
   "metadata": {},
   "source": [
    "# Reading in your data\n",
    "\n",
    "## Open up the file and check the first few rows"
   ]
  },
  {
   "cell_type": "code",
   "execution_count": 335,
   "metadata": {
    "collapsed": true
   },
   "outputs": [],
   "source": [
    "import pandas as pd"
   ]
  },
  {
   "cell_type": "code",
   "execution_count": 336,
   "metadata": {},
   "outputs": [
    {
     "data": {
      "text/html": [
       "<div>\n",
       "<style>\n",
       "    .dataframe thead tr:only-child th {\n",
       "        text-align: right;\n",
       "    }\n",
       "\n",
       "    .dataframe thead th {\n",
       "        text-align: left;\n",
       "    }\n",
       "\n",
       "    .dataframe tbody tr th {\n",
       "        vertical-align: top;\n",
       "    }\n",
       "</style>\n",
       "<table border=\"1\" class=\"dataframe\">\n",
       "  <thead>\n",
       "    <tr style=\"text-align: right;\">\n",
       "      <th></th>\n",
       "      <th>StateCode</th>\n",
       "      <th>Division</th>\n",
       "      <th>YearMonth</th>\n",
       "      <th>PCP</th>\n",
       "      <th>TAVG</th>\n",
       "      <th>PDSI</th>\n",
       "      <th>PHDI</th>\n",
       "      <th>ZNDX</th>\n",
       "      <th>PMDI</th>\n",
       "      <th>CDD</th>\n",
       "      <th>...</th>\n",
       "      <th>SP01</th>\n",
       "      <th>SP02</th>\n",
       "      <th>SP03</th>\n",
       "      <th>SP06</th>\n",
       "      <th>SP09</th>\n",
       "      <th>SP12</th>\n",
       "      <th>SP24</th>\n",
       "      <th>TMIN</th>\n",
       "      <th>TMAX</th>\n",
       "      <th>Unnamed: 20</th>\n",
       "    </tr>\n",
       "  </thead>\n",
       "  <tbody>\n",
       "    <tr>\n",
       "      <th>0</th>\n",
       "      <td>110</td>\n",
       "      <td>0</td>\n",
       "      <td>189501</td>\n",
       "      <td>3.32</td>\n",
       "      <td>26.69</td>\n",
       "      <td>1.47</td>\n",
       "      <td>1.47</td>\n",
       "      <td>4.42</td>\n",
       "      <td>1.47</td>\n",
       "      <td>6</td>\n",
       "      <td>...</td>\n",
       "      <td>1.79</td>\n",
       "      <td>-99.99</td>\n",
       "      <td>-99.99</td>\n",
       "      <td>-99.99</td>\n",
       "      <td>-99.99</td>\n",
       "      <td>-99.99</td>\n",
       "      <td>-99.99</td>\n",
       "      <td>16.52</td>\n",
       "      <td>36.86</td>\n",
       "      <td>NaN</td>\n",
       "    </tr>\n",
       "    <tr>\n",
       "      <th>1</th>\n",
       "      <td>110</td>\n",
       "      <td>0</td>\n",
       "      <td>189502</td>\n",
       "      <td>1.41</td>\n",
       "      <td>26.60</td>\n",
       "      <td>-0.45</td>\n",
       "      <td>0.87</td>\n",
       "      <td>-1.35</td>\n",
       "      <td>0.07</td>\n",
       "      <td>1</td>\n",
       "      <td>...</td>\n",
       "      <td>-1.69</td>\n",
       "      <td>0.52</td>\n",
       "      <td>-99.99</td>\n",
       "      <td>-99.99</td>\n",
       "      <td>-99.99</td>\n",
       "      <td>-99.99</td>\n",
       "      <td>-99.99</td>\n",
       "      <td>15.57</td>\n",
       "      <td>37.65</td>\n",
       "      <td>NaN</td>\n",
       "    </tr>\n",
       "    <tr>\n",
       "      <th>2</th>\n",
       "      <td>110</td>\n",
       "      <td>0</td>\n",
       "      <td>189503</td>\n",
       "      <td>1.99</td>\n",
       "      <td>39.97</td>\n",
       "      <td>-0.83</td>\n",
       "      <td>-0.83</td>\n",
       "      <td>-1.28</td>\n",
       "      <td>-0.83</td>\n",
       "      <td>13</td>\n",
       "      <td>...</td>\n",
       "      <td>-1.09</td>\n",
       "      <td>-2.11</td>\n",
       "      <td>-0.16</td>\n",
       "      <td>-99.99</td>\n",
       "      <td>-99.99</td>\n",
       "      <td>-99.99</td>\n",
       "      <td>-99.99</td>\n",
       "      <td>27.86</td>\n",
       "      <td>52.07</td>\n",
       "      <td>NaN</td>\n",
       "    </tr>\n",
       "    <tr>\n",
       "      <th>3</th>\n",
       "      <td>110</td>\n",
       "      <td>0</td>\n",
       "      <td>189504</td>\n",
       "      <td>1.99</td>\n",
       "      <td>52.90</td>\n",
       "      <td>-1.42</td>\n",
       "      <td>-1.42</td>\n",
       "      <td>-2.02</td>\n",
       "      <td>-1.42</td>\n",
       "      <td>27</td>\n",
       "      <td>...</td>\n",
       "      <td>-1.24</td>\n",
       "      <td>-1.62</td>\n",
       "      <td>-2.86</td>\n",
       "      <td>-99.99</td>\n",
       "      <td>-99.99</td>\n",
       "      <td>-99.99</td>\n",
       "      <td>-99.99</td>\n",
       "      <td>39.45</td>\n",
       "      <td>66.33</td>\n",
       "      <td>NaN</td>\n",
       "    </tr>\n",
       "    <tr>\n",
       "      <th>4</th>\n",
       "      <td>110</td>\n",
       "      <td>0</td>\n",
       "      <td>189505</td>\n",
       "      <td>2.88</td>\n",
       "      <td>59.94</td>\n",
       "      <td>0.04</td>\n",
       "      <td>-1.23</td>\n",
       "      <td>0.12</td>\n",
       "      <td>-1.08</td>\n",
       "      <td>88</td>\n",
       "      <td>...</td>\n",
       "      <td>-0.03</td>\n",
       "      <td>-0.78</td>\n",
       "      <td>-1.15</td>\n",
       "      <td>-99.99</td>\n",
       "      <td>-99.99</td>\n",
       "      <td>-99.99</td>\n",
       "      <td>-99.99</td>\n",
       "      <td>47.05</td>\n",
       "      <td>72.81</td>\n",
       "      <td>NaN</td>\n",
       "    </tr>\n",
       "  </tbody>\n",
       "</table>\n",
       "<p>5 rows × 21 columns</p>\n",
       "</div>"
      ],
      "text/plain": [
       "   StateCode  Division  YearMonth      PCP     TAVG     PDSI     PHDI  \\\n",
       "0        110         0     189501     3.32    26.69     1.47     1.47   \n",
       "1        110         0     189502     1.41    26.60    -0.45     0.87   \n",
       "2        110         0     189503     1.99    39.97    -0.83    -0.83   \n",
       "3        110         0     189504     1.99    52.90    -1.42    -1.42   \n",
       "4        110         0     189505     2.88    59.94     0.04    -1.23   \n",
       "\n",
       "      ZNDX     PMDI      CDD     ...          SP01     SP02     SP03     SP06  \\\n",
       "0     4.42     1.47        6     ...          1.79   -99.99   -99.99   -99.99   \n",
       "1    -1.35     0.07        1     ...         -1.69     0.52   -99.99   -99.99   \n",
       "2    -1.28    -0.83       13     ...         -1.09    -2.11    -0.16   -99.99   \n",
       "3    -2.02    -1.42       27     ...         -1.24    -1.62    -2.86   -99.99   \n",
       "4     0.12    -1.08       88     ...         -0.03    -0.78    -1.15   -99.99   \n",
       "\n",
       "      SP09     SP12     SP24     TMIN     TMAX  Unnamed: 20  \n",
       "0   -99.99   -99.99   -99.99    16.52    36.86          NaN  \n",
       "1   -99.99   -99.99   -99.99    15.57    37.65          NaN  \n",
       "2   -99.99   -99.99   -99.99    27.86    52.07          NaN  \n",
       "3   -99.99   -99.99   -99.99    39.45    66.33          NaN  \n",
       "4   -99.99   -99.99   -99.99    47.05    72.81          NaN  \n",
       "\n",
       "[5 rows x 21 columns]"
      ]
     },
     "execution_count": 336,
     "metadata": {},
     "output_type": "execute_result"
    }
   ],
   "source": [
    "df = pd.read_csv('data/climate/CDODiv8449537379627.txt')\n",
    "df.head()"
   ]
  },
  {
   "cell_type": "markdown",
   "metadata": {},
   "source": [
    "## Hmmm, `-99.99` doesn't seem like good data!\n",
    "\n",
    "And if you read [the documentation](ftp://ftp.ncdc.noaa.gov/pub/data/cirs/climdiv/divisional-readme.txt), you find out it means MISSING DATA. Get rid of those -99.99s however you think is best."
   ]
  },
  {
   "cell_type": "code",
   "execution_count": 337,
   "metadata": {},
   "outputs": [
    {
     "data": {
      "text/html": [
       "<div>\n",
       "<style>\n",
       "    .dataframe thead tr:only-child th {\n",
       "        text-align: right;\n",
       "    }\n",
       "\n",
       "    .dataframe thead th {\n",
       "        text-align: left;\n",
       "    }\n",
       "\n",
       "    .dataframe tbody tr th {\n",
       "        vertical-align: top;\n",
       "    }\n",
       "</style>\n",
       "<table border=\"1\" class=\"dataframe\">\n",
       "  <thead>\n",
       "    <tr style=\"text-align: right;\">\n",
       "      <th></th>\n",
       "      <th>StateCode</th>\n",
       "      <th>Division</th>\n",
       "      <th>YearMonth</th>\n",
       "      <th>PCP</th>\n",
       "      <th>TAVG</th>\n",
       "      <th>PDSI</th>\n",
       "      <th>PHDI</th>\n",
       "      <th>ZNDX</th>\n",
       "      <th>PMDI</th>\n",
       "      <th>CDD</th>\n",
       "      <th>...</th>\n",
       "      <th>SP01</th>\n",
       "      <th>SP02</th>\n",
       "      <th>SP03</th>\n",
       "      <th>SP06</th>\n",
       "      <th>SP09</th>\n",
       "      <th>SP12</th>\n",
       "      <th>SP24</th>\n",
       "      <th>TMIN</th>\n",
       "      <th>TMAX</th>\n",
       "      <th>Unnamed: 20</th>\n",
       "    </tr>\n",
       "  </thead>\n",
       "  <tbody>\n",
       "    <tr>\n",
       "      <th>0</th>\n",
       "      <td>110</td>\n",
       "      <td>0</td>\n",
       "      <td>189501</td>\n",
       "      <td>3.32</td>\n",
       "      <td>26.69</td>\n",
       "      <td>1.47</td>\n",
       "      <td>1.47</td>\n",
       "      <td>4.42</td>\n",
       "      <td>1.47</td>\n",
       "      <td>6</td>\n",
       "      <td>...</td>\n",
       "      <td>1.79</td>\n",
       "      <td>NaN</td>\n",
       "      <td>NaN</td>\n",
       "      <td>NaN</td>\n",
       "      <td>NaN</td>\n",
       "      <td>NaN</td>\n",
       "      <td>NaN</td>\n",
       "      <td>16.52</td>\n",
       "      <td>36.86</td>\n",
       "      <td>NaN</td>\n",
       "    </tr>\n",
       "    <tr>\n",
       "      <th>1</th>\n",
       "      <td>110</td>\n",
       "      <td>0</td>\n",
       "      <td>189502</td>\n",
       "      <td>1.41</td>\n",
       "      <td>26.60</td>\n",
       "      <td>-0.45</td>\n",
       "      <td>0.87</td>\n",
       "      <td>-1.35</td>\n",
       "      <td>0.07</td>\n",
       "      <td>1</td>\n",
       "      <td>...</td>\n",
       "      <td>-1.69</td>\n",
       "      <td>0.52</td>\n",
       "      <td>NaN</td>\n",
       "      <td>NaN</td>\n",
       "      <td>NaN</td>\n",
       "      <td>NaN</td>\n",
       "      <td>NaN</td>\n",
       "      <td>15.57</td>\n",
       "      <td>37.65</td>\n",
       "      <td>NaN</td>\n",
       "    </tr>\n",
       "    <tr>\n",
       "      <th>2</th>\n",
       "      <td>110</td>\n",
       "      <td>0</td>\n",
       "      <td>189503</td>\n",
       "      <td>1.99</td>\n",
       "      <td>39.97</td>\n",
       "      <td>-0.83</td>\n",
       "      <td>-0.83</td>\n",
       "      <td>-1.28</td>\n",
       "      <td>-0.83</td>\n",
       "      <td>13</td>\n",
       "      <td>...</td>\n",
       "      <td>-1.09</td>\n",
       "      <td>-2.11</td>\n",
       "      <td>-0.16</td>\n",
       "      <td>NaN</td>\n",
       "      <td>NaN</td>\n",
       "      <td>NaN</td>\n",
       "      <td>NaN</td>\n",
       "      <td>27.86</td>\n",
       "      <td>52.07</td>\n",
       "      <td>NaN</td>\n",
       "    </tr>\n",
       "    <tr>\n",
       "      <th>3</th>\n",
       "      <td>110</td>\n",
       "      <td>0</td>\n",
       "      <td>189504</td>\n",
       "      <td>1.99</td>\n",
       "      <td>52.90</td>\n",
       "      <td>-1.42</td>\n",
       "      <td>-1.42</td>\n",
       "      <td>-2.02</td>\n",
       "      <td>-1.42</td>\n",
       "      <td>27</td>\n",
       "      <td>...</td>\n",
       "      <td>-1.24</td>\n",
       "      <td>-1.62</td>\n",
       "      <td>-2.86</td>\n",
       "      <td>NaN</td>\n",
       "      <td>NaN</td>\n",
       "      <td>NaN</td>\n",
       "      <td>NaN</td>\n",
       "      <td>39.45</td>\n",
       "      <td>66.33</td>\n",
       "      <td>NaN</td>\n",
       "    </tr>\n",
       "    <tr>\n",
       "      <th>4</th>\n",
       "      <td>110</td>\n",
       "      <td>0</td>\n",
       "      <td>189505</td>\n",
       "      <td>2.88</td>\n",
       "      <td>59.94</td>\n",
       "      <td>0.04</td>\n",
       "      <td>-1.23</td>\n",
       "      <td>0.12</td>\n",
       "      <td>-1.08</td>\n",
       "      <td>88</td>\n",
       "      <td>...</td>\n",
       "      <td>-0.03</td>\n",
       "      <td>-0.78</td>\n",
       "      <td>-1.15</td>\n",
       "      <td>NaN</td>\n",
       "      <td>NaN</td>\n",
       "      <td>NaN</td>\n",
       "      <td>NaN</td>\n",
       "      <td>47.05</td>\n",
       "      <td>72.81</td>\n",
       "      <td>NaN</td>\n",
       "    </tr>\n",
       "  </tbody>\n",
       "</table>\n",
       "<p>5 rows × 21 columns</p>\n",
       "</div>"
      ],
      "text/plain": [
       "   StateCode  Division  YearMonth      PCP     TAVG     PDSI     PHDI  \\\n",
       "0        110         0     189501     3.32    26.69     1.47     1.47   \n",
       "1        110         0     189502     1.41    26.60    -0.45     0.87   \n",
       "2        110         0     189503     1.99    39.97    -0.83    -0.83   \n",
       "3        110         0     189504     1.99    52.90    -1.42    -1.42   \n",
       "4        110         0     189505     2.88    59.94     0.04    -1.23   \n",
       "\n",
       "      ZNDX     PMDI      CDD     ...          SP01     SP02     SP03     SP06  \\\n",
       "0     4.42     1.47        6     ...          1.79      NaN      NaN      NaN   \n",
       "1    -1.35     0.07        1     ...         -1.69     0.52      NaN      NaN   \n",
       "2    -1.28    -0.83       13     ...         -1.09    -2.11    -0.16      NaN   \n",
       "3    -2.02    -1.42       27     ...         -1.24    -1.62    -2.86      NaN   \n",
       "4     0.12    -1.08       88     ...         -0.03    -0.78    -1.15      NaN   \n",
       "\n",
       "      SP09     SP12     SP24     TMIN     TMAX  Unnamed: 20  \n",
       "0      NaN      NaN      NaN    16.52    36.86          NaN  \n",
       "1      NaN      NaN      NaN    15.57    37.65          NaN  \n",
       "2      NaN      NaN      NaN    27.86    52.07          NaN  \n",
       "3      NaN      NaN      NaN    39.45    66.33          NaN  \n",
       "4      NaN      NaN      NaN    47.05    72.81          NaN  \n",
       "\n",
       "[5 rows x 21 columns]"
      ]
     },
     "execution_count": 337,
     "metadata": {},
     "output_type": "execute_result"
    }
   ],
   "source": [
    "df = pd.read_csv('data/climate/CDODiv8449537379627.txt', na_values=[-99.99])\n",
    "df.head()"
   ]
  },
  {
   "cell_type": "markdown",
   "metadata": {},
   "source": [
    "## Wait, there's even more missing data!\n",
    "\n",
    "Open up [the documentation](ftp://ftp.ncdc.noaa.gov/pub/data/cirs/climdiv/divisional-readme.txt) and look for the other values that are \"missing.\"\n",
    "\n",
    "- Tip: don't read all of the documentation, use the power of searching!"
   ]
  },
  {
   "cell_type": "code",
   "execution_count": 338,
   "metadata": {},
   "outputs": [
    {
     "data": {
      "text/html": [
       "<div>\n",
       "<style>\n",
       "    .dataframe thead tr:only-child th {\n",
       "        text-align: right;\n",
       "    }\n",
       "\n",
       "    .dataframe thead th {\n",
       "        text-align: left;\n",
       "    }\n",
       "\n",
       "    .dataframe tbody tr th {\n",
       "        vertical-align: top;\n",
       "    }\n",
       "</style>\n",
       "<table border=\"1\" class=\"dataframe\">\n",
       "  <thead>\n",
       "    <tr style=\"text-align: right;\">\n",
       "      <th></th>\n",
       "      <th>StateCode</th>\n",
       "      <th>Division</th>\n",
       "      <th>YearMonth</th>\n",
       "      <th>PCP</th>\n",
       "      <th>TAVG</th>\n",
       "      <th>PDSI</th>\n",
       "      <th>PHDI</th>\n",
       "      <th>ZNDX</th>\n",
       "      <th>PMDI</th>\n",
       "      <th>CDD</th>\n",
       "      <th>...</th>\n",
       "      <th>SP01</th>\n",
       "      <th>SP02</th>\n",
       "      <th>SP03</th>\n",
       "      <th>SP06</th>\n",
       "      <th>SP09</th>\n",
       "      <th>SP12</th>\n",
       "      <th>SP24</th>\n",
       "      <th>TMIN</th>\n",
       "      <th>TMAX</th>\n",
       "      <th>Unnamed: 20</th>\n",
       "    </tr>\n",
       "  </thead>\n",
       "  <tbody>\n",
       "    <tr>\n",
       "      <th>0</th>\n",
       "      <td>110</td>\n",
       "      <td>0</td>\n",
       "      <td>189501</td>\n",
       "      <td>3.32</td>\n",
       "      <td>26.69</td>\n",
       "      <td>1.47</td>\n",
       "      <td>1.47</td>\n",
       "      <td>4.42</td>\n",
       "      <td>1.47</td>\n",
       "      <td>6</td>\n",
       "      <td>...</td>\n",
       "      <td>1.79</td>\n",
       "      <td>NaN</td>\n",
       "      <td>NaN</td>\n",
       "      <td>NaN</td>\n",
       "      <td>NaN</td>\n",
       "      <td>NaN</td>\n",
       "      <td>NaN</td>\n",
       "      <td>16.52</td>\n",
       "      <td>36.86</td>\n",
       "      <td>NaN</td>\n",
       "    </tr>\n",
       "    <tr>\n",
       "      <th>1</th>\n",
       "      <td>110</td>\n",
       "      <td>0</td>\n",
       "      <td>189502</td>\n",
       "      <td>1.41</td>\n",
       "      <td>26.60</td>\n",
       "      <td>-0.45</td>\n",
       "      <td>0.87</td>\n",
       "      <td>-1.35</td>\n",
       "      <td>0.07</td>\n",
       "      <td>1</td>\n",
       "      <td>...</td>\n",
       "      <td>-1.69</td>\n",
       "      <td>0.52</td>\n",
       "      <td>NaN</td>\n",
       "      <td>NaN</td>\n",
       "      <td>NaN</td>\n",
       "      <td>NaN</td>\n",
       "      <td>NaN</td>\n",
       "      <td>15.57</td>\n",
       "      <td>37.65</td>\n",
       "      <td>NaN</td>\n",
       "    </tr>\n",
       "    <tr>\n",
       "      <th>2</th>\n",
       "      <td>110</td>\n",
       "      <td>0</td>\n",
       "      <td>189503</td>\n",
       "      <td>1.99</td>\n",
       "      <td>39.97</td>\n",
       "      <td>-0.83</td>\n",
       "      <td>-0.83</td>\n",
       "      <td>-1.28</td>\n",
       "      <td>-0.83</td>\n",
       "      <td>13</td>\n",
       "      <td>...</td>\n",
       "      <td>-1.09</td>\n",
       "      <td>-2.11</td>\n",
       "      <td>-0.16</td>\n",
       "      <td>NaN</td>\n",
       "      <td>NaN</td>\n",
       "      <td>NaN</td>\n",
       "      <td>NaN</td>\n",
       "      <td>27.86</td>\n",
       "      <td>52.07</td>\n",
       "      <td>NaN</td>\n",
       "    </tr>\n",
       "    <tr>\n",
       "      <th>3</th>\n",
       "      <td>110</td>\n",
       "      <td>0</td>\n",
       "      <td>189504</td>\n",
       "      <td>1.99</td>\n",
       "      <td>52.90</td>\n",
       "      <td>-1.42</td>\n",
       "      <td>-1.42</td>\n",
       "      <td>-2.02</td>\n",
       "      <td>-1.42</td>\n",
       "      <td>27</td>\n",
       "      <td>...</td>\n",
       "      <td>-1.24</td>\n",
       "      <td>-1.62</td>\n",
       "      <td>-2.86</td>\n",
       "      <td>NaN</td>\n",
       "      <td>NaN</td>\n",
       "      <td>NaN</td>\n",
       "      <td>NaN</td>\n",
       "      <td>39.45</td>\n",
       "      <td>66.33</td>\n",
       "      <td>NaN</td>\n",
       "    </tr>\n",
       "    <tr>\n",
       "      <th>4</th>\n",
       "      <td>110</td>\n",
       "      <td>0</td>\n",
       "      <td>189505</td>\n",
       "      <td>2.88</td>\n",
       "      <td>59.94</td>\n",
       "      <td>0.04</td>\n",
       "      <td>-1.23</td>\n",
       "      <td>0.12</td>\n",
       "      <td>-1.08</td>\n",
       "      <td>88</td>\n",
       "      <td>...</td>\n",
       "      <td>-0.03</td>\n",
       "      <td>-0.78</td>\n",
       "      <td>-1.15</td>\n",
       "      <td>NaN</td>\n",
       "      <td>NaN</td>\n",
       "      <td>NaN</td>\n",
       "      <td>NaN</td>\n",
       "      <td>47.05</td>\n",
       "      <td>72.81</td>\n",
       "      <td>NaN</td>\n",
       "    </tr>\n",
       "  </tbody>\n",
       "</table>\n",
       "<p>5 rows × 21 columns</p>\n",
       "</div>"
      ],
      "text/plain": [
       "   StateCode  Division  YearMonth      PCP     TAVG     PDSI     PHDI  \\\n",
       "0        110         0     189501     3.32    26.69     1.47     1.47   \n",
       "1        110         0     189502     1.41    26.60    -0.45     0.87   \n",
       "2        110         0     189503     1.99    39.97    -0.83    -0.83   \n",
       "3        110         0     189504     1.99    52.90    -1.42    -1.42   \n",
       "4        110         0     189505     2.88    59.94     0.04    -1.23   \n",
       "\n",
       "      ZNDX     PMDI      CDD     ...          SP01     SP02     SP03     SP06  \\\n",
       "0     4.42     1.47        6     ...          1.79      NaN      NaN      NaN   \n",
       "1    -1.35     0.07        1     ...         -1.69     0.52      NaN      NaN   \n",
       "2    -1.28    -0.83       13     ...         -1.09    -2.11    -0.16      NaN   \n",
       "3    -2.02    -1.42       27     ...         -1.24    -1.62    -2.86      NaN   \n",
       "4     0.12    -1.08       88     ...         -0.03    -0.78    -1.15      NaN   \n",
       "\n",
       "      SP09     SP12     SP24     TMIN     TMAX  Unnamed: 20  \n",
       "0      NaN      NaN      NaN    16.52    36.86          NaN  \n",
       "1      NaN      NaN      NaN    15.57    37.65          NaN  \n",
       "2      NaN      NaN      NaN    27.86    52.07          NaN  \n",
       "3      NaN      NaN      NaN    39.45    66.33          NaN  \n",
       "4      NaN      NaN      NaN    47.05    72.81          NaN  \n",
       "\n",
       "[5 rows x 21 columns]"
      ]
     },
     "execution_count": 338,
     "metadata": {},
     "output_type": "execute_result"
    }
   ],
   "source": [
    "df = pd.read_csv('data/climate/CDODiv8449537379627.txt', \n",
    "                 na_values=[\n",
    "                     -99.99,\n",
    "                     -99.90,\n",
    "                     -9.99,\n",
    "                     -9999])\n",
    "df.head()"
   ]
  },
  {
   "cell_type": "markdown",
   "metadata": {},
   "source": [
    "## Confirm that you have 1465 rows and 21 columns"
   ]
  },
  {
   "cell_type": "code",
   "execution_count": 339,
   "metadata": {},
   "outputs": [
    {
     "data": {
      "text/plain": [
       "(1465, 21)"
      ]
     },
     "execution_count": 339,
     "metadata": {},
     "output_type": "execute_result"
    }
   ],
   "source": [
    "df.shape"
   ]
  },
  {
   "cell_type": "markdown",
   "metadata": {},
   "source": [
    "## Let's see the columns and their data types"
   ]
  },
  {
   "cell_type": "code",
   "execution_count": 340,
   "metadata": {},
   "outputs": [
    {
     "data": {
      "text/plain": [
       "StateCode        int64\n",
       "Division         int64\n",
       "YearMonth        int64\n",
       "    PCP        float64\n",
       "   TAVG        float64\n",
       "   PDSI        float64\n",
       "   PHDI        float64\n",
       "   ZNDX        float64\n",
       "   PMDI        float64\n",
       "    CDD          int64\n",
       "    HDD          int64\n",
       "   SP01        float64\n",
       "   SP02        float64\n",
       "   SP03        float64\n",
       "   SP06        float64\n",
       "   SP09        float64\n",
       "   SP12        float64\n",
       "   SP24        float64\n",
       "   TMIN        float64\n",
       "   TMAX        float64\n",
       "Unnamed: 20    float64\n",
       "dtype: object"
      ]
     },
     "execution_count": 340,
     "metadata": {},
     "output_type": "execute_result"
    }
   ],
   "source": [
    "df.dtypes"
   ]
  },
  {
   "cell_type": "markdown",
   "metadata": {},
   "source": [
    "## Uuuuhhh something is weird\n",
    "\n",
    "Try to get the average `TMAX`. It *probably* will not work. Why not?"
   ]
  },
  {
   "cell_type": "code",
   "execution_count": 341,
   "metadata": {
    "collapsed": true
   },
   "outputs": [],
   "source": [
    "# There are spaces."
   ]
  },
  {
   "cell_type": "markdown",
   "metadata": {},
   "source": [
    "## Cleaning up"
   ]
  },
  {
   "cell_type": "markdown",
   "metadata": {},
   "source": [
    "### Fix the column names!\n",
    "\n",
    "Right now TMAX (and the rest of the column names) are looking pretty bad. Let's turn them into normal columns! **If you couldn't figure out what's wrong with them, ask!**\n",
    "\n",
    "- Tip: You can get a list of the columns by using `df.columns`.\n",
    "- Tip: You can actually treat them just like a pandas column\n",
    "- Tip: What would you use if you had to remove whitespace (spaces) from the left and right of a column in pandas?\n",
    "- Tip: Instead of using rename, you can set the columns to something new with `df.columns = blah blah blah` (but be sure to **check that your edited ones are right** before you assign them)"
   ]
  },
  {
   "cell_type": "code",
   "execution_count": 342,
   "metadata": {},
   "outputs": [
    {
     "data": {
      "text/plain": [
       "Index(['StateCode', 'Division', 'YearMonth', 'PCP', 'TAVG', 'PDSI', 'PHDI',\n",
       "       'ZNDX', 'PMDI', 'CDD', 'HDD', 'SP01', 'SP02', 'SP03', 'SP06', 'SP09',\n",
       "       'SP12', 'SP24', 'TMIN', 'TMAX', 'Unnamed: 20'],\n",
       "      dtype='object')"
      ]
     },
     "execution_count": 342,
     "metadata": {},
     "output_type": "execute_result"
    }
   ],
   "source": [
    "df.columns = [c.strip() for c in df.columns.values]\n",
    "df.columns"
   ]
  },
  {
   "cell_type": "markdown",
   "metadata": {},
   "source": [
    "### Find the hottest months recorded\n",
    "\n",
    "Just to make sure you cleaned it all up correctly - if you didn't clean the column titles, this won't work."
   ]
  },
  {
   "cell_type": "code",
   "execution_count": 343,
   "metadata": {},
   "outputs": [
    {
     "data": {
      "text/plain": [
       "YearMonth\n",
       "193607    90.84\n",
       "193407    90.55\n",
       "190107    89.96\n",
       "201207    89.96\n",
       "200607    89.58\n",
       "Name: TMAX, dtype: float64"
      ]
     },
     "execution_count": 343,
     "metadata": {},
     "output_type": "execute_result"
    }
   ],
   "source": [
    "df.groupby('YearMonth')['TMAX'].max().sort_values(ascending=False).head()"
   ]
  },
  {
   "cell_type": "markdown",
   "metadata": {},
   "source": [
    "## That \"Unnamed\" column doesn't actually do anything. Delete it!\n",
    "\n",
    "One of the things we talked about last class was **creating new dataframes** instead of editing our old ones. So we *could* do this:\n",
    "\n",
    "```python\n",
    "df = df[['col1', 'col2', 'col2', 'col3']]\n",
    "```\n",
    "\n",
    "**But don't do that!** I don't want you to type out all of those columns. I just want you to delete that column."
   ]
  },
  {
   "cell_type": "code",
   "execution_count": 344,
   "metadata": {
    "collapsed": true
   },
   "outputs": [],
   "source": [
    "df.drop('Unnamed: 20', axis=1, inplace=True)"
   ]
  },
  {
   "cell_type": "markdown",
   "metadata": {},
   "source": [
    "## What is the `YearMonth` column?\n",
    "\n",
    "What is its data type, and what is the content in it?"
   ]
  },
  {
   "cell_type": "code",
   "execution_count": 345,
   "metadata": {
    "collapsed": true
   },
   "outputs": [],
   "source": [
    "# It is an int representing the year and month (YYYYMM)"
   ]
  },
  {
   "cell_type": "markdown",
   "metadata": {},
   "source": [
    "## Convert `YearMonth` into a date (don't save it anywhere yet)\n",
    "\n",
    "**Be sure to pass a `format=` to the converter.** It will work automatically, but it's better to get practice.\n",
    "\n",
    "If you convert it correctly, it should look like...\n",
    "\n",
    "    0      1895-01-01\n",
    "    1      1895-02-01\n",
    "    2      1895-03-01\n",
    "    3      1895-04-01\n",
    "    ..."
   ]
  },
  {
   "cell_type": "code",
   "execution_count": 346,
   "metadata": {},
   "outputs": [
    {
     "data": {
      "text/plain": [
       "0   1895-01-01\n",
       "1   1895-02-01\n",
       "2   1895-03-01\n",
       "3   1895-04-01\n",
       "4   1895-05-01\n",
       "Name: YearMonth, dtype: datetime64[ns]"
      ]
     },
     "execution_count": 346,
     "metadata": {},
     "output_type": "execute_result"
    }
   ],
   "source": [
    "pd.to_datetime(df['YearMonth'], format='%Y%m').head()"
   ]
  },
  {
   "cell_type": "markdown",
   "metadata": {},
   "source": [
    "## Save this converted version into a new column called `Date`"
   ]
  },
  {
   "cell_type": "code",
   "execution_count": 347,
   "metadata": {
    "collapsed": true
   },
   "outputs": [],
   "source": [
    "df['date'] = pd.to_datetime(df['YearMonth'], format='%Y%m')"
   ]
  },
  {
   "cell_type": "markdown",
   "metadata": {},
   "source": [
    "### What is the datatype of the `Date` columns?"
   ]
  },
  {
   "cell_type": "code",
   "execution_count": 348,
   "metadata": {},
   "outputs": [
    {
     "data": {
      "text/plain": [
       "StateCode             int64\n",
       "Division              int64\n",
       "YearMonth             int64\n",
       "PCP                 float64\n",
       "TAVG                float64\n",
       "PDSI                float64\n",
       "PHDI                float64\n",
       "ZNDX                float64\n",
       "PMDI                float64\n",
       "CDD                   int64\n",
       "HDD                   int64\n",
       "SP01                float64\n",
       "SP02                float64\n",
       "SP03                float64\n",
       "SP06                float64\n",
       "SP09                float64\n",
       "SP12                float64\n",
       "SP24                float64\n",
       "TMIN                float64\n",
       "TMAX                float64\n",
       "date         datetime64[ns]\n",
       "dtype: object"
      ]
     },
     "execution_count": 348,
     "metadata": {},
     "output_type": "execute_result"
    }
   ],
   "source": [
    "df.dtypes"
   ]
  },
  {
   "cell_type": "markdown",
   "metadata": {},
   "source": [
    "# Graphing"
   ]
  },
  {
   "cell_type": "markdown",
   "metadata": {},
   "source": [
    "## Graph the maximum temperature over time using the old `YearMonth` column\n",
    "\n",
    "Make it so wide it **extends across your entire screen**."
   ]
  },
  {
   "cell_type": "code",
   "execution_count": 349,
   "metadata": {},
   "outputs": [
    {
     "data": {
      "text/plain": [
       "<matplotlib.axes._subplots.AxesSubplot at 0x119e42160>"
      ]
     },
     "execution_count": 349,
     "metadata": {},
     "output_type": "execute_result"
    },
    {
     "data": {
      "image/png": "[encoded data removed]",
      "text/plain": [
       "<matplotlib.figure.Figure at 0x11403aeb8>"
      ]
     },
     "metadata": {},
     "output_type": "display_data"
    }
   ],
   "source": [
    "%matplotlib inline\n",
    "df.groupby('YearMonth')['TMAX'].max().plot(figsize=(20,4))"
   ]
  },
  {
   "cell_type": "markdown",
   "metadata": {},
   "source": [
    "## Graph the maximum temperature over time using the new `Date` column\n",
    "\n",
    "Make it so wide it **extends across your entire screen**."
   ]
  },
  {
   "cell_type": "code",
   "execution_count": 350,
   "metadata": {},
   "outputs": [
    {
     "data": {
      "text/plain": [
       "<matplotlib.axes._subplots.AxesSubplot at 0x1184ff5c0>"
      ]
     },
     "execution_count": 350,
     "metadata": {},
     "output_type": "execute_result"
    },
    {
     "data": {
      "image/png": "[encoded data removed]",
      "text/plain": [
       "<matplotlib.figure.Figure at 0x1192e4ac8>"
      ]
     },
     "metadata": {},
     "output_type": "display_data"
    }
   ],
   "source": [
    "df.groupby('date')['TMAX'].max().plot(figsize=(20,4))"
   ]
  },
  {
   "cell_type": "markdown",
   "metadata": {},
   "source": [
    "## How do they look different? Which one is better, and why?"
   ]
  },
  {
   "cell_type": "code",
   "execution_count": 351,
   "metadata": {
    "collapsed": true
   },
   "outputs": [],
   "source": [
    "# The second one shows the dates and adapt itself to the values and figsize"
   ]
  },
  {
   "cell_type": "markdown",
   "metadata": {},
   "source": [
    "# Resampling\n",
    "\n",
    "Check that you have pandas 0.19.0 or newer by typing `pd.__version__`. If you have an earlier version, use `pip install -U pandas` to update."
   ]
  },
  {
   "cell_type": "code",
   "execution_count": 352,
   "metadata": {},
   "outputs": [
    {
     "data": {
      "text/plain": [
       "'0.20.2'"
      ]
     },
     "execution_count": 352,
     "metadata": {},
     "output_type": "execute_result"
    }
   ],
   "source": [
    "pd.__version__"
   ]
  },
  {
   "cell_type": "markdown",
   "metadata": {},
   "source": [
    "## View the average yearly temperature\n",
    "\n",
    "**Don't use `.set_index` yet.** When using `resample`, you can also say `on='colname'` in order to say \"resample using this column instead of using the index. Use that here."
   ]
  },
  {
   "cell_type": "code",
   "execution_count": 353,
   "metadata": {},
   "outputs": [
    {
     "data": {
      "text/plain": [
       "date\n",
       "1895-12-31    62.571667\n",
       "1896-12-31    63.735833\n",
       "1897-12-31    63.395833\n",
       "1898-12-31    63.309167\n",
       "1899-12-31    62.930000\n",
       "Freq: A-DEC, Name: TMAX, dtype: float64"
      ]
     },
     "execution_count": 353,
     "metadata": {},
     "output_type": "execute_result"
    }
   ],
   "source": [
    "df.resample(on='date', rule='A')['TMAX'].mean().head()"
   ]
  },
  {
   "cell_type": "markdown",
   "metadata": {},
   "source": [
    "## Graph the average annual temperature\n",
    "\n",
    "Be sure ot make it **nice and wide**."
   ]
  },
  {
   "cell_type": "code",
   "execution_count": 354,
   "metadata": {},
   "outputs": [
    {
     "data": {
      "text/plain": [
       "<matplotlib.axes._subplots.AxesSubplot at 0x11a2db0f0>"
      ]
     },
     "execution_count": 354,
     "metadata": {},
     "output_type": "execute_result"
    },
    {
     "data": {
      "image/png": "[encoded data removed]",
      "text/plain": [
       "<matplotlib.figure.Figure at 0x11a7a3c18>"
      ]
     },
     "metadata": {},
     "output_type": "display_data"
    }
   ],
   "source": [
    "df.resample(on='date', rule='A')['TMAX'].mean().plot(figsize=(20,4))"
   ]
  },
  {
   "cell_type": "markdown",
   "metadata": {},
   "source": [
    "## What's wrong with the right-hand side?\n",
    "\n",
    "Use `.set_index` to get a datetime index and then examine the months in 1990 and the months in 2017 and see what's different about them."
   ]
  },
  {
   "cell_type": "code",
   "execution_count": 355,
   "metadata": {
    "collapsed": true
   },
   "outputs": [],
   "source": [
    "df.set_index('date', inplace=True)"
   ]
  },
  {
   "cell_type": "code",
   "execution_count": 356,
   "metadata": {},
   "outputs": [
    {
     "data": {
      "text/html": [
       "<div>\n",
       "<style>\n",
       "    .dataframe thead tr:only-child th {\n",
       "        text-align: right;\n",
       "    }\n",
       "\n",
       "    .dataframe thead th {\n",
       "        text-align: left;\n",
       "    }\n",
       "\n",
       "    .dataframe tbody tr th {\n",
       "        vertical-align: top;\n",
       "    }\n",
       "</style>\n",
       "<table border=\"1\" class=\"dataframe\">\n",
       "  <thead>\n",
       "    <tr style=\"text-align: right;\">\n",
       "      <th></th>\n",
       "      <th>StateCode</th>\n",
       "      <th>Division</th>\n",
       "      <th>YearMonth</th>\n",
       "      <th>PCP</th>\n",
       "      <th>TAVG</th>\n",
       "      <th>PDSI</th>\n",
       "      <th>PHDI</th>\n",
       "      <th>ZNDX</th>\n",
       "      <th>PMDI</th>\n",
       "      <th>CDD</th>\n",
       "      <th>HDD</th>\n",
       "      <th>SP01</th>\n",
       "      <th>SP02</th>\n",
       "      <th>SP03</th>\n",
       "      <th>SP06</th>\n",
       "      <th>SP09</th>\n",
       "      <th>SP12</th>\n",
       "      <th>SP24</th>\n",
       "      <th>TMIN</th>\n",
       "      <th>TMAX</th>\n",
       "    </tr>\n",
       "    <tr>\n",
       "      <th>date</th>\n",
       "      <th></th>\n",
       "      <th></th>\n",
       "      <th></th>\n",
       "      <th></th>\n",
       "      <th></th>\n",
       "      <th></th>\n",
       "      <th></th>\n",
       "      <th></th>\n",
       "      <th></th>\n",
       "      <th></th>\n",
       "      <th></th>\n",
       "      <th></th>\n",
       "      <th></th>\n",
       "      <th></th>\n",
       "      <th></th>\n",
       "      <th></th>\n",
       "      <th></th>\n",
       "      <th></th>\n",
       "      <th></th>\n",
       "      <th></th>\n",
       "    </tr>\n",
       "  </thead>\n",
       "  <tbody>\n",
       "    <tr>\n",
       "      <th>1990-01-01</th>\n",
       "      <td>110</td>\n",
       "      <td>0</td>\n",
       "      <td>199001</td>\n",
       "      <td>2.79</td>\n",
       "      <td>36.50</td>\n",
       "      <td>-1.68</td>\n",
       "      <td>-1.68</td>\n",
       "      <td>-0.94</td>\n",
       "      <td>-1.68</td>\n",
       "      <td>15</td>\n",
       "      <td>727</td>\n",
       "      <td>0.95</td>\n",
       "      <td>-0.64</td>\n",
       "      <td>-0.97</td>\n",
       "      <td>-0.68</td>\n",
       "      <td>0.09</td>\n",
       "      <td>-0.14</td>\n",
       "      <td>-1.17</td>\n",
       "      <td>25.83</td>\n",
       "      <td>47.16</td>\n",
       "    </tr>\n",
       "    <tr>\n",
       "      <th>1990-02-01</th>\n",
       "      <td>110</td>\n",
       "      <td>0</td>\n",
       "      <td>199002</td>\n",
       "      <td>2.68</td>\n",
       "      <td>36.70</td>\n",
       "      <td>0.58</td>\n",
       "      <td>-0.92</td>\n",
       "      <td>1.75</td>\n",
       "      <td>0.02</td>\n",
       "      <td>15</td>\n",
       "      <td>650</td>\n",
       "      <td>1.27</td>\n",
       "      <td>1.52</td>\n",
       "      <td>0.07</td>\n",
       "      <td>-0.40</td>\n",
       "      <td>0.18</td>\n",
       "      <td>0.13</td>\n",
       "      <td>-0.83</td>\n",
       "      <td>25.23</td>\n",
       "      <td>48.15</td>\n",
       "    </tr>\n",
       "    <tr>\n",
       "      <th>1990-03-01</th>\n",
       "      <td>110</td>\n",
       "      <td>0</td>\n",
       "      <td>199003</td>\n",
       "      <td>2.71</td>\n",
       "      <td>44.74</td>\n",
       "      <td>0.40</td>\n",
       "      <td>-0.96</td>\n",
       "      <td>-0.38</td>\n",
       "      <td>-0.17</td>\n",
       "      <td>22</td>\n",
       "      <td>532</td>\n",
       "      <td>0.48</td>\n",
       "      <td>1.12</td>\n",
       "      <td>1.44</td>\n",
       "      <td>-0.38</td>\n",
       "      <td>-0.14</td>\n",
       "      <td>0.06</td>\n",
       "      <td>-0.63</td>\n",
       "      <td>33.37</td>\n",
       "      <td>56.12</td>\n",
       "    </tr>\n",
       "    <tr>\n",
       "      <th>1990-04-01</th>\n",
       "      <td>110</td>\n",
       "      <td>0</td>\n",
       "      <td>199004</td>\n",
       "      <td>2.49</td>\n",
       "      <td>52.52</td>\n",
       "      <td>0.21</td>\n",
       "      <td>-1.00</td>\n",
       "      <td>-0.43</td>\n",
       "      <td>-0.39</td>\n",
       "      <td>30</td>\n",
       "      <td>325</td>\n",
       "      <td>-0.04</td>\n",
       "      <td>0.32</td>\n",
       "      <td>0.88</td>\n",
       "      <td>-0.13</td>\n",
       "      <td>-0.16</td>\n",
       "      <td>0.41</td>\n",
       "      <td>-0.59</td>\n",
       "      <td>40.01</td>\n",
       "      <td>64.99</td>\n",
       "    </tr>\n",
       "    <tr>\n",
       "      <th>1990-05-01</th>\n",
       "      <td>110</td>\n",
       "      <td>0</td>\n",
       "      <td>199005</td>\n",
       "      <td>3.83</td>\n",
       "      <td>58.86</td>\n",
       "      <td>1.25</td>\n",
       "      <td>1.25</td>\n",
       "      <td>3.17</td>\n",
       "      <td>1.25</td>\n",
       "      <td>91</td>\n",
       "      <td>193</td>\n",
       "      <td>1.71</td>\n",
       "      <td>1.16</td>\n",
       "      <td>1.08</td>\n",
       "      <td>0.79</td>\n",
       "      <td>0.25</td>\n",
       "      <td>0.64</td>\n",
       "      <td>-0.15</td>\n",
       "      <td>46.83</td>\n",
       "      <td>70.90</td>\n",
       "    </tr>\n",
       "    <tr>\n",
       "      <th>1990-06-01</th>\n",
       "      <td>110</td>\n",
       "      <td>0</td>\n",
       "      <td>199006</td>\n",
       "      <td>2.50</td>\n",
       "      <td>70.23</td>\n",
       "      <td>-0.50</td>\n",
       "      <td>0.62</td>\n",
       "      <td>-1.49</td>\n",
       "      <td>-0.37</td>\n",
       "      <td>233</td>\n",
       "      <td>33</td>\n",
       "      <td>-0.99</td>\n",
       "      <td>0.61</td>\n",
       "      <td>0.45</td>\n",
       "      <td>1.29</td>\n",
       "      <td>-0.11</td>\n",
       "      <td>0.05</td>\n",
       "      <td>0.11</td>\n",
       "      <td>57.22</td>\n",
       "      <td>83.25</td>\n",
       "    </tr>\n",
       "    <tr>\n",
       "      <th>1990-07-01</th>\n",
       "      <td>110</td>\n",
       "      <td>0</td>\n",
       "      <td>199007</td>\n",
       "      <td>2.94</td>\n",
       "      <td>73.26</td>\n",
       "      <td>-0.25</td>\n",
       "      <td>0.75</td>\n",
       "      <td>0.59</td>\n",
       "      <td>0.09</td>\n",
       "      <td>315</td>\n",
       "      <td>7</td>\n",
       "      <td>0.39</td>\n",
       "      <td>-0.49</td>\n",
       "      <td>0.63</td>\n",
       "      <td>0.93</td>\n",
       "      <td>0.12</td>\n",
       "      <td>0.07</td>\n",
       "      <td>0.16</td>\n",
       "      <td>60.76</td>\n",
       "      <td>85.75</td>\n",
       "    </tr>\n",
       "    <tr>\n",
       "      <th>1990-08-01</th>\n",
       "      <td>110</td>\n",
       "      <td>0</td>\n",
       "      <td>199008</td>\n",
       "      <td>2.65</td>\n",
       "      <td>72.28</td>\n",
       "      <td>-0.14</td>\n",
       "      <td>0.76</td>\n",
       "      <td>0.25</td>\n",
       "      <td>0.18</td>\n",
       "      <td>289</td>\n",
       "      <td>12</td>\n",
       "      <td>0.12</td>\n",
       "      <td>0.27</td>\n",
       "      <td>-0.40</td>\n",
       "      <td>0.53</td>\n",
       "      <td>0.43</td>\n",
       "      <td>0.04</td>\n",
       "      <td>0.19</td>\n",
       "      <td>59.63</td>\n",
       "      <td>84.90</td>\n",
       "    </tr>\n",
       "    <tr>\n",
       "      <th>1990-09-01</th>\n",
       "      <td>110</td>\n",
       "      <td>0</td>\n",
       "      <td>199009</td>\n",
       "      <td>2.04</td>\n",
       "      <td>67.35</td>\n",
       "      <td>-0.80</td>\n",
       "      <td>-0.80</td>\n",
       "      <td>-2.01</td>\n",
       "      <td>-0.80</td>\n",
       "      <td>171</td>\n",
       "      <td>59</td>\n",
       "      <td>-0.99</td>\n",
       "      <td>-0.67</td>\n",
       "      <td>-0.35</td>\n",
       "      <td>0.09</td>\n",
       "      <td>0.87</td>\n",
       "      <td>-0.24</td>\n",
       "      <td>-0.05</td>\n",
       "      <td>54.34</td>\n",
       "      <td>80.37</td>\n",
       "    </tr>\n",
       "    <tr>\n",
       "      <th>1990-10-01</th>\n",
       "      <td>110</td>\n",
       "      <td>0</td>\n",
       "      <td>199010</td>\n",
       "      <td>2.76</td>\n",
       "      <td>53.98</td>\n",
       "      <td>0.57</td>\n",
       "      <td>0.57</td>\n",
       "      <td>1.72</td>\n",
       "      <td>0.57</td>\n",
       "      <td>56</td>\n",
       "      <td>250</td>\n",
       "      <td>0.93</td>\n",
       "      <td>0.12</td>\n",
       "      <td>0.13</td>\n",
       "      <td>0.49</td>\n",
       "      <td>0.81</td>\n",
       "      <td>0.17</td>\n",
       "      <td>0.36</td>\n",
       "      <td>40.71</td>\n",
       "      <td>67.23</td>\n",
       "    </tr>\n",
       "    <tr>\n",
       "      <th>1990-11-01</th>\n",
       "      <td>110</td>\n",
       "      <td>0</td>\n",
       "      <td>199011</td>\n",
       "      <td>2.09</td>\n",
       "      <td>44.92</td>\n",
       "      <td>0.25</td>\n",
       "      <td>0.25</td>\n",
       "      <td>-0.80</td>\n",
       "      <td>-0.39</td>\n",
       "      <td>18</td>\n",
       "      <td>466</td>\n",
       "      <td>-0.23</td>\n",
       "      <td>0.48</td>\n",
       "      <td>-0.03</td>\n",
       "      <td>-0.28</td>\n",
       "      <td>0.34</td>\n",
       "      <td>0.32</td>\n",
       "      <td>0.03</td>\n",
       "      <td>32.97</td>\n",
       "      <td>56.89</td>\n",
       "    </tr>\n",
       "    <tr>\n",
       "      <th>1990-12-01</th>\n",
       "      <td>110</td>\n",
       "      <td>0</td>\n",
       "      <td>199012</td>\n",
       "      <td>2.69</td>\n",
       "      <td>30.83</td>\n",
       "      <td>0.48</td>\n",
       "      <td>0.48</td>\n",
       "      <td>0.78</td>\n",
       "      <td>0.48</td>\n",
       "      <td>10</td>\n",
       "      <td>796</td>\n",
       "      <td>0.57</td>\n",
       "      <td>0.23</td>\n",
       "      <td>0.64</td>\n",
       "      <td>0.26</td>\n",
       "      <td>0.41</td>\n",
       "      <td>0.99</td>\n",
       "      <td>0.37</td>\n",
       "      <td>19.80</td>\n",
       "      <td>41.86</td>\n",
       "    </tr>\n",
       "  </tbody>\n",
       "</table>\n",
       "</div>"
      ],
      "text/plain": [
       "            StateCode  Division  YearMonth   PCP   TAVG  PDSI  PHDI  ZNDX  \\\n",
       "date                                                                        \n",
       "1990-01-01        110         0     199001  2.79  36.50 -1.68 -1.68 -0.94   \n",
       "1990-02-01        110         0     199002  2.68  36.70  0.58 -0.92  1.75   \n",
       "1990-03-01        110         0     199003  2.71  44.74  0.40 -0.96 -0.38   \n",
       "1990-04-01        110         0     199004  2.49  52.52  0.21 -1.00 -0.43   \n",
       "1990-05-01        110         0     199005  3.83  58.86  1.25  1.25  3.17   \n",
       "1990-06-01        110         0     199006  2.50  70.23 -0.50  0.62 -1.49   \n",
       "1990-07-01        110         0     199007  2.94  73.26 -0.25  0.75  0.59   \n",
       "1990-08-01        110         0     199008  2.65  72.28 -0.14  0.76  0.25   \n",
       "1990-09-01        110         0     199009  2.04  67.35 -0.80 -0.80 -2.01   \n",
       "1990-10-01        110         0     199010  2.76  53.98  0.57  0.57  1.72   \n",
       "1990-11-01        110         0     199011  2.09  44.92  0.25  0.25 -0.80   \n",
       "1990-12-01        110         0     199012  2.69  30.83  0.48  0.48  0.78   \n",
       "\n",
       "            PMDI  CDD  HDD  SP01  SP02  SP03  SP06  SP09  SP12  SP24   TMIN  \\\n",
       "date                                                                          \n",
       "1990-01-01 -1.68   15  727  0.95 -0.64 -0.97 -0.68  0.09 -0.14 -1.17  25.83   \n",
       "1990-02-01  0.02   15  650  1.27  1.52  0.07 -0.40  0.18  0.13 -0.83  25.23   \n",
       "1990-03-01 -0.17   22  532  0.48  1.12  1.44 -0.38 -0.14  0.06 -0.63  33.37   \n",
       "1990-04-01 -0.39   30  325 -0.04  0.32  0.88 -0.13 -0.16  0.41 -0.59  40.01   \n",
       "1990-05-01  1.25   91  193  1.71  1.16  1.08  0.79  0.25  0.64 -0.15  46.83   \n",
       "1990-06-01 -0.37  233   33 -0.99  0.61  0.45  1.29 -0.11  0.05  0.11  57.22   \n",
       "1990-07-01  0.09  315    7  0.39 -0.49  0.63  0.93  0.12  0.07  0.16  60.76   \n",
       "1990-08-01  0.18  289   12  0.12  0.27 -0.40  0.53  0.43  0.04  0.19  59.63   \n",
       "1990-09-01 -0.80  171   59 -0.99 -0.67 -0.35  0.09  0.87 -0.24 -0.05  54.34   \n",
       "1990-10-01  0.57   56  250  0.93  0.12  0.13  0.49  0.81  0.17  0.36  40.71   \n",
       "1990-11-01 -0.39   18  466 -0.23  0.48 -0.03 -0.28  0.34  0.32  0.03  32.97   \n",
       "1990-12-01  0.48   10  796  0.57  0.23  0.64  0.26  0.41  0.99  0.37  19.80   \n",
       "\n",
       "             TMAX  \n",
       "date               \n",
       "1990-01-01  47.16  \n",
       "1990-02-01  48.15  \n",
       "1990-03-01  56.12  \n",
       "1990-04-01  64.99  \n",
       "1990-05-01  70.90  \n",
       "1990-06-01  83.25  \n",
       "1990-07-01  85.75  \n",
       "1990-08-01  84.90  \n",
       "1990-09-01  80.37  \n",
       "1990-10-01  67.23  \n",
       "1990-11-01  56.89  \n",
       "1990-12-01  41.86  "
      ]
     },
     "execution_count": 356,
     "metadata": {},
     "output_type": "execute_result"
    }
   ],
   "source": [
    "df[df.index.year == 1990]"
   ]
  },
  {
   "cell_type": "code",
   "execution_count": 357,
   "metadata": {},
   "outputs": [
    {
     "data": {
      "text/html": [
       "<div>\n",
       "<style>\n",
       "    .dataframe thead tr:only-child th {\n",
       "        text-align: right;\n",
       "    }\n",
       "\n",
       "    .dataframe thead th {\n",
       "        text-align: left;\n",
       "    }\n",
       "\n",
       "    .dataframe tbody tr th {\n",
       "        vertical-align: top;\n",
       "    }\n",
       "</style>\n",
       "<table border=\"1\" class=\"dataframe\">\n",
       "  <thead>\n",
       "    <tr style=\"text-align: right;\">\n",
       "      <th></th>\n",
       "      <th>StateCode</th>\n",
       "      <th>Division</th>\n",
       "      <th>YearMonth</th>\n",
       "      <th>PCP</th>\n",
       "      <th>TAVG</th>\n",
       "      <th>PDSI</th>\n",
       "      <th>PHDI</th>\n",
       "      <th>ZNDX</th>\n",
       "      <th>PMDI</th>\n",
       "      <th>CDD</th>\n",
       "      <th>HDD</th>\n",
       "      <th>SP01</th>\n",
       "      <th>SP02</th>\n",
       "      <th>SP03</th>\n",
       "      <th>SP06</th>\n",
       "      <th>SP09</th>\n",
       "      <th>SP12</th>\n",
       "      <th>SP24</th>\n",
       "      <th>TMIN</th>\n",
       "      <th>TMAX</th>\n",
       "    </tr>\n",
       "    <tr>\n",
       "      <th>date</th>\n",
       "      <th></th>\n",
       "      <th></th>\n",
       "      <th></th>\n",
       "      <th></th>\n",
       "      <th></th>\n",
       "      <th></th>\n",
       "      <th></th>\n",
       "      <th></th>\n",
       "      <th></th>\n",
       "      <th></th>\n",
       "      <th></th>\n",
       "      <th></th>\n",
       "      <th></th>\n",
       "      <th></th>\n",
       "      <th></th>\n",
       "      <th></th>\n",
       "      <th></th>\n",
       "      <th></th>\n",
       "      <th></th>\n",
       "      <th></th>\n",
       "    </tr>\n",
       "  </thead>\n",
       "  <tbody>\n",
       "    <tr>\n",
       "      <th>2017-01-01</th>\n",
       "      <td>110</td>\n",
       "      <td>0</td>\n",
       "      <td>201701</td>\n",
       "      <td>3.22</td>\n",
       "      <td>33.55</td>\n",
       "      <td>-0.92</td>\n",
       "      <td>-0.92</td>\n",
       "      <td>0.99</td>\n",
       "      <td>-0.28</td>\n",
       "      <td>15</td>\n",
       "      <td>775</td>\n",
       "      <td>1.64</td>\n",
       "      <td>1.56</td>\n",
       "      <td>0.76</td>\n",
       "      <td>1.34</td>\n",
       "      <td>0.94</td>\n",
       "      <td>1.13</td>\n",
       "      <td>1.89</td>\n",
       "      <td>24.35</td>\n",
       "      <td>42.75</td>\n",
       "    </tr>\n",
       "  </tbody>\n",
       "</table>\n",
       "</div>"
      ],
      "text/plain": [
       "            StateCode  Division  YearMonth   PCP   TAVG  PDSI  PHDI  ZNDX  \\\n",
       "date                                                                        \n",
       "2017-01-01        110         0     201701  3.22  33.55 -0.92 -0.92  0.99   \n",
       "\n",
       "            PMDI  CDD  HDD  SP01  SP02  SP03  SP06  SP09  SP12  SP24   TMIN  \\\n",
       "date                                                                          \n",
       "2017-01-01 -0.28   15  775  1.64  1.56  0.76  1.34  0.94  1.13  1.89  24.35   \n",
       "\n",
       "             TMAX  \n",
       "date               \n",
       "2017-01-01  42.75  "
      ]
     },
     "execution_count": 357,
     "metadata": {},
     "output_type": "execute_result"
    }
   ],
   "source": [
    "df[df.index.year == 2017]"
   ]
  },
  {
   "cell_type": "code",
   "execution_count": 358,
   "metadata": {
    "collapsed": true
   },
   "outputs": [],
   "source": [
    "# Only one month in 2017"
   ]
  },
  {
   "cell_type": "markdown",
   "metadata": {},
   "source": [
    "## Upgrading to good data\n",
    "\n",
    "**We can ignore 2017.** Edit our dataframe so it's only between the years of 1895 and 2016, and draw your graph again."
   ]
  },
  {
   "cell_type": "code",
   "execution_count": 359,
   "metadata": {
    "collapsed": true
   },
   "outputs": [],
   "source": [
    "df = df[:'2016']"
   ]
  },
  {
   "cell_type": "code",
   "execution_count": 360,
   "metadata": {},
   "outputs": [
    {
     "data": {
      "text/html": [
       "<div>\n",
       "<style>\n",
       "    .dataframe thead tr:only-child th {\n",
       "        text-align: right;\n",
       "    }\n",
       "\n",
       "    .dataframe thead th {\n",
       "        text-align: left;\n",
       "    }\n",
       "\n",
       "    .dataframe tbody tr th {\n",
       "        vertical-align: top;\n",
       "    }\n",
       "</style>\n",
       "<table border=\"1\" class=\"dataframe\">\n",
       "  <thead>\n",
       "    <tr style=\"text-align: right;\">\n",
       "      <th></th>\n",
       "      <th>StateCode</th>\n",
       "      <th>Division</th>\n",
       "      <th>YearMonth</th>\n",
       "      <th>PCP</th>\n",
       "      <th>TAVG</th>\n",
       "      <th>PDSI</th>\n",
       "      <th>PHDI</th>\n",
       "      <th>ZNDX</th>\n",
       "      <th>PMDI</th>\n",
       "      <th>CDD</th>\n",
       "      <th>HDD</th>\n",
       "      <th>SP01</th>\n",
       "      <th>SP02</th>\n",
       "      <th>SP03</th>\n",
       "      <th>SP06</th>\n",
       "      <th>SP09</th>\n",
       "      <th>SP12</th>\n",
       "      <th>SP24</th>\n",
       "      <th>TMIN</th>\n",
       "      <th>TMAX</th>\n",
       "    </tr>\n",
       "    <tr>\n",
       "      <th>date</th>\n",
       "      <th></th>\n",
       "      <th></th>\n",
       "      <th></th>\n",
       "      <th></th>\n",
       "      <th></th>\n",
       "      <th></th>\n",
       "      <th></th>\n",
       "      <th></th>\n",
       "      <th></th>\n",
       "      <th></th>\n",
       "      <th></th>\n",
       "      <th></th>\n",
       "      <th></th>\n",
       "      <th></th>\n",
       "      <th></th>\n",
       "      <th></th>\n",
       "      <th></th>\n",
       "      <th></th>\n",
       "      <th></th>\n",
       "      <th></th>\n",
       "    </tr>\n",
       "  </thead>\n",
       "  <tbody>\n",
       "    <tr>\n",
       "      <th>2016-08-01</th>\n",
       "      <td>110</td>\n",
       "      <td>0</td>\n",
       "      <td>201608</td>\n",
       "      <td>3.47</td>\n",
       "      <td>73.54</td>\n",
       "      <td>-0.08</td>\n",
       "      <td>1.61</td>\n",
       "      <td>1.96</td>\n",
       "      <td>0.95</td>\n",
       "      <td>360</td>\n",
       "      <td>6</td>\n",
       "      <td>2.17</td>\n",
       "      <td>1.97</td>\n",
       "      <td>0.63</td>\n",
       "      <td>1.17</td>\n",
       "      <td>1.71</td>\n",
       "      <td>2.05</td>\n",
       "      <td>1.89</td>\n",
       "      <td>61.25</td>\n",
       "      <td>85.84</td>\n",
       "    </tr>\n",
       "    <tr>\n",
       "      <th>2016-09-01</th>\n",
       "      <td>110</td>\n",
       "      <td>0</td>\n",
       "      <td>201609</td>\n",
       "      <td>2.73</td>\n",
       "      <td>67.12</td>\n",
       "      <td>-0.07</td>\n",
       "      <td>1.45</td>\n",
       "      <td>0.02</td>\n",
       "      <td>0.78</td>\n",
       "      <td>216</td>\n",
       "      <td>38</td>\n",
       "      <td>0.54</td>\n",
       "      <td>1.78</td>\n",
       "      <td>1.61</td>\n",
       "      <td>1.05</td>\n",
       "      <td>0.83</td>\n",
       "      <td>2.41</td>\n",
       "      <td>2.05</td>\n",
       "      <td>54.84</td>\n",
       "      <td>79.41</td>\n",
       "    </tr>\n",
       "    <tr>\n",
       "      <th>2016-10-01</th>\n",
       "      <td>110</td>\n",
       "      <td>0</td>\n",
       "      <td>201610</td>\n",
       "      <td>2.39</td>\n",
       "      <td>57.72</td>\n",
       "      <td>-0.17</td>\n",
       "      <td>1.20</td>\n",
       "      <td>-0.32</td>\n",
       "      <td>0.42</td>\n",
       "      <td>82</td>\n",
       "      <td>199</td>\n",
       "      <td>0.34</td>\n",
       "      <td>0.52</td>\n",
       "      <td>1.41</td>\n",
       "      <td>0.75</td>\n",
       "      <td>1.01</td>\n",
       "      <td>2.05</td>\n",
       "      <td>2.08</td>\n",
       "      <td>45.54</td>\n",
       "      <td>69.89</td>\n",
       "    </tr>\n",
       "    <tr>\n",
       "      <th>2016-11-01</th>\n",
       "      <td>110</td>\n",
       "      <td>0</td>\n",
       "      <td>201611</td>\n",
       "      <td>1.75</td>\n",
       "      <td>47.95</td>\n",
       "      <td>-1.17</td>\n",
       "      <td>-1.17</td>\n",
       "      <td>-3.07</td>\n",
       "      <td>-1.17</td>\n",
       "      <td>23</td>\n",
       "      <td>423</td>\n",
       "      <td>-0.80</td>\n",
       "      <td>-0.32</td>\n",
       "      <td>-0.05</td>\n",
       "      <td>0.24</td>\n",
       "      <td>0.74</td>\n",
       "      <td>1.27</td>\n",
       "      <td>1.82</td>\n",
       "      <td>36.32</td>\n",
       "      <td>59.56</td>\n",
       "    </tr>\n",
       "    <tr>\n",
       "      <th>2016-12-01</th>\n",
       "      <td>110</td>\n",
       "      <td>0</td>\n",
       "      <td>201612</td>\n",
       "      <td>2.72</td>\n",
       "      <td>32.94</td>\n",
       "      <td>-1.39</td>\n",
       "      <td>-1.39</td>\n",
       "      <td>-1.02</td>\n",
       "      <td>-1.39</td>\n",
       "      <td>15</td>\n",
       "      <td>792</td>\n",
       "      <td>0.63</td>\n",
       "      <td>-0.13</td>\n",
       "      <td>0.04</td>\n",
       "      <td>0.81</td>\n",
       "      <td>0.69</td>\n",
       "      <td>0.62</td>\n",
       "      <td>1.69</td>\n",
       "      <td>23.25</td>\n",
       "      <td>42.64</td>\n",
       "    </tr>\n",
       "  </tbody>\n",
       "</table>\n",
       "</div>"
      ],
      "text/plain": [
       "            StateCode  Division  YearMonth   PCP   TAVG  PDSI  PHDI  ZNDX  \\\n",
       "date                                                                        \n",
       "2016-08-01        110         0     201608  3.47  73.54 -0.08  1.61  1.96   \n",
       "2016-09-01        110         0     201609  2.73  67.12 -0.07  1.45  0.02   \n",
       "2016-10-01        110         0     201610  2.39  57.72 -0.17  1.20 -0.32   \n",
       "2016-11-01        110         0     201611  1.75  47.95 -1.17 -1.17 -3.07   \n",
       "2016-12-01        110         0     201612  2.72  32.94 -1.39 -1.39 -1.02   \n",
       "\n",
       "            PMDI  CDD  HDD  SP01  SP02  SP03  SP06  SP09  SP12  SP24   TMIN  \\\n",
       "date                                                                          \n",
       "2016-08-01  0.95  360    6  2.17  1.97  0.63  1.17  1.71  2.05  1.89  61.25   \n",
       "2016-09-01  0.78  216   38  0.54  1.78  1.61  1.05  0.83  2.41  2.05  54.84   \n",
       "2016-10-01  0.42   82  199  0.34  0.52  1.41  0.75  1.01  2.05  2.08  45.54   \n",
       "2016-11-01 -1.17   23  423 -0.80 -0.32 -0.05  0.24  0.74  1.27  1.82  36.32   \n",
       "2016-12-01 -1.39   15  792  0.63 -0.13  0.04  0.81  0.69  0.62  1.69  23.25   \n",
       "\n",
       "             TMAX  \n",
       "date               \n",
       "2016-08-01  85.84  \n",
       "2016-09-01  79.41  \n",
       "2016-10-01  69.89  \n",
       "2016-11-01  59.56  \n",
       "2016-12-01  42.64  "
      ]
     },
     "execution_count": 360,
     "metadata": {},
     "output_type": "execute_result"
    }
   ],
   "source": [
    "df.tail()"
   ]
  },
  {
   "cell_type": "markdown",
   "metadata": {},
   "source": [
    "### Maxes and mins\n",
    "\n",
    "What years had the hottest maximum temperature? The hottest minimum temperature?"
   ]
  },
  {
   "cell_type": "code",
   "execution_count": 361,
   "metadata": {},
   "outputs": [
    {
     "data": {
      "text/plain": [
       "date\n",
       "1936-12-31    90.84\n",
       "1934-12-31    90.55\n",
       "1901-12-31    89.96\n",
       "2012-12-31    89.96\n",
       "2006-12-31    89.58\n",
       "Name: TMAX, dtype: float64"
      ]
     },
     "execution_count": 361,
     "metadata": {},
     "output_type": "execute_result"
    }
   ],
   "source": [
    "df.resample(rule='A')['TMAX'].max().sort_values(ascending=False).head()"
   ]
  },
  {
   "cell_type": "code",
   "execution_count": 362,
   "metadata": {},
   "outputs": [
    {
     "data": {
      "text/plain": [
       "date\n",
       "2012-12-31    63.55\n",
       "2011-12-31    63.36\n",
       "2006-12-31    63.23\n",
       "2002-12-31    62.91\n",
       "1998-12-31    62.89\n",
       "Name: TMIN, dtype: float64"
      ]
     },
     "execution_count": 362,
     "metadata": {},
     "output_type": "execute_result"
    }
   ],
   "source": [
    "df.resample(rule='A')['TMIN'].max().sort_values(ascending=False).head()"
   ]
  },
  {
   "cell_type": "markdown",
   "metadata": {},
   "source": [
    "## Annual temperature cycles\n",
    "\n",
    "Graph the average temperature cycle of a year, with january on the left and december on the right."
   ]
  },
  {
   "cell_type": "code",
   "execution_count": 378,
   "metadata": {},
   "outputs": [
    {
     "data": {
      "text/plain": [
       "[<matplotlib.text.Text at 0x1199ef4e0>,\n",
       " <matplotlib.text.Text at 0x11addf358>,\n",
       " <matplotlib.text.Text at 0x11ae66a90>,\n",
       " <matplotlib.text.Text at 0x11ae6a4a8>,\n",
       " <matplotlib.text.Text at 0x11ae665c0>,\n",
       " <matplotlib.text.Text at 0x11999a5c0>,\n",
       " <matplotlib.text.Text at 0x11999af98>,\n",
       " <matplotlib.text.Text at 0x11ae50e10>,\n",
       " <matplotlib.text.Text at 0x1199ca400>,\n",
       " <matplotlib.text.Text at 0x1199af5f8>,\n",
       " <matplotlib.text.Text at 0x1199affd0>,\n",
       " <matplotlib.text.Text at 0x1199bb9e8>]"
      ]
     },
     "execution_count": 378,
     "metadata": {},
     "output_type": "execute_result"
    },
    {
     "data": {
      "image/png": "[encoded data removed]",
      "text/plain": [
       "<matplotlib.figure.Figure at 0x119994e10>"
      ]
     },
     "metadata": {},
     "output_type": "display_data"
    }
   ],
   "source": [
    "ax = (df.groupby(df.index.month)['TAVG']\n",
    " .mean()\n",
    " .plot(figsize=(20,4)))\n",
    "ax.xaxis.set_ticks([1,2,3,4,5,6,7,8,9,10,11,12])\n",
    "ax.xaxis.set_ticklabels(['Jan', 'Feb', 'Mar', 'Apr', 'May', 'Jun', 'Jul', 'Aug', 'Sep', 'Oct', 'Nov', 'Dec'])"
   ]
  },
  {
   "cell_type": "markdown",
   "metadata": {},
   "source": [
    "# An important investigation\n",
    "\n",
    "Inside of the `climate` folder there is a file called `california.txt`: it's the same data, but only for California. Using this data, tell me **if droughts have been getting worse over the past 100 years.**"
   ]
  },
  {
   "cell_type": "code",
   "execution_count": null,
   "metadata": {},
   "outputs": [],
   "source": [
    "df_california = pd.read_csv('data/climate/CDODiv8449537379627.txt', \n",
    "                 na_values=[\n",
    "                     -99.99,\n",
    "                     -99.90,\n",
    "                     -9.99,\n",
    "                     -9999])\n",
    "df_california['date'] = pd.to_datetime(df_california['YearMonth'], format='%Y%m')\n",
    "df_california.set_index('date', inplace=True)\n",
    "df_california.columns = [c.strip() for c in df_california.columns.values]\n",
    "df_california.head()"
   ]
  },
  {
   "cell_type": "code",
   "execution_count": null,
   "metadata": {},
   "outputs": [],
   "source": [
    "df_california['1917':].resample(rule='A')['PHDI'].mean().plot(figsize=(20,5))"
   ]
  },
  {
   "cell_type": "code",
   "execution_count": null,
   "metadata": {
    "collapsed": true
   },
   "outputs": [],
   "source": [
    "# Droughts haven't really been getting worse in California since 1917"
   ]
  },
  {
   "cell_type": "markdown",
   "metadata": {},
   "source": [
    "# Making comparisons\n",
    "\n",
    "There are datasets for **five** other states. Please compare them in some way, building me a graphic. Even though we did it the other day, you do **not** need to combine them into one dataframe.\n",
    "\n",
    "Some basic ideas:\n",
    "\n",
    "- Graph their average temperatures over the year so we can see which one is the hottest\n",
    "- Graph the difference between the highs/lows over the year so we can see which has the hottest temperature swings\n",
    "- Graph their propensity to drought, highlighting the most drough-ridden state in a different color"
   ]
  },
  {
   "cell_type": "code",
   "execution_count": null,
   "metadata": {
    "collapsed": true
   },
   "outputs": [],
   "source": [
    "import glob\n",
    "filenames = glob.glob(\"data/climate//[a-z]*.txt\")"
   ]
  },
  {
   "cell_type": "code",
   "execution_count": null,
   "metadata": {
    "collapsed": true
   },
   "outputs": [],
   "source": [
    "list_of_dfs = [pd.read_csv(filename, \n",
    "                 na_values=[\n",
    "                     -99.99,\n",
    "                     -99.90,\n",
    "                     -9.99,\n",
    "                     -9999]) for filename in filenames]"
   ]
  },
  {
   "cell_type": "code",
   "execution_count": null,
   "metadata": {
    "collapsed": true
   },
   "outputs": [],
   "source": [
    "combined_df = pd.concat(list_of_dfs, ignore_index=True)"
   ]
  },
  {
   "cell_type": "code",
   "execution_count": null,
   "metadata": {
    "collapsed": true
   },
   "outputs": [],
   "source": [
    "statesCode = {\n",
    "    4:'California',  \n",
    "    5:'Colorado',  \n",
    "    8:'Florida', \n",
    "    16: 'Louisiana', \n",
    "    21: 'Minnesota', \n",
    "    44: 'Virginia'\n",
    "}"
   ]
  },
  {
   "cell_type": "code",
   "execution_count": null,
   "metadata": {
    "collapsed": true
   },
   "outputs": [],
   "source": [
    "combined_df['StateCode'].replace(statesCode, inplace=True)"
   ]
  },
  {
   "cell_type": "code",
   "execution_count": null,
   "metadata": {},
   "outputs": [],
   "source": [
    "combined_df['date'] = pd.to_datetime(combined_df['YearMonth'], format='%Y%m')\n",
    "combined_df.set_index('date', inplace=True)\n",
    "combined_df.columns = [c.strip() for c in combined_df.columns.values]\n",
    "combined_df.head()"
   ]
  },
  {
   "cell_type": "code",
   "execution_count": null,
   "metadata": {},
   "outputs": [],
   "source": [
    "combined_wide_df = combined_df.pivot(columns='StateCode', values='TAVG')\n",
    "combined_wide_df.groupby(combined_wide_df.index.month).mean().plot(figsize=(20,10), title='Average temperature')"
   ]
  },
  {
   "cell_type": "code",
   "execution_count": null,
   "metadata": {
    "collapsed": true
   },
   "outputs": [],
   "source": [
    "combined_df['TSWING'] = combined_df['TMAX'] - combined_df['TMIN']"
   ]
  },
  {
   "cell_type": "code",
   "execution_count": null,
   "metadata": {},
   "outputs": [],
   "source": [
    "combined_wide_df = combined_df.pivot(columns='StateCode', values='TSWING')\n",
    "combined_wide_df.groupby(combined_wide_df.index.month).mean().plot(figsize=(20,10), title='Temperature swings')"
   ]
  },
  {
   "cell_type": "code",
   "execution_count": null,
   "metadata": {},
   "outputs": [],
   "source": [
    "combined_wide_df = combined_df.pivot(columns='StateCode', values='PHDI')\n",
    "combined_wide_df.groupby(combined_wide_df.index.month).mean().plot(\n",
    "    figsize=(20,10), \n",
    "    title='Propensity to drought',\n",
    "    colors=['#01665e','#80cdc1','#f5f5f5','#dfc27d','red','#8c510a'])\n",
    "\n",
    "\n",
    "ax = combined_wide_df['Minnesota'].groupby(combined_wide_df.index.month).mean().plot(linewidth=3.0, color='red')\n",
    "\n",
    "x_values = combined_wide_df['Minnesota'].groupby(combined_wide_df.index.month).mean().index\n",
    "y_maxes = combined_wide_df['Minnesota'].groupby(combined_wide_df.index.month).apply(lambda x: x.mean()+0.01)\n",
    "y_mins = combined_wide_df['Minnesota'].groupby(combined_wide_df.index.month).apply(lambda x: x.mean()-0.01)\n",
    "\n",
    "ax.fill_between(x_values, y_maxes, y_mins, alpha=0.25, color='red')"
   ]
  },
  {
   "cell_type": "code",
   "execution_count": null,
   "metadata": {
    "collapsed": true
   },
   "outputs": [],
   "source": []
  }
 ],
 "metadata": {
  "kernelspec": {
   "display_name": "Python 3",
   "language": "python",
   "name": "python3"
  },
  "language_info": {
   "codemirror_mode": {
    "name": "ipython",
    "version": 3
   },
   "file_extension": ".py",
   "mimetype": "text/x-python",
   "name": "python",
   "nbconvert_exporter": "python",
   "pygments_lexer": "ipython3",
   "version": "3.6.1"
  }
 },
 "nbformat": 4,
 "nbformat_minor": 2
}
