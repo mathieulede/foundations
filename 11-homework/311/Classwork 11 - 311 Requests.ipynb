{
 "cells": [
  {
   "cell_type": "markdown",
   "metadata": {},
   "source": [
    "# Exercise: 311 Requests\n",
    "\n",
    "#### Summary\n",
    "\n",
    "In NYC, you can call 311 with *anything* about the city - questions, complaints, etc. We'll be analyzing requests from 2015-2016 from the Department of Transportation and NYPD.\n",
    "\n",
    "#### Data Source(s)\n",
    "\n",
    "Filtered from full set, https://nycopendata.socrata.com/Social-Services/311-Service-Requests-from-2010-to-Present/erm2-nwe9\n",
    "\n",
    "#### Files\n",
    "\n",
    "- `311-requests/311_Service_Requests_from_2010_to_Present.csv`, about 1.8 million rows (over 1GB of data)\n",
    "\n",
    "#### Data dictionary\n",
    "\n",
    "Visit [this page](https://nycopendata.socrata.com/Social-Services/311-Service-Requests-from-2010-to-Present/erm2-nwe9#schema-preview) and click 'Show more' on the bottom right of the list (53 columns).\n",
    "\n",
    "#### Skills\n",
    "\n",
    "- Opening large files\n",
    "- Time"
   ]
  },
  {
   "cell_type": "markdown",
   "metadata": {},
   "source": [
    "## Opening the file\n",
    "\n",
    "It's a big one! If your computer is slow or you only have 2GB of RAM, you might want to specify `nrows=50000` (or less). Increase the number until it takes around 20 seconds, maybe!"
   ]
  },
  {
   "cell_type": "code",
   "execution_count": 33,
   "metadata": {
    "collapsed": true
   },
   "outputs": [],
   "source": [
    "import pandas as pd"
   ]
  },
  {
   "cell_type": "code",
   "execution_count": 77,
   "metadata": {},
   "outputs": [
    {
     "name": "stderr",
     "output_type": "stream",
     "text": [
      "/usr/local/lib/python3.6/site-packages/IPython/core/interactiveshell.py:2683: DtypeWarning: Columns (17,47) have mixed types. Specify dtype option on import or set low_memory=False.\n",
      "  interactivity=interactivity, compiler=compiler, result=result)\n"
     ]
    }
   ],
   "source": [
    "df = pd.read_csv('data/311_Service_Requests_from_2010_to_Present.csv')"
   ]
  },
  {
   "cell_type": "markdown",
   "metadata": {},
   "source": [
    "### Measuring time in Jupyter Notebooks\n",
    "\n",
    "How long did that take? Read it in again, but this time **time how long it takes.** (and no, not with your watch - with Jupyter!)"
   ]
  },
  {
   "cell_type": "code",
   "execution_count": 78,
   "metadata": {},
   "outputs": [
    {
     "name": "stderr",
     "output_type": "stream",
     "text": [
      "<string>:2: DtypeWarning: Columns (17,47) have mixed types. Specify dtype option on import or set low_memory=False.\n"
     ]
    },
    {
     "name": "stdout",
     "output_type": "stream",
     "text": [
      "CPU times: user 36.4 s, sys: 8.79 s, total: 45.2 s\n",
      "Wall time: 48.1 s\n"
     ]
    }
   ],
   "source": [
    "%%time\n",
    "df = pd.read_csv('data/311_Service_Requests_from_2010_to_Present.csv')"
   ]
  },
  {
   "cell_type": "markdown",
   "metadata": {},
   "source": [
    "### Look at the first few rows\n",
    "\n",
    "Make sure you can see **every single column.**"
   ]
  },
  {
   "cell_type": "code",
   "execution_count": 79,
   "metadata": {},
   "outputs": [
    {
     "data": {
      "text/plain": [
       "(1844278, 53)"
      ]
     },
     "execution_count": 79,
     "metadata": {},
     "output_type": "execute_result"
    }
   ],
   "source": [
    "df.shape"
   ]
  },
  {
   "cell_type": "code",
   "execution_count": 80,
   "metadata": {
    "collapsed": true
   },
   "outputs": [],
   "source": [
    "pd.set_option('display.max_columns', 53)"
   ]
  },
  {
   "cell_type": "code",
   "execution_count": 81,
   "metadata": {},
   "outputs": [
    {
     "data": {
      "text/html": [
       "<div>\n",
       "<style>\n",
       "    .dataframe thead tr:only-child th {\n",
       "        text-align: right;\n",
       "    }\n",
       "\n",
       "    .dataframe thead th {\n",
       "        text-align: left;\n",
       "    }\n",
       "\n",
       "    .dataframe tbody tr th {\n",
       "        vertical-align: top;\n",
       "    }\n",
       "</style>\n",
       "<table border=\"1\" class=\"dataframe\">\n",
       "  <thead>\n",
       "    <tr style=\"text-align: right;\">\n",
       "      <th></th>\n",
       "      <th>Unique Key</th>\n",
       "      <th>Created Date</th>\n",
       "      <th>Closed Date</th>\n",
       "      <th>Agency</th>\n",
       "      <th>Agency Name</th>\n",
       "      <th>Complaint Type</th>\n",
       "      <th>Descriptor</th>\n",
       "      <th>Location Type</th>\n",
       "      <th>Incident Zip</th>\n",
       "      <th>Incident Address</th>\n",
       "      <th>Street Name</th>\n",
       "      <th>Cross Street 1</th>\n",
       "      <th>Cross Street 2</th>\n",
       "      <th>Intersection Street 1</th>\n",
       "      <th>Intersection Street 2</th>\n",
       "      <th>Address Type</th>\n",
       "      <th>City</th>\n",
       "      <th>Landmark</th>\n",
       "      <th>Facility Type</th>\n",
       "      <th>Status</th>\n",
       "      <th>Due Date</th>\n",
       "      <th>Resolution Description</th>\n",
       "      <th>Resolution Action Updated Date</th>\n",
       "      <th>Community Board</th>\n",
       "      <th>Borough</th>\n",
       "      <th>X Coordinate (State Plane)</th>\n",
       "      <th>Y Coordinate (State Plane)</th>\n",
       "      <th>Park Facility Name</th>\n",
       "      <th>Park Borough</th>\n",
       "      <th>School Name</th>\n",
       "      <th>School Number</th>\n",
       "      <th>School Region</th>\n",
       "      <th>School Code</th>\n",
       "      <th>School Phone Number</th>\n",
       "      <th>School Address</th>\n",
       "      <th>School City</th>\n",
       "      <th>School State</th>\n",
       "      <th>School Zip</th>\n",
       "      <th>School Not Found</th>\n",
       "      <th>School or Citywide Complaint</th>\n",
       "      <th>Vehicle Type</th>\n",
       "      <th>Taxi Company Borough</th>\n",
       "      <th>Taxi Pick Up Location</th>\n",
       "      <th>Bridge Highway Name</th>\n",
       "      <th>Bridge Highway Direction</th>\n",
       "      <th>Road Ramp</th>\n",
       "      <th>Bridge Highway Segment</th>\n",
       "      <th>Garage Lot Name</th>\n",
       "      <th>Ferry Direction</th>\n",
       "      <th>Ferry Terminal Name</th>\n",
       "      <th>Latitude</th>\n",
       "      <th>Longitude</th>\n",
       "      <th>Location</th>\n",
       "    </tr>\n",
       "  </thead>\n",
       "  <tbody>\n",
       "    <tr>\n",
       "      <th>0</th>\n",
       "      <td>31463990</td>\n",
       "      <td>09/04/2015 10:55:25 PM</td>\n",
       "      <td>09/05/2015 02:06:54 AM</td>\n",
       "      <td>NYPD</td>\n",
       "      <td>New York City Police Department</td>\n",
       "      <td>Noise - Street/Sidewalk</td>\n",
       "      <td>Loud Music/Party</td>\n",
       "      <td>Street/Sidewalk</td>\n",
       "      <td>10460.0</td>\n",
       "      <td>1110 WYATT STREET</td>\n",
       "      <td>WYATT STREET</td>\n",
       "      <td>DEVOE AVENUE</td>\n",
       "      <td>BRONX PARK AVENUE</td>\n",
       "      <td>NaN</td>\n",
       "      <td>NaN</td>\n",
       "      <td>ADDRESS</td>\n",
       "      <td>BRONX</td>\n",
       "      <td>NaN</td>\n",
       "      <td>Precinct</td>\n",
       "      <td>Closed</td>\n",
       "      <td>09/05/2015 06:55:25 AM</td>\n",
       "      <td>The Police Department responded and upon arriv...</td>\n",
       "      <td>09/05/2015 02:06:54 AM</td>\n",
       "      <td>06 BRONX</td>\n",
       "      <td>BRONX</td>\n",
       "      <td>1018201.0</td>\n",
       "      <td>245083.0</td>\n",
       "      <td>Unspecified</td>\n",
       "      <td>BRONX</td>\n",
       "      <td>Unspecified</td>\n",
       "      <td>Unspecified</td>\n",
       "      <td>Unspecified</td>\n",
       "      <td>Unspecified</td>\n",
       "      <td>Unspecified</td>\n",
       "      <td>Unspecified</td>\n",
       "      <td>Unspecified</td>\n",
       "      <td>Unspecified</td>\n",
       "      <td>Unspecified</td>\n",
       "      <td>N</td>\n",
       "      <td>NaN</td>\n",
       "      <td>NaN</td>\n",
       "      <td>NaN</td>\n",
       "      <td>NaN</td>\n",
       "      <td>NaN</td>\n",
       "      <td>NaN</td>\n",
       "      <td>NaN</td>\n",
       "      <td>NaN</td>\n",
       "      <td>NaN</td>\n",
       "      <td>NaN</td>\n",
       "      <td>NaN</td>\n",
       "      <td>40.839306</td>\n",
       "      <td>-73.877301</td>\n",
       "      <td>(40.83930620730105, -73.8773009180668)</td>\n",
       "    </tr>\n",
       "    <tr>\n",
       "      <th>1</th>\n",
       "      <td>31463991</td>\n",
       "      <td>09/04/2015 01:53:45 PM</td>\n",
       "      <td>09/04/2015 06:37:24 PM</td>\n",
       "      <td>NYPD</td>\n",
       "      <td>New York City Police Department</td>\n",
       "      <td>Noise - Street/Sidewalk</td>\n",
       "      <td>Loud Music/Party</td>\n",
       "      <td>Street/Sidewalk</td>\n",
       "      <td>10031.0</td>\n",
       "      <td>NaN</td>\n",
       "      <td>NaN</td>\n",
       "      <td>NaN</td>\n",
       "      <td>NaN</td>\n",
       "      <td>WEST  151 STREET</td>\n",
       "      <td>BROADWAY</td>\n",
       "      <td>INTERSECTION</td>\n",
       "      <td>NEW YORK</td>\n",
       "      <td>NaN</td>\n",
       "      <td>Precinct</td>\n",
       "      <td>Closed</td>\n",
       "      <td>09/04/2015 09:53:45 PM</td>\n",
       "      <td>The Police Department responded to the complai...</td>\n",
       "      <td>09/04/2015 06:37:24 PM</td>\n",
       "      <td>09 MANHATTAN</td>\n",
       "      <td>MANHATTAN</td>\n",
       "      <td>998728.0</td>\n",
       "      <td>241754.0</td>\n",
       "      <td>Unspecified</td>\n",
       "      <td>MANHATTAN</td>\n",
       "      <td>Unspecified</td>\n",
       "      <td>Unspecified</td>\n",
       "      <td>Unspecified</td>\n",
       "      <td>Unspecified</td>\n",
       "      <td>Unspecified</td>\n",
       "      <td>Unspecified</td>\n",
       "      <td>Unspecified</td>\n",
       "      <td>Unspecified</td>\n",
       "      <td>Unspecified</td>\n",
       "      <td>N</td>\n",
       "      <td>NaN</td>\n",
       "      <td>NaN</td>\n",
       "      <td>NaN</td>\n",
       "      <td>NaN</td>\n",
       "      <td>NaN</td>\n",
       "      <td>NaN</td>\n",
       "      <td>NaN</td>\n",
       "      <td>NaN</td>\n",
       "      <td>NaN</td>\n",
       "      <td>NaN</td>\n",
       "      <td>NaN</td>\n",
       "      <td>40.830222</td>\n",
       "      <td>-73.947684</td>\n",
       "      <td>(40.830222460372724, -73.94768359377827)</td>\n",
       "    </tr>\n",
       "    <tr>\n",
       "      <th>2</th>\n",
       "      <td>31463992</td>\n",
       "      <td>09/04/2015 09:15:43 PM</td>\n",
       "      <td>09/04/2015 10:32:01 PM</td>\n",
       "      <td>NYPD</td>\n",
       "      <td>New York City Police Department</td>\n",
       "      <td>Noise - Street/Sidewalk</td>\n",
       "      <td>Loud Music/Party</td>\n",
       "      <td>Street/Sidewalk</td>\n",
       "      <td>10031.0</td>\n",
       "      <td>545 WEST 144 STREET</td>\n",
       "      <td>WEST 144 STREET</td>\n",
       "      <td>AMSTERDAM AVENUE</td>\n",
       "      <td>BROADWAY</td>\n",
       "      <td>NaN</td>\n",
       "      <td>NaN</td>\n",
       "      <td>ADDRESS</td>\n",
       "      <td>NEW YORK</td>\n",
       "      <td>NaN</td>\n",
       "      <td>Precinct</td>\n",
       "      <td>Closed</td>\n",
       "      <td>09/05/2015 05:15:43 AM</td>\n",
       "      <td>The Police Department responded to the complai...</td>\n",
       "      <td>09/04/2015 10:32:02 PM</td>\n",
       "      <td>09 MANHATTAN</td>\n",
       "      <td>MANHATTAN</td>\n",
       "      <td>998263.0</td>\n",
       "      <td>239889.0</td>\n",
       "      <td>Unspecified</td>\n",
       "      <td>MANHATTAN</td>\n",
       "      <td>Unspecified</td>\n",
       "      <td>Unspecified</td>\n",
       "      <td>Unspecified</td>\n",
       "      <td>Unspecified</td>\n",
       "      <td>Unspecified</td>\n",
       "      <td>Unspecified</td>\n",
       "      <td>Unspecified</td>\n",
       "      <td>Unspecified</td>\n",
       "      <td>Unspecified</td>\n",
       "      <td>N</td>\n",
       "      <td>NaN</td>\n",
       "      <td>NaN</td>\n",
       "      <td>NaN</td>\n",
       "      <td>NaN</td>\n",
       "      <td>NaN</td>\n",
       "      <td>NaN</td>\n",
       "      <td>NaN</td>\n",
       "      <td>NaN</td>\n",
       "      <td>NaN</td>\n",
       "      <td>NaN</td>\n",
       "      <td>NaN</td>\n",
       "      <td>40.825104</td>\n",
       "      <td>-73.949368</td>\n",
       "      <td>(40.825104318551325, -73.94936777115372)</td>\n",
       "    </tr>\n",
       "    <tr>\n",
       "      <th>3</th>\n",
       "      <td>31463993</td>\n",
       "      <td>09/05/2015 01:06:57 AM</td>\n",
       "      <td>09/05/2015 02:26:43 AM</td>\n",
       "      <td>NYPD</td>\n",
       "      <td>New York City Police Department</td>\n",
       "      <td>Noise - Commercial</td>\n",
       "      <td>Loud Music/Party</td>\n",
       "      <td>Club/Bar/Restaurant</td>\n",
       "      <td>11203.0</td>\n",
       "      <td>UTICA AVENUE</td>\n",
       "      <td>UTICA AVENUE</td>\n",
       "      <td>AVENUE D</td>\n",
       "      <td>FOSTER AVENUE</td>\n",
       "      <td>NaN</td>\n",
       "      <td>NaN</td>\n",
       "      <td>BLOCKFACE</td>\n",
       "      <td>BROOKLYN</td>\n",
       "      <td>NaN</td>\n",
       "      <td>Precinct</td>\n",
       "      <td>Closed</td>\n",
       "      <td>09/05/2015 09:06:57 AM</td>\n",
       "      <td>The Police Department responded to the complai...</td>\n",
       "      <td>09/05/2015 02:26:44 AM</td>\n",
       "      <td>17 BROOKLYN</td>\n",
       "      <td>BROOKLYN</td>\n",
       "      <td>1003890.0</td>\n",
       "      <td>172805.0</td>\n",
       "      <td>Unspecified</td>\n",
       "      <td>BROOKLYN</td>\n",
       "      <td>Unspecified</td>\n",
       "      <td>Unspecified</td>\n",
       "      <td>Unspecified</td>\n",
       "      <td>Unspecified</td>\n",
       "      <td>Unspecified</td>\n",
       "      <td>Unspecified</td>\n",
       "      <td>Unspecified</td>\n",
       "      <td>Unspecified</td>\n",
       "      <td>Unspecified</td>\n",
       "      <td>N</td>\n",
       "      <td>NaN</td>\n",
       "      <td>NaN</td>\n",
       "      <td>NaN</td>\n",
       "      <td>NaN</td>\n",
       "      <td>NaN</td>\n",
       "      <td>NaN</td>\n",
       "      <td>NaN</td>\n",
       "      <td>NaN</td>\n",
       "      <td>NaN</td>\n",
       "      <td>NaN</td>\n",
       "      <td>NaN</td>\n",
       "      <td>40.640965</td>\n",
       "      <td>-73.929232</td>\n",
       "      <td>(40.64096464471428, -73.92923194083798)</td>\n",
       "    </tr>\n",
       "    <tr>\n",
       "      <th>4</th>\n",
       "      <td>31463995</td>\n",
       "      <td>09/04/2015 07:48:25 AM</td>\n",
       "      <td>09/04/2015 05:21:18 PM</td>\n",
       "      <td>NYPD</td>\n",
       "      <td>New York City Police Department</td>\n",
       "      <td>Illegal Parking</td>\n",
       "      <td>Overnight Commercial Storage</td>\n",
       "      <td>Street/Sidewalk</td>\n",
       "      <td>11210.0</td>\n",
       "      <td>GLENWOOD ROAD</td>\n",
       "      <td>GLENWOOD ROAD</td>\n",
       "      <td>BROOKLYN AVENUE</td>\n",
       "      <td>EAST 37 STREET</td>\n",
       "      <td>NaN</td>\n",
       "      <td>NaN</td>\n",
       "      <td>BLOCKFACE</td>\n",
       "      <td>BROOKLYN</td>\n",
       "      <td>NaN</td>\n",
       "      <td>Precinct</td>\n",
       "      <td>Closed</td>\n",
       "      <td>09/04/2015 03:48:25 PM</td>\n",
       "      <td>The Police Department responded to the complai...</td>\n",
       "      <td>09/04/2015 05:21:19 PM</td>\n",
       "      <td>17 BROOKLYN</td>\n",
       "      <td>BROOKLYN</td>\n",
       "      <td>1000480.0</td>\n",
       "      <td>170405.0</td>\n",
       "      <td>Unspecified</td>\n",
       "      <td>BROOKLYN</td>\n",
       "      <td>Unspecified</td>\n",
       "      <td>Unspecified</td>\n",
       "      <td>Unspecified</td>\n",
       "      <td>Unspecified</td>\n",
       "      <td>Unspecified</td>\n",
       "      <td>Unspecified</td>\n",
       "      <td>Unspecified</td>\n",
       "      <td>Unspecified</td>\n",
       "      <td>Unspecified</td>\n",
       "      <td>N</td>\n",
       "      <td>NaN</td>\n",
       "      <td>NaN</td>\n",
       "      <td>NaN</td>\n",
       "      <td>NaN</td>\n",
       "      <td>NaN</td>\n",
       "      <td>NaN</td>\n",
       "      <td>NaN</td>\n",
       "      <td>NaN</td>\n",
       "      <td>NaN</td>\n",
       "      <td>NaN</td>\n",
       "      <td>NaN</td>\n",
       "      <td>40.634384</td>\n",
       "      <td>-73.941525</td>\n",
       "      <td>(40.63438406330588, -73.9415248319131)</td>\n",
       "    </tr>\n",
       "  </tbody>\n",
       "</table>\n",
       "</div>"
      ],
      "text/plain": [
       "   Unique Key            Created Date             Closed Date Agency  \\\n",
       "0    31463990  09/04/2015 10:55:25 PM  09/05/2015 02:06:54 AM   NYPD   \n",
       "1    31463991  09/04/2015 01:53:45 PM  09/04/2015 06:37:24 PM   NYPD   \n",
       "2    31463992  09/04/2015 09:15:43 PM  09/04/2015 10:32:01 PM   NYPD   \n",
       "3    31463993  09/05/2015 01:06:57 AM  09/05/2015 02:26:43 AM   NYPD   \n",
       "4    31463995  09/04/2015 07:48:25 AM  09/04/2015 05:21:18 PM   NYPD   \n",
       "\n",
       "                       Agency Name           Complaint Type  \\\n",
       "0  New York City Police Department  Noise - Street/Sidewalk   \n",
       "1  New York City Police Department  Noise - Street/Sidewalk   \n",
       "2  New York City Police Department  Noise - Street/Sidewalk   \n",
       "3  New York City Police Department       Noise - Commercial   \n",
       "4  New York City Police Department          Illegal Parking   \n",
       "\n",
       "                     Descriptor        Location Type  Incident Zip  \\\n",
       "0              Loud Music/Party      Street/Sidewalk       10460.0   \n",
       "1              Loud Music/Party      Street/Sidewalk       10031.0   \n",
       "2              Loud Music/Party      Street/Sidewalk       10031.0   \n",
       "3              Loud Music/Party  Club/Bar/Restaurant       11203.0   \n",
       "4  Overnight Commercial Storage      Street/Sidewalk       11210.0   \n",
       "\n",
       "      Incident Address      Street Name    Cross Street 1     Cross Street 2  \\\n",
       "0    1110 WYATT STREET     WYATT STREET      DEVOE AVENUE  BRONX PARK AVENUE   \n",
       "1                  NaN              NaN               NaN                NaN   \n",
       "2  545 WEST 144 STREET  WEST 144 STREET  AMSTERDAM AVENUE           BROADWAY   \n",
       "3         UTICA AVENUE     UTICA AVENUE          AVENUE D      FOSTER AVENUE   \n",
       "4        GLENWOOD ROAD    GLENWOOD ROAD   BROOKLYN AVENUE     EAST 37 STREET   \n",
       "\n",
       "  Intersection Street 1 Intersection Street 2  Address Type      City  \\\n",
       "0                   NaN                   NaN       ADDRESS     BRONX   \n",
       "1      WEST  151 STREET              BROADWAY  INTERSECTION  NEW YORK   \n",
       "2                   NaN                   NaN       ADDRESS  NEW YORK   \n",
       "3                   NaN                   NaN     BLOCKFACE  BROOKLYN   \n",
       "4                   NaN                   NaN     BLOCKFACE  BROOKLYN   \n",
       "\n",
       "  Landmark Facility Type  Status                Due Date  \\\n",
       "0      NaN      Precinct  Closed  09/05/2015 06:55:25 AM   \n",
       "1      NaN      Precinct  Closed  09/04/2015 09:53:45 PM   \n",
       "2      NaN      Precinct  Closed  09/05/2015 05:15:43 AM   \n",
       "3      NaN      Precinct  Closed  09/05/2015 09:06:57 AM   \n",
       "4      NaN      Precinct  Closed  09/04/2015 03:48:25 PM   \n",
       "\n",
       "                              Resolution Description  \\\n",
       "0  The Police Department responded and upon arriv...   \n",
       "1  The Police Department responded to the complai...   \n",
       "2  The Police Department responded to the complai...   \n",
       "3  The Police Department responded to the complai...   \n",
       "4  The Police Department responded to the complai...   \n",
       "\n",
       "  Resolution Action Updated Date Community Board    Borough  \\\n",
       "0         09/05/2015 02:06:54 AM        06 BRONX      BRONX   \n",
       "1         09/04/2015 06:37:24 PM    09 MANHATTAN  MANHATTAN   \n",
       "2         09/04/2015 10:32:02 PM    09 MANHATTAN  MANHATTAN   \n",
       "3         09/05/2015 02:26:44 AM     17 BROOKLYN   BROOKLYN   \n",
       "4         09/04/2015 05:21:19 PM     17 BROOKLYN   BROOKLYN   \n",
       "\n",
       "   X Coordinate (State Plane)  Y Coordinate (State Plane) Park Facility Name  \\\n",
       "0                   1018201.0                    245083.0        Unspecified   \n",
       "1                    998728.0                    241754.0        Unspecified   \n",
       "2                    998263.0                    239889.0        Unspecified   \n",
       "3                   1003890.0                    172805.0        Unspecified   \n",
       "4                   1000480.0                    170405.0        Unspecified   \n",
       "\n",
       "  Park Borough  School Name School Number School Region  School Code  \\\n",
       "0        BRONX  Unspecified   Unspecified   Unspecified  Unspecified   \n",
       "1    MANHATTAN  Unspecified   Unspecified   Unspecified  Unspecified   \n",
       "2    MANHATTAN  Unspecified   Unspecified   Unspecified  Unspecified   \n",
       "3     BROOKLYN  Unspecified   Unspecified   Unspecified  Unspecified   \n",
       "4     BROOKLYN  Unspecified   Unspecified   Unspecified  Unspecified   \n",
       "\n",
       "  School Phone Number School Address  School City School State   School Zip  \\\n",
       "0         Unspecified    Unspecified  Unspecified  Unspecified  Unspecified   \n",
       "1         Unspecified    Unspecified  Unspecified  Unspecified  Unspecified   \n",
       "2         Unspecified    Unspecified  Unspecified  Unspecified  Unspecified   \n",
       "3         Unspecified    Unspecified  Unspecified  Unspecified  Unspecified   \n",
       "4         Unspecified    Unspecified  Unspecified  Unspecified  Unspecified   \n",
       "\n",
       "  School Not Found  School or Citywide Complaint  Vehicle Type  \\\n",
       "0                N                           NaN           NaN   \n",
       "1                N                           NaN           NaN   \n",
       "2                N                           NaN           NaN   \n",
       "3                N                           NaN           NaN   \n",
       "4                N                           NaN           NaN   \n",
       "\n",
       "   Taxi Company Borough  Taxi Pick Up Location Bridge Highway Name  \\\n",
       "0                   NaN                    NaN                 NaN   \n",
       "1                   NaN                    NaN                 NaN   \n",
       "2                   NaN                    NaN                 NaN   \n",
       "3                   NaN                    NaN                 NaN   \n",
       "4                   NaN                    NaN                 NaN   \n",
       "\n",
       "  Bridge Highway Direction Road Ramp Bridge Highway Segment Garage Lot Name  \\\n",
       "0                      NaN       NaN                    NaN             NaN   \n",
       "1                      NaN       NaN                    NaN             NaN   \n",
       "2                      NaN       NaN                    NaN             NaN   \n",
       "3                      NaN       NaN                    NaN             NaN   \n",
       "4                      NaN       NaN                    NaN             NaN   \n",
       "\n",
       "  Ferry Direction Ferry Terminal Name   Latitude  Longitude  \\\n",
       "0             NaN                 NaN  40.839306 -73.877301   \n",
       "1             NaN                 NaN  40.830222 -73.947684   \n",
       "2             NaN                 NaN  40.825104 -73.949368   \n",
       "3             NaN                 NaN  40.640965 -73.929232   \n",
       "4             NaN                 NaN  40.634384 -73.941525   \n",
       "\n",
       "                                   Location  \n",
       "0    (40.83930620730105, -73.8773009180668)  \n",
       "1  (40.830222460372724, -73.94768359377827)  \n",
       "2  (40.825104318551325, -73.94936777115372)  \n",
       "3   (40.64096464471428, -73.92923194083798)  \n",
       "4    (40.63438406330588, -73.9415248319131)  "
      ]
     },
     "execution_count": 81,
     "metadata": {},
     "output_type": "execute_result"
    }
   ],
   "source": [
    "df.head()"
   ]
  },
  {
   "cell_type": "markdown",
   "metadata": {},
   "source": [
    "### Speeding things up\n",
    "\n",
    "We're going to be looking at open and close times, agencies, and the complaints (both types and descriptor). The only kind of location-based thing we'll want is borough.\n",
    "\n",
    "**How much faster is it if we only read in those columns?**"
   ]
  },
  {
   "cell_type": "code",
   "execution_count": 188,
   "metadata": {},
   "outputs": [
    {
     "name": "stdout",
     "output_type": "stream",
     "text": [
      "CPU times: user 14.1 s, sys: 1.58 s, total: 15.6 s\n",
      "Wall time: 16.8 s\n"
     ]
    }
   ],
   "source": [
    "%%time\n",
    "df = (pd.read_csv('data/311_Service_Requests_from_2010_to_Present.csv', \n",
    "                  usecols=['Borough', 'Agency', 'Created Date', 'Descriptor', 'Closed Date', 'Complaint Type']))"
   ]
  },
  {
   "cell_type": "markdown",
   "metadata": {},
   "source": [
    "## Converting the 'Created Date' and 'Closed Date' columns to datetimes\n",
    "\n",
    "### First, testing some things out\n",
    "\n",
    "Let's take a look at converting **Created Date**, but **not all at once**.\n",
    "\n",
    "1. Take 10,000 of them and try to convert them **without** a format string. Time it.\n",
    "2. Take the same 10,000 and try to convert them **with** a format string. Time it.\n",
    "\n",
    "If you tried to do all 1.8 million rows, **how long might it take with a format string vs without?**"
   ]
  },
  {
   "cell_type": "code",
   "execution_count": 85,
   "metadata": {},
   "outputs": [
    {
     "name": "stdout",
     "output_type": "stream",
     "text": [
      "CPU times: user 3.13 s, sys: 39.1 ms, total: 3.17 s\n",
      "Wall time: 3.3 s\n"
     ]
    },
    {
     "data": {
      "text/plain": [
       "0   2015-09-04 22:55:25\n",
       "1   2015-09-04 13:53:45\n",
       "2   2015-09-04 21:15:43\n",
       "3   2015-09-05 01:06:57\n",
       "4   2015-09-04 07:48:25\n",
       "Name: Created Date, dtype: datetime64[ns]"
      ]
     },
     "execution_count": 85,
     "metadata": {},
     "output_type": "execute_result"
    }
   ],
   "source": [
    "%%time\n",
    "pd.to_datetime(df['Created Date'][:10000]).head()"
   ]
  },
  {
   "cell_type": "code",
   "execution_count": 86,
   "metadata": {},
   "outputs": [
    {
     "name": "stdout",
     "output_type": "stream",
     "text": [
      "CPU times: user 66.9 ms, sys: 1.05 ms, total: 67.9 ms\n",
      "Wall time: 69.4 ms\n"
     ]
    },
    {
     "data": {
      "text/plain": [
       "0   2015-09-04 10:55:25\n",
       "1   2015-09-04 01:53:45\n",
       "2   2015-09-04 09:15:43\n",
       "3   2015-09-05 01:06:57\n",
       "4   2015-09-04 07:48:25\n",
       "Name: Created Date, dtype: datetime64[ns]"
      ]
     },
     "execution_count": 86,
     "metadata": {},
     "output_type": "execute_result"
    }
   ],
   "source": [
    "%%time\n",
    "pd.to_datetime(df['Created Date'][:10000], format='%m/%d/%Y %H:%M:%S %p').head()"
   ]
  },
  {
   "cell_type": "markdown",
   "metadata": {},
   "source": [
    "### Creating new columns\n",
    "\n",
    "Create new columns called `created_at` and `closed_at` from the `Created Date` and `Closed Date` columns. Do them individually, and **time them**."
   ]
  },
  {
   "cell_type": "code",
   "execution_count": 189,
   "metadata": {},
   "outputs": [],
   "source": [
    "df['created_at'] = pd.to_datetime(df['Created Date'], format='%m/%d/%Y %I:%M:%S %p')"
   ]
  },
  {
   "cell_type": "code",
   "execution_count": 190,
   "metadata": {
    "collapsed": true
   },
   "outputs": [],
   "source": [
    "df['closed_at'] = pd.to_datetime(df['Closed Date'], format='%m/%d/%Y %I:%M:%S %p')"
   ]
  },
  {
   "cell_type": "markdown",
   "metadata": {},
   "source": [
    "### Confirming they look okay\n",
    "\n",
    "Take a look at the first few rows to make sure the dates look correct, and then make sure their data type is `datetime64[ns]`."
   ]
  },
  {
   "cell_type": "code",
   "execution_count": 191,
   "metadata": {},
   "outputs": [
    {
     "data": {
      "text/html": [
       "<div>\n",
       "<style>\n",
       "    .dataframe thead tr:only-child th {\n",
       "        text-align: right;\n",
       "    }\n",
       "\n",
       "    .dataframe thead th {\n",
       "        text-align: left;\n",
       "    }\n",
       "\n",
       "    .dataframe tbody tr th {\n",
       "        vertical-align: top;\n",
       "    }\n",
       "</style>\n",
       "<table border=\"1\" class=\"dataframe\">\n",
       "  <thead>\n",
       "    <tr style=\"text-align: right;\">\n",
       "      <th></th>\n",
       "      <th>Created Date</th>\n",
       "      <th>Closed Date</th>\n",
       "      <th>Agency</th>\n",
       "      <th>Complaint Type</th>\n",
       "      <th>Descriptor</th>\n",
       "      <th>Borough</th>\n",
       "      <th>created_at</th>\n",
       "      <th>closed_at</th>\n",
       "    </tr>\n",
       "  </thead>\n",
       "  <tbody>\n",
       "    <tr>\n",
       "      <th>0</th>\n",
       "      <td>09/04/2015 10:55:25 PM</td>\n",
       "      <td>09/05/2015 02:06:54 AM</td>\n",
       "      <td>NYPD</td>\n",
       "      <td>Noise - Street/Sidewalk</td>\n",
       "      <td>Loud Music/Party</td>\n",
       "      <td>BRONX</td>\n",
       "      <td>2015-09-04 22:55:25</td>\n",
       "      <td>2015-09-05 02:06:54</td>\n",
       "    </tr>\n",
       "    <tr>\n",
       "      <th>1</th>\n",
       "      <td>09/04/2015 01:53:45 PM</td>\n",
       "      <td>09/04/2015 06:37:24 PM</td>\n",
       "      <td>NYPD</td>\n",
       "      <td>Noise - Street/Sidewalk</td>\n",
       "      <td>Loud Music/Party</td>\n",
       "      <td>MANHATTAN</td>\n",
       "      <td>2015-09-04 13:53:45</td>\n",
       "      <td>2015-09-04 18:37:24</td>\n",
       "    </tr>\n",
       "    <tr>\n",
       "      <th>2</th>\n",
       "      <td>09/04/2015 09:15:43 PM</td>\n",
       "      <td>09/04/2015 10:32:01 PM</td>\n",
       "      <td>NYPD</td>\n",
       "      <td>Noise - Street/Sidewalk</td>\n",
       "      <td>Loud Music/Party</td>\n",
       "      <td>MANHATTAN</td>\n",
       "      <td>2015-09-04 21:15:43</td>\n",
       "      <td>2015-09-04 22:32:01</td>\n",
       "    </tr>\n",
       "    <tr>\n",
       "      <th>3</th>\n",
       "      <td>09/05/2015 01:06:57 AM</td>\n",
       "      <td>09/05/2015 02:26:43 AM</td>\n",
       "      <td>NYPD</td>\n",
       "      <td>Noise - Commercial</td>\n",
       "      <td>Loud Music/Party</td>\n",
       "      <td>BROOKLYN</td>\n",
       "      <td>2015-09-05 01:06:57</td>\n",
       "      <td>2015-09-05 02:26:43</td>\n",
       "    </tr>\n",
       "    <tr>\n",
       "      <th>4</th>\n",
       "      <td>09/04/2015 07:48:25 AM</td>\n",
       "      <td>09/04/2015 05:21:18 PM</td>\n",
       "      <td>NYPD</td>\n",
       "      <td>Illegal Parking</td>\n",
       "      <td>Overnight Commercial Storage</td>\n",
       "      <td>BROOKLYN</td>\n",
       "      <td>2015-09-04 07:48:25</td>\n",
       "      <td>2015-09-04 17:21:18</td>\n",
       "    </tr>\n",
       "  </tbody>\n",
       "</table>\n",
       "</div>"
      ],
      "text/plain": [
       "             Created Date             Closed Date Agency  \\\n",
       "0  09/04/2015 10:55:25 PM  09/05/2015 02:06:54 AM   NYPD   \n",
       "1  09/04/2015 01:53:45 PM  09/04/2015 06:37:24 PM   NYPD   \n",
       "2  09/04/2015 09:15:43 PM  09/04/2015 10:32:01 PM   NYPD   \n",
       "3  09/05/2015 01:06:57 AM  09/05/2015 02:26:43 AM   NYPD   \n",
       "4  09/04/2015 07:48:25 AM  09/04/2015 05:21:18 PM   NYPD   \n",
       "\n",
       "            Complaint Type                    Descriptor    Borough  \\\n",
       "0  Noise - Street/Sidewalk              Loud Music/Party      BRONX   \n",
       "1  Noise - Street/Sidewalk              Loud Music/Party  MANHATTAN   \n",
       "2  Noise - Street/Sidewalk              Loud Music/Party  MANHATTAN   \n",
       "3       Noise - Commercial              Loud Music/Party   BROOKLYN   \n",
       "4          Illegal Parking  Overnight Commercial Storage   BROOKLYN   \n",
       "\n",
       "           created_at           closed_at  \n",
       "0 2015-09-04 22:55:25 2015-09-05 02:06:54  \n",
       "1 2015-09-04 13:53:45 2015-09-04 18:37:24  \n",
       "2 2015-09-04 21:15:43 2015-09-04 22:32:01  \n",
       "3 2015-09-05 01:06:57 2015-09-05 02:26:43  \n",
       "4 2015-09-04 07:48:25 2015-09-04 17:21:18  "
      ]
     },
     "execution_count": 191,
     "metadata": {},
     "output_type": "execute_result"
    }
   ],
   "source": [
    "df.head()"
   ]
  },
  {
   "cell_type": "code",
   "execution_count": 91,
   "metadata": {},
   "outputs": [
    {
     "data": {
      "text/plain": [
       "Created Date              object\n",
       "Closed Date               object\n",
       "Agency                    object\n",
       "Complaint Type            object\n",
       "Descriptor                object\n",
       "Borough                   object\n",
       "created_at        datetime64[ns]\n",
       "closed_at         datetime64[ns]\n",
       "dtype: object"
      ]
     },
     "execution_count": 91,
     "metadata": {},
     "output_type": "execute_result"
    }
   ],
   "source": [
    "df.dtypes"
   ]
  },
  {
   "cell_type": "markdown",
   "metadata": {},
   "source": [
    "# Examining agencies"
   ]
  },
  {
   "cell_type": "markdown",
   "metadata": {},
   "source": [
    "Who has more 311 requests, the Department of Transportation or the NYPD?"
   ]
  },
  {
   "cell_type": "code",
   "execution_count": 92,
   "metadata": {},
   "outputs": [
    {
     "data": {
      "text/plain": [
       "NYPD    1251121\n",
       "DOT      593157\n",
       "Name: Agency, dtype: int64"
      ]
     },
     "execution_count": 92,
     "metadata": {},
     "output_type": "execute_result"
    }
   ],
   "source": [
    "df['Agency'].value_counts()"
   ]
  },
  {
   "cell_type": "markdown",
   "metadata": {},
   "source": [
    "## What's the difference between \"Complaint Type\" and \"Descriptor\" columns?"
   ]
  },
  {
   "cell_type": "code",
   "execution_count": 47,
   "metadata": {
    "collapsed": true
   },
   "outputs": [],
   "source": [
    "# Complaint type: Category\n",
    "# Descriptor: More specific"
   ]
  },
  {
   "cell_type": "markdown",
   "metadata": {},
   "source": [
    "## What are the most popular categories of complaints for the NYPD? For the DOT?"
   ]
  },
  {
   "cell_type": "code",
   "execution_count": 93,
   "metadata": {},
   "outputs": [
    {
     "data": {
      "text/plain": [
       "Noise - Residential        429932\n",
       "Blocked Driveway           219927\n",
       "Illegal Parking            215158\n",
       "Noise - Street/Sidewalk    112890\n",
       "Noise - Commercial          93115\n",
       "Name: Complaint Type, dtype: int64"
      ]
     },
     "execution_count": 93,
     "metadata": {},
     "output_type": "execute_result"
    }
   ],
   "source": [
    "df['Complaint Type'][df['Agency'] == 'NYPD'].value_counts().head()"
   ]
  },
  {
   "cell_type": "code",
   "execution_count": 94,
   "metadata": {},
   "outputs": [
    {
     "data": {
      "text/plain": [
       "Street Condition            215052\n",
       "Street Light Condition      187228\n",
       "Traffic Signal Condition     79737\n",
       "Broken Muni Meter            47234\n",
       "Street Sign - Damaged        12041\n",
       "Name: Complaint Type, dtype: int64"
      ]
     },
     "execution_count": 94,
     "metadata": {},
     "output_type": "execute_result"
    }
   ],
   "source": [
    "df['Complaint Type'][df['Agency'] == 'DOT'].value_counts().head()"
   ]
  },
  {
   "cell_type": "code",
   "execution_count": 199,
   "metadata": {},
   "outputs": [
    {
     "data": {
      "text/plain": [
       "Agency  Complaint Type          \n",
       "DOT     Street Condition            215052\n",
       "        Street Light Condition      187228\n",
       "        Traffic Signal Condition     79737\n",
       "        Broken Muni Meter            47234\n",
       "        Street Sign - Damaged        12041\n",
       "NYPD    Noise - Residential         429932\n",
       "        Blocked Driveway            219927\n",
       "        Illegal Parking             215158\n",
       "        Noise - Street/Sidewalk     112890\n",
       "        Noise - Commercial           93115\n",
       "Name: Complaint Type, dtype: int64"
      ]
     },
     "execution_count": 199,
     "metadata": {},
     "output_type": "execute_result"
    }
   ],
   "source": [
    "df.groupby('Agency')['Complaint Type'].value_counts().groupby(level=0, group_keys=False).nlargest(5)"
   ]
  },
  {
   "cell_type": "markdown",
   "metadata": {},
   "source": [
    "## When people are complaining about street conditions, what are they usually complaining about?"
   ]
  },
  {
   "cell_type": "code",
   "execution_count": 96,
   "metadata": {},
   "outputs": [
    {
     "data": {
      "text/plain": [
       "Pothole                           137931\n",
       "Cave-in                            22026\n",
       "Rough, Pitted or Cracked Roads     12150\n",
       "Defective Hardware                 11206\n",
       "Failed Street Repair                9408\n",
       "Blocked - Construction              7034\n",
       "Line/Marking - Faded                5230\n",
       "Plate Condition - Noisy             3405\n",
       "Wear & Tear                         2555\n",
       "Plate Condition - Shifted           2004\n",
       "Plate Condition - Open               671\n",
       "Line/Marking - After Repaving        513\n",
       "Dumpster - Construction Waste        181\n",
       "Hummock                              177\n",
       "Guard Rail - Street                  145\n",
       "Crash Cushion Defect                 118\n",
       "Maintenance Cover                     85\n",
       "Unsafe Worksite                       56\n",
       "Depression Maintenance                39\n",
       "Strip Paving                          34\n",
       "Plate Condition - Anti-Skid           25\n",
       "Dumpster - Causing Damage             17\n",
       "Defacement                            15\n",
       "General Bad Condition                 15\n",
       "Suspected Street Cut                  11\n",
       "Crack Sealing                          2\n",
       "Name: Descriptor, dtype: int64"
      ]
     },
     "execution_count": 96,
     "metadata": {},
     "output_type": "execute_result"
    }
   ],
   "source": [
    "df[df['Complaint Type'] == 'Street Condition']['Descriptor'].value_counts()"
   ]
  },
  {
   "cell_type": "markdown",
   "metadata": {},
   "source": [
    "## What kinds of noise are they complaining about when making residential noise complaints?"
   ]
  },
  {
   "cell_type": "code",
   "execution_count": 97,
   "metadata": {},
   "outputs": [
    {
     "data": {
      "text/plain": [
       "array(['Loud Music/Party', 'Loud Talking', 'Banging/Pounding',\n",
       "       'Loud Television'], dtype=object)"
      ]
     },
     "execution_count": 97,
     "metadata": {},
     "output_type": "execute_result"
    }
   ],
   "source": [
    "df[df['Complaint Type'] == 'Noise - Residential']['Descriptor'].unique()"
   ]
  },
  {
   "cell_type": "markdown",
   "metadata": {},
   "source": [
    "# Timing our complaints\n",
    "\n",
    "How many complaints were filed each month?\n",
    "\n",
    "- Tip: You'll probably want to `.set_index` first!"
   ]
  },
  {
   "cell_type": "code",
   "execution_count": 193,
   "metadata": {
    "collapsed": true
   },
   "outputs": [],
   "source": [
    "df.set_index('created_at', inplace=True)"
   ]
  },
  {
   "cell_type": "code",
   "execution_count": 194,
   "metadata": {},
   "outputs": [
    {
     "data": {
      "text/plain": [
       "created_at\n",
       "2015-01-31    58168\n",
       "2015-02-28    59895\n",
       "2015-03-31    87190\n",
       "2015-04-30    78002\n",
       "2015-05-31    87582\n",
       "2015-06-30    84486\n",
       "2015-07-31    77795\n",
       "2015-08-31    78793\n",
       "2015-09-30    78317\n",
       "2015-10-31    72201\n",
       "2015-11-30    66333\n",
       "2015-12-31    70215\n",
       "2016-01-31    68333\n",
       "2016-02-29    68408\n",
       "2016-03-31    78521\n",
       "2016-04-30    80137\n",
       "2016-05-31    92948\n",
       "2016-06-30    91815\n",
       "2016-07-31    82586\n",
       "2016-08-31    78215\n",
       "2016-09-30    84151\n",
       "2016-10-31    78274\n",
       "2016-11-30    69652\n",
       "2016-12-31    72261\n",
       "Freq: M, Name: Created Date, dtype: int64"
      ]
     },
     "execution_count": 194,
     "metadata": {},
     "output_type": "execute_result"
    }
   ],
   "source": [
    "df.resample(rule='M')['Created Date'].count()"
   ]
  },
  {
   "cell_type": "markdown",
   "metadata": {},
   "source": [
    "## Plot how many requests were filed each month"
   ]
  },
  {
   "cell_type": "code",
   "execution_count": 150,
   "metadata": {},
   "outputs": [
    {
     "data": {
      "text/plain": [
       "<matplotlib.axes._subplots.AxesSubplot at 0x1afd84c18>"
      ]
     },
     "execution_count": 150,
     "metadata": {},
     "output_type": "execute_result"
    },
    {
     "data": {
      "image/png": "[encoded data removed]",
      "text/plain": [
       "<matplotlib.figure.Figure at 0x182f390f0>"
      ]
     },
     "metadata": {},
     "output_type": "display_data"
    }
   ],
   "source": [
    "%matplotlib inline\n",
    "df.resample(rule='M').count().plot(y='Complaint Type')"
   ]
  },
  {
   "cell_type": "markdown",
   "metadata": {},
   "source": [
    "# Hmmm, it looks like a cycle\n",
    "\n",
    "What could cause that? Try a couple comparisons to see if you can find out.\n",
    "\n",
    "- Tip: Maybe the most popular summer complaints vs winter\n",
    "- Tip: Maybe graphing the different agencies on the same graph\n",
    "\n",
    "If you don't figure it out **that's okay!** "
   ]
  },
  {
   "cell_type": "code",
   "execution_count": 107,
   "metadata": {},
   "outputs": [
    {
     "data": {
      "text/plain": [
       "Noise - Residential       124257\n",
       "Illegal Parking            57975\n",
       "Street Condition           55901\n",
       "Blocked Driveway           53758\n",
       "Street Light Condition     47765\n",
       "Name: Complaint Type, dtype: int64"
      ]
     },
     "execution_count": 107,
     "metadata": {},
     "output_type": "execute_result"
    }
   ],
   "source": [
    "df[df.index.month.isin([5,6,7])]['Complaint Type'].value_counts().head()"
   ]
  },
  {
   "cell_type": "code",
   "execution_count": 108,
   "metadata": {},
   "outputs": [
    {
     "data": {
      "text/plain": [
       "Noise - Residential       94161\n",
       "Blocked Driveway          54856\n",
       "Illegal Parking           46971\n",
       "Street Light Condition    45431\n",
       "Street Condition          44993\n",
       "Name: Complaint Type, dtype: int64"
      ]
     },
     "execution_count": 108,
     "metadata": {},
     "output_type": "execute_result"
    }
   ],
   "source": [
    "df[df.index.month.isin([12,1,2])]['Complaint Type'].value_counts().head()"
   ]
  },
  {
   "cell_type": "code",
   "execution_count": 149,
   "metadata": {},
   "outputs": [
    {
     "data": {
      "text/plain": [
       "<matplotlib.axes._subplots.AxesSubplot at 0x182f00c18>"
      ]
     },
     "execution_count": 149,
     "metadata": {},
     "output_type": "execute_result"
    },
    {
     "data": {
      "image/png": "[encoded data removed]",
      "text/plain": [
       "<matplotlib.figure.Figure at 0x182f01978>"
      ]
     },
     "metadata": {},
     "output_type": "display_data"
    }
   ],
   "source": [
    "import matplotlib.pyplot as plt\n",
    "plt.style.use('ggplot')\n",
    "\n",
    "df[df['Agency'] == 'DOT']['Complaint Type'].resample(rule='M').count().plot()\n",
    "df[df['Agency'] == 'NYPD']['Complaint Type'].resample(rule='M').count().plot()"
   ]
  },
  {
   "cell_type": "code",
   "execution_count": null,
   "metadata": {
    "collapsed": true
   },
   "outputs": [],
   "source": [
    "# There are more noise complaints on Summer. People are outside on Summer."
   ]
  },
  {
   "cell_type": "markdown",
   "metadata": {},
   "source": [
    "## Time of day\n",
    "\n",
    "### What time of day do people complain?"
   ]
  },
  {
   "cell_type": "code",
   "execution_count": 195,
   "metadata": {},
   "outputs": [
    {
     "data": {
      "text/plain": [
       "<matplotlib.axes._subplots.AxesSubplot at 0x14a90ffd0>"
      ]
     },
     "execution_count": 195,
     "metadata": {},
     "output_type": "execute_result"
    },
    {
     "data": {
      "image/png": "[encoded data removed]",
      "text/plain": [
       "<matplotlib.figure.Figure at 0x14a90f6a0>"
      ]
     },
     "metadata": {},
     "output_type": "display_data"
    }
   ],
   "source": [
    "df.groupby(df.index.hour).apply(lambda x: len(x)).plot()"
   ]
  },
  {
   "cell_type": "markdown",
   "metadata": {},
   "source": [
    "### What time of day do people complain about potholes?"
   ]
  },
  {
   "cell_type": "code",
   "execution_count": 210,
   "metadata": {},
   "outputs": [
    {
     "data": {
      "text/plain": [
       "<matplotlib.axes._subplots.AxesSubplot at 0x116402d68>"
      ]
     },
     "execution_count": 210,
     "metadata": {},
     "output_type": "execute_result"
    },
    {
     "data": {
      "image/png": "[encoded data removed]",
      "text/plain": [
       "<matplotlib.figure.Figure at 0x1165bd2e8>"
      ]
     },
     "metadata": {},
     "output_type": "display_data"
    }
   ],
   "source": [
    "df_potholes = df[df['Descriptor'] == 'Pothole']\n",
    "df_potholes.groupby(df_potholes.index.hour).apply(lambda x: len(x)).plot()"
   ]
  },
  {
   "cell_type": "markdown",
   "metadata": {},
   "source": [
    "### What time of day do people complain about loud parties?"
   ]
  },
  {
   "cell_type": "code",
   "execution_count": 202,
   "metadata": {},
   "outputs": [
    {
     "data": {
      "text/plain": [
       "array(['Loud Music/Party', 'Loud Talking', 'Banging/Pounding',\n",
       "       'Loud Television'], dtype=object)"
      ]
     },
     "execution_count": 202,
     "metadata": {},
     "output_type": "execute_result"
    }
   ],
   "source": [
    "df[df['Complaint Type'] == 'Noise - Residential']['Descriptor'].unique()"
   ]
  },
  {
   "cell_type": "code",
   "execution_count": 211,
   "metadata": {},
   "outputs": [
    {
     "data": {
      "text/plain": [
       "<matplotlib.axes._subplots.AxesSubplot at 0x116a60080>"
      ]
     },
     "execution_count": 211,
     "metadata": {},
     "output_type": "execute_result"
    },
    {
     "data": {
      "image/png": "[encoded data removed]",
      "text/plain": [
       "<matplotlib.figure.Figure at 0x114f10d68>"
      ]
     },
     "metadata": {},
     "output_type": "display_data"
    }
   ],
   "source": [
    "df_loudparties = df[df['Descriptor'] == 'Loud Music/Party']\n",
    "df_loudparties.groupby(df_loudparties.index.hour).apply(lambda x: len(x)).plot()"
   ]
  },
  {
   "cell_type": "markdown",
   "metadata": {},
   "source": [
    "## Days of the week"
   ]
  },
  {
   "cell_type": "markdown",
   "metadata": {},
   "source": [
    "### What days of the week do people complain about potholes?"
   ]
  },
  {
   "cell_type": "code",
   "execution_count": 213,
   "metadata": {},
   "outputs": [
    {
     "data": {
      "text/plain": [
       "<matplotlib.axes._subplots.AxesSubplot at 0x111bb6a90>"
      ]
     },
     "execution_count": 213,
     "metadata": {},
     "output_type": "execute_result"
    },
    {
     "data": {
      "image/png": "[encoded data removed]",
      "text/plain": [
       "<matplotlib.figure.Figure at 0x11834e080>"
      ]
     },
     "metadata": {},
     "output_type": "display_data"
    }
   ],
   "source": [
    "df_potholes = df[df['Descriptor'] == 'Pothole']\n",
    "df_potholes.groupby(df_potholes.index.weekday).apply(lambda x: len(x)).plot()"
   ]
  },
  {
   "cell_type": "markdown",
   "metadata": {},
   "source": [
    "### What days of the week do people complain about loud parties?"
   ]
  },
  {
   "cell_type": "code",
   "execution_count": 214,
   "metadata": {},
   "outputs": [
    {
     "data": {
      "text/plain": [
       "<matplotlib.axes._subplots.AxesSubplot at 0x118492f98>"
      ]
     },
     "execution_count": 214,
     "metadata": {},
     "output_type": "execute_result"
    },
    {
     "data": {
      "image/png": "[encoded data removed]",
      "text/plain": [
       "<matplotlib.figure.Figure at 0x1188a8e48>"
      ]
     },
     "metadata": {},
     "output_type": "display_data"
    }
   ],
   "source": [
    "df_loudparties = df[df['Descriptor'] == 'Loud Music/Party']\n",
    "df_loudparties.groupby(df_loudparties.index.weekday).apply(lambda x: len(x)).plot()"
   ]
  },
  {
   "cell_type": "markdown",
   "metadata": {},
   "source": [
    "### What do you think is the best kind of graph for describing day of the week complaints?"
   ]
  },
  {
   "cell_type": "code",
   "execution_count": 231,
   "metadata": {},
   "outputs": [
    {
     "data": {
      "text/plain": [
       "<matplotlib.axes._subplots.AxesSubplot at 0x1804d4358>"
      ]
     },
     "execution_count": 231,
     "metadata": {},
     "output_type": "execute_result"
    },
    {
     "data": {
      "image/png": "[encoded data removed]",
      "text/plain": [
       "<matplotlib.figure.Figure at 0x18096a6a0>"
      ]
     },
     "metadata": {},
     "output_type": "display_data"
    }
   ],
   "source": [
    "df_loudparties = df[df['Descriptor'] == 'Loud Music/Party']\n",
    "df_loudparties.groupby(df_loudparties.index.weekday).apply(lambda x: len(x)).plot(kind='bar')"
   ]
  },
  {
   "cell_type": "markdown",
   "metadata": {},
   "source": [
    "# Some more investigation\n",
    "\n",
    "## Are there more homeless people in the city in the summer or in the winter?"
   ]
  },
  {
   "cell_type": "code",
   "execution_count": 237,
   "metadata": {},
   "outputs": [
    {
     "data": {
      "text/plain": [
       "array(['Homeless Encampment'], dtype=object)"
      ]
     },
     "execution_count": 237,
     "metadata": {},
     "output_type": "execute_result"
    }
   ],
   "source": [
    "df[df['Complaint Type'].str.contains('homeless', case=False)]['Complaint Type'].unique()"
   ]
  },
  {
   "cell_type": "code",
   "execution_count": 243,
   "metadata": {},
   "outputs": [
    {
     "data": {
      "text/plain": [
       "3663"
      ]
     },
     "execution_count": 243,
     "metadata": {},
     "output_type": "execute_result"
    }
   ],
   "source": [
    "len(df[(df['Complaint Type'] == 'Homeless Encampment')&(df.index.month.isin([6,7,8]))])"
   ]
  },
  {
   "cell_type": "code",
   "execution_count": 242,
   "metadata": {},
   "outputs": [
    {
     "data": {
      "text/plain": [
       "1298"
      ]
     },
     "execution_count": 242,
     "metadata": {},
     "output_type": "execute_result"
    }
   ],
   "source": [
    "len(df[(df['Complaint Type'] == 'Homeless Encampment')&(df.index.month.isin([12,1,2]))])"
   ]
  },
  {
   "cell_type": "markdown",
   "metadata": {},
   "source": [
    "## What holiday(s) are most popular for illegal fireworks?"
   ]
  },
  {
   "cell_type": "code",
   "execution_count": 244,
   "metadata": {},
   "outputs": [
    {
     "data": {
      "text/plain": [
       "array(['Illegal Fireworks'], dtype=object)"
      ]
     },
     "execution_count": 244,
     "metadata": {},
     "output_type": "execute_result"
    }
   ],
   "source": [
    "df[df['Complaint Type'].str.contains('firework', case=False)]['Complaint Type'].unique()"
   ]
  },
  {
   "cell_type": "code",
   "execution_count": 263,
   "metadata": {},
   "outputs": [
    {
     "data": {
      "text/plain": [
       "<matplotlib.axes._subplots.AxesSubplot at 0x187001e10>"
      ]
     },
     "execution_count": 263,
     "metadata": {},
     "output_type": "execute_result"
    },
    {
     "data": {
      "image/png": "[encoded data removed]",
      "text/plain": [
       "<matplotlib.figure.Figure at 0x186fae908>"
      ]
     },
     "metadata": {},
     "output_type": "display_data"
    }
   ],
   "source": [
    "df_fireworks = df[(df['Complaint Type'] == 'Illegal Fireworks')]\n",
    "df_fireworks.groupby(df_fireworks.index.month).apply(lambda x: len(x)).plot(kind='bar')"
   ]
  },
  {
   "cell_type": "markdown",
   "metadata": {},
   "source": [
    "## Plot all kinds of noise complaints on top of each other"
   ]
  },
  {
   "cell_type": "code",
   "execution_count": 257,
   "metadata": {},
   "outputs": [
    {
     "data": {
      "text/plain": [
       "<matplotlib.axes._subplots.AxesSubplot at 0x183df15c0>"
      ]
     },
     "execution_count": 257,
     "metadata": {},
     "output_type": "execute_result"
    },
    {
     "data": {
      "image/png": "[encoded data removed]",
      "text/plain": [
       "<matplotlib.figure.Figure at 0x182b4e978>"
      ]
     },
     "metadata": {},
     "output_type": "display_data"
    }
   ],
   "source": [
    "(df[df['Complaint Type'].str.contains('noise', case=False)]\n",
    " ['Descriptor']\n",
    " .value_counts()\n",
    " .sort_values()\n",
    " .plot(kind='barh'))"
   ]
  },
  {
   "cell_type": "code",
   "execution_count": null,
   "metadata": {
    "collapsed": true
   },
   "outputs": [],
   "source": []
  }
 ],
 "metadata": {
  "kernelspec": {
   "display_name": "Python 3",
   "language": "python",
   "name": "python3"
  },
  "language_info": {
   "codemirror_mode": {
    "name": "ipython",
    "version": 3
   },
   "file_extension": ".py",
   "mimetype": "text/x-python",
   "name": "python",
   "nbconvert_exporter": "python",
   "pygments_lexer": "ipython3",
   "version": "3.6.1"
  }
 },
 "nbformat": 4,
 "nbformat_minor": 2
}
