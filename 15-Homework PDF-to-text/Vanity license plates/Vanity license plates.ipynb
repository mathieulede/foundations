{
 "cells": [
  {
   "cell_type": "code",
   "execution_count": 2,
   "metadata": {
    "collapsed": true
   },
   "outputs": [],
   "source": [
    "import glob\n",
    "import pandas as pd\n",
    "import re"
   ]
  },
  {
   "cell_type": "code",
   "execution_count": 135,
   "metadata": {
    "collapsed": true
   },
   "outputs": [],
   "source": [
    "filenames = glob.glob('tesseract_output/*.txt')\n",
    "plates = []"
   ]
  },
  {
   "cell_type": "code",
   "execution_count": 136,
   "metadata": {
    "collapsed": true
   },
   "outputs": [],
   "source": [
    "for file in filenames:\n",
    "    raw_txt = open(file, 'r').read()\n",
    "    plate = {'filename': file}\n",
    "\n",
    "    # Search for the date\n",
    "    match = re.search(r'.*\\d, \\d\\d\\d\\d', raw_txt)\n",
    "    if match:\n",
    "        plate['date'] = match.group(0)\n",
    "    \n",
    "    # Search for the plate number\n",
    "    match = re.search(r'plate (.*)\\.', raw_txt)\n",
    "    if match:\n",
    "        plate['plate'] = match.group(1)\n",
    "    \n",
    "    # Search for the rejection reasons\n",
    "    match = re.search(r'reasons:(.*)Please', raw_txt)\n",
    "    if match:\n",
    "        plate['reasons'] = match.group(1)\n",
    "    \n",
    "    # Add the plate to the list\n",
    "    plates.append(plate)\n",
    "    \n",
    "plates_df = pd.DataFrame(plates)"
   ]
  },
  {
   "cell_type": "code",
   "execution_count": 137,
   "metadata": {},
   "outputs": [
    {
     "data": {
      "text/html": [
       "<div>\n",
       "<style>\n",
       "    .dataframe thead tr:only-child th {\n",
       "        text-align: right;\n",
       "    }\n",
       "\n",
       "    .dataframe thead th {\n",
       "        text-align: left;\n",
       "    }\n",
       "\n",
       "    .dataframe tbody tr th {\n",
       "        vertical-align: top;\n",
       "    }\n",
       "</style>\n",
       "<table border=\"1\" class=\"dataframe\">\n",
       "  <thead>\n",
       "    <tr style=\"text-align: right;\">\n",
       "      <th></th>\n",
       "      <th>date</th>\n",
       "      <th>filename</th>\n",
       "      <th>plate</th>\n",
       "    </tr>\n",
       "  </thead>\n",
       "  <tbody>\n",
       "    <tr>\n",
       "      <th>0</th>\n",
       "      <td>September 23, 2013</td>\n",
       "      <td>tesseract_output/vanity_plate-0.png.txt</td>\n",
       "      <td>NUTDEEP</td>\n",
       "    </tr>\n",
       "    <tr>\n",
       "      <th>1</th>\n",
       "      <td>October 11, 2013</td>\n",
       "      <td>tesseract_output/vanity_plate-1.png.txt</td>\n",
       "      <td>KILLR</td>\n",
       "    </tr>\n",
       "    <tr>\n",
       "      <th>2</th>\n",
       "      <td>September 19, 2013</td>\n",
       "      <td>tesseract_output/vanity_plate-10.png.txt</td>\n",
       "      <td>BENWAH</td>\n",
       "    </tr>\n",
       "    <tr>\n",
       "      <th>3</th>\n",
       "      <td>September 23, 2013</td>\n",
       "      <td>tesseract_output/vanity_plate-11.png.txt</td>\n",
       "      <td>MAMS</td>\n",
       "    </tr>\n",
       "    <tr>\n",
       "      <th>4</th>\n",
       "      <td>August 19, 2013</td>\n",
       "      <td>tesseract_output/vanity_plate-12.png.txt</td>\n",
       "      <td>CATLII‘S</td>\n",
       "    </tr>\n",
       "  </tbody>\n",
       "</table>\n",
       "</div>"
      ],
      "text/plain": [
       "                 date                                  filename     plate\n",
       "0  September 23, 2013   tesseract_output/vanity_plate-0.png.txt   NUTDEEP\n",
       "1    October 11, 2013   tesseract_output/vanity_plate-1.png.txt     KILLR\n",
       "2  September 19, 2013  tesseract_output/vanity_plate-10.png.txt    BENWAH\n",
       "3  September 23, 2013  tesseract_output/vanity_plate-11.png.txt      MAMS\n",
       "4     August 19, 2013  tesseract_output/vanity_plate-12.png.txt  CATLII‘S"
      ]
     },
     "execution_count": 137,
     "metadata": {},
     "output_type": "execute_result"
    }
   ],
   "source": [
    "plates_df.head()"
   ]
  },
  {
   "cell_type": "code",
   "execution_count": 138,
   "metadata": {},
   "outputs": [
    {
     "data": {
      "text/plain": [
       "(83, 3)"
      ]
     },
     "execution_count": 138,
     "metadata": {},
     "output_type": "execute_result"
    }
   ],
   "source": [
    "plates_df.shape"
   ]
  },
  {
   "cell_type": "code",
   "execution_count": 139,
   "metadata": {
    "collapsed": true
   },
   "outputs": [],
   "source": [
    "# Get rid of the empty rows (the black pages)\n",
    "plates_df.dropna(thresh=2, inplace=True)"
   ]
  },
  {
   "cell_type": "code",
   "execution_count": 140,
   "metadata": {
    "collapsed": true
   },
   "outputs": [],
   "source": [
    "# Convert the file path to the file name\n",
    "plates_df['filename'].replace(to_replace='.*\\/(.*)\\..*', value=r'\\1', regex=True, inplace=True)"
   ]
  },
  {
   "cell_type": "code",
   "execution_count": 141,
   "metadata": {
    "collapsed": true
   },
   "outputs": [],
   "source": [
    "# Save the CSV\n",
    "plates_df.to_csv('vanity_license_plates.csv')"
   ]
  },
  {
   "cell_type": "code",
   "execution_count": 4,
   "metadata": {},
   "outputs": [],
   "source": [
    "plates_df = pd.read_csv('vanity_license_plates.csv')"
   ]
  },
  {
   "cell_type": "code",
   "execution_count": 24,
   "metadata": {},
   "outputs": [],
   "source": [
    "plates_df['date'] = pd.to_datetime(plates_df['date'], format='%B %d, %Y', errors='coerce')"
   ]
  },
  {
   "cell_type": "code",
   "execution_count": 28,
   "metadata": {},
   "outputs": [
    {
     "data": {
      "text/plain": [
       "<matplotlib.axes._subplots.AxesSubplot at 0x11099a5c0>"
      ]
     },
     "execution_count": 28,
     "metadata": {},
     "output_type": "execute_result"
    },
    {
     "data": {
      "image/png": "[encoded data removed]",
      "text/plain": [
       "<matplotlib.figure.Figure at 0x110ad3390>"
      ]
     },
     "metadata": {},
     "output_type": "display_data"
    }
   ],
   "source": [
    "%matplotlib inline\n",
    "plates_df.groupby('date')['filename'].count().plot(title='Vanity plate requests over the year')"
   ]
  },
  {
   "cell_type": "code",
   "execution_count": null,
   "metadata": {
    "collapsed": true
   },
   "outputs": [],
   "source": []
  }
 ],
 "metadata": {
  "kernelspec": {
   "display_name": "Python 3",
   "language": "python",
   "name": "python3"
  },
  "language_info": {
   "codemirror_mode": {
    "name": "ipython",
    "version": 3
   },
   "file_extension": ".py",
   "mimetype": "text/x-python",
   "name": "python",
   "nbconvert_exporter": "python",
   "pygments_lexer": "ipython3",
   "version": "3.6.1"
  }
 },
 "nbformat": 4,
 "nbformat_minor": 2
}
