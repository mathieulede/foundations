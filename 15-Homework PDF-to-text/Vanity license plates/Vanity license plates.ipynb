{
 "cells": [
  {
   "cell_type": "code",
   "execution_count": 3,
   "metadata": {
    "collapsed": true
   },
   "outputs": [],
   "source": [
    "import glob\n",
    "import pandas as pd\n",
    "import re"
   ]
  },
  {
   "cell_type": "code",
   "execution_count": 98,
   "metadata": {
    "collapsed": true
   },
   "outputs": [],
   "source": [
    "filenames = glob.glob('tesseract_output/*.txt')\n",
    "plates = []"
   ]
  },
  {
   "cell_type": "code",
   "execution_count": 102,
   "metadata": {
    "collapsed": true
   },
   "outputs": [],
   "source": [
    "for file in filenames:\n",
    "    raw_txt = open(file, 'r').read()\n",
    "    plate = {'filename': file}\n",
    "\n",
    "    # Search for the date\n",
    "    match = re.search(r'.*\\d, \\d\\d\\d\\d', raw_txt)\n",
    "    if match:\n",
    "        plate['date'] = match.group(0)\n",
    "    \n",
    "    # Search for the plate number\n",
    "    match = re.search(r'plate (.*)\\.', raw_txt)\n",
    "    if match:\n",
    "        plate['plate'] = match.group(1)\n",
    "    \n",
    "    # Search for the rejection reasons\n",
    "    match = re.search(r'reasons:(.*)Please', raw_txt)\n",
    "    if match:\n",
    "        plate['reasons'] = match.group(1)\n",
    "    \n",
    "    # Add the plate to the list\n",
    "    plates.append(plate)\n",
    "    \n",
    "plates_df = pd.DataFrame(plates)"
   ]
  },
  {
   "cell_type": "code",
   "execution_count": 104,
   "metadata": {},
   "outputs": [
    {
     "data": {
      "text/html": [
       "<div>\n",
       "<style>\n",
       "    .dataframe thead tr:only-child th {\n",
       "        text-align: right;\n",
       "    }\n",
       "\n",
       "    .dataframe thead th {\n",
       "        text-align: left;\n",
       "    }\n",
       "\n",
       "    .dataframe tbody tr th {\n",
       "        vertical-align: top;\n",
       "    }\n",
       "</style>\n",
       "<table border=\"1\" class=\"dataframe\">\n",
       "  <thead>\n",
       "    <tr style=\"text-align: right;\">\n",
       "      <th></th>\n",
       "      <th>date</th>\n",
       "      <th>filename</th>\n",
       "      <th>plate</th>\n",
       "    </tr>\n",
       "  </thead>\n",
       "  <tbody>\n",
       "    <tr>\n",
       "      <th>0</th>\n",
       "      <td>September 23, 2013</td>\n",
       "      <td>tesseract_output/vanity_plate-0.png.txt</td>\n",
       "      <td>NUTDEEP</td>\n",
       "    </tr>\n",
       "    <tr>\n",
       "      <th>1</th>\n",
       "      <td>October 11, 2013</td>\n",
       "      <td>tesseract_output/vanity_plate-1.png.txt</td>\n",
       "      <td>KILLR</td>\n",
       "    </tr>\n",
       "    <tr>\n",
       "      <th>2</th>\n",
       "      <td>September 19, 2013</td>\n",
       "      <td>tesseract_output/vanity_plate-10.png.txt</td>\n",
       "      <td>BENWAH</td>\n",
       "    </tr>\n",
       "    <tr>\n",
       "      <th>3</th>\n",
       "      <td>September 23, 2013</td>\n",
       "      <td>tesseract_output/vanity_plate-11.png.txt</td>\n",
       "      <td>MAMS</td>\n",
       "    </tr>\n",
       "    <tr>\n",
       "      <th>4</th>\n",
       "      <td>August 19, 2013</td>\n",
       "      <td>tesseract_output/vanity_plate-12.png.txt</td>\n",
       "      <td>CATLII‘S</td>\n",
       "    </tr>\n",
       "  </tbody>\n",
       "</table>\n",
       "</div>"
      ],
      "text/plain": [
       "                 date                                  filename     plate\n",
       "0  September 23, 2013   tesseract_output/vanity_plate-0.png.txt   NUTDEEP\n",
       "1    October 11, 2013   tesseract_output/vanity_plate-1.png.txt     KILLR\n",
       "2  September 19, 2013  tesseract_output/vanity_plate-10.png.txt    BENWAH\n",
       "3  September 23, 2013  tesseract_output/vanity_plate-11.png.txt      MAMS\n",
       "4     August 19, 2013  tesseract_output/vanity_plate-12.png.txt  CATLII‘S"
      ]
     },
     "execution_count": 104,
     "metadata": {},
     "output_type": "execute_result"
    }
   ],
   "source": [
    "plates_df.head()"
   ]
  },
  {
   "cell_type": "code",
   "execution_count": 105,
   "metadata": {
    "collapsed": true
   },
   "outputs": [],
   "source": [
    "plates_df.to_csv('result.csv')"
   ]
  },
  {
   "cell_type": "code",
   "execution_count": null,
   "metadata": {
    "collapsed": true
   },
   "outputs": [],
   "source": []
  }
 ],
 "metadata": {
  "kernelspec": {
   "display_name": "Python 3",
   "language": "python",
   "name": "python3"
  },
  "language_info": {
   "codemirror_mode": {
    "name": "ipython",
    "version": 3
   },
   "file_extension": ".py",
   "mimetype": "text/x-python",
   "name": "python",
   "nbconvert_exporter": "python",
   "pygments_lexer": "ipython3",
   "version": "3.6.1"
  }
 },
 "nbformat": 4,
 "nbformat_minor": 2
}
