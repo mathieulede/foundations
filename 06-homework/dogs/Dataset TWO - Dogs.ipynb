{
 "cells": [
  {
   "cell_type": "markdown",
   "metadata": {},
   "source": [
    "# A dataset about dogs.\n",
    "\n",
    "Data from [a FOIL request to New York City](https://www.muckrock.com/foi/new-york-city-17/pet-licensing-data-for-new-york-city-23826/)"
   ]
  },
  {
   "cell_type": "markdown",
   "metadata": {},
   "source": [
    "## Do your importing and your setup"
   ]
  },
  {
   "cell_type": "code",
   "execution_count": 89,
   "metadata": {
    "collapsed": true
   },
   "outputs": [],
   "source": [
    "import pandas as pd\n",
    "import datetime\n",
    "%matplotlib inline"
   ]
  },
  {
   "cell_type": "markdown",
   "metadata": {},
   "source": [
    "## Read in the file `NYC_Dog_Licenses_Current_as_of_4-28-2016.xlsx` and look at the first five rows"
   ]
  },
  {
   "cell_type": "code",
   "execution_count": 80,
   "metadata": {
    "collapsed": true
   },
   "outputs": [],
   "source": [
    "df_dogs = pd.read_excel('NYC_Dog_Licenses_Current_as_of_4-28-2016.xlsx')"
   ]
  },
  {
   "cell_type": "markdown",
   "metadata": {},
   "source": [
    "## How many rows do you have in the data? What are the column types?\n",
    "\n",
    "If there are more than 30,000 rows in your dataset, go back and only read in the first 30,000."
   ]
  },
  {
   "cell_type": "code",
   "execution_count": 82,
   "metadata": {},
   "outputs": [
    {
     "data": {
      "text/plain": [
       "(81937, 15)"
      ]
     },
     "execution_count": 82,
     "metadata": {},
     "output_type": "execute_result"
    }
   ],
   "source": [
    "df_dogs.shape"
   ]
  },
  {
   "cell_type": "code",
   "execution_count": 84,
   "metadata": {},
   "outputs": [],
   "source": [
    "df_dogs = (pd.read_excel(\n",
    "    'NYC_Dog_Licenses_Current_as_of_4-28-2016.xlsx', \n",
    "    skip_footer=len(df_dogs) - 30000))"
   ]
  },
  {
   "cell_type": "code",
   "execution_count": 85,
   "metadata": {},
   "outputs": [
    {
     "data": {
      "text/plain": [
       "(30000, 15)"
      ]
     },
     "execution_count": 85,
     "metadata": {},
     "output_type": "execute_result"
    }
   ],
   "source": [
    "df_dogs.shape"
   ]
  },
  {
   "cell_type": "code",
   "execution_count": 87,
   "metadata": {},
   "outputs": [
    {
     "data": {
      "text/plain": [
       "Owner Zip Code                     int64\n",
       "Animal Name                       object\n",
       "Animal Gender                     object\n",
       "Primary Breed                     object\n",
       "Secondary Breed                   object\n",
       "Animal Dominant Color             object\n",
       "Animal Secondary Color            object\n",
       "Animal Third Color                object\n",
       "Animal Birth              datetime64[ns]\n",
       "Spayed or Neut                    object\n",
       "Guard or Trained                  object\n",
       "Vaccinated                        object\n",
       "Application Date          datetime64[ns]\n",
       "License Issued Date       datetime64[ns]\n",
       "License Expired Date      datetime64[ns]\n",
       "dtype: object"
      ]
     },
     "execution_count": 87,
     "metadata": {},
     "output_type": "execute_result"
    }
   ],
   "source": [
    "df_dogs.dtypes"
   ]
  },
  {
   "cell_type": "markdown",
   "metadata": {},
   "source": [
    "## Describe the dataset in words. What is each row? List two column titles along with what each of those columns means.\n",
    "\n",
    "For example: “Each row is an animal in the zoo. `is_reptile` is whether the animal is a reptile or not”"
   ]
  },
  {
   "cell_type": "code",
   "execution_count": 88,
   "metadata": {},
   "outputs": [
    {
     "data": {
      "text/html": [
       "<div>\n",
       "<style>\n",
       "    .dataframe thead tr:only-child th {\n",
       "        text-align: right;\n",
       "    }\n",
       "\n",
       "    .dataframe thead th {\n",
       "        text-align: left;\n",
       "    }\n",
       "\n",
       "    .dataframe tbody tr th {\n",
       "        vertical-align: top;\n",
       "    }\n",
       "</style>\n",
       "<table border=\"1\" class=\"dataframe\">\n",
       "  <thead>\n",
       "    <tr style=\"text-align: right;\">\n",
       "      <th></th>\n",
       "      <th>Owner Zip Code</th>\n",
       "      <th>Animal Name</th>\n",
       "      <th>Animal Gender</th>\n",
       "      <th>Primary Breed</th>\n",
       "      <th>Secondary Breed</th>\n",
       "      <th>Animal Dominant Color</th>\n",
       "      <th>Animal Secondary Color</th>\n",
       "      <th>Animal Third Color</th>\n",
       "      <th>Animal Birth</th>\n",
       "      <th>Spayed or Neut</th>\n",
       "      <th>Guard or Trained</th>\n",
       "      <th>Vaccinated</th>\n",
       "      <th>Application Date</th>\n",
       "      <th>License Issued Date</th>\n",
       "      <th>License Expired Date</th>\n",
       "    </tr>\n",
       "  </thead>\n",
       "  <tbody>\n",
       "    <tr>\n",
       "      <th>0</th>\n",
       "      <td>10024</td>\n",
       "      <td>BLUE MACK</td>\n",
       "      <td>M</td>\n",
       "      <td>Unknown</td>\n",
       "      <td>AIREDALE TERR</td>\n",
       "      <td>BROWN</td>\n",
       "      <td>BLACK</td>\n",
       "      <td>NaN</td>\n",
       "      <td>2007-11-01</td>\n",
       "      <td>Yes</td>\n",
       "      <td>No</td>\n",
       "      <td>Yes</td>\n",
       "      <td>2012-09-19 16:01:19.647</td>\n",
       "      <td>2015-09-19</td>\n",
       "      <td>2016-09-19</td>\n",
       "    </tr>\n",
       "    <tr>\n",
       "      <th>1</th>\n",
       "      <td>10461</td>\n",
       "      <td>Indie Zephir</td>\n",
       "      <td>M</td>\n",
       "      <td>Rottweiler</td>\n",
       "      <td>NaN</td>\n",
       "      <td>BLACK</td>\n",
       "      <td>TAN</td>\n",
       "      <td>NaN</td>\n",
       "      <td>2013-04-01</td>\n",
       "      <td>No</td>\n",
       "      <td>No</td>\n",
       "      <td>Yes</td>\n",
       "      <td>2013-09-20 11:41:36.647</td>\n",
       "      <td>2014-09-20</td>\n",
       "      <td>2018-09-20</td>\n",
       "    </tr>\n",
       "    <tr>\n",
       "      <th>2</th>\n",
       "      <td>10013</td>\n",
       "      <td>Bilal</td>\n",
       "      <td>M</td>\n",
       "      <td>Australian Cattledog</td>\n",
       "      <td>NaN</td>\n",
       "      <td>Rust</td>\n",
       "      <td>NaN</td>\n",
       "      <td>NaN</td>\n",
       "      <td>2014-09-01</td>\n",
       "      <td>Yes</td>\n",
       "      <td>NaN</td>\n",
       "      <td>No</td>\n",
       "      <td>2014-09-12 13:13:36.713</td>\n",
       "      <td>2014-09-12</td>\n",
       "      <td>2019-09-12</td>\n",
       "    </tr>\n",
       "    <tr>\n",
       "      <th>3</th>\n",
       "      <td>10025</td>\n",
       "      <td>Buddy</td>\n",
       "      <td>M</td>\n",
       "      <td>Unknown</td>\n",
       "      <td>Cockapoo</td>\n",
       "      <td>BLOND</td>\n",
       "      <td>WHITE</td>\n",
       "      <td>NaN</td>\n",
       "      <td>2008-04-01</td>\n",
       "      <td>Yes</td>\n",
       "      <td>No</td>\n",
       "      <td>Yes</td>\n",
       "      <td>2014-09-12 15:26:51.417</td>\n",
       "      <td>2014-09-12</td>\n",
       "      <td>2017-10-20</td>\n",
       "    </tr>\n",
       "    <tr>\n",
       "      <th>4</th>\n",
       "      <td>10013</td>\n",
       "      <td>Ali</td>\n",
       "      <td>M</td>\n",
       "      <td>Basenji</td>\n",
       "      <td>NaN</td>\n",
       "      <td>Black</td>\n",
       "      <td>NaN</td>\n",
       "      <td>NaN</td>\n",
       "      <td>2014-01-01</td>\n",
       "      <td>No</td>\n",
       "      <td>NaN</td>\n",
       "      <td>No</td>\n",
       "      <td>2014-09-12 15:43:17.707</td>\n",
       "      <td>2014-09-12</td>\n",
       "      <td>2019-09-12</td>\n",
       "    </tr>\n",
       "  </tbody>\n",
       "</table>\n",
       "</div>"
      ],
      "text/plain": [
       "   Owner Zip Code   Animal Name Animal Gender         Primary Breed  \\\n",
       "0           10024     BLUE MACK             M               Unknown   \n",
       "1           10461  Indie Zephir             M            Rottweiler   \n",
       "2           10013         Bilal             M  Australian Cattledog   \n",
       "3           10025         Buddy             M               Unknown   \n",
       "4           10013           Ali             M               Basenji   \n",
       "\n",
       "  Secondary Breed Animal Dominant Color Animal Secondary Color  \\\n",
       "0   AIREDALE TERR                 BROWN                  BLACK   \n",
       "1             NaN                 BLACK                    TAN   \n",
       "2             NaN                  Rust                    NaN   \n",
       "3        Cockapoo                 BLOND                  WHITE   \n",
       "4             NaN                 Black                    NaN   \n",
       "\n",
       "  Animal Third Color Animal Birth Spayed or Neut Guard or Trained Vaccinated  \\\n",
       "0                NaN   2007-11-01            Yes               No        Yes   \n",
       "1                NaN   2013-04-01             No               No        Yes   \n",
       "2                NaN   2014-09-01            Yes              NaN         No   \n",
       "3                NaN   2008-04-01            Yes               No        Yes   \n",
       "4                NaN   2014-01-01             No              NaN         No   \n",
       "\n",
       "         Application Date License Issued Date License Expired Date  \n",
       "0 2012-09-19 16:01:19.647          2015-09-19           2016-09-19  \n",
       "1 2013-09-20 11:41:36.647          2014-09-20           2018-09-20  \n",
       "2 2014-09-12 13:13:36.713          2014-09-12           2019-09-12  \n",
       "3 2014-09-12 15:26:51.417          2014-09-12           2017-10-20  \n",
       "4 2014-09-12 15:43:17.707          2014-09-12           2019-09-12  "
      ]
     },
     "execution_count": 88,
     "metadata": {},
     "output_type": "execute_result"
    }
   ],
   "source": [
    "df_dogs.head()"
   ]
  },
  {
   "cell_type": "markdown",
   "metadata": {
    "collapsed": true
   },
   "source": [
    "* **Each row is a dog owned by a master.**\n",
    "* `Guard or Trained` **is whether the animal has been trained as watchdog or not.**\n",
    "* `Animal Dominant Color` **is the fur color of the dog**"
   ]
  },
  {
   "cell_type": "markdown",
   "metadata": {},
   "source": [
    "# Your thoughts\n",
    "\n",
    "Think of four questions you could ask this dataset. **Don't ask them**, just write them down in the cell below."
   ]
  },
  {
   "cell_type": "markdown",
   "metadata": {
    "collapsed": true
   },
   "source": [
    "1. What is the most common animal name\n",
    "2. What are the most common breeds by zip code\n",
    "3. Is there anyone who trained his chihuahua as a watchdog\n",
    "4. What is the prefered gender by breed\n",
    "5. Is there a breed that have very few male or female"
   ]
  },
  {
   "cell_type": "markdown",
   "metadata": {},
   "source": [
    "# Looking at some dogs"
   ]
  },
  {
   "cell_type": "markdown",
   "metadata": {},
   "source": [
    "## What are the most popular (primary) breeds of dogs? Graph the top 10."
   ]
  },
  {
   "cell_type": "code",
   "execution_count": 96,
   "metadata": {},
   "outputs": [
    {
     "data": {
      "text/plain": [
       "Yorkshire Terrier                       1882\n",
       "Shih Tzu                                1760\n",
       "Chihuahua                               1535\n",
       "Maltese                                 1133\n",
       "Labrador Retriever                      1074\n",
       "American Pit Bull Terrier/Pit Bull       780\n",
       "Labrador Retriever Crossbreed            738\n",
       "American Pit Bull Mix / Pit Bull Mix     722\n",
       "Jack Russell Terrier                     553\n",
       "Beagle                                   546\n",
       "Name: Primary Breed, dtype: int64"
      ]
     },
     "execution_count": 96,
     "metadata": {},
     "output_type": "execute_result"
    }
   ],
   "source": [
    "df_dogs[df_dogs['Primary Breed'] != 'Unknown']['Primary Breed'].value_counts().head(10)"
   ]
  },
  {
   "cell_type": "code",
   "execution_count": 101,
   "metadata": {},
   "outputs": [
    {
     "data": {
      "text/plain": [
       "<matplotlib.axes._subplots.AxesSubplot at 0x10c770828>"
      ]
     },
     "execution_count": 101,
     "metadata": {},
     "output_type": "execute_result"
    },
    {
     "data": {
      "image/png": "[encoded data removed]",
      "text/plain": [
       "<matplotlib.figure.Figure at 0x10aca1f98>"
      ]
     },
     "metadata": {},
     "output_type": "display_data"
    }
   ],
   "source": [
    "(df_dogs[df_dogs['Primary Breed'] != 'Unknown']['Primary Breed']\n",
    " .value_counts()\n",
    " .head(10)\n",
    " .sort_values(ascending=True)\n",
    " .plot(kind='barh'))"
   ]
  },
  {
   "cell_type": "markdown",
   "metadata": {},
   "source": [
    "## \"Unknown\" is a terrible breed! Graph the top 10 breeds that are NOT Unknown"
   ]
  },
  {
   "cell_type": "code",
   "execution_count": 112,
   "metadata": {},
   "outputs": [
    {
     "data": {
      "text/plain": [
       "Yorkshire Terrier                       1882\n",
       "Shih Tzu                                1760\n",
       "Chihuahua                               1535\n",
       "Maltese                                 1133\n",
       "Labrador Retriever                      1074\n",
       "American Pit Bull Terrier/Pit Bull       780\n",
       "Labrador Retriever Crossbreed            738\n",
       "American Pit Bull Mix / Pit Bull Mix     722\n",
       "Jack Russell Terrier                     553\n",
       "Beagle                                   546\n",
       "Name: Primary Breed, dtype: int64"
      ]
     },
     "execution_count": 112,
     "metadata": {},
     "output_type": "execute_result"
    }
   ],
   "source": [
    "(df_dogs\n",
    " [df_dogs['Primary Breed'] != 'Unknown']\n",
    " ['Primary Breed']\n",
    " .value_counts()\n",
    " .head(10))"
   ]
  },
  {
   "cell_type": "markdown",
   "metadata": {},
   "source": [
    "## What are the most popular dog names?"
   ]
  },
  {
   "cell_type": "code",
   "execution_count": 111,
   "metadata": {},
   "outputs": [
    {
     "data": {
      "text/plain": [
       "Max        202\n",
       "Bella      193\n",
       "Charlie    172\n",
       "Lola       146\n",
       "Rocky      140\n",
       "Lucy       128\n",
       "Coco       114\n",
       "Buddy      113\n",
       "Lucky      106\n",
       "Daisy       90\n",
       "Name: Animal Name, dtype: int64"
      ]
     },
     "execution_count": 111,
     "metadata": {},
     "output_type": "execute_result"
    }
   ],
   "source": [
    "(df_dogs\n",
    " [df_dogs['Animal Name'].str.lower() != 'unknown']\n",
    " ['Animal Name']\n",
    " .value_counts()\n",
    " .head(10))"
   ]
  },
  {
   "cell_type": "markdown",
   "metadata": {},
   "source": [
    "## Do any dogs have your name? How many dogs are named \"Max,\" and how many are named \"Maxwell\"?"
   ]
  },
  {
   "cell_type": "code",
   "execution_count": 115,
   "metadata": {},
   "outputs": [
    {
     "data": {
      "text/plain": [
       "Series([], Name: Animal Name, dtype: int64)"
      ]
     },
     "execution_count": 115,
     "metadata": {},
     "output_type": "execute_result"
    }
   ],
   "source": [
    "df_dogs[df_dogs['Animal Name'] == 'Mathieu']['Animal Name'].value_counts()"
   ]
  },
  {
   "cell_type": "code",
   "execution_count": 133,
   "metadata": {},
   "outputs": [
    {
     "data": {
      "text/plain": [
       "Max        202\n",
       "Maxwell     11\n",
       "Name: Animal Name, dtype: int64"
      ]
     },
     "execution_count": 133,
     "metadata": {},
     "output_type": "execute_result"
    }
   ],
   "source": [
    "(df_dogs[\n",
    "    (df_dogs['Animal Name'] == 'Max') |\n",
    "    (df_dogs['Animal Name'] == 'Maxwell')]\n",
    " ['Animal Name']\n",
    " .value_counts())"
   ]
  },
  {
   "cell_type": "markdown",
   "metadata": {},
   "source": [
    "## What percentage of dogs are guard dogs?\n",
    "\n",
    "Check out the documentation for [value counts](https://pandas.pydata.org/pandas-docs/stable/generated/pandas.Series.value_counts.html)."
   ]
  },
  {
   "cell_type": "code",
   "execution_count": 292,
   "metadata": {},
   "outputs": [
    {
     "data": {
      "text/plain": [
       "No     0.999433\n",
       "Yes    0.000567\n",
       "Name: Guard or Trained, dtype: float64"
      ]
     },
     "execution_count": 292,
     "metadata": {},
     "output_type": "execute_result"
    }
   ],
   "source": [
    "df_dogs['Guard or Trained'].value_counts(normalize=True)"
   ]
  },
  {
   "cell_type": "code",
   "execution_count": 293,
   "metadata": {},
   "outputs": [
    {
     "data": {
      "text/plain": [
       "0.05666666666666667"
      ]
     },
     "execution_count": 293,
     "metadata": {},
     "output_type": "execute_result"
    }
   ],
   "source": [
    "# or\n",
    "len(df_dogs[df_dogs['Guard or Trained'] == 'Yes']) / len(df_dogs) * 100"
   ]
  },
  {
   "cell_type": "markdown",
   "metadata": {},
   "source": [
    "## What are the actual numbers?"
   ]
  },
  {
   "cell_type": "code",
   "execution_count": 149,
   "metadata": {},
   "outputs": [
    {
     "data": {
      "text/plain": [
       "17"
      ]
     },
     "execution_count": 149,
     "metadata": {},
     "output_type": "execute_result"
    }
   ],
   "source": [
    "len(df_dogs[df_dogs['Guard or Trained'] == 'Yes'])"
   ]
  },
  {
   "cell_type": "code",
   "execution_count": 148,
   "metadata": {},
   "outputs": [
    {
     "data": {
      "text/plain": [
       "19809"
      ]
     },
     "execution_count": 148,
     "metadata": {},
     "output_type": "execute_result"
    }
   ],
   "source": [
    "len(df_dogs[df_dogs['Guard or Trained'] == 'No'])"
   ]
  },
  {
   "cell_type": "markdown",
   "metadata": {},
   "source": [
    "## Wait... if you add that up, is it the same as your number of rows? Where are the other dogs???? How can we find them??????\n",
    "\n",
    "Use your `.head()` to think about it, then you'll do some magic with `.value_counts()`"
   ]
  },
  {
   "cell_type": "code",
   "execution_count": 153,
   "metadata": {},
   "outputs": [
    {
     "data": {
      "text/plain": [
       "False"
      ]
     },
     "execution_count": 153,
     "metadata": {},
     "output_type": "execute_result"
    }
   ],
   "source": [
    "(len(df_dogs[df_dogs['Guard or Trained'] == 'Yes']) + \n",
    " len(df_dogs[df_dogs['Guard or Trained'] == 'No']) == len(df_dogs))"
   ]
  },
  {
   "cell_type": "code",
   "execution_count": 157,
   "metadata": {},
   "outputs": [
    {
     "data": {
      "text/html": [
       "<div>\n",
       "<style>\n",
       "    .dataframe thead tr:only-child th {\n",
       "        text-align: right;\n",
       "    }\n",
       "\n",
       "    .dataframe thead th {\n",
       "        text-align: left;\n",
       "    }\n",
       "\n",
       "    .dataframe tbody tr th {\n",
       "        vertical-align: top;\n",
       "    }\n",
       "</style>\n",
       "<table border=\"1\" class=\"dataframe\">\n",
       "  <thead>\n",
       "    <tr style=\"text-align: right;\">\n",
       "      <th></th>\n",
       "      <th>Owner Zip Code</th>\n",
       "      <th>Animal Name</th>\n",
       "      <th>Animal Gender</th>\n",
       "      <th>Primary Breed</th>\n",
       "      <th>Secondary Breed</th>\n",
       "      <th>Animal Dominant Color</th>\n",
       "      <th>Animal Secondary Color</th>\n",
       "      <th>Animal Third Color</th>\n",
       "      <th>Animal Birth</th>\n",
       "      <th>Spayed or Neut</th>\n",
       "      <th>Guard or Trained</th>\n",
       "      <th>Vaccinated</th>\n",
       "      <th>Application Date</th>\n",
       "      <th>License Issued Date</th>\n",
       "      <th>License Expired Date</th>\n",
       "    </tr>\n",
       "  </thead>\n",
       "  <tbody>\n",
       "    <tr>\n",
       "      <th>2</th>\n",
       "      <td>10013</td>\n",
       "      <td>Bilal</td>\n",
       "      <td>M</td>\n",
       "      <td>Australian Cattledog</td>\n",
       "      <td>NaN</td>\n",
       "      <td>Rust</td>\n",
       "      <td>NaN</td>\n",
       "      <td>NaN</td>\n",
       "      <td>2014-09-01</td>\n",
       "      <td>Yes</td>\n",
       "      <td>NaN</td>\n",
       "      <td>No</td>\n",
       "      <td>2014-09-12 13:13:36.713</td>\n",
       "      <td>2014-09-12</td>\n",
       "      <td>2019-09-12</td>\n",
       "    </tr>\n",
       "    <tr>\n",
       "      <th>4</th>\n",
       "      <td>10013</td>\n",
       "      <td>Ali</td>\n",
       "      <td>M</td>\n",
       "      <td>Basenji</td>\n",
       "      <td>NaN</td>\n",
       "      <td>Black</td>\n",
       "      <td>NaN</td>\n",
       "      <td>NaN</td>\n",
       "      <td>2014-01-01</td>\n",
       "      <td>No</td>\n",
       "      <td>NaN</td>\n",
       "      <td>No</td>\n",
       "      <td>2014-09-12 15:43:17.707</td>\n",
       "      <td>2014-09-12</td>\n",
       "      <td>2019-09-12</td>\n",
       "    </tr>\n",
       "    <tr>\n",
       "      <th>5</th>\n",
       "      <td>10013</td>\n",
       "      <td>Queen</td>\n",
       "      <td>F</td>\n",
       "      <td>Akita Crossbreed</td>\n",
       "      <td>NaN</td>\n",
       "      <td>Charcoal</td>\n",
       "      <td>Red</td>\n",
       "      <td>NaN</td>\n",
       "      <td>2013-04-01</td>\n",
       "      <td>No</td>\n",
       "      <td>NaN</td>\n",
       "      <td>Yes</td>\n",
       "      <td>2014-09-12 16:14:48.487</td>\n",
       "      <td>2014-09-12</td>\n",
       "      <td>2017-09-12</td>\n",
       "    </tr>\n",
       "    <tr>\n",
       "      <th>6</th>\n",
       "      <td>10035</td>\n",
       "      <td>Paige Sable Orta</td>\n",
       "      <td>F</td>\n",
       "      <td>American Pit Bull Mix / Pit Bull Mix</td>\n",
       "      <td>NaN</td>\n",
       "      <td>White</td>\n",
       "      <td>Gray</td>\n",
       "      <td>NaN</td>\n",
       "      <td>2014-07-01</td>\n",
       "      <td>No</td>\n",
       "      <td>NaN</td>\n",
       "      <td>No</td>\n",
       "      <td>2014-09-12 16:22:54.113</td>\n",
       "      <td>2014-09-12</td>\n",
       "      <td>2017-09-12</td>\n",
       "    </tr>\n",
       "    <tr>\n",
       "      <th>11</th>\n",
       "      <td>11232</td>\n",
       "      <td>muneca</td>\n",
       "      <td>F</td>\n",
       "      <td>Beagle</td>\n",
       "      <td>NaN</td>\n",
       "      <td>White</td>\n",
       "      <td>Black</td>\n",
       "      <td>Brown</td>\n",
       "      <td>2013-05-01</td>\n",
       "      <td>Yes</td>\n",
       "      <td>NaN</td>\n",
       "      <td>Yes</td>\n",
       "      <td>2014-09-13 00:58:36.603</td>\n",
       "      <td>2014-09-13</td>\n",
       "      <td>2019-09-13</td>\n",
       "    </tr>\n",
       "  </tbody>\n",
       "</table>\n",
       "</div>"
      ],
      "text/plain": [
       "    Owner Zip Code       Animal Name Animal Gender  \\\n",
       "2            10013             Bilal             M   \n",
       "4            10013               Ali             M   \n",
       "5            10013             Queen             F   \n",
       "6            10035  Paige Sable Orta             F   \n",
       "11           11232            muneca             F   \n",
       "\n",
       "                           Primary Breed Secondary Breed  \\\n",
       "2                   Australian Cattledog             NaN   \n",
       "4                                Basenji             NaN   \n",
       "5                       Akita Crossbreed             NaN   \n",
       "6   American Pit Bull Mix / Pit Bull Mix             NaN   \n",
       "11                                Beagle             NaN   \n",
       "\n",
       "   Animal Dominant Color Animal Secondary Color Animal Third Color  \\\n",
       "2                   Rust                    NaN                NaN   \n",
       "4                  Black                    NaN                NaN   \n",
       "5               Charcoal                    Red                NaN   \n",
       "6                  White                   Gray                NaN   \n",
       "11                 White                  Black              Brown   \n",
       "\n",
       "   Animal Birth Spayed or Neut Guard or Trained Vaccinated  \\\n",
       "2    2014-09-01            Yes              NaN         No   \n",
       "4    2014-01-01             No              NaN         No   \n",
       "5    2013-04-01             No              NaN        Yes   \n",
       "6    2014-07-01             No              NaN         No   \n",
       "11   2013-05-01            Yes              NaN        Yes   \n",
       "\n",
       "          Application Date License Issued Date License Expired Date  \n",
       "2  2014-09-12 13:13:36.713          2014-09-12           2019-09-12  \n",
       "4  2014-09-12 15:43:17.707          2014-09-12           2019-09-12  \n",
       "5  2014-09-12 16:14:48.487          2014-09-12           2017-09-12  \n",
       "6  2014-09-12 16:22:54.113          2014-09-12           2017-09-12  \n",
       "11 2014-09-13 00:58:36.603          2014-09-13           2019-09-13  "
      ]
     },
     "execution_count": 157,
     "metadata": {},
     "output_type": "execute_result"
    }
   ],
   "source": [
    "(df_dogs[(df_dogs['Guard or Trained'] != 'Yes') & \n",
    "         (df_dogs['Guard or Trained'] != 'No')]\n",
    " .head())"
   ]
  },
  {
   "cell_type": "markdown",
   "metadata": {},
   "source": [
    "## Fill in all of those empty \"Guard or Trained\" columns with \"No\"\n",
    "\n",
    "Then check your result with another `.value_counts()`"
   ]
  },
  {
   "cell_type": "code",
   "execution_count": 171,
   "metadata": {},
   "outputs": [],
   "source": [
    "df_dogs.loc[(df_dogs['Guard or Trained'] != 'Yes') & \n",
    "         (df_dogs['Guard or Trained'] != 'No'), 'Guard or Trained'] = 'No'"
   ]
  },
  {
   "cell_type": "code",
   "execution_count": 169,
   "metadata": {
    "collapsed": true
   },
   "outputs": [],
   "source": [
    "# or\n",
    "# if df = pd.read_excel(\"my-file.csv\", na_values=[\"Unknown\", \"NaN\", \"UNKNOWN\"])\n",
    "df_dogs['Guard or Trained'].fillna(\"No\", inplace=True)"
   ]
  },
  {
   "cell_type": "code",
   "execution_count": 172,
   "metadata": {},
   "outputs": [
    {
     "data": {
      "text/html": [
       "<div>\n",
       "<style>\n",
       "    .dataframe thead tr:only-child th {\n",
       "        text-align: right;\n",
       "    }\n",
       "\n",
       "    .dataframe thead th {\n",
       "        text-align: left;\n",
       "    }\n",
       "\n",
       "    .dataframe tbody tr th {\n",
       "        vertical-align: top;\n",
       "    }\n",
       "</style>\n",
       "<table border=\"1\" class=\"dataframe\">\n",
       "  <thead>\n",
       "    <tr style=\"text-align: right;\">\n",
       "      <th></th>\n",
       "      <th>Owner Zip Code</th>\n",
       "      <th>Animal Name</th>\n",
       "      <th>Animal Gender</th>\n",
       "      <th>Primary Breed</th>\n",
       "      <th>Secondary Breed</th>\n",
       "      <th>Animal Dominant Color</th>\n",
       "      <th>Animal Secondary Color</th>\n",
       "      <th>Animal Third Color</th>\n",
       "      <th>Animal Birth</th>\n",
       "      <th>Spayed or Neut</th>\n",
       "      <th>Guard or Trained</th>\n",
       "      <th>Vaccinated</th>\n",
       "      <th>Application Date</th>\n",
       "      <th>License Issued Date</th>\n",
       "      <th>License Expired Date</th>\n",
       "    </tr>\n",
       "  </thead>\n",
       "  <tbody>\n",
       "    <tr>\n",
       "      <th>0</th>\n",
       "      <td>10024</td>\n",
       "      <td>BLUE MACK</td>\n",
       "      <td>M</td>\n",
       "      <td>Unknown</td>\n",
       "      <td>AIREDALE TERR</td>\n",
       "      <td>BROWN</td>\n",
       "      <td>BLACK</td>\n",
       "      <td>NaN</td>\n",
       "      <td>2007-11-01</td>\n",
       "      <td>Yes</td>\n",
       "      <td>No</td>\n",
       "      <td>Yes</td>\n",
       "      <td>2012-09-19 16:01:19.647</td>\n",
       "      <td>2015-09-19</td>\n",
       "      <td>2016-09-19</td>\n",
       "    </tr>\n",
       "    <tr>\n",
       "      <th>1</th>\n",
       "      <td>10461</td>\n",
       "      <td>Indie Zephir</td>\n",
       "      <td>M</td>\n",
       "      <td>Rottweiler</td>\n",
       "      <td>NaN</td>\n",
       "      <td>BLACK</td>\n",
       "      <td>TAN</td>\n",
       "      <td>NaN</td>\n",
       "      <td>2013-04-01</td>\n",
       "      <td>No</td>\n",
       "      <td>No</td>\n",
       "      <td>Yes</td>\n",
       "      <td>2013-09-20 11:41:36.647</td>\n",
       "      <td>2014-09-20</td>\n",
       "      <td>2018-09-20</td>\n",
       "    </tr>\n",
       "    <tr>\n",
       "      <th>2</th>\n",
       "      <td>No</td>\n",
       "      <td>No</td>\n",
       "      <td>No</td>\n",
       "      <td>No</td>\n",
       "      <td>No</td>\n",
       "      <td>No</td>\n",
       "      <td>No</td>\n",
       "      <td>No</td>\n",
       "      <td>2014-09-01</td>\n",
       "      <td>Yes</td>\n",
       "      <td>No</td>\n",
       "      <td>No</td>\n",
       "      <td>2014-09-12 13:13:36.713</td>\n",
       "      <td>2014-09-12</td>\n",
       "      <td>2019-09-12</td>\n",
       "    </tr>\n",
       "    <tr>\n",
       "      <th>3</th>\n",
       "      <td>10025</td>\n",
       "      <td>Buddy</td>\n",
       "      <td>M</td>\n",
       "      <td>Unknown</td>\n",
       "      <td>Cockapoo</td>\n",
       "      <td>BLOND</td>\n",
       "      <td>WHITE</td>\n",
       "      <td>NaN</td>\n",
       "      <td>2008-04-01</td>\n",
       "      <td>Yes</td>\n",
       "      <td>No</td>\n",
       "      <td>Yes</td>\n",
       "      <td>2014-09-12 15:26:51.417</td>\n",
       "      <td>2014-09-12</td>\n",
       "      <td>2017-10-20</td>\n",
       "    </tr>\n",
       "    <tr>\n",
       "      <th>4</th>\n",
       "      <td>No</td>\n",
       "      <td>No</td>\n",
       "      <td>No</td>\n",
       "      <td>No</td>\n",
       "      <td>No</td>\n",
       "      <td>No</td>\n",
       "      <td>No</td>\n",
       "      <td>No</td>\n",
       "      <td>2014-01-01</td>\n",
       "      <td>No</td>\n",
       "      <td>No</td>\n",
       "      <td>No</td>\n",
       "      <td>2014-09-12 15:43:17.707</td>\n",
       "      <td>2014-09-12</td>\n",
       "      <td>2019-09-12</td>\n",
       "    </tr>\n",
       "  </tbody>\n",
       "</table>\n",
       "</div>"
      ],
      "text/plain": [
       "  Owner Zip Code   Animal Name Animal Gender Primary Breed Secondary Breed  \\\n",
       "0          10024     BLUE MACK             M       Unknown   AIREDALE TERR   \n",
       "1          10461  Indie Zephir             M    Rottweiler             NaN   \n",
       "2             No            No            No            No              No   \n",
       "3          10025         Buddy             M       Unknown        Cockapoo   \n",
       "4             No            No            No            No              No   \n",
       "\n",
       "  Animal Dominant Color Animal Secondary Color Animal Third Color  \\\n",
       "0                 BROWN                  BLACK                NaN   \n",
       "1                 BLACK                    TAN                NaN   \n",
       "2                    No                     No                 No   \n",
       "3                 BLOND                  WHITE                NaN   \n",
       "4                    No                     No                 No   \n",
       "\n",
       "  Animal Birth Spayed or Neut Guard or Trained Vaccinated  \\\n",
       "0   2007-11-01            Yes               No        Yes   \n",
       "1   2013-04-01             No               No        Yes   \n",
       "2   2014-09-01            Yes               No         No   \n",
       "3   2008-04-01            Yes               No        Yes   \n",
       "4   2014-01-01             No               No         No   \n",
       "\n",
       "         Application Date License Issued Date License Expired Date  \n",
       "0 2012-09-19 16:01:19.647          2015-09-19           2016-09-19  \n",
       "1 2013-09-20 11:41:36.647          2014-09-20           2018-09-20  \n",
       "2 2014-09-12 13:13:36.713          2014-09-12           2019-09-12  \n",
       "3 2014-09-12 15:26:51.417          2014-09-12           2017-10-20  \n",
       "4 2014-09-12 15:43:17.707          2014-09-12           2019-09-12  "
      ]
     },
     "execution_count": 172,
     "metadata": {},
     "output_type": "execute_result"
    }
   ],
   "source": [
    "df_dogs.head()"
   ]
  },
  {
   "cell_type": "markdown",
   "metadata": {},
   "source": [
    "## What are the top dog breeds for guard dogs? "
   ]
  },
  {
   "cell_type": "code",
   "execution_count": 181,
   "metadata": {},
   "outputs": [
    {
     "data": {
      "text/plain": [
       "Primary Breed               Guard or Trained\n",
       "German Shepherd Dog         Yes                 3\n",
       "Yorkshire Terrier           Yes                 1\n",
       "Shih Tzu                    Yes                 1\n",
       "Schnauzer, Miniature        Yes                 1\n",
       "Rottweiler                  Yes                 1\n",
       "Poodle, Standard            Yes                 1\n",
       "Labrador Retriever          Yes                 1\n",
       "Golden Retriever            Yes                 1\n",
       "German Shepherd Crossbreed  Yes                 1\n",
       "Doberman Pinscher           Yes                 1\n",
       "Name: Guard or Trained, dtype: int64"
      ]
     },
     "execution_count": 181,
     "metadata": {},
     "output_type": "execute_result"
    }
   ],
   "source": [
    "(df_dogs[(df_dogs['Guard or Trained'] == 'Yes') \n",
    "         & (df_dogs['Primary Breed'] != 'Unknown')]\n",
    " .groupby('Primary Breed')['Guard or Trained']\n",
    " .value_counts()\n",
    " .sort_values(ascending=False))"
   ]
  },
  {
   "cell_type": "markdown",
   "metadata": {},
   "source": [
    "## Create a new column called \"year\" that is the dog's year of birth\n",
    "\n",
    "The `Animal Birth` column is a datetime, so you can get the year out of it with the code `df['Animal Birth'].apply(lambda birth: birth.year)`."
   ]
  },
  {
   "cell_type": "code",
   "execution_count": 183,
   "metadata": {},
   "outputs": [],
   "source": [
    "df_dogs['year'] = df_dogs['Animal Birth'].apply(lambda birth: birth.year)"
   ]
  },
  {
   "cell_type": "markdown",
   "metadata": {},
   "source": [
    "## Calculate a new column called “age” that shows approximately how old the dog is. How old are dogs on average?"
   ]
  },
  {
   "cell_type": "code",
   "execution_count": 190,
   "metadata": {},
   "outputs": [],
   "source": [
    "df_dogs['age'] = datetime.datetime.now().year - df_dogs['year']"
   ]
  },
  {
   "cell_type": "code",
   "execution_count": 188,
   "metadata": {},
   "outputs": [
    {
     "data": {
      "text/plain": [
       "7.7124333333333333"
      ]
     },
     "execution_count": 188,
     "metadata": {},
     "output_type": "execute_result"
    }
   ],
   "source": [
    "df_dogs['age'].mean()"
   ]
  },
  {
   "cell_type": "markdown",
   "metadata": {},
   "source": [
    "# Joining data together"
   ]
  },
  {
   "cell_type": "code",
   "execution_count": 225,
   "metadata": {},
   "outputs": [],
   "source": [
    "df_neighborhoods = pd.read_csv('zipcodes-neighborhoods.csv')"
   ]
  },
  {
   "cell_type": "markdown",
   "metadata": {},
   "source": [
    "## Which neighborhood does each dog live in?\n",
    "\n",
    "You also have a (terrible) list of NYC neighborhoods in `zipcodes-neighborhoods.csv`. Join these two datasets together, so we know what neighborhood each dog lives in. **Be sure to not read it in as `df`, or else you'll overwrite your dogs dataframe.**"
   ]
  },
  {
   "cell_type": "code",
   "execution_count": 193,
   "metadata": {},
   "outputs": [],
   "source": [
    "(df_merged = df_dogs.merge(\n",
    "    df_neighborhoods, \n",
    "    left_on='Owner Zip Code', \n",
    "    right_on='zip', \n",
    "    how='outer'))"
   ]
  },
  {
   "cell_type": "markdown",
   "metadata": {},
   "source": [
    "## What is the most popular dog name in all parts of the Bronx? How about Brooklyn? The Upper East Side?"
   ]
  },
  {
   "cell_type": "code",
   "execution_count": 251,
   "metadata": {},
   "outputs": [
    {
     "data": {
      "text/plain": [
       "borough    borough    Animal Name\n",
       "Bronx      Bronx      Max            15\n",
       "Brooklyn   Brooklyn   Charlie        30\n",
       "Manhattan  Manhattan  Charlie        14\n",
       "Name: Animal Name, dtype: int64"
      ]
     },
     "execution_count": 251,
     "metadata": {},
     "output_type": "execute_result"
    }
   ],
   "source": [
    "neighborhoods = [\n",
    "    'Bronx',\n",
    "    'Brooklyn',\n",
    "    'Upper East Side'\n",
    "]\n",
    "(df_merged[(df_merged['borough'].isin(neighborhoods)) |\n",
    "          (df_merged['neighborhood'].isin(neighborhoods))]\n",
    " .groupby('borough')['Animal Name']\n",
    " .value_counts()\n",
    " .groupby(level=0)\n",
    " .nlargest(1))"
   ]
  },
  {
   "cell_type": "markdown",
   "metadata": {},
   "source": [
    "## What is the most common dog breed in each of the neighborhoods of NYC?"
   ]
  },
  {
   "cell_type": "code",
   "execution_count": 276,
   "metadata": {},
   "outputs": [
    {
     "data": {
      "text/plain": [
       "neighborhood                   Primary Breed                \n",
       "Borough Park                   Yorkshire Terrier                26\n",
       "Bronx Park and Fordham         Yorkshire Terrier                21\n",
       "Bushwick and Williamsburg      Chihuahua                        25\n",
       "Canarsie and Flatlands         Shih Tzu                         31\n",
       "Central Bronx                  Yorkshire Terrier                14\n",
       "Central Brooklyn               Shih Tzu                         30\n",
       "Central Harlem                 Yorkshire Terrier                24\n",
       "Central Queens                 Yorkshire Terrier                26\n",
       "Chelsea and Clinton            Yorkshire Terrier                50\n",
       "East Harlem                    Shih Tzu                         30\n",
       "East New York and New Lots     Chihuahua                        11\n",
       "Flatbush                       Shih Tzu                         25\n",
       "Gramercy Park and Murray Hill  Shih Tzu                         33\n",
       "Greenpoint                     Chihuahua                        24\n",
       "Greenwich Village and Soho     Bull Dog, French                 28\n",
       "High Bridge and Morrisania     Shih Tzu                         21\n",
       "Hunts Point and Mott Haven     Chihuahua                        24\n",
       "Inwood and Washington Heights  Chihuahua                        29\n",
       "Jamaica                        Yorkshire Terrier                23\n",
       "Kingsbridge and Riverdale      Yorkshire Terrier                21\n",
       "Lower East Side                Chihuahua                        45\n",
       "Lower Manhattan                Shih Tzu                         17\n",
       "Mid-Island                     Yorkshire Terrier                27\n",
       "North Queens                   Maltese                          40\n",
       "Northeast Bronx                Yorkshire Terrier                21\n",
       "Northeast Queens               Maltese                          23\n",
       "Northwest Brooklyn             Labrador Retriever Crossbreed    48\n",
       "Northwest Queens               Chihuahua                        38\n",
       "Port Richmond                  Labrador Retriever               11\n",
       "Rockaways                      Yorkshire Terrier                16\n",
       "South Shore                    Shih Tzu                         73\n",
       "Southeast Bronx                Shih Tzu                         58\n",
       "Southeast Queens               Yorkshire Terrier                19\n",
       "Southern Brooklyn              Yorkshire Terrier                57\n",
       "Southwest Brooklyn             Shih Tzu                         47\n",
       "Southwest Queens               Chihuahua                        36\n",
       "Stapleton and St. George       Shih Tzu                         23\n",
       "Sunset Park                    Yorkshire Terrier                17\n",
       "Upper East Side                Havanese                         69\n",
       "Upper West Side                Labrador Retriever               85\n",
       "West Central Queens            Yorkshire Terrier                53\n",
       "West Queens                    Shih Tzu                         62\n",
       "Name: Primary Breed, dtype: int64"
      ]
     },
     "execution_count": 276,
     "metadata": {},
     "output_type": "execute_result"
    }
   ],
   "source": [
    "(df_merged[df_merged['Primary Breed'] != 'Unknown']\n",
    " .groupby('neighborhood')['Primary Breed']\n",
    " .value_counts()\n",
    " .groupby(\n",
    "     level=0,          # If the axis is a MultiIndex (hierarchical),\n",
    "     group_keys=False) # group by a particular level or levels\n",
    "                       # The group_keys option leaves only the MultiIndex of the Series returned \n",
    " .nlargest(1))"
   ]
  },
  {
   "cell_type": "markdown",
   "metadata": {},
   "source": [
    "## What breed of dogs are the least likely to be spayed? Male or female?"
   ]
  },
  {
   "cell_type": "code",
   "execution_count": 510,
   "metadata": {},
   "outputs": [
    {
     "data": {
      "text/plain": [
       "Primary Breed                         Spayed or Neut  Spayed or Neut\n",
       "Afghan Hound                          Yes             Yes               100.000000\n",
       "Akita                                 No              No                 17.857143\n",
       "                                      Yes             Yes                82.142857\n",
       "Akita Crossbreed                      No              No                 16.666667\n",
       "                                      Yes             Yes                83.333333\n",
       "American Bully                        No              No                100.000000\n",
       "American Eskimo dog                   No              No                  8.888889\n",
       "                                      Yes             Yes                91.111111\n",
       "American Pit Bull Mix / Pit Bull Mix  No              No                  6.644518\n",
       "                                      Yes             Yes                93.355482\n",
       "American Pit Bull Terrier/Pit Bull    No              No                 22.254335\n",
       "                                      Yes             Yes                77.745665\n",
       "American Staffordshire Terrier        No              No                 11.363636\n",
       "                                      Yes             Yes                88.636364\n",
       "Australian Cattle Dog                 Yes             Yes               100.000000\n",
       "Australian Cattledog                  No              No                  4.166667\n",
       "                                      Yes             Yes                95.833333\n",
       "Australian Kelpie                     Yes             Yes               100.000000\n",
       "Australian Shepherd                   No              No                  8.571429\n",
       "                                      Yes             Yes                91.428571\n",
       "Australian Silky Terrier              No              No                  9.090909\n",
       "                                      Yes             Yes                90.909091\n",
       "Basenji                               No              No                  5.000000\n",
       "                                      Yes             Yes                95.000000\n",
       "Bassett Hound                         No              No                  2.127660\n",
       "                                      Yes             Yes                97.872340\n",
       "Beagle                                No              No                  6.916427\n",
       "                                      Yes             Yes                93.083573\n",
       "Beagle Crossbreed                     No              No                  1.666667\n",
       "                                      Yes             Yes                98.333333\n",
       "                                                                           ...    \n",
       "Shih Tzu Crossbreed                   Yes             Yes                80.000000\n",
       "Siberian Husky                        No              No                 16.000000\n",
       "                                      Yes             Yes                84.000000\n",
       "Silky Terrier                         No              No                 12.962963\n",
       "                                      Yes             Yes                87.037037\n",
       "Skye Terrier                          Yes             Yes               100.000000\n",
       "Staffordshire Bull Terrier            No              No                 20.833333\n",
       "                                      Yes             Yes                79.166667\n",
       "Terrier mix                           Yes             Yes               100.000000\n",
       "Tibetan Spaniel                       No              No                 13.333333\n",
       "                                      Yes             Yes                86.666667\n",
       "Tibetan Terrier                       No              No                 11.111111\n",
       "                                      Yes             Yes                88.888889\n",
       "Vizsla                                No              No                 25.000000\n",
       "                                      Yes             Yes                75.000000\n",
       "Weimaraner                            No              No                 23.076923\n",
       "                                      Yes             Yes                76.923077\n",
       "Welsh Corgi, Cardigan                 Yes             Yes               100.000000\n",
       "Welsh Corgi, Pembroke                 No              No                 10.526316\n",
       "                                      Yes             Yes                89.473684\n",
       "West High White Terrier               No              No                  8.496732\n",
       "                                      Yes             Yes                91.503268\n",
       "Wheaton Terrier                       No              No                  9.803922\n",
       "                                      Yes             Yes                90.196078\n",
       "Whippet                               No              No                 20.000000\n",
       "                                      Yes             Yes                80.000000\n",
       "Wire Fox Terrier                      No              No                 17.647059\n",
       "                                      Yes             Yes                82.352941\n",
       "Yorkshire Terrier                     No              No                 17.820946\n",
       "                                      Yes             Yes                82.179054\n",
       "Name: Spayed or Neut, Length: 271, dtype: float64"
      ]
     },
     "execution_count": 510,
     "metadata": {},
     "output_type": "execute_result"
    }
   ],
   "source": [
    "# all the percentages\n",
    "\n",
    "(df_merged[df_merged['Primary Breed'] != 'Unknown']\n",
    " .groupby(['Primary Breed', 'Spayed or Neut'])['Spayed or Neut']\n",
    " .value_counts()\n",
    " .groupby(level=0)\n",
    " .apply(lambda x:100 * x / float(x.sum())))"
   ]
  },
  {
   "cell_type": "code",
   "execution_count": 717,
   "metadata": {},
   "outputs": [
    {
     "data": {
      "text/plain": [
       "Primary Breed\n",
       "American Bully                         1.000000\n",
       "German Pinscher                        1.000000\n",
       "Mastiff, French (Dogue de Bordeaux)    1.000000\n",
       "Mastiff, Tibetan                       1.000000\n",
       "Polish Hound                           1.000000\n",
       "Schnauzer Crossbreed                   1.000000\n",
       "Maltese Crossbreed                     0.750000\n",
       "Jindo Dog, Korea                       0.571429\n",
       "Irish Wolfhound                        0.500000\n",
       "Bloodhound                             0.428571\n",
       "dtype: float64"
      ]
     },
     "execution_count": 717,
     "metadata": {},
     "output_type": "execute_result"
    }
   ],
   "source": [
    "# Only the less likely to be spayed\n",
    "\n",
    "(df_merged[df_merged['Primary Breed'] != 'Unknown']\n",
    " .groupby(by=['Primary Breed'])\n",
    " .apply(lambda x: x[x['Spayed or Neut'] == 'No']['Spayed or Neut'].count() / len(x))\n",
    " .nlargest(10))"
   ]
  },
  {
   "cell_type": "code",
   "execution_count": 630,
   "metadata": {},
   "outputs": [
    {
     "data": {
      "text/plain": [
       "Animal Gender  Spayed or Neut\n",
       "F              Yes               91.639200\n",
       "               No                 8.360800\n",
       "M              Yes               84.792185\n",
       "               No                15.207815\n",
       "Name: Spayed or Neut, dtype: float64"
      ]
     },
     "execution_count": 630,
     "metadata": {},
     "output_type": "execute_result"
    }
   ],
   "source": [
    "# All the percentages\n",
    "\n",
    "gender = ['M', 'F']\n",
    "\n",
    "(df_merged[df_merged['Animal Gender'].isin(gender)]\n",
    " .groupby('Animal Gender')['Spayed or Neut']\n",
    " .value_counts()\n",
    " .groupby(level=0)\n",
    " .apply(lambda x: 100 * x / float(x.sum())))"
   ]
  },
  {
   "cell_type": "code",
   "execution_count": 705,
   "metadata": {},
   "outputs": [
    {
     "data": {
      "text/plain": [
       "Animal Gender\n",
       "M    0.152078\n",
       "dtype: float64"
      ]
     },
     "execution_count": 705,
     "metadata": {},
     "output_type": "execute_result"
    }
   ],
   "source": [
    "# Only the less likely to be spayed\n",
    "\n",
    "(df_merged[df_merged['Animal Gender'].isin(gender)]\n",
    " .groupby(by=['Animal Gender'])\n",
    " .apply(lambda x: x[x['Spayed or Neut'] == 'No']['Spayed or Neut'].count() / len(x))\n",
    " .nlargest(1))"
   ]
  },
  {
   "cell_type": "markdown",
   "metadata": {},
   "source": [
    "## Make a new column called monochrome that is True for any animal that only has black, white or grey as one of its colors. How many animals are monochrome?"
   ]
  },
  {
   "cell_type": "code",
   "execution_count": 412,
   "metadata": {},
   "outputs": [
    {
     "data": {
      "text/plain": [
       "10414"
      ]
     },
     "execution_count": 412,
     "metadata": {},
     "output_type": "execute_result"
    }
   ],
   "source": [
    "mono_colors = [\n",
    "    'black',\n",
    "    'white',\n",
    "    'gray',\n",
    "    'grey',\n",
    "    'no',\n",
    "    'nan'\n",
    "]\n",
    "(len(df_merged[\n",
    "     (\n",
    "         (df_merged['Animal Dominant Color'].str.lower().isin(mono_colors)) &\n",
    "         (df_merged['Animal Secondary Color'].str.lower().isin(mono_colors)) &\n",
    "         (df_merged['Animal Third Color'].str.lower().isin(mono_colors))\n",
    "     )]))"
   ]
  },
  {
   "cell_type": "markdown",
   "metadata": {},
   "source": [
    "## How many dogs are in each borough? Plot it in a graph."
   ]
  },
  {
   "cell_type": "code",
   "execution_count": 521,
   "metadata": {},
   "outputs": [
    {
     "data": {
      "text/plain": [
       "<matplotlib.axes._subplots.AxesSubplot at 0x10bbd80f0>"
      ]
     },
     "execution_count": 521,
     "metadata": {},
     "output_type": "execute_result"
    },
    {
     "data": {
      "image/png": "[encoded data removed]",
      "text/plain": [
       "<matplotlib.figure.Figure at 0x10bbf39b0>"
      ]
     },
     "metadata": {},
     "output_type": "display_data"
    }
   ],
   "source": [
    "(df_merged.groupby('borough')['Animal Name']\n",
    " .value_counts()\n",
    " .groupby(level=0)\n",
    " .sum()\n",
    " .plot(kind='barh'))"
   ]
  },
  {
   "cell_type": "markdown",
   "metadata": {},
   "source": [
    "## Which borough has the highest number of dogs per-capita?\n",
    "\n",
    "You’ll need to merge in `population_boro.csv`"
   ]
  },
  {
   "cell_type": "code",
   "execution_count": 424,
   "metadata": {},
   "outputs": [],
   "source": [
    "df_population = pd.read_csv('boro_population.csv')"
   ]
  },
  {
   "cell_type": "code",
   "execution_count": 427,
   "metadata": {},
   "outputs": [],
   "source": [
    "df_merged = df_merged.merge(df_population, left_on='borough', right_on='borough')"
   ]
  },
  {
   "cell_type": "code",
   "execution_count": 432,
   "metadata": {},
   "outputs": [
    {
     "data": {
      "text/plain": [
       "borough\n",
       "Bronx            1682\n",
       "Brooklyn         4627\n",
       "Manhattan        6888\n",
       "Queens           4245\n",
       "Staten Island    2075\n",
       "Name: Animal Name, dtype: int64"
      ]
     },
     "execution_count": 432,
     "metadata": {},
     "output_type": "execute_result"
    }
   ],
   "source": [
    "(df_merged.groupby('borough')['Animal Name']\n",
    " .value_counts()\n",
    " .groupby(level=0)\n",
    " .sum())"
   ]
  },
  {
   "cell_type": "markdown",
   "metadata": {},
   "source": [
    "## Make a bar graph of the top 5 breeds in each borough.\n",
    "\n",
    "How do you groupby and then only take the top X number? You **really** should ask me, because it's kind of crazy."
   ]
  },
  {
   "cell_type": "code",
   "execution_count": 454,
   "metadata": {},
   "outputs": [
    {
     "data": {
      "text/plain": [
       "array([<matplotlib.axes._subplots.AxesSubplot object at 0x10e207780>,\n",
       "       <matplotlib.axes._subplots.AxesSubplot object at 0x10c3481d0>,\n",
       "       <matplotlib.axes._subplots.AxesSubplot object at 0x10c639d30>,\n",
       "       <matplotlib.axes._subplots.AxesSubplot object at 0x10ea722b0>,\n",
       "       <matplotlib.axes._subplots.AxesSubplot object at 0x10bcf5518>], dtype=object)"
      ]
     },
     "execution_count": 454,
     "metadata": {},
     "output_type": "execute_result"
    },
    {
     "data": {
      "image/png": "[encoded data removed]",
      "text/plain": [
       "<matplotlib.figure.Figure at 0x10e535b38>"
      ]
     },
     "metadata": {},
     "output_type": "display_data"
    }
   ],
   "source": [
    "(df_merged[df_merged['Primary Breed'] != 'Unknown']\n",
    " .groupby('borough')['Primary Breed']\n",
    " .value_counts()\n",
    " .groupby(level=0, group_keys=False)\n",
    " .nlargest(5)\n",
    " .unstack(0)\n",
    " .plot(kind='barh', subplots=True, figsize=(10, 20)))"
   ]
  },
  {
   "cell_type": "markdown",
   "metadata": {},
   "source": [
    "## What percentage of dogs are not guard dogs?"
   ]
  },
  {
   "cell_type": "code",
   "execution_count": 456,
   "metadata": {},
   "outputs": [
    {
     "data": {
      "text/plain": [
       "No     0.999181\n",
       "Yes    0.000819\n",
       "Name: Guard or Trained, dtype: float64"
      ]
     },
     "execution_count": 456,
     "metadata": {},
     "output_type": "execute_result"
    }
   ],
   "source": [
    "df_merged['Guard or Trained'].value_counts(normalize=True)"
   ]
  }
 ],
 "metadata": {
  "kernelspec": {
   "display_name": "Python 3",
   "language": "python",
   "name": "python3"
  },
  "language_info": {
   "codemirror_mode": {
    "name": "ipython",
    "version": 3
   },
   "file_extension": ".py",
   "mimetype": "text/x-python",
   "name": "python",
   "nbconvert_exporter": "python",
   "pygments_lexer": "ipython3",
   "version": "3.6.1"
  }
 },
 "nbformat": 4,
 "nbformat_minor": 2
}
