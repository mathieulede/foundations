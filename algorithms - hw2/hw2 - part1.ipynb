{
 "cells": [
  {
   "cell_type": "code",
   "execution_count": 60,
   "metadata": {
    "collapsed": true
   },
   "outputs": [],
   "source": [
    "import requests\n",
    "import datetime"
   ]
  },
  {
   "cell_type": "code",
   "execution_count": 61,
   "metadata": {
    "collapsed": true
   },
   "outputs": [],
   "source": [
    "base_url = 'https://api.darksky.net/forecast/bdcf2062c18dc07b00bf2552a16c730f/'\n",
    "nyc_coordinates = [\n",
    "    40.811264,\n",
    "    -73.959016\n",
    "]\n",
    "nyc_url = (base_url + \n",
    "                  str(nyc_coordinates[0]) + ',' + \n",
    "                  str(nyc_coordinates[1]))\n",
    "response = requests.get(nyc_url)\n",
    "data = response.json()"
   ]
  },
  {
   "cell_type": "code",
   "execution_count": 62,
   "metadata": {
    "collapsed": true
   },
   "outputs": [],
   "source": [
    "msg_temperature = str(data['currently']['temperature'])\n",
    "msg_summary = data['currently']['summary'].lower()\n",
    "msg_temperature_max = str(data['daily']['data'][0]['temperatureMax'])\n",
    "msg_temperature_min = str(data['daily']['data'][0]['temperatureMin'])\n",
    "\n",
    "average_temperature = (data['daily']['data'][0]['temperatureMax'] + \n",
    "                           data['daily']['data'][0]['temperatureMin']) / 2;\n",
    "\n",
    "if average_temperature > 77:\n",
    "    msg_temperature_feeling = 'hot'\n",
    "elif average_temperature > 68:\n",
    "    msg_temperature_feeling = 'warm'\n",
    "elif average_temperature > 58:\n",
    "    msg_temperature_feeling = 'moderate'\n",
    "else:\n",
    "    msg_temperature_feeling = 'cold'\n",
    "\n",
    "\n",
    "msg_rain_warning = \" Bring your umbrella!\" if data['daily']['data'][0]['precipProbability'] > 0.5 else \"\""
   ]
  },
  {
   "cell_type": "code",
   "execution_count": 63,
   "metadata": {
    "collapsed": true
   },
   "outputs": [],
   "source": [
    "msg = \"Right now it is \" + msg_temperature + \" degrees out and \" + msg_summary + \".\\\n",
    " Today will be \" + msg_temperature_feeling + \" with a high of \" + msg_temperature_max + \" degrees\\\n",
    " and a low of \" + msg_temperature_min + \" degrees.\" + msg_rain_warning\n",
    "\n",
    "now = datetime.datetime.now()\n",
    "subject = \"8AM Weather forecast: \" + str(now.strftime(\"%B\")) + \" \" + str(now.day) + \", \" + str(now.year)"
   ]
  },
  {
   "cell_type": "code",
   "execution_count": 64,
   "metadata": {
    "collapsed": true
   },
   "outputs": [],
   "source": [
    "def send_simple_message():\n",
    "    return requests.post(\n",
    "        \"https://api.mailgun.net/v3/sandbox13c522fcf6954ddfa857679788497b18.mailgun.org/messages\",\n",
    "        auth=(\"api\", \"key-982f7a4b982e06e6d3949a0734062ef2\"),\n",
    "        data={\"from\": \"Mailgun Sandbox <postmaster@sandbox13c522fcf6954ddfa857679788497b18.mailgun.org>\",\n",
    "              \"to\": \"Mathieu Rudaz <mathieu.rudaz@gmail.com>\",\n",
    "              \"subject\": subject,\n",
    "              \"text\": msg})"
   ]
  },
  {
   "cell_type": "code",
   "execution_count": 65,
   "metadata": {},
   "outputs": [
    {
     "data": {
      "text/plain": [
       "<Response [200]>"
      ]
     },
     "execution_count": 65,
     "metadata": {},
     "output_type": "execute_result"
    }
   ],
   "source": [
    "send_simple_message()"
   ]
  },
  {
   "cell_type": "code",
   "execution_count": null,
   "metadata": {
    "collapsed": true
   },
   "outputs": [],
   "source": []
  }
 ],
 "metadata": {
  "kernelspec": {
   "display_name": "Python 3",
   "language": "python",
   "name": "python3"
  },
  "language_info": {
   "codemirror_mode": {
    "name": "ipython",
    "version": 3
   },
   "file_extension": ".py",
   "mimetype": "text/x-python",
   "name": "python",
   "nbconvert_exporter": "python",
   "pygments_lexer": "ipython3",
   "version": "3.6.1"
  }
 },
 "nbformat": 4,
 "nbformat_minor": 2
}
