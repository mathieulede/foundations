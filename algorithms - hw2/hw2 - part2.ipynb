{
 "cells": [
  {
   "cell_type": "code",
   "execution_count": 160,
   "metadata": {
    "collapsed": true
   },
   "outputs": [],
   "source": [
    "import requests\n",
    "from bs4 import BeautifulSoup\n",
    "import pandas as pd\n",
    "import time\n",
    "from twilio.rest import Client\n",
    "import os.path"
   ]
  },
  {
   "cell_type": "code",
   "execution_count": 173,
   "metadata": {
    "collapsed": true
   },
   "outputs": [],
   "source": [
    "# Twilio authentification\n",
    "account_sid = \"ACd7bb82d00d436cbba9397c72572aafbd\"\n",
    "auth_token = \"38431437902b550b99d88a5244b35151\"\n",
    "client = Client(account_sid, auth_token)"
   ]
  },
  {
   "cell_type": "code",
   "execution_count": 174,
   "metadata": {
    "collapsed": true
   },
   "outputs": [],
   "source": [
    "# Get the NYT page\n",
    "response = requests.get(\"http://www.nytimes.com\")\n",
    "doc = BeautifulSoup(response.text, 'html.parser')"
   ]
  },
  {
   "cell_type": "code",
   "execution_count": 178,
   "metadata": {},
   "outputs": [],
   "source": [
    "# Get the top headline\n",
    "center_column = doc.find('div', {'class': 'b-column'})\n",
    "top_article = center_column.find(\"article\", { 'class': ['story', 'theme-feature'] })\n",
    "\n",
    "headline_data = {\n",
    "    'headline': top_article.find(\"h1\", {'class': 'story-heading'}).get_text(),\n",
    "    'img_src': top_article.find(\"img\")['src'],\n",
    "    'summary': top_article.find(\"p\", {'class': 'summary'}).get_text(),\n",
    "    'date': time.strftime(\"%Y-%m-%d-%H-%M\")\n",
    "}"
   ]
  },
  {
   "cell_type": "code",
   "execution_count": null,
   "metadata": {
    "collapsed": true
   },
   "outputs": [],
   "source": [
    "# Construct and send the sms\n",
    "def send_sms():\n",
    "    sms_msg = \"New headline: \" + headline_data['headline']\n",
    "\n",
    "    client.messages.create(\n",
    "        to=\"+13473342046\",\n",
    "        from_=\"+12014821773\",\n",
    "        body=sms_msg,\n",
    "        media_url=headline_data['img_src'])"
   ]
  },
  {
   "cell_type": "code",
   "execution_count": null,
   "metadata": {
    "collapsed": true
   },
   "outputs": [],
   "source": [
    "# Check if the current top headline is different from the last saved one\n",
    "if os.path.isfile('headlines_history.csv'):\n",
    "    headlines_history = pd.read_csv('headlines_history.csv')\n",
    "    \n",
    "    if headlines_history['headline'].tail(1).item() != headline_data['headline']:\n",
    "        headlines_history = headlines_history.append([headline_data])\n",
    "        headlines_history.to_csv('headlines_history.csv', index=False)\n",
    "        send_sms()\n",
    "else:\n",
    "    df_headline_data = pd.DataFrame([headline_data])\n",
    "    df_headline_data.to_csv('headlines_history.csv', index=False)\n",
    "    send_sms()"
   ]
  },
  {
   "cell_type": "code",
   "execution_count": null,
   "metadata": {
    "collapsed": true
   },
   "outputs": [],
   "source": []
  }
 ],
 "metadata": {
  "kernelspec": {
   "display_name": "Python 3",
   "language": "python",
   "name": "python3"
  },
  "language_info": {
   "codemirror_mode": {
    "name": "ipython",
    "version": 3
   },
   "file_extension": ".py",
   "mimetype": "text/x-python",
   "name": "python",
   "nbconvert_exporter": "python",
   "pygments_lexer": "ipython3",
   "version": "3.6.1"
  }
 },
 "nbformat": 4,
 "nbformat_minor": 2
}
