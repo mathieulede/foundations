{
 "cells": [
  {
   "cell_type": "markdown",
   "metadata": {},
   "source": [
    "# Texas Tow Trucks (`.apply` and `requests`)\n",
    "\n",
    "We're going to scrape some [tow trucks in Texas](https://www.tdlr.texas.gov/tools_search/).\n",
    "\n",
    "Try searching for the TLDR Number `006179570C`."
   ]
  },
  {
   "cell_type": "markdown",
   "metadata": {},
   "source": [
    "## Preparation\n",
    "\n",
    "> You do not need to actually search this out using BeautifulSoup, this is more for you to say \"it's a td, it isn't special, but it looks like the third td in a tr with a class\" or something"
   ]
  },
  {
   "cell_type": "markdown",
   "metadata": {},
   "source": [
    "### What is the URL you will be scraping?"
   ]
  },
  {
   "cell_type": "code",
   "execution_count": 119,
   "metadata": {
    "collapsed": true
   },
   "outputs": [],
   "source": [
    "# https://www.tdlr.texas.gov/tools_search/\n",
    "# or\n",
    "# https://www.tdlr.texas.gov/tools_search/mccs_display.asp?mcrnumber=006179570C"
   ]
  },
  {
   "cell_type": "markdown",
   "metadata": {},
   "source": [
    "### When you search for information on a specific mine, do you need form data? If so, what is your form data going to be?"
   ]
  },
  {
   "cell_type": "code",
   "execution_count": null,
   "metadata": {
    "collapsed": true
   },
   "outputs": [],
   "source": [
    "# Yes, we need to post the TLDR Number:\n",
    "\n",
    "# { \n",
    "# \"namedata\":\"\",\n",
    "# \"name_carrier_type\":\"COMPANY\",\n",
    "# \"searchtype\":\"mcr\",\n",
    "# \"mcrdata\":\"006179570C\",\n",
    "# \"citydata\":\"\",\n",
    "# \"city_status\":\"A\",\n",
    "# \"city_carrier_type\":\"tow\",\n",
    "# \"zipcodedata\":\"\",\n",
    "# \"zip_status\":\"ALL\",\n",
    "# \"zip_carrier_type\":\"all\",\n",
    "# \"proc\":\"\"\n",
    "# }\n",
    "\n",
    "# But we can also use the url\n",
    "# https://www.tdlr.texas.gov/tools_search/mccs_display.asp?mcrnumber=006179570C"
   ]
  },
  {
   "cell_type": "markdown",
   "metadata": {},
   "source": [
    "## Scrape this page\n",
    "\n",
    "Scrape this page, displaying the\n",
    "\n",
    "- The business name\n",
    "- Phone number\n",
    "- License status\n",
    "- Physical address\n",
    "\n",
    ".\n",
    "\n",
    "- *TIP: This one isn't very fun, but I have some secret tricks. **Ask me on the board**.*"
   ]
  },
  {
   "cell_type": "code",
   "execution_count": 149,
   "metadata": {
    "collapsed": true
   },
   "outputs": [],
   "source": [
    "from selenium import webdriver\n",
    "from bs4 import BeautifulSoup\n",
    "import pandas as pd\n",
    "import re"
   ]
  },
  {
   "cell_type": "code",
   "execution_count": 154,
   "metadata": {
    "collapsed": true
   },
   "outputs": [],
   "source": [
    "driver = webdriver.Chrome('/Users/mathieurudaz/Desktop/LEDE/chromedriver')"
   ]
  },
  {
   "cell_type": "code",
   "execution_count": 195,
   "metadata": {
    "collapsed": true
   },
   "outputs": [],
   "source": [
    "driver.get('https://www.tdlr.texas.gov/tools_search/mccs_display.asp?mcrnumber=0649468VSF')"
   ]
  },
  {
   "cell_type": "code",
   "execution_count": 208,
   "metadata": {
    "collapsed": true
   },
   "outputs": [],
   "source": [
    "# Extract text without child tags from a tag\n",
    "def get_text_without_tags(web_element):\n",
    "    text = web_element.text\n",
    "    for t in web_element.find_elements_by_xpath('.//*'):\n",
    "        text = text.replace(t.text, '')\n",
    "    return text.strip()\n",
    "\n",
    "# Get the physical address from the td tag\n",
    "def get_address(webElement):\n",
    "    m = re.search(r\"(Physical:)\\s(.*\\s.*)\", webElement.text, re.MULTILINE)\n",
    "    if m:\n",
    "        return m.group(2)\n",
    "\n",
    "# Get the license status from the font tag\n",
    "def get_license_status(webElement):\n",
    "    m = re.search(r\"\\((.+)\\)\", webElement.text, re.MULTILINE)\n",
    "    if m:\n",
    "        return m.group(1)"
   ]
  },
  {
   "cell_type": "code",
   "execution_count": 214,
   "metadata": {},
   "outputs": [
    {
     "name": "stdout",
     "output_type": "stream",
     "text": [
      "Business name: HEATH SMITH\n",
      "Phone number: 9405520687\n",
      "Licens status: Expired\n",
      "Physical address: 1529 WILBARGER ST\n",
      "VERNON, TX. 76384\n"
     ]
    }
   ],
   "source": [
    "print('Business name:', get_text_without_tags(driver.find_element_by_xpath('//*[@id=\"t1\"]/tbody/tr/td/font/table[2]/tbody/tr[2]/td[1]')))\n",
    "print('Phone number:', get_text_without_tags(driver.find_element_by_xpath('//*[@id=\"t1\"]/tbody/tr/td/font/table[2]/tbody/tr[4]/td[1]')))\n",
    "print('Licens status:', get_license_status(driver.find_element_by_xpath('//*[@id=\"t1\"]/tbody/tr/td/font/table[3]/tbody/tr[2]/td[1]/font')))\n",
    "print('Physical address:', get_address(driver.find_element_by_xpath('//*[@id=\"t1\"]/tbody/tr/td/font/table[3]/tbody/tr[2]/td[2]')))"
   ]
  },
  {
   "cell_type": "markdown",
   "metadata": {},
   "source": [
    "# Using .apply to find data about SEVERAL tow truck companies\n",
    "\n",
    "The file `trucks-subset.csv` has information about the trucks, we'll use it to find the pages to scrape.\n",
    "\n",
    "### Open up `trucks-subset.csv` and save it into a dataframe"
   ]
  },
  {
   "cell_type": "code",
   "execution_count": 215,
   "metadata": {},
   "outputs": [],
   "source": [
    "df_trucks = pd.read_csv('trucks-subset.csv')"
   ]
  },
  {
   "cell_type": "markdown",
   "metadata": {},
   "source": [
    "### Open up `trucks-subset.csv` in a text editor, then look at your dataframe. Is something different about them? If so, make them match.\n",
    "\n",
    "- *TIP: I can help with this.*"
   ]
  },
  {
   "cell_type": "code",
   "execution_count": 216,
   "metadata": {},
   "outputs": [
    {
     "data": {
      "text/html": [
       "<div>\n",
       "<style>\n",
       "    .dataframe thead tr:only-child th {\n",
       "        text-align: right;\n",
       "    }\n",
       "\n",
       "    .dataframe thead th {\n",
       "        text-align: left;\n",
       "    }\n",
       "\n",
       "    .dataframe tbody tr th {\n",
       "        vertical-align: top;\n",
       "    }\n",
       "</style>\n",
       "<table border=\"1\" class=\"dataframe\">\n",
       "  <thead>\n",
       "    <tr style=\"text-align: right;\">\n",
       "      <th></th>\n",
       "      <th>TDLR Number</th>\n",
       "    </tr>\n",
       "  </thead>\n",
       "  <tbody>\n",
       "    <tr>\n",
       "      <th>0</th>\n",
       "      <td>006507931C</td>\n",
       "    </tr>\n",
       "    <tr>\n",
       "      <th>1</th>\n",
       "      <td>006179570C</td>\n",
       "    </tr>\n",
       "    <tr>\n",
       "      <th>2</th>\n",
       "      <td>006502097C</td>\n",
       "    </tr>\n",
       "  </tbody>\n",
       "</table>\n",
       "</div>"
      ],
      "text/plain": [
       "  TDLR Number\n",
       "0  006507931C\n",
       "1  006179570C\n",
       "2  006502097C"
      ]
     },
     "execution_count": 216,
     "metadata": {},
     "output_type": "execute_result"
    }
   ],
   "source": [
    "df_trucks"
   ]
  },
  {
   "cell_type": "markdown",
   "metadata": {},
   "source": [
    "## Go through each row of the dataset, printing out the URL you will need to scrape for the information on that row\n",
    "\n",
    "For example, `https://www.tdlr.texas.gov/tools_search/mccs_display.asp?mcrnumber=006507931C`.\n",
    "\n",
    "- *TIP: use .apply and a function*\n",
    "- *TIP: If you need help with .apply, look at the \"Using apply in pandas\" notebook *"
   ]
  },
  {
   "cell_type": "code",
   "execution_count": 217,
   "metadata": {},
   "outputs": [
    {
     "name": "stdout",
     "output_type": "stream",
     "text": [
      "0    https://www.tdlr.texas.gov/tools_search/mccs_d...\n",
      "1    https://www.tdlr.texas.gov/tools_search/mccs_d...\n",
      "2    https://www.tdlr.texas.gov/tools_search/mccs_d...\n",
      "Name: TDLR Number, dtype: object\n"
     ]
    },
    {
     "data": {
      "text/plain": [
       "TDLR Number    None\n",
       "dtype: object"
      ]
     },
     "execution_count": 217,
     "metadata": {},
     "output_type": "execute_result"
    }
   ],
   "source": [
    "base_url = 'https://www.tdlr.texas.gov/tools_search/mccs_display.asp?mcrnumber='\n",
    "df_trucks.apply(lambda x: print(base_url + x))"
   ]
  },
  {
   "cell_type": "markdown",
   "metadata": {},
   "source": [
    "### Save this URL into a new column of your dataframe\n",
    "\n",
    "- *TIP: Use a function and `.apply`*\n",
    "- *TIP: Be sure to use `return`*"
   ]
  },
  {
   "cell_type": "code",
   "execution_count": 218,
   "metadata": {},
   "outputs": [
    {
     "data": {
      "text/html": [
       "<div>\n",
       "<style>\n",
       "    .dataframe thead tr:only-child th {\n",
       "        text-align: right;\n",
       "    }\n",
       "\n",
       "    .dataframe thead th {\n",
       "        text-align: left;\n",
       "    }\n",
       "\n",
       "    .dataframe tbody tr th {\n",
       "        vertical-align: top;\n",
       "    }\n",
       "</style>\n",
       "<table border=\"1\" class=\"dataframe\">\n",
       "  <thead>\n",
       "    <tr style=\"text-align: right;\">\n",
       "      <th></th>\n",
       "      <th>TDLR Number</th>\n",
       "      <th>url</th>\n",
       "    </tr>\n",
       "  </thead>\n",
       "  <tbody>\n",
       "    <tr>\n",
       "      <th>0</th>\n",
       "      <td>006507931C</td>\n",
       "      <td>https://www.tdlr.texas.gov/tools_search/mccs_d...</td>\n",
       "    </tr>\n",
       "    <tr>\n",
       "      <th>1</th>\n",
       "      <td>006179570C</td>\n",
       "      <td>https://www.tdlr.texas.gov/tools_search/mccs_d...</td>\n",
       "    </tr>\n",
       "    <tr>\n",
       "      <th>2</th>\n",
       "      <td>006502097C</td>\n",
       "      <td>https://www.tdlr.texas.gov/tools_search/mccs_d...</td>\n",
       "    </tr>\n",
       "  </tbody>\n",
       "</table>\n",
       "</div>"
      ],
      "text/plain": [
       "  TDLR Number                                                url\n",
       "0  006507931C  https://www.tdlr.texas.gov/tools_search/mccs_d...\n",
       "1  006179570C  https://www.tdlr.texas.gov/tools_search/mccs_d...\n",
       "2  006502097C  https://www.tdlr.texas.gov/tools_search/mccs_d..."
      ]
     },
     "execution_count": 218,
     "metadata": {},
     "output_type": "execute_result"
    }
   ],
   "source": [
    "df_trucks['url'] = df_trucks.apply(lambda x: base_url + x)\n",
    "df_trucks"
   ]
  },
  {
   "cell_type": "markdown",
   "metadata": {},
   "source": [
    "## Go through each row of the dataset, printing out information about each tow truck company.\n",
    "\n",
    "Now will be **scraping** inside of your function.\n",
    "\n",
    "- The business name\n",
    "- Phone number\n",
    "- License status\n",
    "- Physical address\n",
    "\n",
    "Just print it out for now.\n",
    "\n",
    "- *TIP: use .apply and a function*\n",
    "- *TIP: If you need help with .apply, look at the \"Using apply in pandas\" notebook *"
   ]
  },
  {
   "cell_type": "code",
   "execution_count": 230,
   "metadata": {},
   "outputs": [
    {
     "name": "stdout",
     "output_type": "stream",
     "text": [
      "AUGUSTUS E SMITH\n",
      "9032276464\n",
      "Active\n",
      "103 N MAIN ST\n",
      "BONHAM, TX. 75418\n",
      "------\n",
      "B.D. SMITH TOWING\n",
      "8173330706\n",
      "Active\n",
      "13619 BRETT JACKSON RD.\n",
      "FORT WORTH, TX. 76179\n",
      "------\n",
      "BARRY MICHAEL SMITH\n",
      "8066544404\n",
      "Active\n",
      "4501 W CEMETERY RD\n",
      "CANYON, TX. 79015\n",
      "------\n"
     ]
    },
    {
     "data": {
      "text/plain": [
       "0    None\n",
       "1    None\n",
       "2    None\n",
       "dtype: object"
      ]
     },
     "execution_count": 230,
     "metadata": {},
     "output_type": "execute_result"
    }
   ],
   "source": [
    "def get_truck_info(row):\n",
    "    driver.get(row['url'])\n",
    "    doc = BeautifulSoup(driver.page_source, 'html.parser')\n",
    "    print(get_text_without_tags(driver.find_element_by_xpath('//*[@id=\"t1\"]/tbody/tr/td/font/table[2]/tbody/tr[2]/td[1]')))\n",
    "    print(get_text_without_tags(driver.find_element_by_xpath('//*[@id=\"t1\"]/tbody/tr/td/font/table[2]/tbody/tr[4]/td[1]')))\n",
    "    print(get_license_status(driver.find_element_by_xpath('//*[@id=\"t1\"]/tbody/tr/td/font/table[3]/tbody/tr[2]/td[1]/font')))\n",
    "    print(get_address(driver.find_element_by_xpath('//*[@id=\"t1\"]/tbody/tr/td/font/table[3]/tbody/tr[2]/td[2]')))\n",
    "    print('------')\n",
    "    \n",
    "df_trucks.apply(get_truck_info, axis=1)"
   ]
  },
  {
   "cell_type": "markdown",
   "metadata": {},
   "source": [
    "## Scrape the following information for each row of the dataset, and save it into new columns in your dataframe.\n",
    "\n",
    "- The business name\n",
    "- Phone number\n",
    "- License status\n",
    "- Physical address\n",
    "\n",
    "It's basically what we did before, but using the function a little differently.\n",
    "\n",
    "- *TIP: Use .apply and a function*\n",
    "- *TIP: Remember to use `return`*"
   ]
  },
  {
   "cell_type": "code",
   "execution_count": 231,
   "metadata": {},
   "outputs": [
    {
     "data": {
      "text/html": [
       "<div>\n",
       "<style>\n",
       "    .dataframe thead tr:only-child th {\n",
       "        text-align: right;\n",
       "    }\n",
       "\n",
       "    .dataframe thead th {\n",
       "        text-align: left;\n",
       "    }\n",
       "\n",
       "    .dataframe tbody tr th {\n",
       "        vertical-align: top;\n",
       "    }\n",
       "</style>\n",
       "<table border=\"1\" class=\"dataframe\">\n",
       "  <thead>\n",
       "    <tr style=\"text-align: right;\">\n",
       "      <th></th>\n",
       "      <th>address</th>\n",
       "      <th>license_status</th>\n",
       "      <th>name</th>\n",
       "      <th>phone_number</th>\n",
       "      <th>TDLR Number</th>\n",
       "      <th>url</th>\n",
       "    </tr>\n",
       "  </thead>\n",
       "  <tbody>\n",
       "    <tr>\n",
       "      <th>0</th>\n",
       "      <td>103 N MAIN ST\\nBONHAM, TX. 75418</td>\n",
       "      <td>Active</td>\n",
       "      <td>AUGUSTUS E SMITH</td>\n",
       "      <td>9032276464</td>\n",
       "      <td>006507931C</td>\n",
       "      <td>https://www.tdlr.texas.gov/tools_search/mccs_d...</td>\n",
       "    </tr>\n",
       "    <tr>\n",
       "      <th>1</th>\n",
       "      <td>13619 BRETT JACKSON RD.\\nFORT WORTH, TX. 76179</td>\n",
       "      <td>Active</td>\n",
       "      <td>B.D. SMITH TOWING</td>\n",
       "      <td>8173330706</td>\n",
       "      <td>006179570C</td>\n",
       "      <td>https://www.tdlr.texas.gov/tools_search/mccs_d...</td>\n",
       "    </tr>\n",
       "    <tr>\n",
       "      <th>2</th>\n",
       "      <td>4501 W CEMETERY RD\\nCANYON, TX. 79015</td>\n",
       "      <td>Active</td>\n",
       "      <td>BARRY MICHAEL SMITH</td>\n",
       "      <td>8066544404</td>\n",
       "      <td>006502097C</td>\n",
       "      <td>https://www.tdlr.texas.gov/tools_search/mccs_d...</td>\n",
       "    </tr>\n",
       "  </tbody>\n",
       "</table>\n",
       "</div>"
      ],
      "text/plain": [
       "                                          address license_status  \\\n",
       "0                103 N MAIN ST\\nBONHAM, TX. 75418         Active   \n",
       "1  13619 BRETT JACKSON RD.\\nFORT WORTH, TX. 76179         Active   \n",
       "2           4501 W CEMETERY RD\\nCANYON, TX. 79015         Active   \n",
       "\n",
       "                  name phone_number TDLR Number  \\\n",
       "0     AUGUSTUS E SMITH   9032276464  006507931C   \n",
       "1    B.D. SMITH TOWING   8173330706  006179570C   \n",
       "2  BARRY MICHAEL SMITH   8066544404  006502097C   \n",
       "\n",
       "                                                 url  \n",
       "0  https://www.tdlr.texas.gov/tools_search/mccs_d...  \n",
       "1  https://www.tdlr.texas.gov/tools_search/mccs_d...  \n",
       "2  https://www.tdlr.texas.gov/tools_search/mccs_d...  "
      ]
     },
     "execution_count": 231,
     "metadata": {},
     "output_type": "execute_result"
    }
   ],
   "source": [
    "def get_truck_info(row):\n",
    "    driver.get(row['url'])\n",
    "    doc = BeautifulSoup(driver.page_source, 'html.parser')\n",
    "    return pd.Series({\n",
    "        'name': get_text_without_tags(driver.find_element_by_xpath('//*[@id=\"t1\"]/tbody/tr/td/font/table[2]/tbody/tr[2]/td[1]')),\n",
    "        'phone_number': get_text_without_tags(driver.find_element_by_xpath('//*[@id=\"t1\"]/tbody/tr/td/font/table[2]/tbody/tr[4]/td[1]')),\n",
    "        'license_status': get_license_status(driver.find_element_by_xpath('//*[@id=\"t1\"]/tbody/tr/td/font/table[3]/tbody/tr[2]/td[1]/font')),\n",
    "        'address': get_address(driver.find_element_by_xpath('//*[@id=\"t1\"]/tbody/tr/td/font/table[3]/tbody/tr[2]/td[2]'))\n",
    "    })\n",
    "    \n",
    "df_trucks_complete = df_trucks.apply(get_truck_info, axis=1).join(df_trucks)\n",
    "df_trucks_complete.head()"
   ]
  },
  {
   "cell_type": "markdown",
   "metadata": {},
   "source": [
    "### Save your dataframe as a CSV"
   ]
  },
  {
   "cell_type": "code",
   "execution_count": 222,
   "metadata": {
    "collapsed": true
   },
   "outputs": [],
   "source": [
    "df_trucks_complete.to_csv('df_trucks_complete.csv', index=False)"
   ]
  },
  {
   "cell_type": "markdown",
   "metadata": {},
   "source": [
    "### Re-open your dataframe to confirm you didn't save any extra weird columns"
   ]
  },
  {
   "cell_type": "code",
   "execution_count": 223,
   "metadata": {},
   "outputs": [
    {
     "data": {
      "text/html": [
       "<div>\n",
       "<style>\n",
       "    .dataframe thead tr:only-child th {\n",
       "        text-align: right;\n",
       "    }\n",
       "\n",
       "    .dataframe thead th {\n",
       "        text-align: left;\n",
       "    }\n",
       "\n",
       "    .dataframe tbody tr th {\n",
       "        vertical-align: top;\n",
       "    }\n",
       "</style>\n",
       "<table border=\"1\" class=\"dataframe\">\n",
       "  <thead>\n",
       "    <tr style=\"text-align: right;\">\n",
       "      <th></th>\n",
       "      <th>address</th>\n",
       "      <th>license_status</th>\n",
       "      <th>name</th>\n",
       "      <th>phone_number</th>\n",
       "      <th>TDLR Number</th>\n",
       "      <th>url</th>\n",
       "    </tr>\n",
       "  </thead>\n",
       "  <tbody>\n",
       "    <tr>\n",
       "      <th>0</th>\n",
       "      <td>103 N MAIN ST\\nBONHAM, TX. 75418</td>\n",
       "      <td>Active</td>\n",
       "      <td>AUGUSTUS E SMITH</td>\n",
       "      <td>9032276464</td>\n",
       "      <td>006507931C</td>\n",
       "      <td>https://www.tdlr.texas.gov/tools_search/mccs_d...</td>\n",
       "    </tr>\n",
       "    <tr>\n",
       "      <th>1</th>\n",
       "      <td>13619 BRETT JACKSON RD.\\nFORT WORTH, TX. 76179</td>\n",
       "      <td>Active</td>\n",
       "      <td>B.D. SMITH TOWING</td>\n",
       "      <td>8173330706</td>\n",
       "      <td>006179570C</td>\n",
       "      <td>https://www.tdlr.texas.gov/tools_search/mccs_d...</td>\n",
       "    </tr>\n",
       "    <tr>\n",
       "      <th>2</th>\n",
       "      <td>4501 W CEMETERY RD\\nCANYON, TX. 79015</td>\n",
       "      <td>Active</td>\n",
       "      <td>BARRY MICHAEL SMITH</td>\n",
       "      <td>8066544404</td>\n",
       "      <td>006502097C</td>\n",
       "      <td>https://www.tdlr.texas.gov/tools_search/mccs_d...</td>\n",
       "    </tr>\n",
       "  </tbody>\n",
       "</table>\n",
       "</div>"
      ],
      "text/plain": [
       "                                          address license_status  \\\n",
       "0                103 N MAIN ST\\nBONHAM, TX. 75418         Active   \n",
       "1  13619 BRETT JACKSON RD.\\nFORT WORTH, TX. 76179         Active   \n",
       "2           4501 W CEMETERY RD\\nCANYON, TX. 79015         Active   \n",
       "\n",
       "                  name  phone_number TDLR Number  \\\n",
       "0     AUGUSTUS E SMITH    9032276464  006507931C   \n",
       "1    B.D. SMITH TOWING    8173330706  006179570C   \n",
       "2  BARRY MICHAEL SMITH    8066544404  006502097C   \n",
       "\n",
       "                                                 url  \n",
       "0  https://www.tdlr.texas.gov/tools_search/mccs_d...  \n",
       "1  https://www.tdlr.texas.gov/tools_search/mccs_d...  \n",
       "2  https://www.tdlr.texas.gov/tools_search/mccs_d...  "
      ]
     },
     "execution_count": 223,
     "metadata": {},
     "output_type": "execute_result"
    }
   ],
   "source": [
    "pd.read_csv('df_trucks_complete.csv').head()"
   ]
  },
  {
   "cell_type": "markdown",
   "metadata": {},
   "source": [
    "## Repeat this process for the entire `tow-trucks.csv` file"
   ]
  },
  {
   "cell_type": "code",
   "execution_count": 224,
   "metadata": {
    "collapsed": true
   },
   "outputs": [],
   "source": [
    "df_tow_trucks = pd.read_csv('tow-trucks.csv')"
   ]
  },
  {
   "cell_type": "code",
   "execution_count": 225,
   "metadata": {},
   "outputs": [
    {
     "data": {
      "text/html": [
       "<div>\n",
       "<style>\n",
       "    .dataframe thead tr:only-child th {\n",
       "        text-align: right;\n",
       "    }\n",
       "\n",
       "    .dataframe thead th {\n",
       "        text-align: left;\n",
       "    }\n",
       "\n",
       "    .dataframe tbody tr th {\n",
       "        vertical-align: top;\n",
       "    }\n",
       "</style>\n",
       "<table border=\"1\" class=\"dataframe\">\n",
       "  <thead>\n",
       "    <tr style=\"text-align: right;\">\n",
       "      <th></th>\n",
       "      <th>TDLR Number</th>\n",
       "      <th>url</th>\n",
       "    </tr>\n",
       "  </thead>\n",
       "  <tbody>\n",
       "    <tr>\n",
       "      <th>0</th>\n",
       "      <td>006507931C</td>\n",
       "      <td>https://www.tdlr.texas.gov/tools_search/mccs_d...</td>\n",
       "    </tr>\n",
       "    <tr>\n",
       "      <th>1</th>\n",
       "      <td>006179570C</td>\n",
       "      <td>https://www.tdlr.texas.gov/tools_search/mccs_d...</td>\n",
       "    </tr>\n",
       "    <tr>\n",
       "      <th>2</th>\n",
       "      <td>006502097C</td>\n",
       "      <td>https://www.tdlr.texas.gov/tools_search/mccs_d...</td>\n",
       "    </tr>\n",
       "    <tr>\n",
       "      <th>3</th>\n",
       "      <td>006494912C</td>\n",
       "      <td>https://www.tdlr.texas.gov/tools_search/mccs_d...</td>\n",
       "    </tr>\n",
       "    <tr>\n",
       "      <th>4</th>\n",
       "      <td>0649468VSF</td>\n",
       "      <td>https://www.tdlr.texas.gov/tools_search/mccs_d...</td>\n",
       "    </tr>\n",
       "  </tbody>\n",
       "</table>\n",
       "</div>"
      ],
      "text/plain": [
       "  TDLR Number                                                url\n",
       "0  006507931C  https://www.tdlr.texas.gov/tools_search/mccs_d...\n",
       "1  006179570C  https://www.tdlr.texas.gov/tools_search/mccs_d...\n",
       "2  006502097C  https://www.tdlr.texas.gov/tools_search/mccs_d...\n",
       "3  006494912C  https://www.tdlr.texas.gov/tools_search/mccs_d...\n",
       "4  0649468VSF  https://www.tdlr.texas.gov/tools_search/mccs_d..."
      ]
     },
     "execution_count": 225,
     "metadata": {},
     "output_type": "execute_result"
    }
   ],
   "source": [
    "df_tow_trucks['url'] = df_tow_trucks.apply(lambda x: base_url + x)\n",
    "df_tow_trucks.head()"
   ]
  },
  {
   "cell_type": "code",
   "execution_count": 232,
   "metadata": {},
   "outputs": [],
   "source": [
    "df_tow_trucks_complete = df_tow_trucks.apply(get_truck_info, axis=1).join(df_tow_trucks)\n",
    "df_tow_trucks_complete.head()"
   ]
  },
  {
   "cell_type": "code",
   "execution_count": 234,
   "metadata": {},
   "outputs": [],
   "source": [
    "df_tow_trucks_complete.to_csv('df_tow_trucks_complete.csv', index=False)"
   ]
  },
  {
   "cell_type": "code",
   "execution_count": 235,
   "metadata": {},
   "outputs": [
    {
     "data": {
      "text/html": [
       "<div>\n",
       "<style>\n",
       "    .dataframe thead tr:only-child th {\n",
       "        text-align: right;\n",
       "    }\n",
       "\n",
       "    .dataframe thead th {\n",
       "        text-align: left;\n",
       "    }\n",
       "\n",
       "    .dataframe tbody tr th {\n",
       "        vertical-align: top;\n",
       "    }\n",
       "</style>\n",
       "<table border=\"1\" class=\"dataframe\">\n",
       "  <thead>\n",
       "    <tr style=\"text-align: right;\">\n",
       "      <th></th>\n",
       "      <th>address</th>\n",
       "      <th>license_status</th>\n",
       "      <th>name</th>\n",
       "      <th>phone_number</th>\n",
       "      <th>TDLR Number</th>\n",
       "      <th>url</th>\n",
       "    </tr>\n",
       "  </thead>\n",
       "  <tbody>\n",
       "    <tr>\n",
       "      <th>0</th>\n",
       "      <td>103 N MAIN ST\\nBONHAM, TX. 75418</td>\n",
       "      <td>Active</td>\n",
       "      <td>AUGUSTUS E SMITH</td>\n",
       "      <td>9032276464</td>\n",
       "      <td>006507931C</td>\n",
       "      <td>https://www.tdlr.texas.gov/tools_search/mccs_d...</td>\n",
       "    </tr>\n",
       "    <tr>\n",
       "      <th>1</th>\n",
       "      <td>13619 BRETT JACKSON RD.\\nFORT WORTH, TX. 76179</td>\n",
       "      <td>Active</td>\n",
       "      <td>B.D. SMITH TOWING</td>\n",
       "      <td>8173330706</td>\n",
       "      <td>006179570C</td>\n",
       "      <td>https://www.tdlr.texas.gov/tools_search/mccs_d...</td>\n",
       "    </tr>\n",
       "    <tr>\n",
       "      <th>2</th>\n",
       "      <td>4501 W CEMETERY RD\\nCANYON, TX. 79015</td>\n",
       "      <td>Active</td>\n",
       "      <td>BARRY MICHAEL SMITH</td>\n",
       "      <td>8066544404</td>\n",
       "      <td>006502097C</td>\n",
       "      <td>https://www.tdlr.texas.gov/tools_search/mccs_d...</td>\n",
       "    </tr>\n",
       "    <tr>\n",
       "      <th>3</th>\n",
       "      <td>1529 WILBARGER ST\\nVERNON, TX. 76384</td>\n",
       "      <td>Expired</td>\n",
       "      <td>HEATH SMITH</td>\n",
       "      <td>940-552-0687</td>\n",
       "      <td>006494912C</td>\n",
       "      <td>https://www.tdlr.texas.gov/tools_search/mccs_d...</td>\n",
       "    </tr>\n",
       "    <tr>\n",
       "      <th>4</th>\n",
       "      <td>1529 WILBARGER ST\\nVERNON, TX. 76384</td>\n",
       "      <td>Expired</td>\n",
       "      <td>HEATH SMITH</td>\n",
       "      <td>9405520687</td>\n",
       "      <td>0649468VSF</td>\n",
       "      <td>https://www.tdlr.texas.gov/tools_search/mccs_d...</td>\n",
       "    </tr>\n",
       "  </tbody>\n",
       "</table>\n",
       "</div>"
      ],
      "text/plain": [
       "                                          address license_status  \\\n",
       "0                103 N MAIN ST\\nBONHAM, TX. 75418         Active   \n",
       "1  13619 BRETT JACKSON RD.\\nFORT WORTH, TX. 76179         Active   \n",
       "2           4501 W CEMETERY RD\\nCANYON, TX. 79015         Active   \n",
       "3            1529 WILBARGER ST\\nVERNON, TX. 76384        Expired   \n",
       "4            1529 WILBARGER ST\\nVERNON, TX. 76384        Expired   \n",
       "\n",
       "                  name  phone_number TDLR Number  \\\n",
       "0     AUGUSTUS E SMITH    9032276464  006507931C   \n",
       "1    B.D. SMITH TOWING    8173330706  006179570C   \n",
       "2  BARRY MICHAEL SMITH    8066544404  006502097C   \n",
       "3          HEATH SMITH  940-552-0687  006494912C   \n",
       "4          HEATH SMITH    9405520687  0649468VSF   \n",
       "\n",
       "                                                 url  \n",
       "0  https://www.tdlr.texas.gov/tools_search/mccs_d...  \n",
       "1  https://www.tdlr.texas.gov/tools_search/mccs_d...  \n",
       "2  https://www.tdlr.texas.gov/tools_search/mccs_d...  \n",
       "3  https://www.tdlr.texas.gov/tools_search/mccs_d...  \n",
       "4  https://www.tdlr.texas.gov/tools_search/mccs_d...  "
      ]
     },
     "execution_count": 235,
     "metadata": {},
     "output_type": "execute_result"
    }
   ],
   "source": [
    "pd.read_csv('df_tow_trucks_complete.csv').head()"
   ]
  },
  {
   "cell_type": "code",
   "execution_count": null,
   "metadata": {
    "collapsed": true
   },
   "outputs": [],
   "source": []
  }
 ],
 "metadata": {
  "kernelspec": {
   "display_name": "Python 3",
   "language": "python",
   "name": "python3"
  },
  "language_info": {
   "codemirror_mode": {
    "name": "ipython",
    "version": 3
   },
   "file_extension": ".py",
   "mimetype": "text/x-python",
   "name": "python",
   "nbconvert_exporter": "python",
   "pygments_lexer": "ipython3",
   "version": "3.6.1"
  }
 },
 "nbformat": 4,
 "nbformat_minor": 2
}
