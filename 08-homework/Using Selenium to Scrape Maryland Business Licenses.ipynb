{
 "cells": [
  {
   "cell_type": "markdown",
   "metadata": {},
   "source": [
    "# Scraping Maryland Business Licenses with Selenium\n",
    "\n",
    "Maryland has a [great portal](https://jportal.mdcourts.gov/license/pbPublicSearch.jsp) for searching business licenses, but the only problem is you have to check a box in order to get in.\n",
    "\n",
    "1. Try to visit [the public search page](https://jportal.mdcourts.gov/license/pbPublicSearch.jsp)\n",
    "2. Get redirected to a \"I agree to this\" page. Click that you've read the disclaimer, click Enter the Site.\n",
    "3. Click \"Search License Records\" down at the bottom of the page\n",
    "4. You're now on the search page! From the \"Jurisdiction\" dropdown, select \"Statewide\"\n",
    "5. In the \"Trade Name\" field, type \"Vap%\" to try to find vape shops\n",
    "6. Click \"Next\" in the bottom right-hand corner to go to the next page\n",
    "7. Click \"Click for detail\" to see the details for a specific business license.\n",
    "\n",
    "That's a lot of stuff! **Let's get to work.**"
   ]
  },
  {
   "cell_type": "code",
   "execution_count": null,
   "metadata": {
    "collapsed": true
   },
   "outputs": [],
   "source": [
    "# To type enter\n",
    "# element.send_keys(Keys.RETURN)\n",
    "\n",
    "# To use a select:\n",
    "# from selenium.webdriver.support.ui import Select\n",
    "# select = Select(driver.find_element_by_name('phy_city'))\n",
    "# select.select_by_visible_text('Houston')"
   ]
  },
  {
   "cell_type": "markdown",
   "metadata": {},
   "source": [
    "## Preparation\n",
    "\n",
    "### When you search for a business license, what URL should Selenium try to visit first?"
   ]
  },
  {
   "cell_type": "code",
   "execution_count": null,
   "metadata": {
    "collapsed": true
   },
   "outputs": [],
   "source": [
    "# https://jportal.mdcourts.gov/license/pbPublicSearch.jsp"
   ]
  },
  {
   "cell_type": "markdown",
   "metadata": {},
   "source": [
    "**It isn't going to work, though! It's going to redirect to that intro page.** You can use *Incognito mode* to go back through the \"Check the box, etc\" series of pages.\n",
    "\n",
    "### How will you identify the checkbox to check it?\n",
    "\n",
    "Selenium can find elements by:\n",
    "\n",
    "- name\n",
    "- Class\n",
    "- ID\n",
    "- CSS selector (**ASK ME WHAT THIS IS** if you don't know)\n",
    "- XPath (**ASK ME WHAT THIS IS** because you definitely don't know)\n",
    "- Link text\n",
    "- Partial link text\n",
    "\n",
    "So in other words, what's unique about this element?\n",
    "\n",
    "- *TIP: I have a secret awesome way to do this, but you have to ask.*"
   ]
  },
  {
   "cell_type": "code",
   "execution_count": null,
   "metadata": {
    "collapsed": true
   },
   "outputs": [],
   "source": [
    "# It has an ID: 'checkbox'\n",
    "# Or we can use XPath"
   ]
  },
  {
   "cell_type": "markdown",
   "metadata": {},
   "source": [
    "### How will you identify the button to select it, or the form to submit it?\n",
    "\n",
    "Selenium can submit forms by either\n",
    "\n",
    "- Selecting the form and using `.submit()`, or\n",
    "- Selecting the button and using `.click()`\n",
    "\n",
    "You only need to be able to get **one, not both.**"
   ]
  },
  {
   "cell_type": "code",
   "execution_count": null,
   "metadata": {
    "collapsed": true
   },
   "outputs": [],
   "source": [
    "# There is only one form, we can use the submit method on the only form tag that exists on this page"
   ]
  },
  {
   "cell_type": "markdown",
   "metadata": {},
   "source": [
    "### Once you're on the next page, how will you click the \"SEARCH LICENSE RECORDS\" link or follow its URL?"
   ]
  },
  {
   "cell_type": "code",
   "execution_count": null,
   "metadata": {
    "collapsed": true
   },
   "outputs": [],
   "source": [
    "# Search for the link with XPath and click on it with click()"
   ]
  },
  {
   "cell_type": "markdown",
   "metadata": {},
   "source": [
    "### Now you're on the form page. How do you pick \"Statewide\" for the jurisdiction dropdown?"
   ]
  },
  {
   "cell_type": "code",
   "execution_count": null,
   "metadata": {
    "collapsed": true
   },
   "outputs": [],
   "source": [
    "# Select(driver.find_element_by_xpath('//*[@id=\"slcJurisdiction\"]')).select_by_visible_text('Statewide')"
   ]
  },
  {
   "cell_type": "markdown",
   "metadata": {},
   "source": [
    "### How do you type \"vap%\" into the Trade Name field?"
   ]
  },
  {
   "cell_type": "code",
   "execution_count": null,
   "metadata": {
    "collapsed": true
   },
   "outputs": [],
   "source": [
    "# driver.find_element_by_xpath('//*[@id=\"txtTradeName\"]').send_keys('vap%')"
   ]
  },
  {
   "cell_type": "markdown",
   "metadata": {},
   "source": [
    "### How do you click the submit button or submit the form?"
   ]
  },
  {
   "cell_type": "code",
   "execution_count": null,
   "metadata": {
    "collapsed": true
   },
   "outputs": [],
   "source": [
    "# driver.find_element_by_xpath('/html/body/table[2]/tbody/tr[4]/td[2]/form').submit()"
   ]
  },
  {
   "cell_type": "markdown",
   "metadata": {},
   "source": [
    "### How can you find and click the 'Next' button on the search results page?"
   ]
  },
  {
   "cell_type": "code",
   "execution_count": null,
   "metadata": {
    "collapsed": true
   },
   "outputs": [],
   "source": [
    "# driver.find_element_by_xpath('/html/body/table[2]/tbody/tr[4]/td[2]/table[2]/tbody/tr/td[3]/a')\n",
    "# Or, it's the last link of the table with btmnavtable class"
   ]
  },
  {
   "cell_type": "markdown",
   "metadata": {},
   "source": [
    "# Okay, let's scrape!\n",
    "\n",
    "### Use Selenium to search for vape shops statewide, and then click through until it reaches the last page.\n",
    "\n",
    "Don't scrape yet!"
   ]
  },
  {
   "cell_type": "code",
   "execution_count": 73,
   "metadata": {
    "collapsed": true
   },
   "outputs": [],
   "source": [
    "from selenium import webdriver\n",
    "from selenium.webdriver.support.ui import Select\n",
    "import time\n",
    "import pandas as pd\n",
    "\n",
    "driver = webdriver.Chrome('/Users/mathieurudaz/Desktop/LEDE/chromedriver')\n",
    "driver.get('https://jportal.mdcourts.gov/license/pbPublicSearch.jsp')"
   ]
  },
  {
   "cell_type": "code",
   "execution_count": 74,
   "metadata": {
    "collapsed": true
   },
   "outputs": [],
   "source": [
    "driver.find_element_by_xpath('//*[@id=\"checkbox\"]').click()\n",
    "driver.find_element_by_xpath('/html/body/table/tbody/tr[7]/td/form/div/input[2]').click()"
   ]
  },
  {
   "cell_type": "code",
   "execution_count": 75,
   "metadata": {
    "collapsed": true
   },
   "outputs": [],
   "source": [
    "driver.find_element_by_xpath('/html/body/table[2]/tbody/tr[6]/td[2]/a[2]').click()"
   ]
  },
  {
   "cell_type": "code",
   "execution_count": 76,
   "metadata": {
    "collapsed": true
   },
   "outputs": [],
   "source": [
    "Select(driver.find_element_by_xpath('//*[@id=\"slcJurisdiction\"]')).select_by_visible_text('Statewide')"
   ]
  },
  {
   "cell_type": "code",
   "execution_count": 77,
   "metadata": {
    "collapsed": true
   },
   "outputs": [],
   "source": [
    "driver.find_element_by_xpath('//*[@id=\"txtTradeName\"]').send_keys('vap%')"
   ]
  },
  {
   "cell_type": "code",
   "execution_count": 78,
   "metadata": {
    "collapsed": true
   },
   "outputs": [],
   "source": [
    "driver.find_element_by_xpath('/html/body/table[2]/tbody/tr[4]/td[2]/form').submit()"
   ]
  },
  {
   "cell_type": "markdown",
   "metadata": {},
   "source": [
    "### Use Selenium to scrape the first page of search results for vape shops statewide (well, we'll try).\n",
    "\n",
    "- *TIP: You can find elements/text using Selenium, or use BeautifulSoup with `doc = BeautifulSoup(driver.page_source)`*\n",
    "\n",
    "I've included some BeautifulSoup code that might be helpful. If you use it, **ask me how I made it.** It's important."
   ]
  },
  {
   "cell_type": "code",
   "execution_count": null,
   "metadata": {
    "collapsed": true
   },
   "outputs": [],
   "source": [
    "# IF YOU ARE USING BEAUTIFULSOUP, HERE IS SOME SAMPLE CODE\n",
    "# IF YOU USE THIS CODE, ASK ME HOW I MADE IT. IT'S IMPORTANT.\n",
    "business_headers = doc.find_all('tr',class_='searchfieldtitle')\n",
    "len(business_headers)"
   ]
  },
  {
   "cell_type": "code",
   "execution_count": null,
   "metadata": {
    "collapsed": true
   },
   "outputs": [],
   "source": [
    "# You'll probably need to find specific tds inside\n",
    "# of the rows instead of looking at the whole thing.\n",
    "for header in business_headers:\n",
    "    rows = header.find_next_siblings('tr')\n",
    "    print(\"HEADER is\", header.text.strip())\n",
    "    print(\"ROW 0 IS\", rows[0].text.strip())\n",
    "    print(\"ROW 1 IS\", rows[1].text.strip())\n",
    "    print(\"ROW 2 IS\", rows[2].text.strip())\n",
    "    print(\"ROW 3 IS\", rows[3].text.strip())\n",
    "    print(\"----\")"
   ]
  },
  {
   "cell_type": "code",
   "execution_count": 212,
   "metadata": {},
   "outputs": [
    {
     "data": {
      "text/plain": [
       "[{'adress': 'AMIN NARGIS Lic. Status: Issued\\n1724 N SALISBURY BLVD UNIT 2 License: 22173807\\nSALISBURY, MD 21801 Issued Date: 4/27/2017\\nWicomico County',\n",
       "  'issues_date': '4/27/2017',\n",
       "  'lic_status': 'Issued',\n",
       "  'license': '22173807',\n",
       "  'name': 'VAPE IT STORE I',\n",
       "  'url': 'https://jportal.mdcourts.gov/license/pbLicenseDetail.jsp?owi=PYc0oqEAnBc%3D'},\n",
       " {'adress': 'AMIN NARGIS Lic. Status: Issued\\n1015 S SALISBURY BLVD License: 22173808\\nSALISBURY, MD 21801 Issued Date: 4/27/2017\\nWicomico County',\n",
       "  'issues_date': '4/27/2017',\n",
       "  'lic_status': 'Issued',\n",
       "  'license': '22173808',\n",
       "  'name': 'VAPE IT STORE II',\n",
       "  'url': 'https://jportal.mdcourts.gov/license/pbLicenseDetail.jsp?owi=3Cdtgrdpq1s%3D'},\n",
       " {'adress': 'ANJ DISTRIBUTIONS LLC Lic. Status: Issued\\n2299 JOHNS HOPKINS ROAD License: 02104436\\nGAMBRILLS, MD 21054 Issued Date: 4/05/2017\\nAnne Arundel County',\n",
       "  'issues_date': '4/05/2017',\n",
       "  'lic_status': 'Issued',\n",
       "  'license': '02104436',\n",
       "  'name': 'VAPEPAD THE',\n",
       "  'url': 'https://jportal.mdcourts.gov/license/pbLicenseDetail.jsp?owi=8EHs73V1MEw%3D'},\n",
       " {'adress': \"COX TRADING COMPANY L L C Lic. Status: Issued\\n110 S. PINEY RD License: 17165957\\nCHESTER, MD 21619 Issued Date: 5/31/2017\\nQueen Anne's County\",\n",
       "  'issues_date': '5/31/2017',\n",
       "  'lic_status': 'Issued',\n",
       "  'license': '17165957',\n",
       "  'name': 'VAPE FROG',\n",
       "  'url': 'https://jportal.mdcourts.gov/license/pbLicenseDetail.jsp?owi=IKISV9johyM%3D'},\n",
       " {'adress': 'COX TRADING LLC Lic. Status: Pending\\n346 RITCHIE HIGHWAY\\nSEVERNA PARK, MD 21146\\nAnne Arundel County',\n",
       "  'issues_date': None,\n",
       "  'lic_status': 'Pending',\n",
       "  'license': None,\n",
       "  'name': 'VAPE FROG',\n",
       "  'url': None}]"
      ]
     },
     "execution_count": 212,
     "metadata": {},
     "output_type": "execute_result"
    }
   ],
   "source": [
    "business_headers = driver.find_elements_by_class_name('searchfieldtitle')\n",
    "rows = driver.find_elements_by_class_name('tablecelltext')\n",
    "row_index = 0\n",
    "business_list = []\n",
    "\n",
    "\n",
    "# As it seems impossible to select text only with Selenium as BeautifulSoup does,\n",
    "# this function extracts the text without the span tags.\n",
    "def get_text_without_tags(webElement):\n",
    "    if len(webElement.text) > 0:\n",
    "        raw_text = webElement.text\n",
    "        tag_text = webElement.find_element_by_xpath('.//span').text\n",
    "        return raw_text.replace(tag_text, '').strip()\n",
    "        \n",
    "    \n",
    "for header in business_headers:\n",
    "    if len(header.find_elements_by_tag_name('a')) > 0:\n",
    "        url = header.find_elements_by_tag_name('a')[0].get_attribute('href')\n",
    "    else:\n",
    "        url = None\n",
    "    \n",
    "    business_list.append({\n",
    "        \"name\": header.find_element_by_tag_name('span').text.strip(),\n",
    "        \"adress\": (rows[row_index].text.strip() + '\\n' +\n",
    "                   rows[row_index + 1].text.strip() + '\\n' +\n",
    "                   rows[row_index + 2].text.strip() + '\\n' +\n",
    "                   rows[row_index + 3].text.strip()),\n",
    "        \"url\": url,\n",
    "        \"lic_status\": get_text_without_tags(rows[row_index].find_elements_by_tag_name('td')[2]),\n",
    "        \"license\": get_text_without_tags(rows[row_index + 1].find_elements_by_tag_name('td')[2]),\n",
    "        \"issues_date\": get_text_without_tags(rows[row_index + 2].find_elements_by_tag_name('td')[2])\n",
    "    })\n",
    "    \n",
    "    row_index += 4\n",
    "\n",
    "business_list"
   ]
  },
  {
   "cell_type": "markdown",
   "metadata": {},
   "source": [
    "### Save these into `vape-results.csv`"
   ]
  },
  {
   "cell_type": "code",
   "execution_count": 205,
   "metadata": {},
   "outputs": [
    {
     "data": {
      "text/html": [
       "<div>\n",
       "<style>\n",
       "    .dataframe thead tr:only-child th {\n",
       "        text-align: right;\n",
       "    }\n",
       "\n",
       "    .dataframe thead th {\n",
       "        text-align: left;\n",
       "    }\n",
       "\n",
       "    .dataframe tbody tr th {\n",
       "        vertical-align: top;\n",
       "    }\n",
       "</style>\n",
       "<table border=\"1\" class=\"dataframe\">\n",
       "  <thead>\n",
       "    <tr style=\"text-align: right;\">\n",
       "      <th></th>\n",
       "      <th>adress</th>\n",
       "      <th>issues_date</th>\n",
       "      <th>lic_status</th>\n",
       "      <th>license</th>\n",
       "      <th>name</th>\n",
       "      <th>url</th>\n",
       "    </tr>\n",
       "  </thead>\n",
       "  <tbody>\n",
       "    <tr>\n",
       "      <th>0</th>\n",
       "      <td>AMIN NARGIS Lic. Status: Issued\\n1724 N SALISB...</td>\n",
       "      <td>4/27/2017</td>\n",
       "      <td>Issued</td>\n",
       "      <td>22173807</td>\n",
       "      <td>VAPE IT STORE I</td>\n",
       "      <td>https://jportal.mdcourts.gov/license/pbLicense...</td>\n",
       "    </tr>\n",
       "    <tr>\n",
       "      <th>1</th>\n",
       "      <td>AMIN NARGIS Lic. Status: Issued\\n1015 S SALISB...</td>\n",
       "      <td>4/27/2017</td>\n",
       "      <td>Issued</td>\n",
       "      <td>22173808</td>\n",
       "      <td>VAPE IT STORE II</td>\n",
       "      <td>https://jportal.mdcourts.gov/license/pbLicense...</td>\n",
       "    </tr>\n",
       "    <tr>\n",
       "      <th>2</th>\n",
       "      <td>ANJ DISTRIBUTIONS LLC Lic. Status: Issued\\n229...</td>\n",
       "      <td>4/05/2017</td>\n",
       "      <td>Issued</td>\n",
       "      <td>02104436</td>\n",
       "      <td>VAPEPAD THE</td>\n",
       "      <td>https://jportal.mdcourts.gov/license/pbLicense...</td>\n",
       "    </tr>\n",
       "    <tr>\n",
       "      <th>3</th>\n",
       "      <td>COX TRADING COMPANY L L C Lic. Status: Issued\\...</td>\n",
       "      <td>5/31/2017</td>\n",
       "      <td>Issued</td>\n",
       "      <td>17165957</td>\n",
       "      <td>VAPE FROG</td>\n",
       "      <td>https://jportal.mdcourts.gov/license/pbLicense...</td>\n",
       "    </tr>\n",
       "    <tr>\n",
       "      <th>4</th>\n",
       "      <td>COX TRADING LLC Lic. Status: Pending\\n346 RITC...</td>\n",
       "      <td>None</td>\n",
       "      <td>Pending</td>\n",
       "      <td>None</td>\n",
       "      <td>VAPE FROG</td>\n",
       "      <td>None</td>\n",
       "    </tr>\n",
       "  </tbody>\n",
       "</table>\n",
       "</div>"
      ],
      "text/plain": [
       "                                              adress issues_date lic_status  \\\n",
       "0  AMIN NARGIS Lic. Status: Issued\\n1724 N SALISB...   4/27/2017     Issued   \n",
       "1  AMIN NARGIS Lic. Status: Issued\\n1015 S SALISB...   4/27/2017     Issued   \n",
       "2  ANJ DISTRIBUTIONS LLC Lic. Status: Issued\\n229...   4/05/2017     Issued   \n",
       "3  COX TRADING COMPANY L L C Lic. Status: Issued\\...   5/31/2017     Issued   \n",
       "4  COX TRADING LLC Lic. Status: Pending\\n346 RITC...        None    Pending   \n",
       "\n",
       "    license              name  \\\n",
       "0  22173807   VAPE IT STORE I   \n",
       "1  22173808  VAPE IT STORE II   \n",
       "2  02104436       VAPEPAD THE   \n",
       "3  17165957         VAPE FROG   \n",
       "4      None         VAPE FROG   \n",
       "\n",
       "                                                 url  \n",
       "0  https://jportal.mdcourts.gov/license/pbLicense...  \n",
       "1  https://jportal.mdcourts.gov/license/pbLicense...  \n",
       "2  https://jportal.mdcourts.gov/license/pbLicense...  \n",
       "3  https://jportal.mdcourts.gov/license/pbLicense...  \n",
       "4                                               None  "
      ]
     },
     "execution_count": 205,
     "metadata": {},
     "output_type": "execute_result"
    }
   ],
   "source": [
    "df = pd.DataFrame(business_list)\n",
    "df.head()"
   ]
  },
  {
   "cell_type": "code",
   "execution_count": 206,
   "metadata": {
    "collapsed": true
   },
   "outputs": [],
   "source": [
    "df.to_csv('vape-results.csv', index=False)"
   ]
  },
  {
   "cell_type": "markdown",
   "metadata": {},
   "source": [
    "### Open `vape-results.csv` to make sure there aren't any extra weird columns"
   ]
  },
  {
   "cell_type": "code",
   "execution_count": 207,
   "metadata": {},
   "outputs": [
    {
     "data": {
      "text/html": [
       "<div>\n",
       "<style>\n",
       "    .dataframe thead tr:only-child th {\n",
       "        text-align: right;\n",
       "    }\n",
       "\n",
       "    .dataframe thead th {\n",
       "        text-align: left;\n",
       "    }\n",
       "\n",
       "    .dataframe tbody tr th {\n",
       "        vertical-align: top;\n",
       "    }\n",
       "</style>\n",
       "<table border=\"1\" class=\"dataframe\">\n",
       "  <thead>\n",
       "    <tr style=\"text-align: right;\">\n",
       "      <th></th>\n",
       "      <th>adress</th>\n",
       "      <th>issues_date</th>\n",
       "      <th>lic_status</th>\n",
       "      <th>license</th>\n",
       "      <th>name</th>\n",
       "      <th>url</th>\n",
       "    </tr>\n",
       "  </thead>\n",
       "  <tbody>\n",
       "    <tr>\n",
       "      <th>0</th>\n",
       "      <td>AMIN NARGIS Lic. Status: Issued\\n1724 N SALISB...</td>\n",
       "      <td>4/27/2017</td>\n",
       "      <td>Issued</td>\n",
       "      <td>22173807.0</td>\n",
       "      <td>VAPE IT STORE I</td>\n",
       "      <td>https://jportal.mdcourts.gov/license/pbLicense...</td>\n",
       "    </tr>\n",
       "    <tr>\n",
       "      <th>1</th>\n",
       "      <td>AMIN NARGIS Lic. Status: Issued\\n1015 S SALISB...</td>\n",
       "      <td>4/27/2017</td>\n",
       "      <td>Issued</td>\n",
       "      <td>22173808.0</td>\n",
       "      <td>VAPE IT STORE II</td>\n",
       "      <td>https://jportal.mdcourts.gov/license/pbLicense...</td>\n",
       "    </tr>\n",
       "    <tr>\n",
       "      <th>2</th>\n",
       "      <td>ANJ DISTRIBUTIONS LLC Lic. Status: Issued\\n229...</td>\n",
       "      <td>4/05/2017</td>\n",
       "      <td>Issued</td>\n",
       "      <td>2104436.0</td>\n",
       "      <td>VAPEPAD THE</td>\n",
       "      <td>https://jportal.mdcourts.gov/license/pbLicense...</td>\n",
       "    </tr>\n",
       "    <tr>\n",
       "      <th>3</th>\n",
       "      <td>COX TRADING COMPANY L L C Lic. Status: Issued\\...</td>\n",
       "      <td>5/31/2017</td>\n",
       "      <td>Issued</td>\n",
       "      <td>17165957.0</td>\n",
       "      <td>VAPE FROG</td>\n",
       "      <td>https://jportal.mdcourts.gov/license/pbLicense...</td>\n",
       "    </tr>\n",
       "    <tr>\n",
       "      <th>4</th>\n",
       "      <td>COX TRADING LLC Lic. Status: Pending\\n346 RITC...</td>\n",
       "      <td>NaN</td>\n",
       "      <td>Pending</td>\n",
       "      <td>NaN</td>\n",
       "      <td>VAPE FROG</td>\n",
       "      <td>NaN</td>\n",
       "    </tr>\n",
       "  </tbody>\n",
       "</table>\n",
       "</div>"
      ],
      "text/plain": [
       "                                              adress issues_date lic_status  \\\n",
       "0  AMIN NARGIS Lic. Status: Issued\\n1724 N SALISB...   4/27/2017     Issued   \n",
       "1  AMIN NARGIS Lic. Status: Issued\\n1015 S SALISB...   4/27/2017     Issued   \n",
       "2  ANJ DISTRIBUTIONS LLC Lic. Status: Issued\\n229...   4/05/2017     Issued   \n",
       "3  COX TRADING COMPANY L L C Lic. Status: Issued\\...   5/31/2017     Issued   \n",
       "4  COX TRADING LLC Lic. Status: Pending\\n346 RITC...         NaN    Pending   \n",
       "\n",
       "      license              name  \\\n",
       "0  22173807.0   VAPE IT STORE I   \n",
       "1  22173808.0  VAPE IT STORE II   \n",
       "2   2104436.0       VAPEPAD THE   \n",
       "3  17165957.0         VAPE FROG   \n",
       "4         NaN         VAPE FROG   \n",
       "\n",
       "                                                 url  \n",
       "0  https://jportal.mdcourts.gov/license/pbLicense...  \n",
       "1  https://jportal.mdcourts.gov/license/pbLicense...  \n",
       "2  https://jportal.mdcourts.gov/license/pbLicense...  \n",
       "3  https://jportal.mdcourts.gov/license/pbLicense...  \n",
       "4                                                NaN  "
      ]
     },
     "execution_count": 207,
     "metadata": {},
     "output_type": "execute_result"
    }
   ],
   "source": [
    "pd.read_csv('vape-results.csv').head()"
   ]
  },
  {
   "cell_type": "markdown",
   "metadata": {},
   "source": [
    "## Use Selenium to scrape ALL pages of results, save the results into `vape-results-all.csv`."
   ]
  },
  {
   "cell_type": "code",
   "execution_count": 211,
   "metadata": {},
   "outputs": [
    {
     "data": {
      "text/plain": [
       "[{'adress': 'AMIN NARGIS Lic. Status: Issued\\n1724 N SALISBURY BLVD UNIT 2 License: 22173807\\nSALISBURY, MD 21801 Issued Date: 4/27/2017\\nWicomico County',\n",
       "  'issues_date': '4/27/2017',\n",
       "  'lic_status': 'Issued',\n",
       "  'license': '22173807',\n",
       "  'name': 'VAPE IT STORE I',\n",
       "  'url': 'https://jportal.mdcourts.gov/license/pbLicenseDetail.jsp?owi=PYc0oqEAnBc%3D'},\n",
       " {'adress': 'AMIN NARGIS Lic. Status: Issued\\n1015 S SALISBURY BLVD License: 22173808\\nSALISBURY, MD 21801 Issued Date: 4/27/2017\\nWicomico County',\n",
       "  'issues_date': '4/27/2017',\n",
       "  'lic_status': 'Issued',\n",
       "  'license': '22173808',\n",
       "  'name': 'VAPE IT STORE II',\n",
       "  'url': 'https://jportal.mdcourts.gov/license/pbLicenseDetail.jsp?owi=3Cdtgrdpq1s%3D'},\n",
       " {'adress': 'ANJ DISTRIBUTIONS LLC Lic. Status: Issued\\n2299 JOHNS HOPKINS ROAD License: 02104436\\nGAMBRILLS, MD 21054 Issued Date: 4/05/2017\\nAnne Arundel County',\n",
       "  'issues_date': '4/05/2017',\n",
       "  'lic_status': 'Issued',\n",
       "  'license': '02104436',\n",
       "  'name': 'VAPEPAD THE',\n",
       "  'url': 'https://jportal.mdcourts.gov/license/pbLicenseDetail.jsp?owi=8EHs73V1MEw%3D'},\n",
       " {'adress': \"COX TRADING COMPANY L L C Lic. Status: Issued\\n110 S. PINEY RD License: 17165957\\nCHESTER, MD 21619 Issued Date: 5/31/2017\\nQueen Anne's County\",\n",
       "  'issues_date': '5/31/2017',\n",
       "  'lic_status': 'Issued',\n",
       "  'license': '17165957',\n",
       "  'name': 'VAPE FROG',\n",
       "  'url': 'https://jportal.mdcourts.gov/license/pbLicenseDetail.jsp?owi=IKISV9johyM%3D'},\n",
       " {'adress': 'COX TRADING LLC Lic. Status: Pending\\n346 RITCHIE HIGHWAY\\nSEVERNA PARK, MD 21146\\nAnne Arundel County',\n",
       "  'issues_date': None,\n",
       "  'lic_status': 'Pending',\n",
       "  'license': None,\n",
       "  'name': 'VAPE FROG',\n",
       "  'url': None},\n",
       " {'adress': 'DISBROW II EMERSON HARRINGTON Lic. Status: Issued\\n185 MITCHELLS CHANCE RD License: 02102408\\nEDGEWATER, MD 21037 Issued Date: 4/13/2017\\nAnne Arundel County',\n",
       "  'issues_date': '4/13/2017',\n",
       "  'lic_status': 'Issued',\n",
       "  'license': '02102408',\n",
       "  'name': 'VAPE LOFT (THE)',\n",
       "  'url': 'https://jportal.mdcourts.gov/license/pbLicenseDetail.jsp?owi=jV5%2Be2onDGQ%3D'},\n",
       " {'adress': 'DISCOUNT TOBACCO ESSEX LLC Lic. Status: Issued\\n7104 MINSTREL UNIT #7 License: 13141786\\nCOLUMBIA, MD 21045 Issued Date: 5/19/2017\\nHoward County',\n",
       "  'issues_date': '5/19/2017',\n",
       "  'lic_status': 'Issued',\n",
       "  'license': '13141786',\n",
       "  'name': 'VAPE N CIGAR',\n",
       "  'url': 'https://jportal.mdcourts.gov/license/pbLicenseDetail.jsp?owi=roqimcBQlDg%3D'},\n",
       " {'adress': 'FAIRGROUND VILLAGE LLC Lic. Status: Issued\\n330 ONE FORTY VILLAGE ROAD License: 06126253\\nWESTMINSTER, MD 21157 Issued Date: 4/21/2017\\nCarroll County',\n",
       "  'issues_date': '4/21/2017',\n",
       "  'lic_status': 'Issued',\n",
       "  'license': '06126253',\n",
       "  'name': 'VAPE DOJO',\n",
       "  'url': 'https://jportal.mdcourts.gov/license/pbLicenseDetail.jsp?owi=SXPH2cn7TnA%3D'},\n",
       " {'adress': \"GRIMM JENNIFER Lic. Status: Pending\\n29890 THREE NOTCH ROAD\\nCHARLOTTE HALL, MD 20622\\nSt. Mary's County\",\n",
       "  'issues_date': None,\n",
       "  'lic_status': 'Pending',\n",
       "  'license': None,\n",
       "  'name': 'VAPE HAVEN',\n",
       "  'url': None},\n",
       " {'adress': \"HUTCH VAPES LLC Lic. Status: Issued\\n356 ROMANCOKE ROAD License: 17166688\\nSTEVENSVILLE, MD 21666 Issued Date: 4/13/2017\\nQueen Anne's County\",\n",
       "  'issues_date': '4/13/2017',\n",
       "  'lic_status': 'Issued',\n",
       "  'license': '17166688',\n",
       "  'name': 'VAPE BIRD',\n",
       "  'url': 'https://jportal.mdcourts.gov/license/pbLicenseDetail.jsp?owi=1EywMFZ8LjQ%3D'},\n",
       " {'adress': \"HUTCHINS COX LLP Lic. Status: Pending\\n110 S PINEY ROAD STE 106\\nCHESTER, MD 21619\\nQueen Anne's County\",\n",
       "  'issues_date': None,\n",
       "  'lic_status': 'Pending',\n",
       "  'license': None,\n",
       "  'name': 'VAPE FROG',\n",
       "  'url': None},\n",
       " {'adress': \"JAMESON WILLIAM Lic. Status: Issued\\n28943 THREE NOTCH ROAD License: 18167503\\nMECHANICSVILLE, MD 20659 Issued Date: 5/17/2017\\nSt. Mary's County\",\n",
       "  'issues_date': '5/17/2017',\n",
       "  'lic_status': 'Issued',\n",
       "  'license': '18167503',\n",
       "  'name': 'VAPORS LOUNGE',\n",
       "  'url': 'https://jportal.mdcourts.gov/license/pbLicenseDetail.jsp?owi=tFFmBRV8TQw%3D'},\n",
       " {'adress': 'JAMESON WILLIAM E Lic. Status: Pending\\n6843 CRAIN HIGHWAY\\nLA PLATA, MD 20646\\nCharles County',\n",
       "  'issues_date': None,\n",
       "  'lic_status': 'Pending',\n",
       "  'license': None,\n",
       "  'name': 'VAPORS LOUNGE',\n",
       "  'url': None},\n",
       " {'adress': \"JEFFERS MICHAEL Lic. Status: Pending\\n6321 OLD BRANCH AVE\\nCAMP SPRINGS, MD 20748\\nSt. Mary's County\",\n",
       "  'issues_date': None,\n",
       "  'lic_status': 'Pending',\n",
       "  'license': None,\n",
       "  'name': 'VAPIST MD',\n",
       "  'url': None},\n",
       " {'adress': \"JEFFERS MICHAEL W Lic. Status: Pending\\n6321 OLD BRANCH AVE\\nCAMP SPRINGS, MD 20748\\nPrince George's County\",\n",
       "  'issues_date': None,\n",
       "  'lic_status': 'Pending',\n",
       "  'license': None,\n",
       "  'name': 'VAPIST MD LLC',\n",
       "  'url': None},\n",
       " {'adress': 'SHIN JENNY Y Lic. Status: Pending\\n7954 B AND A BLVD\\nGLEN BURNIE, MD 21060\\nAnne Arundel County',\n",
       "  'issues_date': None,\n",
       "  'lic_status': 'Pending',\n",
       "  'license': None,\n",
       "  'name': 'VAPERTETMD',\n",
       "  'url': None},\n",
       " {'adress': 'SHIN JENNY YOUNG Lic. Status: Pending\\n6325 WASHINGTON BLVD\\nELKRIDGE, MD 21075\\nHoward County',\n",
       "  'issues_date': None,\n",
       "  'lic_status': 'Pending',\n",
       "  'license': None,\n",
       "  'name': 'VAPERTEKMD',\n",
       "  'url': None},\n",
       " {'adress': 'TAYLOR TRAVIS Lic. Status: Pending\\n3203 NORTH POINT RD\\nBALTIMORE, MD 21222\\nBaltimore County',\n",
       "  'issues_date': None,\n",
       "  'lic_status': 'Pending',\n",
       "  'license': None,\n",
       "  'name': 'VAPORIOT',\n",
       "  'url': None},\n",
       " {'adress': 'TRUE ENTERPRISE INC Lic. Status: Issued\\n519 LINDEN AVENUE UNIT 6 License: 23178140\\nPOCOMOKE CITY, MD 21851 Issued Date: 5/05/2017\\nWorcester County',\n",
       "  'issues_date': '5/05/2017',\n",
       "  'lic_status': 'Issued',\n",
       "  'license': '23178140',\n",
       "  'name': 'VAPE PLUS',\n",
       "  'url': 'https://jportal.mdcourts.gov/license/pbLicenseDetail.jsp?owi=azz0q%2BpShNM%3D'},\n",
       " {'adress': 'VAPE SOCIAL LLC Lic. Status: Issued\\n16521 S FREDERICK AVE License: 15155429\\nGAITHERSBURG, MD 20877 Issued Date: 4/18/2017\\nMontgomery County',\n",
       "  'issues_date': '4/18/2017',\n",
       "  'lic_status': 'Issued',\n",
       "  'license': '15155429',\n",
       "  'name': 'VAPE SOCIAL',\n",
       "  'url': 'https://jportal.mdcourts.gov/license/pbLicenseDetail.jsp?owi=c0Djt3GryQY%3D'},\n",
       " {'adress': 'VAPE JUNGLE LLC Lic. Status: Issued\\n2070 CRAIN HIGHWAY UNIT F License: 08131285\\nWALDORF, MD 20601 Issued Date: 3/31/2017\\nCharles County',\n",
       "  'issues_date': '3/31/2017',\n",
       "  'lic_status': 'Issued',\n",
       "  'license': '08131285',\n",
       "  'name': 'VAPE JUNGLE',\n",
       "  'url': 'https://jportal.mdcourts.gov/license/pbLicenseDetail.jsp?owi=3v%2Bx1zcDL88%3D'},\n",
       " {'adress': 'VAPE TIME LLC Lic. Status: Pending\\n4130 E JOPPA RD UNIT 109\\nNOTTINGHAM, MD 21236\\nBaltimore County',\n",
       "  'issues_date': None,\n",
       "  'lic_status': 'Pending',\n",
       "  'license': None,\n",
       "  'name': 'VAPE TIME',\n",
       "  'url': None},\n",
       " {'adress': 'VAPEBAR EXPRESS LLC Lic. Status: Pending\\n11110 MALL CIRCLE\\nWALDORF, MD 20603\\nCharles County',\n",
       "  'issues_date': None,\n",
       "  'lic_status': 'Pending',\n",
       "  'license': None,\n",
       "  'name': 'VAPEBAR EXPESS',\n",
       "  'url': None},\n",
       " {'adress': \"VAPOR 99 LLC Lic. Status: Issued\\n3524 CRAIN HWY License: 16165362\\nBOWIE, MD 20716 Issued Date: 5/03/2017\\nPrince George's County\",\n",
       "  'issues_date': '5/03/2017',\n",
       "  'lic_status': 'Issued',\n",
       "  'license': '16165362',\n",
       "  'name': 'VAPOR 99',\n",
       "  'url': 'https://jportal.mdcourts.gov/license/pbLicenseDetail.jsp?owi=wWfED%2BsVkQs%3D'},\n",
       " {'adress': 'VAPOR ALLEY LLC Lic. Status: Issued\\n8117 OCEAN GATEWAY UNIT #4 License: 20170900\\nEASTON, MD 21601 Issued Date: 5/10/2017\\nTalbot County',\n",
       "  'issues_date': '5/10/2017',\n",
       "  'lic_status': 'Issued',\n",
       "  'license': '20170900',\n",
       "  'name': 'VAPOR ALLEY',\n",
       "  'url': 'https://jportal.mdcourts.gov/license/pbLicenseDetail.jsp?owi=VzMY551Ibjw%3D'},\n",
       " {'adress': 'VAPOR EMPORIUM MD LLC Lic. Status: Issued\\n11717 OLD NATIONAL PIKE License: 10135432\\nNEW MARKET, MD 21774 Issued Date: 4/14/2017\\nFrederick County',\n",
       "  'issues_date': '4/14/2017',\n",
       "  'lic_status': 'Issued',\n",
       "  'license': '10135432',\n",
       "  'name': 'VAPOR EMPORIUM',\n",
       "  'url': 'https://jportal.mdcourts.gov/license/pbLicenseDetail.jsp?owi=MYlH%2FUNu1%2FA%3D'},\n",
       " {'adress': 'VAPOR VILLA CORP Lic. Status: Issued\\n1913 LANSDOWNE ROAD SUITE E License: 03121958\\nBALTIMORE, MD 21227 Issued Date: 4/12/2017\\nBaltimore County',\n",
       "  'issues_date': '4/12/2017',\n",
       "  'lic_status': 'Issued',\n",
       "  'license': '03121958',\n",
       "  'name': 'VAPOR VILLA',\n",
       "  'url': 'https://jportal.mdcourts.gov/license/pbLicenseDetail.jsp?owi=gMlz2nh32yk%3D'},\n",
       " {'adress': 'VAPOR VILLA CORP Lic. Status: Issued\\n730 FREDERICK ROAD License: 03121959\\nCATONSVILLE, MD 21228 Issued Date: 4/12/2017\\nBaltimore County',\n",
       "  'issues_date': '4/12/2017',\n",
       "  'lic_status': 'Issued',\n",
       "  'license': '03121959',\n",
       "  'name': 'VAPOR VILLA',\n",
       "  'url': 'https://jportal.mdcourts.gov/license/pbLicenseDetail.jsp?owi=MpClKiN69U4%3D'},\n",
       " {'adress': 'WALKER TRADING CO INC Lic. Status: Issued\\n138 N BOND STREET License: 12140135\\nBEL AIR, MD 21014 Issued Date: 4/03/2017\\nHarford County',\n",
       "  'issues_date': '4/03/2017',\n",
       "  'lic_status': 'Issued',\n",
       "  'license': '12140135',\n",
       "  'name': 'VAPE DOJO',\n",
       "  'url': 'https://jportal.mdcourts.gov/license/pbLicenseDetail.jsp?owi=PivwE9Kf59Q%3D'},\n",
       " {'adress': 'WALKER TRADING COMPANY INC Lic. Status: Pending\\n11600 CROSSROAD CIR STE E\\nBALTIMORE, MD 21220\\nBaltimore County',\n",
       "  'issues_date': None,\n",
       "  'lic_status': 'Pending',\n",
       "  'license': None,\n",
       "  'name': 'VAPE DOJO',\n",
       "  'url': None},\n",
       " {'adress': 'WALKER TRADING COMPANY INC Lic. Status: Pending\\n11600 CROSSROAD CIR STE E\\nBALTIMORE, MD 21220\\nBaltimore County',\n",
       "  'issues_date': None,\n",
       "  'lic_status': 'Pending',\n",
       "  'license': None,\n",
       "  'name': 'VAPE DOJO',\n",
       "  'url': None},\n",
       " {'adress': 'YARKHOUSE EMPIRE INC Lic. Status: Pending\\n3315 PLAZA WAY\\nWALDORF, MD 20603\\nCharles County',\n",
       "  'issues_date': None,\n",
       "  'lic_status': 'Pending',\n",
       "  'license': None,\n",
       "  'name': 'VAPEZ YARDHOUSE',\n",
       "  'url': None}]"
      ]
     },
     "execution_count": 211,
     "metadata": {},
     "output_type": "execute_result"
    }
   ],
   "source": [
    "vape_results = []\n",
    "next_button = True\n",
    "\n",
    "# Click on next until the button disappears\n",
    "while next_button:    \n",
    "    business_headers = driver.find_elements_by_class_name('searchfieldtitle')\n",
    "    rows = driver.find_elements_by_class_name('tablecelltext')\n",
    "    row_index = 0\n",
    "    \n",
    "    for header in business_headers:\n",
    "        if len(header.find_elements_by_tag_name('a')) > 0:\n",
    "            url = header.find_elements_by_tag_name('a')[0].get_attribute('href')\n",
    "        else:\n",
    "            url = None\n",
    "\n",
    "        vape_results.append({\n",
    "            \"name\": header.find_element_by_tag_name('span').text.strip(),\n",
    "            \"adress\": (rows[row_index].text.strip() + '\\n' +\n",
    "                       rows[row_index + 1].text.strip() + '\\n' +\n",
    "                       rows[row_index + 2].text.strip() + '\\n' +\n",
    "                       rows[row_index + 3].text.strip()),\n",
    "            \"url\": url,\n",
    "            \"lic_status\": get_text_without_tags(rows[row_index].find_elements_by_tag_name('td')[2]),\n",
    "            \"license\": get_text_without_tags(rows[row_index + 1].find_elements_by_tag_name('td')[2]),\n",
    "            \"issues_date\": get_text_without_tags(rows[row_index + 2].find_elements_by_tag_name('td')[2])\n",
    "        })\n",
    "\n",
    "        row_index += 4\n",
    "    \n",
    "    next_button = len(driver.find_elements_by_xpath('/html/body/table[2]/tbody/tr[4]/td[2]/table[2]/tbody/tr/td[3]/a')) > 0\n",
    "    \n",
    "    if next_button:\n",
    "        driver.find_element_by_xpath('/html/body/table[2]/tbody/tr[4]/td[2]/table[2]/tbody/tr/td[3]/a').click()\n",
    "        time.sleep(2)\n",
    "\n",
    "vape_results"
   ]
  },
  {
   "cell_type": "code",
   "execution_count": 215,
   "metadata": {},
   "outputs": [
    {
     "data": {
      "text/html": [
       "<div>\n",
       "<style>\n",
       "    .dataframe thead tr:only-child th {\n",
       "        text-align: right;\n",
       "    }\n",
       "\n",
       "    .dataframe thead th {\n",
       "        text-align: left;\n",
       "    }\n",
       "\n",
       "    .dataframe tbody tr th {\n",
       "        vertical-align: top;\n",
       "    }\n",
       "</style>\n",
       "<table border=\"1\" class=\"dataframe\">\n",
       "  <thead>\n",
       "    <tr style=\"text-align: right;\">\n",
       "      <th></th>\n",
       "      <th>adress</th>\n",
       "      <th>issues_date</th>\n",
       "      <th>lic_status</th>\n",
       "      <th>license</th>\n",
       "      <th>name</th>\n",
       "      <th>url</th>\n",
       "    </tr>\n",
       "  </thead>\n",
       "  <tbody>\n",
       "    <tr>\n",
       "      <th>0</th>\n",
       "      <td>AMIN NARGIS Lic. Status: Issued\\n1724 N SALISB...</td>\n",
       "      <td>4/27/2017</td>\n",
       "      <td>Issued</td>\n",
       "      <td>22173807</td>\n",
       "      <td>VAPE IT STORE I</td>\n",
       "      <td>https://jportal.mdcourts.gov/license/pbLicense...</td>\n",
       "    </tr>\n",
       "    <tr>\n",
       "      <th>1</th>\n",
       "      <td>AMIN NARGIS Lic. Status: Issued\\n1015 S SALISB...</td>\n",
       "      <td>4/27/2017</td>\n",
       "      <td>Issued</td>\n",
       "      <td>22173808</td>\n",
       "      <td>VAPE IT STORE II</td>\n",
       "      <td>https://jportal.mdcourts.gov/license/pbLicense...</td>\n",
       "    </tr>\n",
       "    <tr>\n",
       "      <th>2</th>\n",
       "      <td>ANJ DISTRIBUTIONS LLC Lic. Status: Issued\\n229...</td>\n",
       "      <td>4/05/2017</td>\n",
       "      <td>Issued</td>\n",
       "      <td>02104436</td>\n",
       "      <td>VAPEPAD THE</td>\n",
       "      <td>https://jportal.mdcourts.gov/license/pbLicense...</td>\n",
       "    </tr>\n",
       "    <tr>\n",
       "      <th>3</th>\n",
       "      <td>COX TRADING COMPANY L L C Lic. Status: Issued\\...</td>\n",
       "      <td>5/31/2017</td>\n",
       "      <td>Issued</td>\n",
       "      <td>17165957</td>\n",
       "      <td>VAPE FROG</td>\n",
       "      <td>https://jportal.mdcourts.gov/license/pbLicense...</td>\n",
       "    </tr>\n",
       "    <tr>\n",
       "      <th>4</th>\n",
       "      <td>COX TRADING LLC Lic. Status: Pending\\n346 RITC...</td>\n",
       "      <td>None</td>\n",
       "      <td>Pending</td>\n",
       "      <td>None</td>\n",
       "      <td>VAPE FROG</td>\n",
       "      <td>None</td>\n",
       "    </tr>\n",
       "  </tbody>\n",
       "</table>\n",
       "</div>"
      ],
      "text/plain": [
       "                                              adress issues_date lic_status  \\\n",
       "0  AMIN NARGIS Lic. Status: Issued\\n1724 N SALISB...   4/27/2017     Issued   \n",
       "1  AMIN NARGIS Lic. Status: Issued\\n1015 S SALISB...   4/27/2017     Issued   \n",
       "2  ANJ DISTRIBUTIONS LLC Lic. Status: Issued\\n229...   4/05/2017     Issued   \n",
       "3  COX TRADING COMPANY L L C Lic. Status: Issued\\...   5/31/2017     Issued   \n",
       "4  COX TRADING LLC Lic. Status: Pending\\n346 RITC...        None    Pending   \n",
       "\n",
       "    license              name  \\\n",
       "0  22173807   VAPE IT STORE I   \n",
       "1  22173808  VAPE IT STORE II   \n",
       "2  02104436       VAPEPAD THE   \n",
       "3  17165957         VAPE FROG   \n",
       "4      None         VAPE FROG   \n",
       "\n",
       "                                                 url  \n",
       "0  https://jportal.mdcourts.gov/license/pbLicense...  \n",
       "1  https://jportal.mdcourts.gov/license/pbLicense...  \n",
       "2  https://jportal.mdcourts.gov/license/pbLicense...  \n",
       "3  https://jportal.mdcourts.gov/license/pbLicense...  \n",
       "4                                               None  "
      ]
     },
     "execution_count": 215,
     "metadata": {},
     "output_type": "execute_result"
    }
   ],
   "source": [
    "df_vape_results_all = pd.DataFrame(vape_results)\n",
    "df_vape_results_all.head()"
   ]
  },
  {
   "cell_type": "code",
   "execution_count": 220,
   "metadata": {},
   "outputs": [],
   "source": [
    "df_vape_results_all.to_csv('vape-results-all.csv', index=False)"
   ]
  },
  {
   "cell_type": "code",
   "execution_count": 221,
   "metadata": {},
   "outputs": [
    {
     "data": {
      "text/html": [
       "<div>\n",
       "<style>\n",
       "    .dataframe thead tr:only-child th {\n",
       "        text-align: right;\n",
       "    }\n",
       "\n",
       "    .dataframe thead th {\n",
       "        text-align: left;\n",
       "    }\n",
       "\n",
       "    .dataframe tbody tr th {\n",
       "        vertical-align: top;\n",
       "    }\n",
       "</style>\n",
       "<table border=\"1\" class=\"dataframe\">\n",
       "  <thead>\n",
       "    <tr style=\"text-align: right;\">\n",
       "      <th></th>\n",
       "      <th>adress</th>\n",
       "      <th>issues_date</th>\n",
       "      <th>lic_status</th>\n",
       "      <th>license</th>\n",
       "      <th>name</th>\n",
       "      <th>url</th>\n",
       "    </tr>\n",
       "  </thead>\n",
       "  <tbody>\n",
       "    <tr>\n",
       "      <th>0</th>\n",
       "      <td>AMIN NARGIS Lic. Status: Issued\\n1724 N SALISB...</td>\n",
       "      <td>4/27/2017</td>\n",
       "      <td>Issued</td>\n",
       "      <td>22173807.0</td>\n",
       "      <td>VAPE IT STORE I</td>\n",
       "      <td>https://jportal.mdcourts.gov/license/pbLicense...</td>\n",
       "    </tr>\n",
       "    <tr>\n",
       "      <th>1</th>\n",
       "      <td>AMIN NARGIS Lic. Status: Issued\\n1015 S SALISB...</td>\n",
       "      <td>4/27/2017</td>\n",
       "      <td>Issued</td>\n",
       "      <td>22173808.0</td>\n",
       "      <td>VAPE IT STORE II</td>\n",
       "      <td>https://jportal.mdcourts.gov/license/pbLicense...</td>\n",
       "    </tr>\n",
       "    <tr>\n",
       "      <th>2</th>\n",
       "      <td>ANJ DISTRIBUTIONS LLC Lic. Status: Issued\\n229...</td>\n",
       "      <td>4/05/2017</td>\n",
       "      <td>Issued</td>\n",
       "      <td>2104436.0</td>\n",
       "      <td>VAPEPAD THE</td>\n",
       "      <td>https://jportal.mdcourts.gov/license/pbLicense...</td>\n",
       "    </tr>\n",
       "    <tr>\n",
       "      <th>3</th>\n",
       "      <td>COX TRADING COMPANY L L C Lic. Status: Issued\\...</td>\n",
       "      <td>5/31/2017</td>\n",
       "      <td>Issued</td>\n",
       "      <td>17165957.0</td>\n",
       "      <td>VAPE FROG</td>\n",
       "      <td>https://jportal.mdcourts.gov/license/pbLicense...</td>\n",
       "    </tr>\n",
       "    <tr>\n",
       "      <th>4</th>\n",
       "      <td>COX TRADING LLC Lic. Status: Pending\\n346 RITC...</td>\n",
       "      <td>NaN</td>\n",
       "      <td>Pending</td>\n",
       "      <td>NaN</td>\n",
       "      <td>VAPE FROG</td>\n",
       "      <td>NaN</td>\n",
       "    </tr>\n",
       "  </tbody>\n",
       "</table>\n",
       "</div>"
      ],
      "text/plain": [
       "                                              adress issues_date lic_status  \\\n",
       "0  AMIN NARGIS Lic. Status: Issued\\n1724 N SALISB...   4/27/2017     Issued   \n",
       "1  AMIN NARGIS Lic. Status: Issued\\n1015 S SALISB...   4/27/2017     Issued   \n",
       "2  ANJ DISTRIBUTIONS LLC Lic. Status: Issued\\n229...   4/05/2017     Issued   \n",
       "3  COX TRADING COMPANY L L C Lic. Status: Issued\\...   5/31/2017     Issued   \n",
       "4  COX TRADING LLC Lic. Status: Pending\\n346 RITC...         NaN    Pending   \n",
       "\n",
       "      license              name  \\\n",
       "0  22173807.0   VAPE IT STORE I   \n",
       "1  22173808.0  VAPE IT STORE II   \n",
       "2   2104436.0       VAPEPAD THE   \n",
       "3  17165957.0         VAPE FROG   \n",
       "4         NaN         VAPE FROG   \n",
       "\n",
       "                                                 url  \n",
       "0  https://jportal.mdcourts.gov/license/pbLicense...  \n",
       "1  https://jportal.mdcourts.gov/license/pbLicense...  \n",
       "2  https://jportal.mdcourts.gov/license/pbLicense...  \n",
       "3  https://jportal.mdcourts.gov/license/pbLicense...  \n",
       "4                                                NaN  "
      ]
     },
     "execution_count": 221,
     "metadata": {},
     "output_type": "execute_result"
    }
   ],
   "source": [
    "pd.read_csv('vape-results-all.csv').head()"
   ]
  },
  {
   "cell_type": "code",
   "execution_count": null,
   "metadata": {
    "collapsed": true
   },
   "outputs": [],
   "source": []
  }
 ],
 "metadata": {
  "kernelspec": {
   "display_name": "Python 3",
   "language": "python",
   "name": "python3"
  },
  "language_info": {
   "codemirror_mode": {
    "name": "ipython",
    "version": 3
   },
   "file_extension": ".py",
   "mimetype": "text/x-python",
   "name": "python",
   "nbconvert_exporter": "python",
   "pygments_lexer": "ipython3",
   "version": "3.6.1"
  }
 },
 "nbformat": 4,
 "nbformat_minor": 2
}
