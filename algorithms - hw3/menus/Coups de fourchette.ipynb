{
 "cells": [
  {
   "cell_type": "code",
   "execution_count": 1,
   "metadata": {
    "collapsed": true
   },
   "outputs": [],
   "source": [
    "import pandas as pd\n",
    "import re\n",
    "%matplotlib inline"
   ]
  },
  {
   "cell_type": "code",
   "execution_count": 2,
   "metadata": {
    "collapsed": true
   },
   "outputs": [],
   "source": [
    "df = pd.read_csv('posts.csv')\n",
    "df = df[pd.notnull(df['post_content'])]\n",
    "df['post_date'] = pd.to_datetime(df['post_date'])\n",
    "df['post_title'] = df['post_title'].replace(r'\\u200b', '', regex=True)"
   ]
  },
  {
   "cell_type": "code",
   "execution_count": 3,
   "metadata": {},
   "outputs": [
    {
     "data": {
      "text/html": [
       "<div>\n",
       "<style>\n",
       "    .dataframe thead tr:only-child th {\n",
       "        text-align: right;\n",
       "    }\n",
       "\n",
       "    .dataframe thead th {\n",
       "        text-align: left;\n",
       "    }\n",
       "\n",
       "    .dataframe tbody tr th {\n",
       "        vertical-align: top;\n",
       "    }\n",
       "</style>\n",
       "<table border=\"1\" class=\"dataframe\">\n",
       "  <thead>\n",
       "    <tr style=\"text-align: right;\">\n",
       "      <th></th>\n",
       "      <th>post_date</th>\n",
       "      <th>post_title</th>\n",
       "      <th>post_content</th>\n",
       "    </tr>\n",
       "  </thead>\n",
       "  <tbody>\n",
       "    <tr>\n",
       "      <th>0</th>\n",
       "      <td>2017-03-22 10:21:55</td>\n",
       "      <td>Le coup de fourchette du 16 juin 1995</td>\n",
       "      <td>&lt;span style=\"font-weight: 400;\"&gt;Gentilhommière...</td>\n",
       "    </tr>\n",
       "    <tr>\n",
       "      <th>2</th>\n",
       "      <td>2017-01-26 12:02:59</td>\n",
       "      <td>Le coup de fourchette du 31 juillet 1975</td>\n",
       "      <td>&lt;span style=\"font-weight: 400;\"&gt;C&lt;/span&gt;&lt;span ...</td>\n",
       "    </tr>\n",
       "    <tr>\n",
       "      <th>3</th>\n",
       "      <td>2017-01-26 09:16:59</td>\n",
       "      <td>Le coup de fourchette du 4 octobre 1974</td>\n",
       "      <td>&lt;span style=\"font-weight: 400;\"&gt;Qu’un chef vie...</td>\n",
       "    </tr>\n",
       "    <tr>\n",
       "      <th>4</th>\n",
       "      <td>1974-09-13 09:04:13</td>\n",
       "      <td>Le coup de fourchette du 13 septembre 1974</td>\n",
       "      <td>&lt;span style=\"font-weight: 400;\"&gt;Le Café du Rai...</td>\n",
       "    </tr>\n",
       "    <tr>\n",
       "      <th>5</th>\n",
       "      <td>2017-01-26 09:38:58</td>\n",
       "      <td>Le coup de fourchette du 15 novembre 1974</td>\n",
       "      <td>&lt;span style=\"font-weight: 400;\"&gt;Dans la Grand-...</td>\n",
       "    </tr>\n",
       "  </tbody>\n",
       "</table>\n",
       "</div>"
      ],
      "text/plain": [
       "            post_date                                  post_title  \\\n",
       "0 2017-03-22 10:21:55       Le coup de fourchette du 16 juin 1995   \n",
       "2 2017-01-26 12:02:59    Le coup de fourchette du 31 juillet 1975   \n",
       "3 2017-01-26 09:16:59     Le coup de fourchette du 4 octobre 1974   \n",
       "4 1974-09-13 09:04:13  Le coup de fourchette du 13 septembre 1974   \n",
       "5 2017-01-26 09:38:58   Le coup de fourchette du 15 novembre 1974   \n",
       "\n",
       "                                        post_content  \n",
       "0  <span style=\"font-weight: 400;\">Gentilhommière...  \n",
       "2  <span style=\"font-weight: 400;\">C</span><span ...  \n",
       "3  <span style=\"font-weight: 400;\">Qu’un chef vie...  \n",
       "4  <span style=\"font-weight: 400;\">Le Café du Rai...  \n",
       "5  <span style=\"font-weight: 400;\">Dans la Grand-...  "
      ]
     },
     "execution_count": 3,
     "metadata": {},
     "output_type": "execute_result"
    }
   ],
   "source": [
    "df.head()"
   ]
  },
  {
   "cell_type": "code",
   "execution_count": 4,
   "metadata": {},
   "outputs": [
    {
     "name": "stderr",
     "output_type": "stream",
     "text": [
      "/usr/local/lib/python3.6/site-packages/ipykernel_launcher.py:15: FutureWarning: currently extract(expand=None) means expand=False (return Index/Series/DataFrame) but in a future version of pandas this will be changed to expand=True (return DataFrame)\n",
      "  from ipykernel import kernelapp as app\n",
      "/usr/local/lib/python3.6/site-packages/ipykernel_launcher.py:16: FutureWarning: currently extract(expand=None) means expand=False (return Index/Series/DataFrame) but in a future version of pandas this will be changed to expand=True (return DataFrame)\n",
      "  app.launch_new_instance()\n",
      "/usr/local/lib/python3.6/site-packages/ipykernel_launcher.py:17: FutureWarning: currently extract(expand=None) means expand=False (return Index/Series/DataFrame) but in a future version of pandas this will be changed to expand=True (return DataFrame)\n"
     ]
    }
   ],
   "source": [
    "months = [\n",
    "    'janvier',\n",
    "    'février',\n",
    "    'mars',\n",
    "    'avril',\n",
    "    'mai',\n",
    "    'juin',\n",
    "    'juillet',\n",
    "    'août',\n",
    "    'septembre',\n",
    "    'octobre',\n",
    "    'novembre',\n",
    "    'décembre']\n",
    "\n",
    "df['year'] = df['post_title'].str.extract(r'(\\d\\d\\d\\d)')\n",
    "df['day'] = df['post_title'].str.extract(r'du *(\\d\\d?)')\n",
    "df['month'] = df['post_title'].str.extract(r'\\d\\d?.?r? *([a-zûé]*) *\\d\\d\\d\\d')\n",
    "df.dropna(how='any', inplace=True)"
   ]
  },
  {
   "cell_type": "code",
   "execution_count": 5,
   "metadata": {},
   "outputs": [
    {
     "data": {
      "text/html": [
       "<div>\n",
       "<style>\n",
       "    .dataframe thead tr:only-child th {\n",
       "        text-align: right;\n",
       "    }\n",
       "\n",
       "    .dataframe thead th {\n",
       "        text-align: left;\n",
       "    }\n",
       "\n",
       "    .dataframe tbody tr th {\n",
       "        vertical-align: top;\n",
       "    }\n",
       "</style>\n",
       "<table border=\"1\" class=\"dataframe\">\n",
       "  <thead>\n",
       "    <tr style=\"text-align: right;\">\n",
       "      <th></th>\n",
       "      <th>post_date</th>\n",
       "      <th>post_title</th>\n",
       "      <th>post_content</th>\n",
       "      <th>year</th>\n",
       "      <th>day</th>\n",
       "      <th>month</th>\n",
       "      <th>date_str</th>\n",
       "      <th>date</th>\n",
       "    </tr>\n",
       "  </thead>\n",
       "  <tbody>\n",
       "    <tr>\n",
       "      <th>0</th>\n",
       "      <td>2017-03-22 10:21:55</td>\n",
       "      <td>Le coup de fourchette du 16 juin 1995</td>\n",
       "      <td>&lt;span style=\"font-weight: 400;\"&gt;Gentilhommière...</td>\n",
       "      <td>1995</td>\n",
       "      <td>06</td>\n",
       "      <td>06</td>\n",
       "      <td>1995/06/06</td>\n",
       "      <td>1995-06-06</td>\n",
       "    </tr>\n",
       "    <tr>\n",
       "      <th>2</th>\n",
       "      <td>2017-01-26 12:02:59</td>\n",
       "      <td>Le coup de fourchette du 31 juillet 1975</td>\n",
       "      <td>&lt;span style=\"font-weight: 400;\"&gt;C&lt;/span&gt;&lt;span ...</td>\n",
       "      <td>1975</td>\n",
       "      <td>07</td>\n",
       "      <td>07</td>\n",
       "      <td>1975/07/07</td>\n",
       "      <td>1975-07-07</td>\n",
       "    </tr>\n",
       "    <tr>\n",
       "      <th>3</th>\n",
       "      <td>2017-01-26 09:16:59</td>\n",
       "      <td>Le coup de fourchette du 4 octobre 1974</td>\n",
       "      <td>&lt;span style=\"font-weight: 400;\"&gt;Qu’un chef vie...</td>\n",
       "      <td>1974</td>\n",
       "      <td>10</td>\n",
       "      <td>10</td>\n",
       "      <td>1974/10/10</td>\n",
       "      <td>1974-10-10</td>\n",
       "    </tr>\n",
       "    <tr>\n",
       "      <th>4</th>\n",
       "      <td>1974-09-13 09:04:13</td>\n",
       "      <td>Le coup de fourchette du 13 septembre 1974</td>\n",
       "      <td>&lt;span style=\"font-weight: 400;\"&gt;Le Café du Rai...</td>\n",
       "      <td>1974</td>\n",
       "      <td>09</td>\n",
       "      <td>09</td>\n",
       "      <td>1974/09/09</td>\n",
       "      <td>1974-09-09</td>\n",
       "    </tr>\n",
       "    <tr>\n",
       "      <th>5</th>\n",
       "      <td>2017-01-26 09:38:58</td>\n",
       "      <td>Le coup de fourchette du 15 novembre 1974</td>\n",
       "      <td>&lt;span style=\"font-weight: 400;\"&gt;Dans la Grand-...</td>\n",
       "      <td>1974</td>\n",
       "      <td>11</td>\n",
       "      <td>11</td>\n",
       "      <td>1974/11/11</td>\n",
       "      <td>1974-11-11</td>\n",
       "    </tr>\n",
       "  </tbody>\n",
       "</table>\n",
       "</div>"
      ],
      "text/plain": [
       "            post_date                                  post_title  \\\n",
       "0 2017-03-22 10:21:55       Le coup de fourchette du 16 juin 1995   \n",
       "2 2017-01-26 12:02:59    Le coup de fourchette du 31 juillet 1975   \n",
       "3 2017-01-26 09:16:59     Le coup de fourchette du 4 octobre 1974   \n",
       "4 1974-09-13 09:04:13  Le coup de fourchette du 13 septembre 1974   \n",
       "5 2017-01-26 09:38:58   Le coup de fourchette du 15 novembre 1974   \n",
       "\n",
       "                                        post_content  year day month  \\\n",
       "0  <span style=\"font-weight: 400;\">Gentilhommière...  1995  06    06   \n",
       "2  <span style=\"font-weight: 400;\">C</span><span ...  1975  07    07   \n",
       "3  <span style=\"font-weight: 400;\">Qu’un chef vie...  1974  10    10   \n",
       "4  <span style=\"font-weight: 400;\">Le Café du Rai...  1974  09    09   \n",
       "5  <span style=\"font-weight: 400;\">Dans la Grand-...  1974  11    11   \n",
       "\n",
       "     date_str       date  \n",
       "0  1995/06/06 1995-06-06  \n",
       "2  1975/07/07 1975-07-07  \n",
       "3  1974/10/10 1974-10-10  \n",
       "4  1974/09/09 1974-09-09  \n",
       "5  1974/11/11 1974-11-11  "
      ]
     },
     "execution_count": 5,
     "metadata": {},
     "output_type": "execute_result"
    }
   ],
   "source": [
    "df['month'] = df['month'].apply(lambda x: str(months.index(x) + 1))\n",
    "df['month'] = df['month'].str.pad(2, fillchar='0')\n",
    "df['day'] = df['month'].str.pad(2, fillchar='0')\n",
    "df['date_str'] = df['year'].astype(str) + \"/\" + df['month'].astype(str) + \"/\" + df['day'].astype(str)\n",
    "df['date'] = pd.to_datetime(df['date_str'], format='%Y/%m/%d')\n",
    "df.head()"
   ]
  },
  {
   "cell_type": "code",
   "execution_count": 6,
   "metadata": {},
   "outputs": [
    {
     "data": {
      "text/html": [
       "<div>\n",
       "<style>\n",
       "    .dataframe thead tr:only-child th {\n",
       "        text-align: right;\n",
       "    }\n",
       "\n",
       "    .dataframe thead th {\n",
       "        text-align: left;\n",
       "    }\n",
       "\n",
       "    .dataframe tbody tr th {\n",
       "        vertical-align: top;\n",
       "    }\n",
       "</style>\n",
       "<table border=\"1\" class=\"dataframe\">\n",
       "  <thead>\n",
       "    <tr style=\"text-align: right;\">\n",
       "      <th></th>\n",
       "      <th>viande</th>\n",
       "      <th>poisson</th>\n",
       "      <th>steak</th>\n",
       "      <th>saucisse</th>\n",
       "      <th>boeuf</th>\n",
       "      <th>veau</th>\n",
       "      <th>poulet</th>\n",
       "      <th>coquelet</th>\n",
       "      <th>volaille</th>\n",
       "      <th>porc</th>\n",
       "      <th>terrine</th>\n",
       "      <th>foie</th>\n",
       "      <th>poularde</th>\n",
       "    </tr>\n",
       "  </thead>\n",
       "  <tbody>\n",
       "    <tr>\n",
       "      <th>0</th>\n",
       "      <td>0.75</td>\n",
       "      <td>0.000000</td>\n",
       "      <td>0.0</td>\n",
       "      <td>0.25</td>\n",
       "      <td>0.0</td>\n",
       "      <td>0.0</td>\n",
       "      <td>0.0</td>\n",
       "      <td>0.0</td>\n",
       "      <td>0.0</td>\n",
       "      <td>0.0</td>\n",
       "      <td>0.000000</td>\n",
       "      <td>0.000000</td>\n",
       "      <td>0.000000</td>\n",
       "    </tr>\n",
       "    <tr>\n",
       "      <th>1</th>\n",
       "      <td>0.00</td>\n",
       "      <td>0.000000</td>\n",
       "      <td>0.0</td>\n",
       "      <td>0.00</td>\n",
       "      <td>0.0</td>\n",
       "      <td>0.0</td>\n",
       "      <td>0.0</td>\n",
       "      <td>0.0</td>\n",
       "      <td>0.0</td>\n",
       "      <td>0.0</td>\n",
       "      <td>0.333333</td>\n",
       "      <td>0.333333</td>\n",
       "      <td>0.333333</td>\n",
       "    </tr>\n",
       "    <tr>\n",
       "      <th>2</th>\n",
       "      <td>0.00</td>\n",
       "      <td>0.000000</td>\n",
       "      <td>0.0</td>\n",
       "      <td>0.00</td>\n",
       "      <td>0.0</td>\n",
       "      <td>0.0</td>\n",
       "      <td>0.0</td>\n",
       "      <td>0.0</td>\n",
       "      <td>0.0</td>\n",
       "      <td>0.0</td>\n",
       "      <td>1.000000</td>\n",
       "      <td>0.000000</td>\n",
       "      <td>0.000000</td>\n",
       "    </tr>\n",
       "    <tr>\n",
       "      <th>3</th>\n",
       "      <td>0.00</td>\n",
       "      <td>0.666667</td>\n",
       "      <td>0.0</td>\n",
       "      <td>0.00</td>\n",
       "      <td>0.0</td>\n",
       "      <td>0.0</td>\n",
       "      <td>0.0</td>\n",
       "      <td>0.0</td>\n",
       "      <td>0.0</td>\n",
       "      <td>0.0</td>\n",
       "      <td>0.000000</td>\n",
       "      <td>0.333333</td>\n",
       "      <td>0.000000</td>\n",
       "    </tr>\n",
       "    <tr>\n",
       "      <th>4</th>\n",
       "      <td>0.00</td>\n",
       "      <td>0.000000</td>\n",
       "      <td>0.0</td>\n",
       "      <td>0.00</td>\n",
       "      <td>0.0</td>\n",
       "      <td>0.0</td>\n",
       "      <td>0.0</td>\n",
       "      <td>0.0</td>\n",
       "      <td>0.0</td>\n",
       "      <td>0.0</td>\n",
       "      <td>0.000000</td>\n",
       "      <td>0.000000</td>\n",
       "      <td>0.000000</td>\n",
       "    </tr>\n",
       "  </tbody>\n",
       "</table>\n",
       "</div>"
      ],
      "text/plain": [
       "   viande   poisson  steak  saucisse  boeuf  veau  poulet  coquelet  volaille  \\\n",
       "0    0.75  0.000000    0.0      0.25    0.0   0.0     0.0       0.0       0.0   \n",
       "1    0.00  0.000000    0.0      0.00    0.0   0.0     0.0       0.0       0.0   \n",
       "2    0.00  0.000000    0.0      0.00    0.0   0.0     0.0       0.0       0.0   \n",
       "3    0.00  0.666667    0.0      0.00    0.0   0.0     0.0       0.0       0.0   \n",
       "4    0.00  0.000000    0.0      0.00    0.0   0.0     0.0       0.0       0.0   \n",
       "\n",
       "   porc   terrine      foie  poularde  \n",
       "0   0.0  0.000000  0.000000  0.000000  \n",
       "1   0.0  0.333333  0.333333  0.333333  \n",
       "2   0.0  1.000000  0.000000  0.000000  \n",
       "3   0.0  0.000000  0.333333  0.000000  \n",
       "4   0.0  0.000000  0.000000  0.000000  "
      ]
     },
     "execution_count": 6,
     "metadata": {},
     "output_type": "execute_result"
    }
   ],
   "source": [
    "from sklearn.feature_extraction.text import TfidfVectorizer\n",
    "\n",
    "vec = TfidfVectorizer(\n",
    "    use_idf=False,\n",
    "    norm='l1',\n",
    "    vocabulary=['viande', 'poisson', 'steak', 'saucisse', 'boeuf', 'veau', 'poulet', 'coquelet', 'volaille', 'porc', 'terrine', 'foie', 'poularde'])\n",
    "matrix = vec.fit_transform(df['post_content'])\n",
    "vocab = vec.get_feature_names()\n",
    "wordcount_df = pd.DataFrame(matrix.toarray(), columns=vocab)\n",
    "wordcount_df.head()"
   ]
  },
  {
   "cell_type": "code",
   "execution_count": 7,
   "metadata": {
    "collapsed": true
   },
   "outputs": [],
   "source": [
    "df['viande'] = wordcount_df[['viande', 'poisson', 'steak', 'saucisse', 'boeuf', 'veau', 'poulet', 'coquelet', 'volaille', 'porc', 'terrine', 'foie', 'poularde']].sum(axis=1)"
   ]
  },
  {
   "cell_type": "code",
   "execution_count": 8,
   "metadata": {},
   "outputs": [
    {
     "data": {
      "text/html": [
       "<div>\n",
       "<style>\n",
       "    .dataframe thead tr:only-child th {\n",
       "        text-align: right;\n",
       "    }\n",
       "\n",
       "    .dataframe thead th {\n",
       "        text-align: left;\n",
       "    }\n",
       "\n",
       "    .dataframe tbody tr th {\n",
       "        vertical-align: top;\n",
       "    }\n",
       "</style>\n",
       "<table border=\"1\" class=\"dataframe\">\n",
       "  <thead>\n",
       "    <tr style=\"text-align: right;\">\n",
       "      <th></th>\n",
       "      <th>post_date</th>\n",
       "      <th>post_title</th>\n",
       "      <th>post_content</th>\n",
       "      <th>year</th>\n",
       "      <th>day</th>\n",
       "      <th>month</th>\n",
       "      <th>date_str</th>\n",
       "      <th>date</th>\n",
       "      <th>viande</th>\n",
       "    </tr>\n",
       "  </thead>\n",
       "  <tbody>\n",
       "    <tr>\n",
       "      <th>0</th>\n",
       "      <td>2017-03-22 10:21:55</td>\n",
       "      <td>Le coup de fourchette du 16 juin 1995</td>\n",
       "      <td>&lt;span style=\"font-weight: 400;\"&gt;Gentilhommière...</td>\n",
       "      <td>1995</td>\n",
       "      <td>06</td>\n",
       "      <td>06</td>\n",
       "      <td>1995/06/06</td>\n",
       "      <td>1995-06-06</td>\n",
       "      <td>1.0</td>\n",
       "    </tr>\n",
       "    <tr>\n",
       "      <th>2</th>\n",
       "      <td>2017-01-26 12:02:59</td>\n",
       "      <td>Le coup de fourchette du 31 juillet 1975</td>\n",
       "      <td>&lt;span style=\"font-weight: 400;\"&gt;C&lt;/span&gt;&lt;span ...</td>\n",
       "      <td>1975</td>\n",
       "      <td>07</td>\n",
       "      <td>07</td>\n",
       "      <td>1975/07/07</td>\n",
       "      <td>1975-07-07</td>\n",
       "      <td>1.0</td>\n",
       "    </tr>\n",
       "    <tr>\n",
       "      <th>3</th>\n",
       "      <td>2017-01-26 09:16:59</td>\n",
       "      <td>Le coup de fourchette du 4 octobre 1974</td>\n",
       "      <td>&lt;span style=\"font-weight: 400;\"&gt;Qu’un chef vie...</td>\n",
       "      <td>1974</td>\n",
       "      <td>10</td>\n",
       "      <td>10</td>\n",
       "      <td>1974/10/10</td>\n",
       "      <td>1974-10-10</td>\n",
       "      <td>1.0</td>\n",
       "    </tr>\n",
       "    <tr>\n",
       "      <th>4</th>\n",
       "      <td>1974-09-13 09:04:13</td>\n",
       "      <td>Le coup de fourchette du 13 septembre 1974</td>\n",
       "      <td>&lt;span style=\"font-weight: 400;\"&gt;Le Café du Rai...</td>\n",
       "      <td>1974</td>\n",
       "      <td>09</td>\n",
       "      <td>09</td>\n",
       "      <td>1974/09/09</td>\n",
       "      <td>1974-09-09</td>\n",
       "      <td>0.0</td>\n",
       "    </tr>\n",
       "    <tr>\n",
       "      <th>5</th>\n",
       "      <td>2017-01-26 09:38:58</td>\n",
       "      <td>Le coup de fourchette du 15 novembre 1974</td>\n",
       "      <td>&lt;span style=\"font-weight: 400;\"&gt;Dans la Grand-...</td>\n",
       "      <td>1974</td>\n",
       "      <td>11</td>\n",
       "      <td>11</td>\n",
       "      <td>1974/11/11</td>\n",
       "      <td>1974-11-11</td>\n",
       "      <td>1.0</td>\n",
       "    </tr>\n",
       "  </tbody>\n",
       "</table>\n",
       "</div>"
      ],
      "text/plain": [
       "            post_date                                  post_title  \\\n",
       "0 2017-03-22 10:21:55       Le coup de fourchette du 16 juin 1995   \n",
       "2 2017-01-26 12:02:59    Le coup de fourchette du 31 juillet 1975   \n",
       "3 2017-01-26 09:16:59     Le coup de fourchette du 4 octobre 1974   \n",
       "4 1974-09-13 09:04:13  Le coup de fourchette du 13 septembre 1974   \n",
       "5 2017-01-26 09:38:58   Le coup de fourchette du 15 novembre 1974   \n",
       "\n",
       "                                        post_content  year day month  \\\n",
       "0  <span style=\"font-weight: 400;\">Gentilhommière...  1995  06    06   \n",
       "2  <span style=\"font-weight: 400;\">C</span><span ...  1975  07    07   \n",
       "3  <span style=\"font-weight: 400;\">Qu’un chef vie...  1974  10    10   \n",
       "4  <span style=\"font-weight: 400;\">Le Café du Rai...  1974  09    09   \n",
       "5  <span style=\"font-weight: 400;\">Dans la Grand-...  1974  11    11   \n",
       "\n",
       "     date_str       date  viande  \n",
       "0  1995/06/06 1995-06-06     1.0  \n",
       "2  1975/07/07 1975-07-07     1.0  \n",
       "3  1974/10/10 1974-10-10     1.0  \n",
       "4  1974/09/09 1974-09-09     0.0  \n",
       "5  1974/11/11 1974-11-11     1.0  "
      ]
     },
     "execution_count": 8,
     "metadata": {},
     "output_type": "execute_result"
    }
   ],
   "source": [
    "df.head()"
   ]
  },
  {
   "cell_type": "code",
   "execution_count": 9,
   "metadata": {},
   "outputs": [
    {
     "data": {
      "text/plain": [
       "<matplotlib.axes._subplots.AxesSubplot at 0x109671978>"
      ]
     },
     "execution_count": 9,
     "metadata": {},
     "output_type": "execute_result"
    },
    {
     "data": {
      "image/png": "[encoded data removed]",
      "text/plain": [
       "<matplotlib.figure.Figure at 0x10bb92470>"
      ]
     },
     "metadata": {},
     "output_type": "display_data"
    }
   ],
   "source": [
    "df.groupby(df['date'].dt.year)['post_title'].count().plot()"
   ]
  },
  {
   "cell_type": "code",
   "execution_count": 10,
   "metadata": {},
   "outputs": [
    {
     "data": {
      "text/plain": [
       "<matplotlib.axes._subplots.AxesSubplot at 0x10be0ee10>"
      ]
     },
     "execution_count": 10,
     "metadata": {},
     "output_type": "execute_result"
    },
    {
     "data": {
      "image/png": "[encoded data removed]",
      "text/plain": [
       "<matplotlib.figure.Figure at 0x10bdc16a0>"
      ]
     },
     "metadata": {},
     "output_type": "display_data"
    }
   ],
   "source": [
    "df.groupby(df['date'].dt.year)['viande'].sum().plot()"
   ]
  },
  {
   "cell_type": "code",
   "execution_count": 11,
   "metadata": {},
   "outputs": [
    {
     "data": {
      "text/plain": [
       "'<span style=\"font-weight: 400;\">C</span><span style=\"font-weight: 400;\">omme toutes les choses précieuses, l\\'excellence en cuisine est d\\'une extrême fragilité. Les fanfares de la renommée souvent la corrompent. Aussi, quand on connaît l\\'adresse de l\\'Hôtel- de-Ville d\\'Echallens, on est tenté de la garder jalousement pour soi et quelques amis élus. Mais, en même temps, on ne saurait passer sous silence tant de mérites. Alors, à pied, à cheval-vapeur ou en “brouette”, allez vite à Echallens : de la grande gastronomie vous attend avec tous les raffinements que le bon goût peut dicter à des hôtes épris de leur métier.</span>\\r\\n\\r\\n<span style=\"font-weight: 400;\">L\\'accueil est simple dans la grande salle à manger boisée toujours ornée de fleurs fraîches. Une grande table ronde couverte d\\'îles flottantes, de tartes, de cakes, de fruits au sirop vous renseigne d\\'entrée : ici, tous les desserts sont maison.</span>\\r\\n\\r\\n<span style=\"font-weight: 400;\">C\\'est qu\\'aux fourneaux, il y a un passionné de vraie cuisine. M. Ravet, un maître queux de Chalon-sur-Saône, a fait le pari d\\'amener les Vaudois à manger en plein Gros-de-Vaud des mets de sa Bourgogne natale. A l\\'honneur sur la carte, les poissons et les volailles. Les prix, entre 20 et 25 francs, sont raisonnables, voire modestes en rapport avec la qualité de la chère. Mais on ne recommandera pas assez aux bienheureux affamés d\\'opter pour les menus que MM. et Mmes Wegmann (les beaux-parents) et Ravet proposent à notre gourmandise. Oscillant autour des 35 francs, ces menus changent, avec toute la carte, quatre à cinq fois l\\'an au gré des saisons. Après les spécialités de Bourgogne (la terrine de foie blond, les oignons aux raisins et la brioche, la truitelle à l\\'oseille, la poularde de Bresse truffée), les poissons du lac sont au rendez-vous de l\\'été avec l\\'écrevisse, le filet de perche et la truite, précédant la chasse l\\'automne et les fruits de mer de l\\'hiver, variés à l\\'infini par la saveur et l\\'apprêt.</span>\\r\\n\\r\\n<span style=\"font-weight: 400;\">La carte des vins est à l\\'avenant. Mais ce qui, parmi tant de merveilles, l\\'emporte encore, c\\'est la générosité de la table qui fait que, comme nulle part ailleurs, on est là mieux servi et plus gâté que chez soi.</span>\\r\\n\\r\\n<i><span style=\"font-weight: 400;\">HOTEL DE VILLE D\\'ECHALLENS. Téléphone (021) 81 11 41. - Fermé le dimanche soir.</span></i>\\r\\n\\r\\n&nbsp;'"
      ]
     },
     "execution_count": 11,
     "metadata": {},
     "output_type": "execute_result"
    }
   ],
   "source": [
    "df.loc[2]['post_content']"
   ]
  },
  {
   "cell_type": "code",
   "execution_count": null,
   "metadata": {
    "collapsed": true
   },
   "outputs": [],
   "source": []
  }
 ],
 "metadata": {
  "kernelspec": {
   "display_name": "Python 3",
   "language": "python",
   "name": "python3"
  },
  "language_info": {
   "codemirror_mode": {
    "name": "ipython",
    "version": 3
   },
   "file_extension": ".py",
   "mimetype": "text/x-python",
   "name": "python",
   "nbconvert_exporter": "python",
   "pygments_lexer": "ipython3",
   "version": "3.6.1"
  }
 },
 "nbformat": 4,
 "nbformat_minor": 2
}
