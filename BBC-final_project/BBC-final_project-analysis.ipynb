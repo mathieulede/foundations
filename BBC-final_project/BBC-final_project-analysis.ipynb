{
 "cells": [
  {
   "cell_type": "code",
   "execution_count": 1,
   "metadata": {
    "collapsed": true
   },
   "outputs": [],
   "source": [
    "import pandas as pd"
   ]
  },
  {
   "cell_type": "code",
   "execution_count": 4,
   "metadata": {},
   "outputs": [],
   "source": [
    "df_critics = pd.read_csv('critics-psql.csv', index_col='id')\n",
    "df_films = pd.read_csv('films-psql.csv', index_col='id')\n",
    "df_reviews = pd.read_csv('reviews-psql.csv', index_col='id')\n",
    "df_directors = pd.read_csv('directors-psql.csv', index_col='id')\n",
    "df_directions = pd.read_csv('directions-psql.csv', index_col='id')"
   ]
  },
  {
   "cell_type": "code",
   "execution_count": 13,
   "metadata": {},
   "outputs": [
    {
     "data": {
      "text/plain": [
       "1     49\n",
       "0     47\n",
       "33    35\n",
       "Name: film_id, dtype: int64"
      ]
     },
     "execution_count": 13,
     "metadata": {},
     "output_type": "execute_result"
    }
   ],
   "source": [
    "# Top 3 of the films appearing the most frequently on the top ten\n",
    "df_reviews['film_id'].value_counts().head(3)"
   ]
  },
  {
   "cell_type": "code",
   "execution_count": 14,
   "metadata": {},
   "outputs": [
    {
     "data": {
      "text/html": [
       "<div>\n",
       "<style>\n",
       "    .dataframe thead tr:only-child th {\n",
       "        text-align: right;\n",
       "    }\n",
       "\n",
       "    .dataframe thead th {\n",
       "        text-align: left;\n",
       "    }\n",
       "\n",
       "    .dataframe tbody tr th {\n",
       "        vertical-align: top;\n",
       "    }\n",
       "</style>\n",
       "<table border=\"1\" class=\"dataframe\">\n",
       "  <thead>\n",
       "    <tr style=\"text-align: right;\">\n",
       "      <th></th>\n",
       "      <th>critic_id</th>\n",
       "      <th>film_id</th>\n",
       "      <th>rank</th>\n",
       "    </tr>\n",
       "    <tr>\n",
       "      <th>id</th>\n",
       "      <th></th>\n",
       "      <th></th>\n",
       "      <th></th>\n",
       "    </tr>\n",
       "  </thead>\n",
       "  <tbody>\n",
       "    <tr>\n",
       "      <th>0</th>\n",
       "      <td>0</td>\n",
       "      <td>0</td>\n",
       "      <td>0</td>\n",
       "    </tr>\n",
       "    <tr>\n",
       "      <th>1</th>\n",
       "      <td>0</td>\n",
       "      <td>1</td>\n",
       "      <td>1</td>\n",
       "    </tr>\n",
       "    <tr>\n",
       "      <th>2</th>\n",
       "      <td>0</td>\n",
       "      <td>2</td>\n",
       "      <td>2</td>\n",
       "    </tr>\n",
       "  </tbody>\n",
       "</table>\n",
       "</div>"
      ],
      "text/plain": [
       "    critic_id  film_id  rank\n",
       "id                          \n",
       "0           0        0     0\n",
       "1           0        1     1\n",
       "2           0        2     2"
      ]
     },
     "execution_count": 14,
     "metadata": {},
     "output_type": "execute_result"
    }
   ],
   "source": [
    "df_reviews.head(3)"
   ]
  },
  {
   "cell_type": "code",
   "execution_count": 20,
   "metadata": {},
   "outputs": [
    {
     "data": {
      "text/html": [
       "<div>\n",
       "<style>\n",
       "    .dataframe thead tr:only-child th {\n",
       "        text-align: right;\n",
       "    }\n",
       "\n",
       "    .dataframe thead th {\n",
       "        text-align: left;\n",
       "    }\n",
       "\n",
       "    .dataframe tbody tr th {\n",
       "        vertical-align: top;\n",
       "    }\n",
       "</style>\n",
       "<table border=\"1\" class=\"dataframe\">\n",
       "  <thead>\n",
       "    <tr style=\"text-align: right;\">\n",
       "      <th></th>\n",
       "      <th>critic_id</th>\n",
       "      <th>film_id</th>\n",
       "      <th>rank</th>\n",
       "      <th>director_id</th>\n",
       "    </tr>\n",
       "  </thead>\n",
       "  <tbody>\n",
       "    <tr>\n",
       "      <th>0</th>\n",
       "      <td>0</td>\n",
       "      <td>0</td>\n",
       "      <td>0</td>\n",
       "      <td>0</td>\n",
       "    </tr>\n",
       "    <tr>\n",
       "      <th>1</th>\n",
       "      <td>3</td>\n",
       "      <td>0</td>\n",
       "      <td>1</td>\n",
       "      <td>0</td>\n",
       "    </tr>\n",
       "    <tr>\n",
       "      <th>2</th>\n",
       "      <td>4</td>\n",
       "      <td>0</td>\n",
       "      <td>5</td>\n",
       "      <td>0</td>\n",
       "    </tr>\n",
       "    <tr>\n",
       "      <th>3</th>\n",
       "      <td>7</td>\n",
       "      <td>0</td>\n",
       "      <td>1</td>\n",
       "      <td>0</td>\n",
       "    </tr>\n",
       "    <tr>\n",
       "      <th>4</th>\n",
       "      <td>8</td>\n",
       "      <td>0</td>\n",
       "      <td>3</td>\n",
       "      <td>0</td>\n",
       "    </tr>\n",
       "  </tbody>\n",
       "</table>\n",
       "</div>"
      ],
      "text/plain": [
       "   critic_id  film_id  rank  director_id\n",
       "0          0        0     0            0\n",
       "1          3        0     1            0\n",
       "2          4        0     5            0\n",
       "3          7        0     1            0\n",
       "4          8        0     3            0"
      ]
     },
     "execution_count": 20,
     "metadata": {},
     "output_type": "execute_result"
    }
   ],
   "source": [
    "df = df_reviews.merge(df_directions, on='film_id')\n",
    "df.head()"
   ]
  },
  {
   "cell_type": "code",
   "execution_count": 19,
   "metadata": {},
   "outputs": [
    {
     "data": {
      "text/plain": [
       "2      23\n",
       "124     7\n",
       "15      1\n",
       "548     1\n",
       "Name: film_id, dtype: int64"
      ]
     },
     "execution_count": 19,
     "metadata": {},
     "output_type": "execute_result"
    }
   ],
   "source": [
    "# How many times does Terrence Malick appear is the top ten and for which film\n",
    "df[df['director_id'] == 2]['film_id'].value_counts()"
   ]
  },
  {
   "cell_type": "code",
   "execution_count": 27,
   "metadata": {},
   "outputs": [
    {
     "data": {
      "text/html": [
       "<div>\n",
       "<style>\n",
       "    .dataframe thead tr:only-child th {\n",
       "        text-align: right;\n",
       "    }\n",
       "\n",
       "    .dataframe thead th {\n",
       "        text-align: left;\n",
       "    }\n",
       "\n",
       "    .dataframe tbody tr th {\n",
       "        vertical-align: top;\n",
       "    }\n",
       "</style>\n",
       "<table border=\"1\" class=\"dataframe\">\n",
       "  <thead>\n",
       "    <tr style=\"text-align: right;\">\n",
       "      <th></th>\n",
       "      <th>first_name</th>\n",
       "      <th>last_name</th>\n",
       "    </tr>\n",
       "    <tr>\n",
       "      <th>id</th>\n",
       "      <th></th>\n",
       "      <th></th>\n",
       "    </tr>\n",
       "  </thead>\n",
       "  <tbody>\n",
       "    <tr>\n",
       "      <th>0</th>\n",
       "      <td>David</td>\n",
       "      <td>Lynch</td>\n",
       "    </tr>\n",
       "    <tr>\n",
       "      <th>1</th>\n",
       "      <td>Wong</td>\n",
       "      <td>Kar-wai</td>\n",
       "    </tr>\n",
       "    <tr>\n",
       "      <th>2</th>\n",
       "      <td>Terrence</td>\n",
       "      <td>Malick</td>\n",
       "    </tr>\n",
       "    <tr>\n",
       "      <th>3</th>\n",
       "      <td>Edward</td>\n",
       "      <td>Yang</td>\n",
       "    </tr>\n",
       "    <tr>\n",
       "      <th>4</th>\n",
       "      <td>Jean-Luc</td>\n",
       "      <td>Godard</td>\n",
       "    </tr>\n",
       "  </tbody>\n",
       "</table>\n",
       "</div>"
      ],
      "text/plain": [
       "   first_name last_name\n",
       "id                     \n",
       "0       David     Lynch\n",
       "1        Wong   Kar-wai\n",
       "2    Terrence    Malick\n",
       "3      Edward      Yang\n",
       "4    Jean-Luc    Godard"
      ]
     },
     "execution_count": 27,
     "metadata": {},
     "output_type": "execute_result"
    }
   ],
   "source": [
    "df_directors.head()"
   ]
  },
  {
   "cell_type": "code",
   "execution_count": 28,
   "metadata": {},
   "outputs": [],
   "source": [
    "df = df.merge(df_directors, left_on='director_id', right_index=True)"
   ]
  },
  {
   "cell_type": "code",
   "execution_count": 30,
   "metadata": {},
   "outputs": [],
   "source": [
    "df['full_name'] = df['first_name'] + \" \" + df['last_name']"
   ]
  },
  {
   "cell_type": "code",
   "execution_count": 32,
   "metadata": {},
   "outputs": [
    {
     "data": {
      "text/plain": [
       "0     47\n",
       "80     1\n",
       "Name: film_id, dtype: int64"
      ]
     },
     "execution_count": 32,
     "metadata": {},
     "output_type": "execute_result"
    }
   ],
   "source": [
    "# How many times does David Lynch appear is the top ten and for which film\n",
    "df[df['full_name'] == 'David Lynch']['film_id'].value_counts()"
   ]
  },
  {
   "cell_type": "code",
   "execution_count": 34,
   "metadata": {},
   "outputs": [],
   "source": [
    "df = df.merge(df_films, left_on='film_id', right_index=True)"
   ]
  },
  {
   "cell_type": "code",
   "execution_count": 37,
   "metadata": {},
   "outputs": [
    {
     "data": {
      "text/plain": [
       "Mulholland Drive    47\n",
       "Inland Empire        1\n",
       "Name: title, dtype: int64"
      ]
     },
     "execution_count": 37,
     "metadata": {},
     "output_type": "execute_result"
    }
   ],
   "source": [
    "df[df['full_name'] == 'David Lynch']['title'].value_counts()"
   ]
  },
  {
   "cell_type": "code",
   "execution_count": 41,
   "metadata": {},
   "outputs": [
    {
     "data": {
      "text/plain": [
       "No Country For Old Men        21\n",
       "Inside Llewyn Davis           20\n",
       "A Serious Man                  8\n",
       "O Brother, Where Art Thou?     3\n",
       "Name: title, dtype: int64"
      ]
     },
     "execution_count": 41,
     "metadata": {},
     "output_type": "execute_result"
    }
   ],
   "source": [
    "df[df['full_name'] == 'Ethan Coen']['title'].value_counts()"
   ]
  },
  {
   "cell_type": "code",
   "execution_count": 141,
   "metadata": {},
   "outputs": [
    {
     "data": {
      "text/plain": [
       "full_name                    title                                      \n",
       "Abbas Kiarostami             Certified Copy                                  9\n",
       "                             Ten                                             4\n",
       "                             Like Someone In Love                            2\n",
       "Abdellatif Kechiche          Blue Is the Warmest Color                       7\n",
       "Abderrahmane Sissako         Timbuktu                                        9\n",
       "                             Waiting for Happiness                           2\n",
       "Adam Curtis                  The Century of the Self                         1\n",
       "Adam McKay                   Anchorman: The Legend of Ron Burgundy           1\n",
       "                             Step Brothers                                   1\n",
       "                             Talladega Nights: The Ballad of Ricky Bobby     1\n",
       "Agnieszka Holland            Burning Bush                                    1\n",
       "Agnès Jaoui                  The Taste of Others                             1\n",
       "Agnès Varda                  The Gleaners and I                              4\n",
       "Aki Kaurismäki               The Man Without A Past                          1\n",
       "Alain Cavalier               Le filmeur                                      1\n",
       "Alain Gomis                  Tey                                             3\n",
       "Alain Guiraudie              Stranger by the Lake                            1\n",
       "Alain Resnais                You Ain’t Seen Nothin’ Yet                      1\n",
       "Alan Mak                     Infernal Affairs                                2\n",
       "Albert Serra                 Story of My Death                               1\n",
       "Alejandro González Iñárritu  Birdman                                         5\n",
       "                             Amores Perros                                   4\n",
       "                             Babel                                           1\n",
       "                             The Revenant                                    1\n",
       "Aleksandr Sokurov            Russian Ark                                     4\n",
       "                             Alexandre Sokurov                               1\n",
       "Aleksey Fedorchenko          Silent Souls                                    2\n",
       "Aleksey German               Hard to Be a God                                2\n",
       "Alex Garland                 Ex Machina                                      2\n",
       "Alexander Payne              Nebraska                                        3\n",
       "                                                                            ..\n",
       "Warwick Thornton             Samson & Delilah                                1\n",
       "Wayne Blair                  The Sapphires                                   1\n",
       "Werner Herzog                Grizzly Man                                     4\n",
       "                             Bad Lieutenant: Port of Call New Orleans        1\n",
       "                             Cave of Forgotten Dreams                        1\n",
       "Wes Anderson                 The Grand Budapest Hotel                       12\n",
       "                             The Royal Tenenbaums                            7\n",
       "                             Moonrise Kingdom                                5\n",
       "                             Fantastic Mr Fox                                4\n",
       "Whit Stillman                Love & Friendship                               1\n",
       "Wolfgang Becker              Good Bye Lenin!                                 2\n",
       "Wong Kar-wai                 In the Mood for Love                           49\n",
       "                             2046                                            2\n",
       "Woody Allen                  Match Point                                     1\n",
       "                             You Will Meet a Tall Dark Stranger              1\n",
       "Xavier Beauvois              Of Gods and Men                                 1\n",
       "Xavier Dolan                 Mommy                                           3\n",
       "Yann Arthus-Bertrand         Human                                           1\n",
       "Yaron Shani                  Ajami                                           1\n",
       "Yervant Gianikian            Oh! Man                                         1\n",
       "Yorgos Lanthimos             Dogtooth                                        2\n",
       "                             The Lobster                                     1\n",
       "Zhang Yimou                  Hero                                            2\n",
       "                             Coming Home                                     1\n",
       "                             House of Flying Daggers                         1\n",
       "Ágnes Hranitzky              The Turin Horse                                 6\n",
       "                             Werckmeister Harmonies                          4\n",
       "Éric Rohmer                  The Lady and the Duke                           1\n",
       "                             The Romance of Astrea and Celadon               1\n",
       "                             Triple Agent                                    1\n",
       "Name: title, Length: 627, dtype: int64"
      ]
     },
     "execution_count": 141,
     "metadata": {},
     "output_type": "execute_result"
    }
   ],
   "source": [
    "df.groupby('full_name')['title'].value_counts()"
   ]
  },
  {
   "cell_type": "code",
   "execution_count": 133,
   "metadata": {},
   "outputs": [
    {
     "data": {
      "text/plain": [
       "title\n",
       "7 Letters                             [Boo Junfeng, Eric Khoo, Jack Neo, K. Rajagopa...\n",
       "Leviathan                             [Andrey Zvyagintsev, Lucien Castaing-Taylor, V...\n",
       "Madagascar 3: Europe's Most Wanted           [Eric Darnell, Tom McGrath, Conrad Vernon]\n",
       "Monsters, Inc.                              [Lee Unkrich, Pete Docter, David Silverman]\n",
       "Name: full_name, dtype: object"
      ]
     },
     "execution_count": 133,
     "metadata": {},
     "output_type": "execute_result"
    }
   ],
   "source": [
    "(df.groupby('title')\n",
    " .apply(lambda x: x['full_name'])\n",
    " .groupby(level=0)\n",
    " .filter(lambda x: len(x.unique()) > 2)\n",
    " .groupby(level=0)\n",
    " .apply(lambda x: x.unique()))"
   ]
  },
  {
   "cell_type": "code",
   "execution_count": null,
   "metadata": {
    "collapsed": true
   },
   "outputs": [],
   "source": []
  }
 ],
 "metadata": {
  "kernelspec": {
   "display_name": "Python 3",
   "language": "python",
   "name": "python3"
  },
  "language_info": {
   "codemirror_mode": {
    "name": "ipython",
    "version": 3
   },
   "file_extension": ".py",
   "mimetype": "text/x-python",
   "name": "python",
   "nbconvert_exporter": "python",
   "pygments_lexer": "ipython3",
   "version": "3.6.1"
  }
 },
 "nbformat": 4,
 "nbformat_minor": 2
}
