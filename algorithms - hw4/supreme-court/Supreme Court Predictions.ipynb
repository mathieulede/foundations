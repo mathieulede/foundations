{
 "cells": [
  {
   "cell_type": "markdown",
   "metadata": {},
   "source": [
    "# Predict who wrote the Supreme Court opinions that don't have authors.\n",
    "\n",
    "These are called [per curiam](https://en.wikipedia.org/wiki/Per_curiam_decision) decisions. Using the language in opinions that *do* have authors, we can probably predict who wrote them.\n",
    "\n",
    "You should **probably use the Classification Template we used in class**, it isn't like this has anything useful in it. You might also want to take a look at the template from class, especially the part about **custom features** - I hear sentence length is an important one!\n",
    "\n",
    "Also, the `ny-doctors` assignment is a little more of a walkthrough on the same topic. Might be helpful!"
   ]
  },
  {
   "cell_type": "code",
   "execution_count": 134,
   "metadata": {},
   "outputs": [
    {
     "data": {
      "text/html": [
       "<div>\n",
       "<style>\n",
       "    .dataframe thead tr:only-child th {\n",
       "        text-align: right;\n",
       "    }\n",
       "\n",
       "    .dataframe thead th {\n",
       "        text-align: left;\n",
       "    }\n",
       "\n",
       "    .dataframe tbody tr th {\n",
       "        vertical-align: top;\n",
       "    }\n",
       "</style>\n",
       "<table border=\"1\" class=\"dataframe\">\n",
       "  <thead>\n",
       "    <tr style=\"text-align: right;\">\n",
       "      <th></th>\n",
       "      <th>content</th>\n",
       "      <th>case</th>\n",
       "      <th>author</th>\n",
       "    </tr>\n",
       "  </thead>\n",
       "  <tbody>\n",
       "    <tr>\n",
       "      <th>0</th>\n",
       "      <td>NOTICE: This opinion is subject to f...</td>\n",
       "      <td>09-958</td>\n",
       "      <td>ROBERTS</td>\n",
       "    </tr>\n",
       "    <tr>\n",
       "      <th>1</th>\n",
       "      <td>NOTICE: This opinion is subject to f...</td>\n",
       "      <td>09-958</td>\n",
       "      <td>BREYER</td>\n",
       "    </tr>\n",
       "    <tr>\n",
       "      <th>2</th>\n",
       "      <td>No.\\n10–1001 LUIS MARIANO MARTINEZ, ...</td>\n",
       "      <td>10-1001</td>\n",
       "      <td>SCALIA</td>\n",
       "    </tr>\n",
       "    <tr>\n",
       "      <th>3</th>\n",
       "      <td>NOTICE: This opinion is subject to f...</td>\n",
       "      <td>10-1001</td>\n",
       "      <td>KENNEDY</td>\n",
       "    </tr>\n",
       "    <tr>\n",
       "      <th>4</th>\n",
       "      <td>No.\\n10–1016 DANIEL COLEMAN, PETITIO...</td>\n",
       "      <td>10-1016</td>\n",
       "      <td>GINSBURG</td>\n",
       "    </tr>\n",
       "  </tbody>\n",
       "</table>\n",
       "</div>"
      ],
      "text/plain": [
       "                                   content     case    author\n",
       "0  NOTICE: This opinion is subject to f...   09-958   ROBERTS\n",
       "1  NOTICE: This opinion is subject to f...   09-958    BREYER\n",
       "2  No.\\n10–1001 LUIS MARIANO MARTINEZ, ...  10-1001    SCALIA\n",
       "3  NOTICE: This opinion is subject to f...  10-1001   KENNEDY\n",
       "4  No.\\n10–1016 DANIEL COLEMAN, PETITIO...  10-1016  GINSBURG"
      ]
     },
     "execution_count": 134,
     "metadata": {},
     "output_type": "execute_result"
    }
   ],
   "source": [
    "import pandas as pd\n",
    "import math\n",
    "pd.set_option('max_colwidth', 40)\n",
    "df = pd.read_csv(\"supreme-court-opinions.csv\")\n",
    "df.head()"
   ]
  },
  {
   "cell_type": "markdown",
   "metadata": {},
   "source": [
    "### Creating a df with the know authors and another one with the unknown"
   ]
  },
  {
   "cell_type": "code",
   "execution_count": 135,
   "metadata": {
    "collapsed": true
   },
   "outputs": [],
   "source": [
    "known_df = df[~df['author'].isnull()].copy()\n",
    "unknown_df = df[df['author'].isnull()].copy()"
   ]
  },
  {
   "cell_type": "markdown",
   "metadata": {},
   "source": [
    "### Step 1. Labeling the known opinions / categorizing"
   ]
  },
  {
   "cell_type": "code",
   "execution_count": 136,
   "metadata": {},
   "outputs": [
    {
     "data": {
      "text/html": [
       "<div>\n",
       "<style>\n",
       "    .dataframe thead tr:only-child th {\n",
       "        text-align: right;\n",
       "    }\n",
       "\n",
       "    .dataframe thead th {\n",
       "        text-align: left;\n",
       "    }\n",
       "\n",
       "    .dataframe tbody tr th {\n",
       "        vertical-align: top;\n",
       "    }\n",
       "</style>\n",
       "<table border=\"1\" class=\"dataframe\">\n",
       "  <thead>\n",
       "    <tr style=\"text-align: right;\">\n",
       "      <th></th>\n",
       "      <th>content</th>\n",
       "      <th>case</th>\n",
       "      <th>author</th>\n",
       "      <th>label</th>\n",
       "    </tr>\n",
       "  </thead>\n",
       "  <tbody>\n",
       "    <tr>\n",
       "      <th>0</th>\n",
       "      <td>NOTICE: This opinion is subject to f...</td>\n",
       "      <td>09-958</td>\n",
       "      <td>ROBERTS</td>\n",
       "      <td>6</td>\n",
       "    </tr>\n",
       "    <tr>\n",
       "      <th>1</th>\n",
       "      <td>NOTICE: This opinion is subject to f...</td>\n",
       "      <td>09-958</td>\n",
       "      <td>BREYER</td>\n",
       "      <td>1</td>\n",
       "    </tr>\n",
       "    <tr>\n",
       "      <th>2</th>\n",
       "      <td>No.\\n10–1001 LUIS MARIANO MARTINEZ, ...</td>\n",
       "      <td>10-1001</td>\n",
       "      <td>SCALIA</td>\n",
       "      <td>7</td>\n",
       "    </tr>\n",
       "    <tr>\n",
       "      <th>3</th>\n",
       "      <td>NOTICE: This opinion is subject to f...</td>\n",
       "      <td>10-1001</td>\n",
       "      <td>KENNEDY</td>\n",
       "      <td>5</td>\n",
       "    </tr>\n",
       "    <tr>\n",
       "      <th>4</th>\n",
       "      <td>No.\\n10–1016 DANIEL COLEMAN, PETITIO...</td>\n",
       "      <td>10-1016</td>\n",
       "      <td>GINSBURG</td>\n",
       "      <td>2</td>\n",
       "    </tr>\n",
       "  </tbody>\n",
       "</table>\n",
       "</div>"
      ],
      "text/plain": [
       "                                   content     case    author  label\n",
       "0  NOTICE: This opinion is subject to f...   09-958   ROBERTS      6\n",
       "1  NOTICE: This opinion is subject to f...   09-958    BREYER      1\n",
       "2  No.\\n10–1001 LUIS MARIANO MARTINEZ, ...  10-1001    SCALIA      7\n",
       "3  NOTICE: This opinion is subject to f...  10-1001   KENNEDY      5\n",
       "4  No.\\n10–1016 DANIEL COLEMAN, PETITIO...  10-1016  GINSBURG      2"
      ]
     },
     "execution_count": 136,
     "metadata": {},
     "output_type": "execute_result"
    }
   ],
   "source": [
    "from sklearn.preprocessing import LabelEncoder\n",
    "\n",
    "le = LabelEncoder()\n",
    "known_df['label'] = le.fit_transform(known_df['author'])\n",
    "known_df.head()"
   ]
  },
  {
   "cell_type": "markdown",
   "metadata": {},
   "source": [
    "### Step 2.1 Vectorize the contents"
   ]
  },
  {
   "cell_type": "code",
   "execution_count": 137,
   "metadata": {},
   "outputs": [
    {
     "data": {
      "text/html": [
       "<div>\n",
       "<style>\n",
       "    .dataframe thead tr:only-child th {\n",
       "        text-align: right;\n",
       "    }\n",
       "\n",
       "    .dataframe thead th {\n",
       "        text-align: left;\n",
       "    }\n",
       "\n",
       "    .dataframe tbody tr th {\n",
       "        vertical-align: top;\n",
       "    }\n",
       "</style>\n",
       "<table border=\"1\" class=\"dataframe\">\n",
       "  <thead>\n",
       "    <tr style=\"text-align: right;\">\n",
       "      <th></th>\n",
       "      <th>ability or inability</th>\n",
       "      <th>ability or inability to</th>\n",
       "      <th>ability to elect</th>\n",
       "      <th>about how to</th>\n",
       "      <th>about the meaning</th>\n",
       "      <th>about the meaning of</th>\n",
       "      <th>about the scope</th>\n",
       "      <th>about the scope of</th>\n",
       "      <th>about whether the</th>\n",
       "      <th>absence of any</th>\n",
       "      <th>...</th>\n",
       "      <th>year mandatory minimum</th>\n",
       "      <th>year statute of</th>\n",
       "      <th>year statute of limitations</th>\n",
       "      <th>years after the</th>\n",
       "      <th>years ago in</th>\n",
       "      <th>years of the</th>\n",
       "      <th>yet the court</th>\n",
       "      <th>yet the majority</th>\n",
       "      <th>yulee florida bar</th>\n",
       "      <th>zone of interests</th>\n",
       "    </tr>\n",
       "  </thead>\n",
       "  <tbody>\n",
       "    <tr>\n",
       "      <th>0</th>\n",
       "      <td>0</td>\n",
       "      <td>0</td>\n",
       "      <td>0</td>\n",
       "      <td>0</td>\n",
       "      <td>0</td>\n",
       "      <td>0</td>\n",
       "      <td>0</td>\n",
       "      <td>0</td>\n",
       "      <td>0</td>\n",
       "      <td>0</td>\n",
       "      <td>...</td>\n",
       "      <td>0</td>\n",
       "      <td>0</td>\n",
       "      <td>0</td>\n",
       "      <td>0</td>\n",
       "      <td>0</td>\n",
       "      <td>0</td>\n",
       "      <td>0</td>\n",
       "      <td>0</td>\n",
       "      <td>0</td>\n",
       "      <td>0</td>\n",
       "    </tr>\n",
       "    <tr>\n",
       "      <th>1</th>\n",
       "      <td>0</td>\n",
       "      <td>0</td>\n",
       "      <td>0</td>\n",
       "      <td>0</td>\n",
       "      <td>0</td>\n",
       "      <td>0</td>\n",
       "      <td>0</td>\n",
       "      <td>0</td>\n",
       "      <td>0</td>\n",
       "      <td>0</td>\n",
       "      <td>...</td>\n",
       "      <td>0</td>\n",
       "      <td>0</td>\n",
       "      <td>0</td>\n",
       "      <td>0</td>\n",
       "      <td>0</td>\n",
       "      <td>0</td>\n",
       "      <td>0</td>\n",
       "      <td>0</td>\n",
       "      <td>0</td>\n",
       "      <td>0</td>\n",
       "    </tr>\n",
       "    <tr>\n",
       "      <th>2</th>\n",
       "      <td>0</td>\n",
       "      <td>0</td>\n",
       "      <td>0</td>\n",
       "      <td>0</td>\n",
       "      <td>0</td>\n",
       "      <td>0</td>\n",
       "      <td>0</td>\n",
       "      <td>0</td>\n",
       "      <td>0</td>\n",
       "      <td>0</td>\n",
       "      <td>...</td>\n",
       "      <td>0</td>\n",
       "      <td>0</td>\n",
       "      <td>0</td>\n",
       "      <td>0</td>\n",
       "      <td>0</td>\n",
       "      <td>0</td>\n",
       "      <td>0</td>\n",
       "      <td>0</td>\n",
       "      <td>0</td>\n",
       "      <td>0</td>\n",
       "    </tr>\n",
       "    <tr>\n",
       "      <th>3</th>\n",
       "      <td>0</td>\n",
       "      <td>0</td>\n",
       "      <td>0</td>\n",
       "      <td>0</td>\n",
       "      <td>0</td>\n",
       "      <td>0</td>\n",
       "      <td>0</td>\n",
       "      <td>0</td>\n",
       "      <td>0</td>\n",
       "      <td>0</td>\n",
       "      <td>...</td>\n",
       "      <td>0</td>\n",
       "      <td>0</td>\n",
       "      <td>0</td>\n",
       "      <td>0</td>\n",
       "      <td>0</td>\n",
       "      <td>0</td>\n",
       "      <td>0</td>\n",
       "      <td>0</td>\n",
       "      <td>0</td>\n",
       "      <td>0</td>\n",
       "    </tr>\n",
       "    <tr>\n",
       "      <th>4</th>\n",
       "      <td>0</td>\n",
       "      <td>0</td>\n",
       "      <td>0</td>\n",
       "      <td>0</td>\n",
       "      <td>0</td>\n",
       "      <td>0</td>\n",
       "      <td>0</td>\n",
       "      <td>0</td>\n",
       "      <td>0</td>\n",
       "      <td>0</td>\n",
       "      <td>...</td>\n",
       "      <td>0</td>\n",
       "      <td>0</td>\n",
       "      <td>0</td>\n",
       "      <td>0</td>\n",
       "      <td>0</td>\n",
       "      <td>0</td>\n",
       "      <td>0</td>\n",
       "      <td>0</td>\n",
       "      <td>0</td>\n",
       "      <td>0</td>\n",
       "    </tr>\n",
       "  </tbody>\n",
       "</table>\n",
       "<p>5 rows × 8000 columns</p>\n",
       "</div>"
      ],
      "text/plain": [
       "   ability or inability  ability or inability to  ability to elect  \\\n",
       "0                     0                        0                 0   \n",
       "1                     0                        0                 0   \n",
       "2                     0                        0                 0   \n",
       "3                     0                        0                 0   \n",
       "4                     0                        0                 0   \n",
       "\n",
       "   about how to  about the meaning  about the meaning of  about the scope  \\\n",
       "0             0                  0                     0                0   \n",
       "1             0                  0                     0                0   \n",
       "2             0                  0                     0                0   \n",
       "3             0                  0                     0                0   \n",
       "4             0                  0                     0                0   \n",
       "\n",
       "   about the scope of  about whether the  absence of any        ...          \\\n",
       "0                   0                  0               0        ...           \n",
       "1                   0                  0               0        ...           \n",
       "2                   0                  0               0        ...           \n",
       "3                   0                  0               0        ...           \n",
       "4                   0                  0               0        ...           \n",
       "\n",
       "   year mandatory minimum  year statute of  year statute of limitations  \\\n",
       "0                       0                0                            0   \n",
       "1                       0                0                            0   \n",
       "2                       0                0                            0   \n",
       "3                       0                0                            0   \n",
       "4                       0                0                            0   \n",
       "\n",
       "   years after the  years ago in  years of the  yet the court  \\\n",
       "0                0             0             0              0   \n",
       "1                0             0             0              0   \n",
       "2                0             0             0              0   \n",
       "3                0             0             0              0   \n",
       "4                0             0             0              0   \n",
       "\n",
       "   yet the majority  yulee florida bar  zone of interests  \n",
       "0                 0                  0                  0  \n",
       "1                 0                  0                  0  \n",
       "2                 0                  0                  0  \n",
       "3                 0                  0                  0  \n",
       "4                 0                  0                  0  \n",
       "\n",
       "[5 rows x 8000 columns]"
      ]
     },
     "execution_count": 137,
     "metadata": {},
     "output_type": "execute_result"
    }
   ],
   "source": [
    "from sklearn.feature_extraction.text import CountVectorizer\n",
    "\n",
    "# Keep the stop words as we analyse writing styles\n",
    "vec = CountVectorizer(\n",
    "    ngram_range=(3,4),\n",
    "    max_features=8000\n",
    ")\n",
    "\n",
    "matrix = vec.fit_transform(known_df.content.str.replace('[\\d_ܩݐ]', ''))\n",
    "features_df = pd.DataFrame(matrix.toarray(), columns=vec.get_feature_names())\n",
    "features_df.head()"
   ]
  },
  {
   "cell_type": "markdown",
   "metadata": {},
   "source": [
    "### Step 3. Train a model using the contents"
   ]
  },
  {
   "cell_type": "code",
   "execution_count": 138,
   "metadata": {},
   "outputs": [],
   "source": [
    "from sklearn.tree import DecisionTreeClassifier\n",
    "\n",
    "# Seems to be the best option here\n",
    "clf = DecisionTreeClassifier()\n",
    "\n",
    "from sklearn.model_selection import train_test_split\n",
    "\n",
    "X_train, X_test, y_train, y_test = train_test_split(\n",
    "    features_df.values,\n",
    "    known_df.label,\n",
    "    test_size=0.2)"
   ]
  },
  {
   "cell_type": "markdown",
   "metadata": {},
   "source": [
    "### Step 4: Test the classifier"
   ]
  },
  {
   "cell_type": "code",
   "execution_count": 139,
   "metadata": {},
   "outputs": [
    {
     "data": {
      "text/plain": [
       "0.94999999999999996"
      ]
     },
     "execution_count": 139,
     "metadata": {},
     "output_type": "execute_result"
    }
   ],
   "source": [
    "clf.fit(X_train, y_train)\n",
    "clf.score(X_test, y_test)"
   ]
  },
  {
   "cell_type": "code",
   "execution_count": 140,
   "metadata": {},
   "outputs": [
    {
     "data": {
      "text/plain": [
       "1.0"
      ]
     },
     "execution_count": 140,
     "metadata": {},
     "output_type": "execute_result"
    }
   ],
   "source": [
    "clf.score(X_train, y_train)"
   ]
  },
  {
   "cell_type": "markdown",
   "metadata": {},
   "source": [
    "### Step 5: Vectorize the unclassified contents and make a prediction"
   ]
  },
  {
   "cell_type": "code",
   "execution_count": 143,
   "metadata": {},
   "outputs": [
    {
     "data": {
      "text/plain": [
       "array([2, 8, 5, 5, 5, 1, 5, 5, 5, 5, 2, 1, 2, 8, 5, 8, 8, 2, 8, 2, 5, 5, 8,\n",
       "       2, 5, 1, 5, 5, 5, 5, 5, 0, 8, 5, 5, 5, 5, 0, 0, 7, 2, 5, 5, 2, 5, 5,\n",
       "       5, 0, 5, 5, 5, 5, 5, 5, 5, 5, 5, 2, 5, 8, 2, 8, 9, 9, 8, 5, 2, 9, 5,\n",
       "       8, 2, 5])"
      ]
     },
     "execution_count": 143,
     "metadata": {},
     "output_type": "execute_result"
    }
   ],
   "source": [
    "matrix = vec.transform(unknown_df.content)\n",
    "clf.predict(matrix)"
   ]
  },
  {
   "cell_type": "markdown",
   "metadata": {},
   "source": [
    "### Step 6: Update the dataframe"
   ]
  },
  {
   "cell_type": "code",
   "execution_count": 144,
   "metadata": {},
   "outputs": [
    {
     "data": {
      "text/html": [
       "<div>\n",
       "<style>\n",
       "    .dataframe thead tr:only-child th {\n",
       "        text-align: right;\n",
       "    }\n",
       "\n",
       "    .dataframe thead th {\n",
       "        text-align: left;\n",
       "    }\n",
       "\n",
       "    .dataframe tbody tr th {\n",
       "        vertical-align: top;\n",
       "    }\n",
       "</style>\n",
       "<table border=\"1\" class=\"dataframe\">\n",
       "  <thead>\n",
       "    <tr style=\"text-align: right;\">\n",
       "      <th></th>\n",
       "      <th>content</th>\n",
       "      <th>case</th>\n",
       "      <th>author</th>\n",
       "    </tr>\n",
       "  </thead>\n",
       "  <tbody>\n",
       "    <tr>\n",
       "      <th>20</th>\n",
       "      <td>JAVIER CAVAZOS, ACTING WARDEN v. SHI...</td>\n",
       "      <td>10-1115</td>\n",
       "      <td>GINSBURG</td>\n",
       "    </tr>\n",
       "    <tr>\n",
       "      <th>43</th>\n",
       "      <td>KPMG LLP v. ROBERT COCCHI ET AL.\\nAg...</td>\n",
       "      <td>10-1521</td>\n",
       "      <td>SOTOMAYOR</td>\n",
       "    </tr>\n",
       "    <tr>\n",
       "      <th>44</th>\n",
       "      <td>DAVID BOBBY, WARDEN v. ARCHIE DIXON ...</td>\n",
       "      <td>10-1540</td>\n",
       "      <td>KENNEDY</td>\n",
       "    </tr>\n",
       "    <tr>\n",
       "      <th>79</th>\n",
       "      <td>Slip Opinion NOTICE: This opinion is...</td>\n",
       "      <td>10-7081b2d</td>\n",
       "      <td>KENNEDY</td>\n",
       "    </tr>\n",
       "    <tr>\n",
       "      <th>122</th>\n",
       "      <td>v. LORENZO JOHNSON Respondent Lorenz...</td>\n",
       "      <td>11-1053</td>\n",
       "      <td>KENNEDY</td>\n",
       "    </tr>\n",
       "  </tbody>\n",
       "</table>\n",
       "</div>"
      ],
      "text/plain": [
       "                                     content        case     author\n",
       "20   JAVIER CAVAZOS, ACTING WARDEN v. SHI...     10-1115   GINSBURG\n",
       "43   KPMG LLP v. ROBERT COCCHI ET AL.\\nAg...     10-1521  SOTOMAYOR\n",
       "44   DAVID BOBBY, WARDEN v. ARCHIE DIXON ...     10-1540    KENNEDY\n",
       "79   Slip Opinion NOTICE: This opinion is...  10-7081b2d    KENNEDY\n",
       "122  v. LORENZO JOHNSON Respondent Lorenz...     11-1053    KENNEDY"
      ]
     },
     "execution_count": 144,
     "metadata": {},
     "output_type": "execute_result"
    }
   ],
   "source": [
    "unknown_df['author'] = le.inverse_transform(clf.predict(matrix))\n",
    "unknown_df.head()"
   ]
  },
  {
   "cell_type": "code",
   "execution_count": null,
   "metadata": {
    "collapsed": true
   },
   "outputs": [],
   "source": []
  }
 ],
 "metadata": {
  "kernelspec": {
   "display_name": "Python 3",
   "language": "python",
   "name": "python3"
  },
  "language_info": {
   "codemirror_mode": {
    "name": "ipython",
    "version": 3
   },
   "file_extension": ".py",
   "mimetype": "text/x-python",
   "name": "python",
   "nbconvert_exporter": "python",
   "pygments_lexer": "ipython3",
   "version": "3.6.1"
  }
 },
 "nbformat": 4,
 "nbformat_minor": 2
}
