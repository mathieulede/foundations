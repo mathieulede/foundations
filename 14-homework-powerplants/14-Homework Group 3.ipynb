{
 "cells": [
  {
   "cell_type": "code",
   "execution_count": 1,
   "metadata": {
    "collapsed": true
   },
   "outputs": [],
   "source": [
    "import pandas as pd\n",
    "import geopandas as gpd\n",
    "from shapely.geometry import Point\n",
    "from shapely.geometry import Polygon\n",
    "%matplotlib inline"
   ]
  },
  {
   "cell_type": "code",
   "execution_count": 5,
   "metadata": {
    "collapsed": true
   },
   "outputs": [],
   "source": [
    "continental_us_bounds = Polygon([\n",
    "    [\n",
    "      -126.474609375,\n",
    "      24.046463999666567\n",
    "    ],\n",
    "    [\n",
    "      -64.775390625,\n",
    "      24.046463999666567\n",
    "    ],\n",
    "    [\n",
    "      -64.775390625,\n",
    "      50.45750402042058\n",
    "    ],\n",
    "    [\n",
    "      -126.474609375,\n",
    "      50.45750402042058\n",
    "    ],\n",
    "    [\n",
    "      -126.474609375,\n",
    "      24.046463999666567\n",
    "    ]\n",
    "])"
   ]
  },
  {
   "cell_type": "code",
   "execution_count": 6,
   "metadata": {
    "collapsed": true
   },
   "outputs": [],
   "source": [
    "powerplants = pd.read_csv('powerplants.csv')\n",
    "points = powerplants.apply(lambda x: Point(x.Longitude, x.Latitude), axis=1)\n",
    "powerplants = gpd.GeoDataFrame(powerplants, geometry=points)\n",
    "powerplants.crs = {'init': 'epsg:4326'}\n",
    "powerplants = powerplants[powerplants.within(continental_us_bounds)].to_crs(epsg=5070)"
   ]
  },
  {
   "cell_type": "code",
   "execution_count": 141,
   "metadata": {
    "collapsed": true
   },
   "outputs": [],
   "source": [
    "stations = pd.read_csv('pm25_annual_fixed.csv')\n",
    "points = stations.apply(lambda x: Point(x.Longitude, x.Latitude), axis=1)\n",
    "stations = gpd.GeoDataFrame(stations, geometry=points)\n",
    "stations.crs = {'init': 'epsg:4326'}\n",
    "stations = stations[stations.within(continental_us_bounds)].to_crs(epsg=5070)"
   ]
  },
  {
   "cell_type": "code",
   "execution_count": 7,
   "metadata": {
    "collapsed": true
   },
   "outputs": [],
   "source": [
    "states = gpd.read_file('cb_2016_us_state_500k/cb_2016_us_state_500k.shp')\n",
    "states = states[states.within(continental_us_bounds)].to_crs(epsg=5070)"
   ]
  },
  {
   "cell_type": "code",
   "execution_count": 19,
   "metadata": {
    "collapsed": true
   },
   "outputs": [],
   "source": [
    "nyc_districts = gpd.read_file('Community Districts/districts.shp')\n",
    "nyc_districts = nyc_districts.to_crs(epsg=5070)"
   ]
  },
  {
   "cell_type": "markdown",
   "metadata": {},
   "source": [
    "# 1. Do states with coal power plants have dirtier air?"
   ]
  },
  {
   "cell_type": "code",
   "execution_count": 195,
   "metadata": {},
   "outputs": [],
   "source": [
    "states_coal = gpd.sjoin(\n",
    "    states.reset_index(), \n",
    "    powerplants[powerplants['PrimSource'] == 'coal'], \n",
    "    op='intersects', \n",
    "    how='inner')\n",
    "\n",
    "states['coal_powerplants'] = states_coal['index'].value_counts()"
   ]
  },
  {
   "cell_type": "code",
   "execution_count": 196,
   "metadata": {},
   "outputs": [],
   "source": [
    "states_stations = gpd.sjoin(\n",
    "    states.reset_index(),\n",
    "    stations,\n",
    "    op='intersects',\n",
    "    how='inner')\n",
    "\n",
    "states['pm25_average'] = states_stations.groupby('index')['Arithmetic Mean'].mean()"
   ]
  },
  {
   "cell_type": "code",
   "execution_count": 201,
   "metadata": {},
   "outputs": [
    {
     "data": {
      "text/html": [
       "<div>\n",
       "<style>\n",
       "    .dataframe thead tr:only-child th {\n",
       "        text-align: right;\n",
       "    }\n",
       "\n",
       "    .dataframe thead th {\n",
       "        text-align: left;\n",
       "    }\n",
       "\n",
       "    .dataframe tbody tr th {\n",
       "        vertical-align: top;\n",
       "    }\n",
       "</style>\n",
       "<table border=\"1\" class=\"dataframe\">\n",
       "  <thead>\n",
       "    <tr style=\"text-align: right;\">\n",
       "      <th></th>\n",
       "      <th>NAME</th>\n",
       "      <th>coal_powerplants</th>\n",
       "      <th>pm25_average</th>\n",
       "    </tr>\n",
       "  </thead>\n",
       "  <tbody>\n",
       "    <tr>\n",
       "      <th>11</th>\n",
       "      <td>Idaho</td>\n",
       "      <td>2.0</td>\n",
       "      <td>4.524000</td>\n",
       "    </tr>\n",
       "    <tr>\n",
       "      <th>31</th>\n",
       "      <td>Wyoming</td>\n",
       "      <td>12.0</td>\n",
       "      <td>4.886757</td>\n",
       "    </tr>\n",
       "    <tr>\n",
       "      <th>20</th>\n",
       "      <td>Nevada</td>\n",
       "      <td>3.0</td>\n",
       "      <td>5.594904</td>\n",
       "    </tr>\n",
       "    <tr>\n",
       "      <th>5</th>\n",
       "      <td>Colorado</td>\n",
       "      <td>10.0</td>\n",
       "      <td>5.868046</td>\n",
       "    </tr>\n",
       "    <tr>\n",
       "      <th>50</th>\n",
       "      <td>Virginia</td>\n",
       "      <td>10.0</td>\n",
       "      <td>6.125842</td>\n",
       "    </tr>\n",
       "    <tr>\n",
       "      <th>23</th>\n",
       "      <td>North Dakota</td>\n",
       "      <td>10.0</td>\n",
       "      <td>6.180000</td>\n",
       "    </tr>\n",
       "    <tr>\n",
       "      <th>47</th>\n",
       "      <td>Rhode Island</td>\n",
       "      <td>NaN</td>\n",
       "      <td>6.331694</td>\n",
       "    </tr>\n",
       "    <tr>\n",
       "      <th>22</th>\n",
       "      <td>New Mexico</td>\n",
       "      <td>3.0</td>\n",
       "      <td>6.390000</td>\n",
       "    </tr>\n",
       "    <tr>\n",
       "      <th>35</th>\n",
       "      <td>Kentucky</td>\n",
       "      <td>14.0</td>\n",
       "      <td>6.542209</td>\n",
       "    </tr>\n",
       "    <tr>\n",
       "      <th>7</th>\n",
       "      <td>Delaware</td>\n",
       "      <td>1.0</td>\n",
       "      <td>6.879896</td>\n",
       "    </tr>\n",
       "    <tr>\n",
       "      <th>16</th>\n",
       "      <td>Maryland</td>\n",
       "      <td>7.0</td>\n",
       "      <td>6.936176</td>\n",
       "    </tr>\n",
       "    <tr>\n",
       "      <th>41</th>\n",
       "      <td>Nebraska</td>\n",
       "      <td>10.0</td>\n",
       "      <td>6.948247</td>\n",
       "    </tr>\n",
       "    <tr>\n",
       "      <th>37</th>\n",
       "      <td>Maine</td>\n",
       "      <td>NaN</td>\n",
       "      <td>7.061812</td>\n",
       "    </tr>\n",
       "    <tr>\n",
       "      <th>2</th>\n",
       "      <td>Arizona</td>\n",
       "      <td>5.0</td>\n",
       "      <td>7.126441</td>\n",
       "    </tr>\n",
       "    <tr>\n",
       "      <th>48</th>\n",
       "      <td>Tennessee</td>\n",
       "      <td>6.0</td>\n",
       "      <td>7.158605</td>\n",
       "    </tr>\n",
       "    <tr>\n",
       "      <th>43</th>\n",
       "      <td>New York</td>\n",
       "      <td>5.0</td>\n",
       "      <td>7.159793</td>\n",
       "    </tr>\n",
       "    <tr>\n",
       "      <th>26</th>\n",
       "      <td>South Carolina</td>\n",
       "      <td>8.0</td>\n",
       "      <td>7.165580</td>\n",
       "    </tr>\n",
       "    <tr>\n",
       "      <th>3</th>\n",
       "      <td>Arkansas</td>\n",
       "      <td>5.0</td>\n",
       "      <td>7.344940</td>\n",
       "    </tr>\n",
       "    <tr>\n",
       "      <th>15</th>\n",
       "      <td>Kansas</td>\n",
       "      <td>6.0</td>\n",
       "      <td>7.531491</td>\n",
       "    </tr>\n",
       "    <tr>\n",
       "      <th>14</th>\n",
       "      <td>Iowa</td>\n",
       "      <td>18.0</td>\n",
       "      <td>7.761547</td>\n",
       "    </tr>\n",
       "    <tr>\n",
       "      <th>44</th>\n",
       "      <td>North Carolina</td>\n",
       "      <td>13.0</td>\n",
       "      <td>7.767338</td>\n",
       "    </tr>\n",
       "    <tr>\n",
       "      <th>24</th>\n",
       "      <td>Oklahoma</td>\n",
       "      <td>6.0</td>\n",
       "      <td>8.236667</td>\n",
       "    </tr>\n",
       "    <tr>\n",
       "      <th>28</th>\n",
       "      <td>Utah</td>\n",
       "      <td>6.0</td>\n",
       "      <td>8.392195</td>\n",
       "    </tr>\n",
       "    <tr>\n",
       "      <th>45</th>\n",
       "      <td>Ohio</td>\n",
       "      <td>16.0</td>\n",
       "      <td>8.475374</td>\n",
       "    </tr>\n",
       "    <tr>\n",
       "      <th>8</th>\n",
       "      <td>District of Columbia</td>\n",
       "      <td>NaN</td>\n",
       "      <td>8.555833</td>\n",
       "    </tr>\n",
       "    <tr>\n",
       "      <th>30</th>\n",
       "      <td>West Virginia</td>\n",
       "      <td>11.0</td>\n",
       "      <td>8.575095</td>\n",
       "    </tr>\n",
       "    <tr>\n",
       "      <th>0</th>\n",
       "      <td>Alabama</td>\n",
       "      <td>6.0</td>\n",
       "      <td>8.600705</td>\n",
       "    </tr>\n",
       "    <tr>\n",
       "      <th>13</th>\n",
       "      <td>Indiana</td>\n",
       "      <td>20.0</td>\n",
       "      <td>8.702382</td>\n",
       "    </tr>\n",
       "    <tr>\n",
       "      <th>52</th>\n",
       "      <td>Wisconsin</td>\n",
       "      <td>12.0</td>\n",
       "      <td>8.791841</td>\n",
       "    </tr>\n",
       "    <tr>\n",
       "      <th>12</th>\n",
       "      <td>Illinois</td>\n",
       "      <td>22.0</td>\n",
       "      <td>8.940669</td>\n",
       "    </tr>\n",
       "    <tr>\n",
       "      <th>9</th>\n",
       "      <td>Georgia</td>\n",
       "      <td>6.0</td>\n",
       "      <td>9.022554</td>\n",
       "    </tr>\n",
       "    <tr>\n",
       "      <th>4</th>\n",
       "      <td>California</td>\n",
       "      <td>2.0</td>\n",
       "      <td>9.353585</td>\n",
       "    </tr>\n",
       "    <tr>\n",
       "      <th>39</th>\n",
       "      <td>Michigan</td>\n",
       "      <td>16.0</td>\n",
       "      <td>9.355104</td>\n",
       "    </tr>\n",
       "    <tr>\n",
       "      <th>25</th>\n",
       "      <td>Pennsylvania</td>\n",
       "      <td>24.0</td>\n",
       "      <td>10.068889</td>\n",
       "    </tr>\n",
       "    <tr>\n",
       "      <th>51</th>\n",
       "      <td>Washington</td>\n",
       "      <td>1.0</td>\n",
       "      <td>10.566082</td>\n",
       "    </tr>\n",
       "    <tr>\n",
       "      <th>40</th>\n",
       "      <td>Missouri</td>\n",
       "      <td>16.0</td>\n",
       "      <td>10.586364</td>\n",
       "    </tr>\n",
       "    <tr>\n",
       "      <th>6</th>\n",
       "      <td>Connecticut</td>\n",
       "      <td>1.0</td>\n",
       "      <td>NaN</td>\n",
       "    </tr>\n",
       "    <tr>\n",
       "      <th>27</th>\n",
       "      <td>South Dakota</td>\n",
       "      <td>1.0</td>\n",
       "      <td>NaN</td>\n",
       "    </tr>\n",
       "    <tr>\n",
       "      <th>38</th>\n",
       "      <td>Massachusetts</td>\n",
       "      <td>1.0</td>\n",
       "      <td>NaN</td>\n",
       "    </tr>\n",
       "    <tr>\n",
       "      <th>46</th>\n",
       "      <td>Oregon</td>\n",
       "      <td>1.0</td>\n",
       "      <td>NaN</td>\n",
       "    </tr>\n",
       "    <tr>\n",
       "      <th>36</th>\n",
       "      <td>Louisiana</td>\n",
       "      <td>2.0</td>\n",
       "      <td>NaN</td>\n",
       "    </tr>\n",
       "    <tr>\n",
       "      <th>42</th>\n",
       "      <td>New Hampshire</td>\n",
       "      <td>2.0</td>\n",
       "      <td>NaN</td>\n",
       "    </tr>\n",
       "    <tr>\n",
       "      <th>18</th>\n",
       "      <td>Mississippi</td>\n",
       "      <td>3.0</td>\n",
       "      <td>NaN</td>\n",
       "    </tr>\n",
       "    <tr>\n",
       "      <th>21</th>\n",
       "      <td>New Jersey</td>\n",
       "      <td>4.0</td>\n",
       "      <td>NaN</td>\n",
       "    </tr>\n",
       "    <tr>\n",
       "      <th>19</th>\n",
       "      <td>Montana</td>\n",
       "      <td>5.0</td>\n",
       "      <td>NaN</td>\n",
       "    </tr>\n",
       "    <tr>\n",
       "      <th>34</th>\n",
       "      <td>Florida</td>\n",
       "      <td>10.0</td>\n",
       "      <td>NaN</td>\n",
       "    </tr>\n",
       "    <tr>\n",
       "      <th>17</th>\n",
       "      <td>Minnesota</td>\n",
       "      <td>12.0</td>\n",
       "      <td>NaN</td>\n",
       "    </tr>\n",
       "    <tr>\n",
       "      <th>49</th>\n",
       "      <td>Texas</td>\n",
       "      <td>21.0</td>\n",
       "      <td>NaN</td>\n",
       "    </tr>\n",
       "    <tr>\n",
       "      <th>29</th>\n",
       "      <td>Vermont</td>\n",
       "      <td>NaN</td>\n",
       "      <td>NaN</td>\n",
       "    </tr>\n",
       "  </tbody>\n",
       "</table>\n",
       "</div>"
      ],
      "text/plain": [
       "                    NAME  coal_powerplants  pm25_average\n",
       "11                 Idaho               2.0      4.524000\n",
       "31               Wyoming              12.0      4.886757\n",
       "20                Nevada               3.0      5.594904\n",
       "5               Colorado              10.0      5.868046\n",
       "50              Virginia              10.0      6.125842\n",
       "23          North Dakota              10.0      6.180000\n",
       "47          Rhode Island               NaN      6.331694\n",
       "22            New Mexico               3.0      6.390000\n",
       "35              Kentucky              14.0      6.542209\n",
       "7               Delaware               1.0      6.879896\n",
       "16              Maryland               7.0      6.936176\n",
       "41              Nebraska              10.0      6.948247\n",
       "37                 Maine               NaN      7.061812\n",
       "2                Arizona               5.0      7.126441\n",
       "48             Tennessee               6.0      7.158605\n",
       "43              New York               5.0      7.159793\n",
       "26        South Carolina               8.0      7.165580\n",
       "3               Arkansas               5.0      7.344940\n",
       "15                Kansas               6.0      7.531491\n",
       "14                  Iowa              18.0      7.761547\n",
       "44        North Carolina              13.0      7.767338\n",
       "24              Oklahoma               6.0      8.236667\n",
       "28                  Utah               6.0      8.392195\n",
       "45                  Ohio              16.0      8.475374\n",
       "8   District of Columbia               NaN      8.555833\n",
       "30         West Virginia              11.0      8.575095\n",
       "0                Alabama               6.0      8.600705\n",
       "13               Indiana              20.0      8.702382\n",
       "52             Wisconsin              12.0      8.791841\n",
       "12              Illinois              22.0      8.940669\n",
       "9                Georgia               6.0      9.022554\n",
       "4             California               2.0      9.353585\n",
       "39              Michigan              16.0      9.355104\n",
       "25          Pennsylvania              24.0     10.068889\n",
       "51            Washington               1.0     10.566082\n",
       "40              Missouri              16.0     10.586364\n",
       "6            Connecticut               1.0           NaN\n",
       "27          South Dakota               1.0           NaN\n",
       "38         Massachusetts               1.0           NaN\n",
       "46                Oregon               1.0           NaN\n",
       "36             Louisiana               2.0           NaN\n",
       "42         New Hampshire               2.0           NaN\n",
       "18           Mississippi               3.0           NaN\n",
       "21            New Jersey               4.0           NaN\n",
       "19               Montana               5.0           NaN\n",
       "34               Florida              10.0           NaN\n",
       "17             Minnesota              12.0           NaN\n",
       "49                 Texas              21.0           NaN\n",
       "29               Vermont               NaN           NaN"
      ]
     },
     "execution_count": 201,
     "metadata": {},
     "output_type": "execute_result"
    }
   ],
   "source": [
    "states[['NAME', 'coal_powerplants', 'pm25_average']].sort_values(['pm25_average', 'coal_powerplants'])"
   ]
  },
  {
   "cell_type": "code",
   "execution_count": 213,
   "metadata": {},
   "outputs": [
    {
     "data": {
      "text/plain": [
       "True"
      ]
     },
     "execution_count": 213,
     "metadata": {},
     "output_type": "execute_result"
    }
   ],
   "source": [
    "states.sort_values('coal_powerplants', ascending=False).head(10)['pm25_average'].mean() > stations['Arithmetic Mean'].mean()"
   ]
  },
  {
   "cell_type": "code",
   "execution_count": 214,
   "metadata": {
    "collapsed": true
   },
   "outputs": [],
   "source": [
    "# Not necessarly but, on average, yes"
   ]
  },
  {
   "cell_type": "markdown",
   "metadata": {},
   "source": [
    "# 2. Which power plants are within 75 miles of New York City?"
   ]
  },
  {
   "cell_type": "code",
   "execution_count": 21,
   "metadata": {
    "collapsed": true
   },
   "outputs": [],
   "source": [
    "states = states.to_crs({'proj':'merc'})\n",
    "powerplants = powerplants.to_crs(states.crs)\n",
    "nyc_districts = nyc_districts.to_crs(states.crs)"
   ]
  },
  {
   "cell_type": "code",
   "execution_count": 86,
   "metadata": {
    "collapsed": true
   },
   "outputs": [],
   "source": [
    "# 75 miles = 120701 meters\n",
    "powerplants_nyc = powerplants[powerplants.buffer(120701).intersects(nyc_districts.unary_union)]"
   ]
  },
  {
   "cell_type": "code",
   "execution_count": 140,
   "metadata": {},
   "outputs": [
    {
     "data": {
      "text/plain": [
       "(-8531075.2682236601,\n",
       " -7950710.5387626458,\n",
       " 4665357.6988135073,\n",
       " 5227904.5153051754)"
      ]
     },
     "execution_count": 140,
     "metadata": {},
     "output_type": "execute_result"
    },
    {
     "data": {
      "image/png": "[encoded data removed]",
      "text/plain": [
       "<matplotlib.figure.Figure at 0x130073be0>"
      ]
     },
     "metadata": {},
     "output_type": "display_data"
    }
   ],
   "source": [
    "ax = nyc_districts.plot(\n",
    "    color='#666666',\n",
    "    linewidth=0,\n",
    "    figsize=(10,10)\n",
    ")\n",
    "\n",
    "# Create a new dataframe to plot the powerplants' result of the union\n",
    "powerplants_area = []\n",
    "pd.DataFrame.from_dict(powerplants_area)\n",
    "powerplants_area = gpd.GeoDataFrame(powerplants_area, geometry=[powerplants_nyc.buffer(120701).unary_union])\n",
    "powerplants_area.plot(\n",
    "    alpha=0.1,\n",
    "    color='#756bb1',\n",
    "    linewidth=0,\n",
    "    ax=ax\n",
    ")\n",
    "\n",
    "powerplants_nyc.plot(\n",
    "    color='#756bb1',\n",
    "    markersize=3,\n",
    "    linewidth=0,\n",
    "    alpha=0.45,\n",
    "    ax=ax)\n",
    "\n",
    "ax.axis('off')"
   ]
  },
  {
   "cell_type": "code",
   "execution_count": 115,
   "metadata": {},
   "outputs": [
    {
     "data": {
      "text/html": [
       "<div>\n",
       "<style>\n",
       "    .dataframe thead tr:only-child th {\n",
       "        text-align: right;\n",
       "    }\n",
       "\n",
       "    .dataframe thead th {\n",
       "        text-align: left;\n",
       "    }\n",
       "\n",
       "    .dataframe tbody tr th {\n",
       "        vertical-align: top;\n",
       "    }\n",
       "</style>\n",
       "<table border=\"1\" class=\"dataframe\">\n",
       "  <thead>\n",
       "    <tr style=\"text-align: right;\">\n",
       "      <th></th>\n",
       "      <th>Plant_Code</th>\n",
       "      <th>Plant_Name</th>\n",
       "      <th>Utility_Na</th>\n",
       "      <th>Utility_ID</th>\n",
       "      <th>sector_nam</th>\n",
       "      <th>City</th>\n",
       "      <th>County</th>\n",
       "      <th>Zip</th>\n",
       "      <th>Street_Add</th>\n",
       "      <th>PrimSource</th>\n",
       "      <th>...</th>\n",
       "      <th>Wind_MW</th>\n",
       "      <th>Geo_MW</th>\n",
       "      <th>Other_MW</th>\n",
       "      <th>source_des</th>\n",
       "      <th>tech_desc</th>\n",
       "      <th>Source</th>\n",
       "      <th>Period</th>\n",
       "      <th>Latitude</th>\n",
       "      <th>Longitude</th>\n",
       "      <th>geometry</th>\n",
       "    </tr>\n",
       "  </thead>\n",
       "  <tbody>\n",
       "    <tr>\n",
       "      <th>341</th>\n",
       "      <td>539</td>\n",
       "      <td>Rocky River (CT)</td>\n",
       "      <td>FirstLight Power Resources Services LLC</td>\n",
       "      <td>54895</td>\n",
       "      <td>IPP Non-CHP</td>\n",
       "      <td>New Milford</td>\n",
       "      <td>Litchfield</td>\n",
       "      <td>6776</td>\n",
       "      <td>200 Kent Road</td>\n",
       "      <td>pumped storage</td>\n",
       "      <td>...</td>\n",
       "      <td>0.0</td>\n",
       "      <td>NaN</td>\n",
       "      <td>NaN</td>\n",
       "      <td>Pumped Storage = 29.4 MW</td>\n",
       "      <td>Hydroelectric Pumped Storage</td>\n",
       "      <td>EIA-860, EIA-860M and EIA-923</td>\n",
       "      <td>201607</td>\n",
       "      <td>41.582600</td>\n",
       "      <td>-73.434900</td>\n",
       "      <td>POINT (-8174735.674454964 5070292.25955708)</td>\n",
       "    </tr>\n",
       "    <tr>\n",
       "      <th>343</th>\n",
       "      <td>541</td>\n",
       "      <td>Bulls Bridge</td>\n",
       "      <td>FirstLight Power Resources Services LLC</td>\n",
       "      <td>54895</td>\n",
       "      <td>IPP Non-CHP</td>\n",
       "      <td>New Milford</td>\n",
       "      <td>Litchfield</td>\n",
       "      <td>6776</td>\n",
       "      <td>781 Kent Road</td>\n",
       "      <td>hydroelectric</td>\n",
       "      <td>...</td>\n",
       "      <td>0.0</td>\n",
       "      <td>NaN</td>\n",
       "      <td>NaN</td>\n",
       "      <td>Hydroelectric = 8.4 MW</td>\n",
       "      <td>Conventional Hydroelectric</td>\n",
       "      <td>EIA-860, EIA-860M and EIA-923</td>\n",
       "      <td>201607</td>\n",
       "      <td>41.659046</td>\n",
       "      <td>-73.491984</td>\n",
       "      <td>POINT (-8181090.236267409 5081633.205464645)</td>\n",
       "    </tr>\n",
       "    <tr>\n",
       "      <th>344</th>\n",
       "      <td>542</td>\n",
       "      <td>Cos Cob</td>\n",
       "      <td>Connecticut Jet Power LLC</td>\n",
       "      <td>22379</td>\n",
       "      <td>IPP Non-CHP</td>\n",
       "      <td>Greenwich</td>\n",
       "      <td>Fairfield</td>\n",
       "      <td>6430</td>\n",
       "      <td>Sound Shore Drive</td>\n",
       "      <td>petroleum</td>\n",
       "      <td>...</td>\n",
       "      <td>0.0</td>\n",
       "      <td>NaN</td>\n",
       "      <td>NaN</td>\n",
       "      <td>Petroleum = 95.6 MW</td>\n",
       "      <td>Petroleum Liquids</td>\n",
       "      <td>EIA-860, EIA-860M and EIA-923</td>\n",
       "      <td>201607</td>\n",
       "      <td>41.028900</td>\n",
       "      <td>-73.598900</td>\n",
       "      <td>POINT (-8192992.070945063 4988549.900230801)</td>\n",
       "    </tr>\n",
       "    <tr>\n",
       "      <th>345</th>\n",
       "      <td>544</td>\n",
       "      <td>Devon Station</td>\n",
       "      <td>Devon Power LLC</td>\n",
       "      <td>22350</td>\n",
       "      <td>IPP Non-CHP</td>\n",
       "      <td>Milford</td>\n",
       "      <td>New Haven</td>\n",
       "      <td>6460</td>\n",
       "      <td>734 Naugatuck Avenue</td>\n",
       "      <td>petroleum</td>\n",
       "      <td>...</td>\n",
       "      <td>0.0</td>\n",
       "      <td>NaN</td>\n",
       "      <td>NaN</td>\n",
       "      <td>Petroleum = 132.5 MW</td>\n",
       "      <td>Petroleum Liquids</td>\n",
       "      <td>EIA-860, EIA-860M and EIA-923</td>\n",
       "      <td>201607</td>\n",
       "      <td>41.209797</td>\n",
       "      <td>-73.108976</td>\n",
       "      <td>POINT (-8138453.980737659 5015178.804320058)</td>\n",
       "    </tr>\n",
       "    <tr>\n",
       "      <th>350</th>\n",
       "      <td>552</td>\n",
       "      <td>Shepaug</td>\n",
       "      <td>FirstLight Power Resources Services LLC</td>\n",
       "      <td>54895</td>\n",
       "      <td>IPP Non-CHP</td>\n",
       "      <td>Southbury</td>\n",
       "      <td>New Haven</td>\n",
       "      <td>6488</td>\n",
       "      <td>2225 River Road</td>\n",
       "      <td>hydroelectric</td>\n",
       "      <td>...</td>\n",
       "      <td>0.0</td>\n",
       "      <td>NaN</td>\n",
       "      <td>NaN</td>\n",
       "      <td>Hydroelectric = 41.5 MW</td>\n",
       "      <td>Conventional Hydroelectric</td>\n",
       "      <td>EIA-860, EIA-860M and EIA-923</td>\n",
       "      <td>201607</td>\n",
       "      <td>41.448420</td>\n",
       "      <td>-73.295321</td>\n",
       "      <td>POINT (-8159197.811249532 5050418.994864292)</td>\n",
       "    </tr>\n",
       "  </tbody>\n",
       "</table>\n",
       "<p>5 rows × 29 columns</p>\n",
       "</div>"
      ],
      "text/plain": [
       "     Plant_Code        Plant_Name                               Utility_Na  \\\n",
       "341         539  Rocky River (CT)  FirstLight Power Resources Services LLC   \n",
       "343         541      Bulls Bridge  FirstLight Power Resources Services LLC   \n",
       "344         542           Cos Cob                Connecticut Jet Power LLC   \n",
       "345         544     Devon Station                          Devon Power LLC   \n",
       "350         552           Shepaug  FirstLight Power Resources Services LLC   \n",
       "\n",
       "     Utility_ID   sector_nam         City      County   Zip  \\\n",
       "341       54895  IPP Non-CHP  New Milford  Litchfield  6776   \n",
       "343       54895  IPP Non-CHP  New Milford  Litchfield  6776   \n",
       "344       22379  IPP Non-CHP    Greenwich   Fairfield  6430   \n",
       "345       22350  IPP Non-CHP      Milford   New Haven  6460   \n",
       "350       54895  IPP Non-CHP    Southbury   New Haven  6488   \n",
       "\n",
       "               Street_Add      PrimSource  \\\n",
       "341         200 Kent Road  pumped storage   \n",
       "343         781 Kent Road   hydroelectric   \n",
       "344     Sound Shore Drive       petroleum   \n",
       "345  734 Naugatuck Avenue       petroleum   \n",
       "350       2225 River Road   hydroelectric   \n",
       "\n",
       "                         ...                       Wind_MW  Geo_MW  Other_MW  \\\n",
       "341                      ...                           0.0     NaN       NaN   \n",
       "343                      ...                           0.0     NaN       NaN   \n",
       "344                      ...                           0.0     NaN       NaN   \n",
       "345                      ...                           0.0     NaN       NaN   \n",
       "350                      ...                           0.0     NaN       NaN   \n",
       "\n",
       "                   source_des                     tech_desc  \\\n",
       "341  Pumped Storage = 29.4 MW  Hydroelectric Pumped Storage   \n",
       "343    Hydroelectric = 8.4 MW    Conventional Hydroelectric   \n",
       "344       Petroleum = 95.6 MW             Petroleum Liquids   \n",
       "345      Petroleum = 132.5 MW             Petroleum Liquids   \n",
       "350   Hydroelectric = 41.5 MW    Conventional Hydroelectric   \n",
       "\n",
       "                            Source  Period   Latitude  Longitude  \\\n",
       "341  EIA-860, EIA-860M and EIA-923  201607  41.582600 -73.434900   \n",
       "343  EIA-860, EIA-860M and EIA-923  201607  41.659046 -73.491984   \n",
       "344  EIA-860, EIA-860M and EIA-923  201607  41.028900 -73.598900   \n",
       "345  EIA-860, EIA-860M and EIA-923  201607  41.209797 -73.108976   \n",
       "350  EIA-860, EIA-860M and EIA-923  201607  41.448420 -73.295321   \n",
       "\n",
       "                                         geometry  \n",
       "341   POINT (-8174735.674454964 5070292.25955708)  \n",
       "343  POINT (-8181090.236267409 5081633.205464645)  \n",
       "344  POINT (-8192992.070945063 4988549.900230801)  \n",
       "345  POINT (-8138453.980737659 5015178.804320058)  \n",
       "350  POINT (-8159197.811249532 5050418.994864292)  \n",
       "\n",
       "[5 rows x 29 columns]"
      ]
     },
     "execution_count": 115,
     "metadata": {},
     "output_type": "execute_result"
    }
   ],
   "source": [
    "powerplants_nyc.head()"
   ]
  },
  {
   "cell_type": "markdown",
   "metadata": {},
   "source": [
    "# 3. Map all of the power plants in New York, New Jersey, Pennsylvania and Connecticut. Have a nice bottom layer of those 4 states."
   ]
  },
  {
   "cell_type": "code",
   "execution_count": 126,
   "metadata": {},
   "outputs": [
    {
     "data": {
      "text/plain": [
       "<matplotlib.axes._subplots.AxesSubplot at 0x12e5b3128>"
      ]
     },
     "execution_count": 126,
     "metadata": {},
     "output_type": "execute_result"
    },
    {
     "data": {
      "image/png": "[encoded data removed]",
      "text/plain": [
       "<matplotlib.figure.Figure at 0x12e5a7940>"
      ]
     },
     "metadata": {},
     "output_type": "display_data"
    }
   ],
   "source": [
    "states_list = [\n",
    "    'New York',\n",
    "    'New Jersey',\n",
    "    'Pennsylvania',\n",
    "    'Connecticut'\n",
    "]\n",
    "\n",
    "listed_states = states[states['NAME'].isin(states_list)]\n",
    "\n",
    "ax = listed_states.plot(\n",
    "    color='#dedede',\n",
    "    edgecolor='white',\n",
    "    linewidth=0.85,\n",
    "    figsize=(10,10)\n",
    ")\n",
    "\n",
    "powerplants_in_listed_states = gpd.sjoin(powerplants, listed_states, how='inner', op='within')\n",
    "powerplants_in_listed_states.plot(color='#756bb1', ax=ax)"
   ]
  },
  {
   "cell_type": "markdown",
   "metadata": {},
   "source": [
    "# 4. What is the most popular power source by state?"
   ]
  },
  {
   "cell_type": "code",
   "execution_count": 138,
   "metadata": {},
   "outputs": [
    {
     "data": {
      "text/plain": [
       "NAME                  PrimSource   \n",
       "Alabama               hydroelectric     23\n",
       "Arizona               solar             57\n",
       "Arkansas              hydroelectric     19\n",
       "California            solar            390\n",
       "Colorado              hydroelectric     43\n",
       "Connecticut           natural gas       34\n",
       "Delaware              natural gas        9\n",
       "District of Columbia  biomass            1\n",
       "Florida               natural gas       64\n",
       "Georgia               natural gas       30\n",
       "Idaho                 hydroelectric     75\n",
       "Illinois              natural gas       70\n",
       "Indiana               solar             39\n",
       "Iowa                  petroleum         93\n",
       "Kansas                natural gas       60\n",
       "Kentucky              coal              14\n",
       "Louisiana             natural gas       56\n",
       "Maine                 hydroelectric     52\n",
       "Maryland              solar             25\n",
       "Massachusetts         solar            134\n",
       "Michigan              natural gas       57\n",
       "Minnesota             wind             122\n",
       "Mississippi           natural gas       28\n",
       "Missouri              petroleum         39\n",
       "Montana               hydroelectric     23\n",
       "Nebraska              natural gas       32\n",
       "Nevada                geothermal        24\n",
       "New Hampshire         hydroelectric     38\n",
       "New Jersey            solar            125\n",
       "New Mexico            solar             39\n",
       "New York              hydroelectric    159\n",
       "North Carolina        solar            310\n",
       "North Dakota          wind              26\n",
       "Ohio                  petroleum         42\n",
       "Oklahoma              wind              38\n",
       "Oregon                hydroelectric     60\n",
       "Pennsylvania          natural gas       44\n",
       "Rhode Island          natural gas        7\n",
       "South Carolina        hydroelectric     31\n",
       "South Dakota          wind              11\n",
       "Tennessee             hydroelectric     27\n",
       "Texas                 natural gas      159\n",
       "Utah                  hydroelectric     29\n",
       "Vermont               hydroelectric     42\n",
       "Virginia              petroleum         36\n",
       "Washington            hydroelectric     77\n",
       "West Virginia         hydroelectric     12\n",
       "Wisconsin             hydroelectric     59\n",
       "Wyoming               wind              20\n",
       "Name: PrimSource, dtype: int64"
      ]
     },
     "execution_count": 138,
     "metadata": {},
     "output_type": "execute_result"
    }
   ],
   "source": [
    "all_powerplants = gpd.sjoin(states, powerplants, how='inner', op='intersects')\n",
    "(all_powerplants\n",
    " .groupby('NAME')\n",
    " ['PrimSource'].value_counts()\n",
    " .groupby(level=0, group_keys=False)\n",
    " .nlargest(1))"
   ]
  },
  {
   "cell_type": "markdown",
   "metadata": {},
   "source": [
    "# 5. Get the average (or highest/worst) PM2.5 within XXX miles of each power plant (you pick the distance). Is coal dirtier than other kinds of plants?"
   ]
  },
  {
   "cell_type": "code",
   "execution_count": 142,
   "metadata": {
    "collapsed": true
   },
   "outputs": [],
   "source": [
    "states = states.to_crs({'proj':'merc'})\n",
    "stations = stations.to_crs(states.crs)\n",
    "powerplants = powerplants.to_crs(states.crs)\n",
    "nyc_districts = nyc_districts.to_crs(states.crs)"
   ]
  },
  {
   "cell_type": "code",
   "execution_count": null,
   "metadata": {
    "collapsed": true
   },
   "outputs": [],
   "source": [
    "powerplants_extract = powerplants[:500]"
   ]
  },
  {
   "cell_type": "code",
   "execution_count": 178,
   "metadata": {
    "collapsed": true
   },
   "outputs": [],
   "source": [
    "# 50km, only the first 500 powerplants\n",
    "def does_intersects(row):\n",
    "    return stations[stations.intersects(row.geometry.buffer(50000))]['Arithmetic Mean'].mean()\n",
    "\n",
    "powerplants_extract['PM2.5'] = powerplants_extract.apply(does_intersects, axis=1)"
   ]
  },
  {
   "cell_type": "code",
   "execution_count": 179,
   "metadata": {},
   "outputs": [
    {
     "data": {
      "text/plain": [
       "PrimSource\n",
       "biomass                NaN\n",
       "coal              7.783847\n",
       "geothermal             NaN\n",
       "hydroelectric     8.104099\n",
       "natural gas       8.130997\n",
       "nuclear           8.811643\n",
       "petroleum         7.904981\n",
       "pumped storage    8.748148\n",
       "wind                   NaN\n",
       "Name: PM2.5, dtype: float64"
      ]
     },
     "execution_count": 179,
     "metadata": {},
     "output_type": "execute_result"
    }
   ],
   "source": [
    "powerplants_extract.groupby('PrimSource')['PM2.5'].mean()"
   ]
  },
  {
   "cell_type": "markdown",
   "metadata": {
    "collapsed": true
   },
   "source": [
    "# 6. Make a map of the power plants within 150 miles of New York City. I want it centered on New York City, zoomed in a good amount."
   ]
  },
  {
   "cell_type": "code",
   "execution_count": 215,
   "metadata": {},
   "outputs": [
    {
     "data": {
      "text/plain": [
       "(-8528388.9024654236,\n",
       " -7981714.2452693852,\n",
       " 4695909.2546054311,\n",
       " 5224781.1374459323)"
      ]
     },
     "execution_count": 215,
     "metadata": {},
     "output_type": "execute_result"
    },
    {
     "data": {
      "image/png": "[encoded data removed]",
      "text/plain": [
       "<matplotlib.figure.Figure at 0x11bf2de10>"
      ]
     },
     "metadata": {},
     "output_type": "display_data"
    }
   ],
   "source": [
    "powerplants_nyc = powerplants[powerplants.buffer(241402).intersects(nyc_districts.unary_union)]\n",
    "\n",
    "ax = nyc_districts.plot(\n",
    "    color='#666666',\n",
    "    linewidth=0,\n",
    "    figsize=(10,10)\n",
    ")\n",
    "\n",
    "powerplants_nyc.plot(\n",
    "    color='#756bb1',\n",
    "    markersize=3,\n",
    "    linewidth=0,\n",
    "    alpha=0.45,\n",
    "    ax=ax)\n",
    "\n",
    "ax.axis('off')"
   ]
  },
  {
   "cell_type": "markdown",
   "metadata": {},
   "source": [
    "# 7. Are places with below-average air quality closer to power plants?"
   ]
  },
  {
   "cell_type": "code",
   "execution_count": 216,
   "metadata": {},
   "outputs": [
    {
     "data": {
      "text/plain": [
       "7.9684038761467884"
      ]
     },
     "execution_count": 216,
     "metadata": {},
     "output_type": "execute_result"
    }
   ],
   "source": [
    "# Average air quality\n",
    "stations['Arithmetic Mean'].mean()"
   ]
  },
  {
   "cell_type": "code",
   "execution_count": 235,
   "metadata": {},
   "outputs": [
    {
     "data": {
      "text/plain": [
       "7.7779424832214765"
      ]
     },
     "execution_count": 235,
     "metadata": {},
     "output_type": "execute_result"
    }
   ],
   "source": [
    "# Places that do not cross the 50km buffer around poweplants\n",
    "stations[~stations.buffer(50000).intersects(powerplants_extract.unary_union)]['Arithmetic Mean'].mean()"
   ]
  },
  {
   "cell_type": "code",
   "execution_count": 236,
   "metadata": {},
   "outputs": [
    {
     "data": {
      "text/plain": [
       "8.3796900724637684"
      ]
     },
     "execution_count": 236,
     "metadata": {},
     "output_type": "execute_result"
    }
   ],
   "source": [
    "# Places that cross the 50km buffer around poweplants\n",
    "stations[stations.buffer(50000).intersects(powerplants_extract.unary_union)]['Arithmetic Mean'].mean()"
   ]
  },
  {
   "cell_type": "code",
   "execution_count": null,
   "metadata": {
    "collapsed": true
   },
   "outputs": [],
   "source": [
    "# Yes"
   ]
  }
 ],
 "metadata": {
  "kernelspec": {
   "display_name": "Python 3",
   "language": "python",
   "name": "python3"
  },
  "language_info": {
   "codemirror_mode": {
    "name": "ipython",
    "version": 3
   },
   "file_extension": ".py",
   "mimetype": "text/x-python",
   "name": "python",
   "nbconvert_exporter": "python",
   "pygments_lexer": "ipython3",
   "version": "3.6.1"
  }
 },
 "nbformat": 4,
 "nbformat_minor": 2
}
