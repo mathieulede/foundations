{
 "cells": [
  {
   "cell_type": "markdown",
   "metadata": {},
   "source": [
    "# Mines, Part 2\n",
    "\n",
    "You can get information about a specific mine by using its Mine ID.\n",
    "\n",
    "**Try searching using the Mine ID `3503598`**."
   ]
  },
  {
   "cell_type": "markdown",
   "metadata": {},
   "source": [
    "## Preparation: Knowing your tags\n",
    "\n",
    "These questions are the same for every data set, and might not work exactly for yours."
   ]
  },
  {
   "cell_type": "markdown",
   "metadata": {},
   "source": [
    "### What is the tag and class name for the mine operator name?"
   ]
  },
  {
   "cell_type": "code",
   "execution_count": null,
   "metadata": {
    "collapsed": true
   },
   "outputs": [],
   "source": []
  },
  {
   "cell_type": "markdown",
   "metadata": {},
   "source": [
    "### What is the tag and class name for the current controller?"
   ]
  },
  {
   "cell_type": "code",
   "execution_count": null,
   "metadata": {
    "collapsed": true
   },
   "outputs": [],
   "source": []
  },
  {
   "cell_type": "markdown",
   "metadata": {},
   "source": [
    "### What is the tag and class name for the operator history area?"
   ]
  },
  {
   "cell_type": "code",
   "execution_count": null,
   "metadata": {
    "collapsed": true
   },
   "outputs": [],
   "source": []
  },
  {
   "cell_type": "markdown",
   "metadata": {},
   "source": [
    "### What is the tag and class name for the mine's address?"
   ]
  },
  {
   "cell_type": "code",
   "execution_count": null,
   "metadata": {
    "collapsed": true
   },
   "outputs": [],
   "source": []
  },
  {
   "cell_type": "markdown",
   "metadata": {},
   "source": [
    "## Setup: Import what you'll need to scrape the page\n",
    "\n",
    "Use `requests`, not `urllib`."
   ]
  },
  {
   "cell_type": "code",
   "execution_count": 3,
   "metadata": {
    "collapsed": true
   },
   "outputs": [],
   "source": [
    "import requests\n",
    "from bs4 import BeautifulSoup\n",
    "import pandas as pd"
   ]
  },
  {
   "cell_type": "markdown",
   "metadata": {},
   "source": [
    "## Scrape this page\n",
    "\n",
    "Scrape this page, displaying the\n",
    "\n",
    "- The operator\n",
    "- The current address\n",
    "- The current controller\n",
    "\n",
    "**You should know how to do `.post` requests by now.**"
   ]
  },
  {
   "cell_type": "code",
   "execution_count": 11,
   "metadata": {},
   "outputs": [],
   "source": [
    "data = {\n",
    "    'MineId':'3503598',\n",
    "    'x':'0',\n",
    "    'y':'0'\n",
    "}\n",
    "response = requests.post('https://arlweb.msha.gov/drs/ASP/BasicMineInfonew.asp', data=data)\n",
    "doc = BeautifulSoup(response.text, \"html.parser\")"
   ]
  },
  {
   "cell_type": "code",
   "execution_count": 131,
   "metadata": {},
   "outputs": [
    {
     "name": "stdout",
     "output_type": "stream",
     "text": [
      "AM Dirtworks & Aggregate Sales\n",
      "Matt  Mitchell\n",
      "120 Dally Ln\r\n",
      "Buffalo, WY  82834\n"
     ]
    }
   ],
   "source": [
    "infos_table = doc.find_all('table')[1]\n",
    "print(infos_table.find('tr').find_all_next('tr')[2].find_all('td')[4].text.strip())\n",
    "print(infos_table.find('tr').find_all_next('tr')[8].find_all('td')[1].text.strip())\n",
    "print(infos_table.find('tr').find_all_next('tr')[15].find_all('td')[1].text.strip())\n"
   ]
  },
  {
   "cell_type": "markdown",
   "metadata": {},
   "source": [
    "## Getting information on many mines\n",
    "\n",
    "### Reading in our source\n",
    "\n",
    "Using pandas, read in `mines-subset.csv`."
   ]
  },
  {
   "cell_type": "code",
   "execution_count": 157,
   "metadata": {},
   "outputs": [
    {
     "data": {
      "text/html": [
       "<div>\n",
       "<style>\n",
       "    .dataframe thead tr:only-child th {\n",
       "        text-align: right;\n",
       "    }\n",
       "\n",
       "    .dataframe thead th {\n",
       "        text-align: left;\n",
       "    }\n",
       "\n",
       "    .dataframe tbody tr th {\n",
       "        vertical-align: top;\n",
       "    }\n",
       "</style>\n",
       "<table border=\"1\" class=\"dataframe\">\n",
       "  <thead>\n",
       "    <tr style=\"text-align: right;\">\n",
       "      <th></th>\n",
       "      <th>id</th>\n",
       "    </tr>\n",
       "  </thead>\n",
       "  <tbody>\n",
       "    <tr>\n",
       "      <th>0</th>\n",
       "      <td>2501216</td>\n",
       "    </tr>\n",
       "    <tr>\n",
       "      <th>1</th>\n",
       "      <td>3200965</td>\n",
       "    </tr>\n",
       "    <tr>\n",
       "      <th>2</th>\n",
       "      <td>2901371</td>\n",
       "    </tr>\n",
       "    <tr>\n",
       "      <th>3</th>\n",
       "      <td>2901544</td>\n",
       "    </tr>\n",
       "  </tbody>\n",
       "</table>\n",
       "</div>"
      ],
      "text/plain": [
       "        id\n",
       "0  2501216\n",
       "1  3200965\n",
       "2  2901371\n",
       "3  2901544"
      ]
     },
     "execution_count": 157,
     "metadata": {},
     "output_type": "execute_result"
    }
   ],
   "source": [
    "mines = pd.read_csv('mines-subset.csv')\n",
    "mines.head()"
   ]
  },
  {
   "cell_type": "markdown",
   "metadata": {},
   "source": [
    "## Scrape every single row, storing the current controller and mine operator in new columns.\n",
    "\n",
    "You probably want to open up the Jupyter Notebook that's about `.apply`."
   ]
  },
  {
   "cell_type": "code",
   "execution_count": 158,
   "metadata": {},
   "outputs": [
    {
     "data": {
      "text/html": [
       "<div>\n",
       "<style>\n",
       "    .dataframe thead tr:only-child th {\n",
       "        text-align: right;\n",
       "    }\n",
       "\n",
       "    .dataframe thead th {\n",
       "        text-align: left;\n",
       "    }\n",
       "\n",
       "    .dataframe tbody tr th {\n",
       "        vertical-align: top;\n",
       "    }\n",
       "</style>\n",
       "<table border=\"1\" class=\"dataframe\">\n",
       "  <thead>\n",
       "    <tr style=\"text-align: right;\">\n",
       "      <th></th>\n",
       "      <th>address</th>\n",
       "      <th>controller</th>\n",
       "      <th>id</th>\n",
       "      <th>operator</th>\n",
       "    </tr>\n",
       "  </thead>\n",
       "  <tbody>\n",
       "    <tr>\n",
       "      <th>0</th>\n",
       "      <td>24617 W Center Rd\\r\\nWaterloo, NE  68069</td>\n",
       "      <td>David A  Iske</td>\n",
       "      <td>2501216</td>\n",
       "      <td>Iske Dirt Sand &amp; Gravel</td>\n",
       "    </tr>\n",
       "    <tr>\n",
       "      <th>1</th>\n",
       "      <td>485 Helene St\\r\\nPalermo, ND  58769</td>\n",
       "      <td>John  Lynn</td>\n",
       "      <td>3200965</td>\n",
       "      <td>J M Lynn Dirtwork</td>\n",
       "    </tr>\n",
       "    <tr>\n",
       "      <th>2</th>\n",
       "      <td>E Hwy 60\\r\\nHEREFORD, TX  79045</td>\n",
       "      <td>Lawson Warner</td>\n",
       "      <td>2901371</td>\n",
       "      <td>Jake Diel Dirt &amp; Paving Inc</td>\n",
       "    </tr>\n",
       "    <tr>\n",
       "      <th>3</th>\n",
       "      <td>E Hwy 60\\r\\nHEREFORD, TX  79045</td>\n",
       "      <td>Lawson Warner</td>\n",
       "      <td>2901544</td>\n",
       "      <td>Jake Diel Dirt &amp; Paving Inc</td>\n",
       "    </tr>\n",
       "  </tbody>\n",
       "</table>\n",
       "</div>"
      ],
      "text/plain": [
       "                                    address     controller       id  \\\n",
       "0  24617 W Center Rd\\r\\nWaterloo, NE  68069  David A  Iske  2501216   \n",
       "1       485 Helene St\\r\\nPalermo, ND  58769     John  Lynn  3200965   \n",
       "2           E Hwy 60\\r\\nHEREFORD, TX  79045  Lawson Warner  2901371   \n",
       "3           E Hwy 60\\r\\nHEREFORD, TX  79045  Lawson Warner  2901544   \n",
       "\n",
       "                      operator  \n",
       "0      Iske Dirt Sand & Gravel  \n",
       "1            J M Lynn Dirtwork  \n",
       "2  Jake Diel Dirt & Paving Inc  \n",
       "3  Jake Diel Dirt & Paving Inc  "
      ]
     },
     "execution_count": 158,
     "metadata": {},
     "output_type": "execute_result"
    }
   ],
   "source": [
    "def transform(r):\n",
    "    \n",
    "    data = {\n",
    "        'MineId': r['id'],\n",
    "        'x':'0',\n",
    "        'y':'0'\n",
    "    }\n",
    "\n",
    "    response = requests.post('https://arlweb.msha.gov/drs/ASP/BasicMineInfonew.asp', data=data)\n",
    "    doc = BeautifulSoup(response.text, \"html.parser\")\n",
    "    \n",
    "    infos_table = doc.find_all('table')[1]\n",
    "    \n",
    "    return pd.Series({\n",
    "        'id': r['id'],\n",
    "        'operator': infos_table.find('tr').find_all_next('tr')[2].find_all('td')[4].text.strip(),\n",
    "        'controller': infos_table.find('tr').find_all_next('tr')[8].find_all('td')[1].text.strip(),\n",
    "        'address':infos_table.find('tr').find_all_next('tr')[15].find_all('td')[1].text.strip()\n",
    "    })\n",
    "\n",
    "mines = mines.apply(transform, axis=1)\n",
    "mines"
   ]
  },
  {
   "cell_type": "markdown",
   "metadata": {},
   "source": [
    "### Save your dataframe"
   ]
  },
  {
   "cell_type": "code",
   "execution_count": 160,
   "metadata": {
    "collapsed": true
   },
   "outputs": [],
   "source": [
    "mines.to_csv('mines-complete.csv', index=False)"
   ]
  },
  {
   "cell_type": "markdown",
   "metadata": {},
   "source": [
    "### Re-open your dataframe to confirm you didn't save any extra weird columns"
   ]
  },
  {
   "cell_type": "code",
   "execution_count": 161,
   "metadata": {
    "scrolled": true
   },
   "outputs": [
    {
     "data": {
      "text/html": [
       "<div>\n",
       "<style>\n",
       "    .dataframe thead tr:only-child th {\n",
       "        text-align: right;\n",
       "    }\n",
       "\n",
       "    .dataframe thead th {\n",
       "        text-align: left;\n",
       "    }\n",
       "\n",
       "    .dataframe tbody tr th {\n",
       "        vertical-align: top;\n",
       "    }\n",
       "</style>\n",
       "<table border=\"1\" class=\"dataframe\">\n",
       "  <thead>\n",
       "    <tr style=\"text-align: right;\">\n",
       "      <th></th>\n",
       "      <th>address</th>\n",
       "      <th>controller</th>\n",
       "      <th>id</th>\n",
       "      <th>operator</th>\n",
       "    </tr>\n",
       "  </thead>\n",
       "  <tbody>\n",
       "    <tr>\n",
       "      <th>0</th>\n",
       "      <td>24617 W Center Rd\\r\\nWaterloo, NE  68069</td>\n",
       "      <td>David A  Iske</td>\n",
       "      <td>2501216</td>\n",
       "      <td>Iske Dirt Sand &amp; Gravel</td>\n",
       "    </tr>\n",
       "    <tr>\n",
       "      <th>1</th>\n",
       "      <td>485 Helene St\\r\\nPalermo, ND  58769</td>\n",
       "      <td>John  Lynn</td>\n",
       "      <td>3200965</td>\n",
       "      <td>J M Lynn Dirtwork</td>\n",
       "    </tr>\n",
       "    <tr>\n",
       "      <th>2</th>\n",
       "      <td>E Hwy 60\\r\\nHEREFORD, TX  79045</td>\n",
       "      <td>Lawson Warner</td>\n",
       "      <td>2901371</td>\n",
       "      <td>Jake Diel Dirt &amp; Paving Inc</td>\n",
       "    </tr>\n",
       "    <tr>\n",
       "      <th>3</th>\n",
       "      <td>E Hwy 60\\r\\nHEREFORD, TX  79045</td>\n",
       "      <td>Lawson Warner</td>\n",
       "      <td>2901544</td>\n",
       "      <td>Jake Diel Dirt &amp; Paving Inc</td>\n",
       "    </tr>\n",
       "  </tbody>\n",
       "</table>\n",
       "</div>"
      ],
      "text/plain": [
       "                                    address     controller       id  \\\n",
       "0  24617 W Center Rd\\r\\nWaterloo, NE  68069  David A  Iske  2501216   \n",
       "1       485 Helene St\\r\\nPalermo, ND  58769     John  Lynn  3200965   \n",
       "2           E Hwy 60\\r\\nHEREFORD, TX  79045  Lawson Warner  2901371   \n",
       "3           E Hwy 60\\r\\nHEREFORD, TX  79045  Lawson Warner  2901544   \n",
       "\n",
       "                      operator  \n",
       "0      Iske Dirt Sand & Gravel  \n",
       "1            J M Lynn Dirtwork  \n",
       "2  Jake Diel Dirt & Paving Inc  \n",
       "3  Jake Diel Dirt & Paving Inc  "
      ]
     },
     "execution_count": 161,
     "metadata": {},
     "output_type": "execute_result"
    }
   ],
   "source": [
    "pd.read_csv('mines-complete.csv')"
   ]
  },
  {
   "cell_type": "markdown",
   "metadata": {},
   "source": [
    "## Repeat this process for the entire `mines.csv` file"
   ]
  },
  {
   "cell_type": "code",
   "execution_count": null,
   "metadata": {
    "collapsed": true
   },
   "outputs": [],
   "source": [
    "#?"
   ]
  }
 ],
 "metadata": {
  "kernelspec": {
   "display_name": "Python 3",
   "language": "python",
   "name": "python3"
  },
  "language_info": {
   "codemirror_mode": {
    "name": "ipython",
    "version": 3
   },
   "file_extension": ".py",
   "mimetype": "text/x-python",
   "name": "python",
   "nbconvert_exporter": "python",
   "pygments_lexer": "ipython3",
   "version": "3.6.1"
  }
 },
 "nbformat": 4,
 "nbformat_minor": 2
}
